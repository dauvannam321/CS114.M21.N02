{
  "nbformat": 4,
  "nbformat_minor": 0,
  "metadata": {
    "colab": {
      "name": "CS114.ipynb",
      "provenance": []
    },
    "kernelspec": {
      "name": "python3",
      "display_name": "Python 3"
    },
    "language_info": {
      "name": "python"
    }
  },
  "cells": [
    {
      "cell_type": "markdown",
      "metadata": {
        "id": "mKD1Szr3eXYJ"
      },
      "source": [
        "### IMPORT PACKAGES"
      ]
    },
    {
      "cell_type": "code",
      "source": [
        "!pip3 install  xlrd==1.2.0\n",
        "!pip install --upgrade pandas\n",
        "!pip install underthesea"
      ],
      "metadata": {
        "id": "OPuIzI2lXh8o",
        "colab": {
          "base_uri": "https://localhost:8080/"
        },
        "outputId": "111187a8-f1b3-4946-ed98-14c00d1034ec"
      },
      "execution_count": null,
      "outputs": [
        {
          "output_type": "stream",
          "name": "stdout",
          "text": [
            "Looking in indexes: https://pypi.org/simple, https://us-python.pkg.dev/colab-wheels/public/simple/\n",
            "Requirement already satisfied: xlrd==1.2.0 in /usr/local/lib/python3.7/dist-packages (1.2.0)\n",
            "Looking in indexes: https://pypi.org/simple, https://us-python.pkg.dev/colab-wheels/public/simple/\n",
            "Requirement already satisfied: pandas in /usr/local/lib/python3.7/dist-packages (1.3.5)\n",
            "Requirement already satisfied: numpy>=1.17.3 in /usr/local/lib/python3.7/dist-packages (from pandas) (1.21.6)\n",
            "Requirement already satisfied: python-dateutil>=2.7.3 in /usr/local/lib/python3.7/dist-packages (from pandas) (2.8.2)\n",
            "Requirement already satisfied: pytz>=2017.3 in /usr/local/lib/python3.7/dist-packages (from pandas) (2022.1)\n",
            "Requirement already satisfied: six>=1.5 in /usr/local/lib/python3.7/dist-packages (from python-dateutil>=2.7.3->pandas) (1.15.0)\n",
            "Looking in indexes: https://pypi.org/simple, https://us-python.pkg.dev/colab-wheels/public/simple/\n",
            "Requirement already satisfied: underthesea in /usr/local/lib/python3.7/dist-packages (1.3.4)\n",
            "Requirement already satisfied: requests in /usr/local/lib/python3.7/dist-packages (from underthesea) (2.23.0)\n",
            "Requirement already satisfied: nltk in /usr/local/lib/python3.7/dist-packages (from underthesea) (3.7)\n",
            "Requirement already satisfied: tqdm in /usr/local/lib/python3.7/dist-packages (from underthesea) (4.64.0)\n",
            "Requirement already satisfied: unidecode in /usr/local/lib/python3.7/dist-packages (from underthesea) (1.3.4)\n",
            "Requirement already satisfied: Click>=6.0 in /usr/local/lib/python3.7/dist-packages (from underthesea) (7.1.2)\n",
            "Requirement already satisfied: underthesea-core==0.0.4_alpha.10 in /usr/local/lib/python3.7/dist-packages (from underthesea) (0.0.4a10)\n",
            "Requirement already satisfied: python-crfsuite>=0.9.6 in /usr/local/lib/python3.7/dist-packages (from underthesea) (0.9.8)\n",
            "Requirement already satisfied: PyYAML in /usr/local/lib/python3.7/dist-packages (from underthesea) (3.13)\n",
            "Requirement already satisfied: scikit-learn in /usr/local/lib/python3.7/dist-packages (from underthesea) (1.0.2)\n",
            "Requirement already satisfied: joblib in /usr/local/lib/python3.7/dist-packages (from underthesea) (1.1.0)\n",
            "Requirement already satisfied: regex>=2021.8.3 in /usr/local/lib/python3.7/dist-packages (from nltk->underthesea) (2022.6.2)\n",
            "Requirement already satisfied: certifi>=2017.4.17 in /usr/local/lib/python3.7/dist-packages (from requests->underthesea) (2022.6.15)\n",
            "Requirement already satisfied: chardet<4,>=3.0.2 in /usr/local/lib/python3.7/dist-packages (from requests->underthesea) (3.0.4)\n",
            "Requirement already satisfied: idna<3,>=2.5 in /usr/local/lib/python3.7/dist-packages (from requests->underthesea) (2.10)\n",
            "Requirement already satisfied: urllib3!=1.25.0,!=1.25.1,<1.26,>=1.21.1 in /usr/local/lib/python3.7/dist-packages (from requests->underthesea) (1.24.3)\n",
            "Requirement already satisfied: numpy>=1.14.6 in /usr/local/lib/python3.7/dist-packages (from scikit-learn->underthesea) (1.21.6)\n",
            "Requirement already satisfied: scipy>=1.1.0 in /usr/local/lib/python3.7/dist-packages (from scikit-learn->underthesea) (1.4.1)\n",
            "Requirement already satisfied: threadpoolctl>=2.0.0 in /usr/local/lib/python3.7/dist-packages (from scikit-learn->underthesea) (3.1.0)\n"
          ]
        }
      ]
    },
    {
      "cell_type": "code",
      "execution_count": null,
      "metadata": {
        "id": "Vm0GnjRsFy2w"
      },
      "outputs": [],
      "source": [
        "import os\n",
        "import time\n",
        "import pandas as pd\n",
        "from pandas import Series, DataFrame\n",
        "import xlrd\n",
        "from sklearn.model_selection import train_test_split\n",
        "from sklearn.tree import DecisionTreeClassifier\n",
        "from sklearn.metrics import f1_score, accuracy_score, precision_score\n",
        "from sklearn.feature_extraction.text import TfidfVectorizer\n",
        "from xlrd import open_workbook\n",
        "from underthesea import word_tokenize\n"
      ]
    },
    {
      "cell_type": "markdown",
      "metadata": {
        "id": "qc_VdxhSfcQ3"
      },
      "source": [
        "### TASK 1: TOXIC COMMENT RECOGNIZATION ON LIVE FOOTBALL ON YOUTUBE"
      ]
    },
    {
      "cell_type": "markdown",
      "metadata": {
        "id": "jJiUmrHUeXYV"
      },
      "source": [
        "#### 2.1 Read data from FLORENTINO"
      ]
    },
    {
      "cell_type": "code",
      "source": [
        "\n",
        "dataTrainUIT = open_workbook(\"/content/train.xlsx\", encoding_override='latin')\n",
        "dataTrainUIT = pd.read_excel(dataTrainUIT)\n",
        "\n",
        "dataValidUIT = open_workbook(\"/content/valid.xlsx\", encoding_override='latin')\n",
        "dataValidUIT = pd.read_excel(dataValidUIT)\n",
        "# 693\n",
        "data_TestUIT = open_workbook(\"/content/test.xlsx\", encoding_override='latin')\n",
        "data_TestUIT = pd.read_excel(data_TestUIT)\n",
        "# Model\n",
        "model = DecisionTreeClassifier()\n",
        "\n",
        "trainY = dataTrainUIT.Final\n",
        "validY = dataValidUIT.Final\n",
        "testY  = data_TestUIT.Final\n",
        "\n",
        "dataTrainUIT.head()\n"
      ],
      "metadata": {
        "id": "PGW0qXOaHZKy",
        "colab": {
          "base_uri": "https://localhost:8080/"
        },
        "outputId": "eeb0d792-3631-4fd0-cc7c-52a8dddaa9c4"
      },
      "execution_count": null,
      "outputs": [
        {
          "output_type": "execute_result",
          "data": {
            "text/plain": [
              "                          Content  Final\n",
              "0                             cặc      1\n",
              "1              da kieu gi may dua      0\n",
              "2                       cố lên vn      0\n",
              "3                        cl mệ nó      1\n",
              "4  Việt Nam ăn chắc rồi🇻🇳🇻🇳🇻🇳🇻🇳🇻🇳      0"
            ],
            "text/html": [
              "\n",
              "  <div id=\"df-3cb9c275-793e-48e6-b13a-fa05e0256160\">\n",
              "    <div class=\"colab-df-container\">\n",
              "      <div>\n",
              "<style scoped>\n",
              "    .dataframe tbody tr th:only-of-type {\n",
              "        vertical-align: middle;\n",
              "    }\n",
              "\n",
              "    .dataframe tbody tr th {\n",
              "        vertical-align: top;\n",
              "    }\n",
              "\n",
              "    .dataframe thead th {\n",
              "        text-align: right;\n",
              "    }\n",
              "</style>\n",
              "<table border=\"1\" class=\"dataframe\">\n",
              "  <thead>\n",
              "    <tr style=\"text-align: right;\">\n",
              "      <th></th>\n",
              "      <th>Content</th>\n",
              "      <th>Final</th>\n",
              "    </tr>\n",
              "  </thead>\n",
              "  <tbody>\n",
              "    <tr>\n",
              "      <th>0</th>\n",
              "      <td>cặc</td>\n",
              "      <td>1</td>\n",
              "    </tr>\n",
              "    <tr>\n",
              "      <th>1</th>\n",
              "      <td>da kieu gi may dua</td>\n",
              "      <td>0</td>\n",
              "    </tr>\n",
              "    <tr>\n",
              "      <th>2</th>\n",
              "      <td>cố lên vn</td>\n",
              "      <td>0</td>\n",
              "    </tr>\n",
              "    <tr>\n",
              "      <th>3</th>\n",
              "      <td>cl mệ nó</td>\n",
              "      <td>1</td>\n",
              "    </tr>\n",
              "    <tr>\n",
              "      <th>4</th>\n",
              "      <td>Việt Nam ăn chắc rồi🇻🇳🇻🇳🇻🇳🇻🇳🇻🇳</td>\n",
              "      <td>0</td>\n",
              "    </tr>\n",
              "  </tbody>\n",
              "</table>\n",
              "</div>\n",
              "      <button class=\"colab-df-convert\" onclick=\"convertToInteractive('df-3cb9c275-793e-48e6-b13a-fa05e0256160')\"\n",
              "              title=\"Convert this dataframe to an interactive table.\"\n",
              "              style=\"display:none;\">\n",
              "        \n",
              "  <svg xmlns=\"http://www.w3.org/2000/svg\" height=\"24px\"viewBox=\"0 0 24 24\"\n",
              "       width=\"24px\">\n",
              "    <path d=\"M0 0h24v24H0V0z\" fill=\"none\"/>\n",
              "    <path d=\"M18.56 5.44l.94 2.06.94-2.06 2.06-.94-2.06-.94-.94-2.06-.94 2.06-2.06.94zm-11 1L8.5 8.5l.94-2.06 2.06-.94-2.06-.94L8.5 2.5l-.94 2.06-2.06.94zm10 10l.94 2.06.94-2.06 2.06-.94-2.06-.94-.94-2.06-.94 2.06-2.06.94z\"/><path d=\"M17.41 7.96l-1.37-1.37c-.4-.4-.92-.59-1.43-.59-.52 0-1.04.2-1.43.59L10.3 9.45l-7.72 7.72c-.78.78-.78 2.05 0 2.83L4 21.41c.39.39.9.59 1.41.59.51 0 1.02-.2 1.41-.59l7.78-7.78 2.81-2.81c.8-.78.8-2.07 0-2.86zM5.41 20L4 18.59l7.72-7.72 1.47 1.35L5.41 20z\"/>\n",
              "  </svg>\n",
              "      </button>\n",
              "      \n",
              "  <style>\n",
              "    .colab-df-container {\n",
              "      display:flex;\n",
              "      flex-wrap:wrap;\n",
              "      gap: 12px;\n",
              "    }\n",
              "\n",
              "    .colab-df-convert {\n",
              "      background-color: #E8F0FE;\n",
              "      border: none;\n",
              "      border-radius: 50%;\n",
              "      cursor: pointer;\n",
              "      display: none;\n",
              "      fill: #1967D2;\n",
              "      height: 32px;\n",
              "      padding: 0 0 0 0;\n",
              "      width: 32px;\n",
              "    }\n",
              "\n",
              "    .colab-df-convert:hover {\n",
              "      background-color: #E2EBFA;\n",
              "      box-shadow: 0px 1px 2px rgba(60, 64, 67, 0.3), 0px 1px 3px 1px rgba(60, 64, 67, 0.15);\n",
              "      fill: #174EA6;\n",
              "    }\n",
              "\n",
              "    [theme=dark] .colab-df-convert {\n",
              "      background-color: #3B4455;\n",
              "      fill: #D2E3FC;\n",
              "    }\n",
              "\n",
              "    [theme=dark] .colab-df-convert:hover {\n",
              "      background-color: #434B5C;\n",
              "      box-shadow: 0px 1px 3px 1px rgba(0, 0, 0, 0.15);\n",
              "      filter: drop-shadow(0px 1px 2px rgba(0, 0, 0, 0.3));\n",
              "      fill: #FFFFFF;\n",
              "    }\n",
              "  </style>\n",
              "\n",
              "      <script>\n",
              "        const buttonEl =\n",
              "          document.querySelector('#df-3cb9c275-793e-48e6-b13a-fa05e0256160 button.colab-df-convert');\n",
              "        buttonEl.style.display =\n",
              "          google.colab.kernel.accessAllowed ? 'block' : 'none';\n",
              "\n",
              "        async function convertToInteractive(key) {\n",
              "          const element = document.querySelector('#df-3cb9c275-793e-48e6-b13a-fa05e0256160');\n",
              "          const dataTable =\n",
              "            await google.colab.kernel.invokeFunction('convertToInteractive',\n",
              "                                                     [key], {});\n",
              "          if (!dataTable) return;\n",
              "\n",
              "          const docLinkHtml = 'Like what you see? Visit the ' +\n",
              "            '<a target=\"_blank\" href=https://colab.research.google.com/notebooks/data_table.ipynb>data table notebook</a>'\n",
              "            + ' to learn more about interactive tables.';\n",
              "          element.innerHTML = '';\n",
              "          dataTable['output_type'] = 'display_data';\n",
              "          await google.colab.output.renderOutput(dataTable, element);\n",
              "          const docLink = document.createElement('div');\n",
              "          docLink.innerHTML = docLinkHtml;\n",
              "          element.appendChild(docLink);\n",
              "        }\n",
              "      </script>\n",
              "    </div>\n",
              "  </div>\n",
              "  "
            ]
          },
          "metadata": {},
          "execution_count": 3
        }
      ]
    },
    {
      "cell_type": "code",
      "source": [
        "dataList1 = open_workbook(\"/content/data1.xlsx\", encoding_override='latin')\n",
        "dataList1 = pd.read_excel(dataList1)\n",
        "\n",
        "dataList2 = open_workbook(\"/content/data2.xlsx\", encoding_override='latin')\n",
        "dataList2 = pd.read_excel(dataList2)\n",
        "# 693\n",
        "dataList3 = open_workbook(\"/content/data3.xlsx\", encoding_override='latin')\n",
        "dataList3 = pd.read_excel(dataList3)"
      ],
      "metadata": {
        "id": "sy1difWku1lX"
      },
      "execution_count": null,
      "outputs": []
    },
    {
      "cell_type": "markdown",
      "metadata": {
        "id": "IkC80NCTeXYV"
      },
      "source": [
        "#### 2.2 Text preprocess (stopword, word segmentation, learn vocabulary and idf)"
      ]
    },
    {
      "cell_type": "code",
      "source": [
        "def text_process(datasets):\n",
        "    # Stopwords\n",
        "    StopWords = [\n",
        "        'chs','cerrrr','aaaaa','aaaaaaa','aamir','abcxyz','ac','18','200','500','dek','thg','đg','đs','đm','đuma',\n",
        "        'vl','vcl','kkk','dcm','cu','ừm','đĩ','đụ','địt','xl','lol','01','10','100', '11','12','13','14','15','150',\n",
        "        '17','1700''1967','20','21','22','225','23','24','25','26','28','2_','2_3','30','300','3000','320','333',\n",
        "        '33333','40','400','42','45','48', '50','5000','580','60','63','66','75','78','80','800','81','850','90','900',\n",
        "        '99','99999','_200','_5','ah','bn','c3','chg','cp','dòg','hlin','lòn','lôz','tđ','đkm','đkmm','đmaaaa','đmm',\n",
        "        'đmmmmm','đỹ','vcb','vclll','đụ_mẹ','trươ','trưen','amir','ga','1700','1967','bg','chaiii','clm','cmm','cmnl','cã',\n",
        "        'hloz','imdb','kau','kbh','loz','lozzz','lozzzz','matlon','muô','nh','nhma','p30','16','250','56','adm','ngươ'\n",
        "    ]\n",
        "    Tfidf = TfidfVectorizer(stop_words = StopWords)\n",
        "    \n",
        "    # Word Segmentation\n",
        "    WordSeg = []\n",
        "    for i in range(datasets.shape[0]):\n",
        "        sentence_strip = str(datasets.Content[i]).strip()# Remove spaces at begin & end\n",
        "        WordSeg.append(word_tokenize(sentence_strip, format='text')) # format text: add \"_\" where text is phrases.\n",
        "    datasets.Content = WordSeg # Update new sentences\n",
        "    \n",
        "    # Learn vocabulary and idf.\n",
        "    X = Tfidf.fit_transform(datasets.Content)\n",
        "    # Display after processing\n",
        "    print(Tfidf.get_feature_names()); print(\"\\n\\n\")\n",
        "    # return document-term matrix after processing\n",
        "    return X\n"
      ],
      "metadata": {
        "id": "wVmIMkbfQNzj"
      },
      "execution_count": null,
      "outputs": []
    },
    {
      "cell_type": "markdown",
      "metadata": {
        "id": "Gn60D3ZjeXYW"
      },
      "source": [
        "#### 2.3 Using Train&Valid sets of FLORENTINO for training Toxic Comment Recognization model"
      ]
    },
    {
      "cell_type": "code",
      "source": [
        "trainY = pd.Series(data=dataTrainUIT.Final).to_frame()\n",
        "validY = pd.Series(data=dataValidUIT.Final).to_frame()\n",
        "\n",
        "trainValidX = pd.concat([dataTrainUIT, dataValidUIT]).reset_index(drop=True)\n",
        "print(trainValidX)\n",
        "\n"
      ],
      "metadata": {
        "id": "v5nT8ss5V0oR",
        "colab": {
          "base_uri": "https://localhost:8080/"
        },
        "outputId": "d87d4d35-6185-4817-c71c-c957d0efb4e5"
      },
      "execution_count": null,
      "outputs": [
        {
          "output_type": "stream",
          "name": "stdout",
          "text": [
            "                                                Content  Final\n",
            "0                                                   cặc      1\n",
            "1                                    da kieu gi may dua      0\n",
            "2                                             cố lên vn      0\n",
            "3                                              cl mệ nó      1\n",
            "4                        Việt Nam ăn chắc rồi🇻🇳🇻🇳🇻🇳🇻🇳🇻🇳      0\n",
            "...                                                 ...    ...\n",
            "1393                          bắt del công bằng cc j cả      1\n",
            "1394                                        vn đá wa do      0\n",
            "1395                             đá gãy chân a tài luôn      1\n",
            "1396                             trọng tài thiên vị vcl      1\n",
            "1397  FiFa sinh ra 1 lũ ngồi xem va làm gì cho tốn c...      1\n",
            "\n",
            "[1398 rows x 2 columns]\n"
          ]
        }
      ]
    },
    {
      "cell_type": "code",
      "source": [
        "trainValidX = text_process(trainValidX)\n",
        "trainValidY = pd.concat([trainY, validY]).reset_index(drop=True)\n",
        "\n",
        "trainX, testX, trainY, testY = train_test_split(trainValidX, trainValidY, test_size=0.33, random_state=42)\n",
        "model = model.fit(trainX, trainY)\n",
        "predY = model.predict(testX)"
      ],
      "metadata": {
        "colab": {
          "base_uri": "https://localhost:8080/"
        },
        "id": "CMSOdZr4clNz",
        "outputId": "4b622249-550f-47a7-994d-8102569e7eeb"
      },
      "execution_count": null,
      "outputs": [
        {
          "output_type": "stream",
          "name": "stdout",
          "text": [
            "['0000000000000000', '02', '08', '0_', '0_2', '0_saudi_arabia', '111111111111111110', '1234567890', '19', '1_0_arp', '1_4', '1_nghiêng', '27', '2_1', '32', '3_', '3_tỉ', '87', '90_', '99999999999999999999999999999999999999999999999999999999999999999999999999999999999999999999999999999999999999999999999999999999999999999999999999999999999999999999999999999999999999999999999', '_1', '_9', '___', '_a', '_ae', '_ai', '_chat', '_check', '_chuyền', '_dcmmm', '_dคｙ', '_hõ', '_lẽ_ra', '_mu', '_muộn', '_ok', '_trang', '_tóm_lại', '_việt', '_vn', '_ông', '_đá', '_đê', '_đội_hình', '_๖_', '_ủa', 'a_tài', 'aaaaaaaaaaaaaaaaaaa', 'acc', 'accmai_bay', 'ad', 'add', 'admin', 'adu', 'ae', 'ai', 'ala', 'all', 'an', 'anh', 'anh_em', 'anh_tài', 'anhyêu_tố', 'anti', 'ao', 'ap', 'arap', 'arapxeut', 'arat', 'avai', 'ay', 'bai', 'balo', 'ban', 'ban_đầu', 'bang', 'banh', 'bao', 'bao_giờ', 'barcelona', 'bat', 'bay', 'bi', 'bik', 'biên', 'biết', 'bl', 'bluan', 'bluan_viên', 'blv', 'bnaf', 'bo', 'bon', 'bong_da', 'bot', 'bt', 'bts', 'btsex', 'bu', 'bui', 'buồi', 'buồn', 'bà', 'bà_con', 'bài', 'bàn', 'bàn_thờ', 'bày', 'bán', 'bán_kết', 'bán_độ', 'bây', 'bão', 'bé', 'béo', 'bên', 'bênh', 'bình_luận', 'bình_luận_viên', 'bình_thường', 'bình_tĩnh', 'bò', 'bòi', 'bó', 'bóng', 'bóng_đá', 'bù', 'bùi', 'bú', 'bún', 'bước', 'bại', 'bạn', 'bản', 'bảng', 'bảo', 'bảo_thủ', 'bảo_trọng_tài', 'bảo_vệ', 'bất_ngờ', 'bầu', 'bẩn', 'bẩn_chí', 'bẩn_thỉu', 'bật', 'bắt', 'bắt_buộc', 'bằng', 'bế', 'bể', 'bị', 'bọn', 'bỏ', 'bỏ_đi', 'bố', 'bố_cái', 'bồ', 'bổn', 'bớt', 'bởi', 'bụng', 'bừa', 'bựa', 'bựa_vl', 'cac', 'cag', 'cai', 'cam', 'canh', 'cao', 'card', 'cau', 'cax', 'cay', 'cayyyyyyyyyyyyyyyy', 'cbi', 'cc', 'cc_j_v', 'cccc', 'cccccccc', 'cdm', 'cdmm', 'cftttttttttttttttttttttttttttttttttt', 'cha', 'chadn', 'chan', 'chay', 'che', 'check', 'chet', 'chi', 'chia', 'chim', 'china', 'chiêna', 'chiến', 'chiến_binh', 'chiến_thuật', 'chiến_thắng', 'cho', 'chu', 'chuan', 'chuc', 'chui', 'chung', 'chuyên', 'chuyên_gia', 'chuyền', 'chuyển_nhượng', 'chuyện', 'chuẩn', 'chuẩn_bị', 'chuẫn', 'chuền', 'chuối', 'chuồng', 'chuỳen', 'chx', 'chàng_trai', 'chàooooooooooooooooooooooooooooooooooooooooooooooooooooooooooooooooooooooooooooooooooooooooooooooooooooooooooooooooooooooooooooooooooooooooooooooooooooooooooooooooooooooooooooooooooooooooooooooooooooo', 'chán', 'chát', 'chát_việt_nam', 'cháu', 'chân', 'chân_gỗ', 'chân_thật', 'châu_á', 'chê', 'chích', 'chít', 'chó', 'chôn', 'chôt', 'chú', 'chúc', 'chúng', 'chúng_mày', 'chúng_ta', 'chút', 'chơi', 'chơi_ngang', 'chưa', 'chưởng', 'chạy', 'chả', 'chấp', 'chậm', 'chắc', 'chắc_chắn', 'chắt', 'chẳng_nhẽ', 'chết', 'chỉ', 'chịu', 'chọn', 'chốt', 'chồng', 'chổ', 'chờ', 'chứ', 'chức', 'chửi', 'chữ', 'cl', 'cm', 'cmay', 'cme', 'cmmr', 'cmn', 'cmn_độ', 'cmnd', 'cmnr', 'cno', 'co', 'coi', 'com', 'comen', 'con', 'con_cháu', 'con_mẹ', 'con_nít', 'concacconcacxoncacconcacconcacconcacconcacconcacconcacconcaccon', 'concajt', 'condime', 'cong', 'cos', 'cs', 'cua', 'cuc', 'cung_bi', 'cungz', 'cuoief', 'cut', 'cuối_cùng', 'cuộc', 'cuộc_chơi', 'cvv', 'cx', 'càng', 'cào', 'các', 'cách', 'cái', 'cánh', 'cáy', 'câm', 'câm_câm', 'câm_câm_câm', 'câu', 'cây', 'còi', 'còn', 'cònhaha', 'có', 'có_vẻ', 'cô', 'công', 'công_bằng', 'công_nhận', 'công_phượng', 'công_tệ', 'cùi', 'cùng', 'cún', 'cút', 'căng', 'cđ', 'cđv', 'cũng', 'cơ', 'cơ_mà', 'cười', 'cả', 'cải_thiện', 'cảm_giác', 'cầm', 'cầm_đồ', 'cần', 'cầu', 'cầu_thủ', 'cầy', 'cắt', 'cặc', 'cặt', 'cẹt', 'cố', 'cố_gắng', 'cổ_vũ', 'cổ_động_viên', 'cổng', 'cỗ', 'cờ', 'cụ', 'của', 'của_văn_quyến', 'cứ', 'cứt', 'cực', 'da', 'dad', 'dam', 'dammmm', 'danh', 'danh_dự', 'dap', 'dau', 'day', 'db', 'dba', 'dc', 'dc_ko_anh', 'dcmmm', 'dditj', 'de', 'del', 'dell', 'deo', 'dep', 'dg', 'di', 'di_da', 'dich', 'dien', 'dit', 'dit_me', 'dit_me_trọng_tài', 'ditcu', 'diễn', 'djtme', 'dkm', 'dm', 'dmm', 'do', 'doi', 'dopping', 'dr', 'dragon20665', 'dua', 'duc', 'dum', 'duma', 'dung', 'duoc', 'duyên', 'dyt', 'dài', 'dành', 'dá', 'dái', 'dánh', 'dân', 'dò', 'dùm', 'dũng', 'dơ', 'dương', 'dưới', 'dạ', 'dấu', 'dầu_mỏ', 'dẫm', 'dậy', 'dặc', 'dẹp', 'dế', 'dễ', 'dịch', 'dịt', 'dọa', 'dỏ', 'dốt_nát', 'dồi', 'dở', 'dỡ', 'dụng', 'dừng', 'dữ', 'dự', 'dự_tính', 'eeeeeeee', 'eeeeeeeeeeeeeeeeeeeeeeeeeeeeeeeeeeeeeeeeeeeeeeeeeeeeeeeeeeeeeeeeeeeeeeeeeeeeeeeeeeeeeeeeeeeeeeeeeeeeeeeeeeeeeeeeeeeeeeeeeeeeeeeeeeeeeeeeeeeetttttttttttttttttttttttttttttttttttttttttttttttttttttttttttt', 'em', 'fai', 'fairplay', 'fan', 'fb', 'fen', 'ff', 'fff', 'fghjuytf', 'fi', 'fifa', 'fighting', 'fpt', 'fucking', 'gay', 'ghe', 'ghi_bàn', 'ghiền', 'ghre', 'ghét', 'ghê', 'ghẻ', 'gi', 'giai', 'gio', 'già', 'giày', 'giò', 'giòn', 'giùm', 'giư', 'giả', 'giải', 'giỏi', 'giống', 'giồng', 'giờ', 'giở', 'giử', 'giữa', 'gsdkg', 'gà', 'gà_mờ', 'gái', 'gánh', 'gáy', 'gãy', 'gì', 'góc', 'gôn', 'gõ', 'gєղ๖', 'gạo', 'gấp', 'gầm', 'gẫy', 'gắn', 'gặp', 'gọi', 'gổ', 'gỗ', 'gục', 'h2', 'ha', 'hack', 'haha', 'haha_nhục', 'hahaha', 'hahahah', 'hahahahahahaa', 'hai', 'hai_long', 'haizzzzz', 'hang', 'hat', 'hay', 'hay_sao', 'hayy', 'hayyyyyyyyyyyyy', 'hcđ', 'heng', 'henh', 'het', 'hi_vọng', 'hiep', 'hieu', 'hiếu', 'hiểu', 'hiệp', 'hlv', 'ho', 'hoa', 'hoang', 'hoc', 'hom', 'hon', 'hoà', 'hoài', 'hoàng', 'hoàng_anh', 'hoặc', 'hs', 'hung', 'hut', 'huy_chương', 'huân', 'huấn_luyện_viên', 'huề', 'hà_nội', 'hài', 'hàn', 'hàn_quốc', 'hàng', 'hàng_xóm', 'hát', 'hâm_mộ', 'hãm', 'hãy', 'hê', 'hên', 'hình', 'hít', 'hòa', 'hòa_tiếp', 'hôm_nay', 'hông', 'hùa', 'hùng_dũng', 'hùng_hục', 'hđ', 'hơi', 'hơn', 'hưu', 'hạch', 'hả', 'hải', 'hảo', 'hấp_tấp', 'hậu', 'hậu_vệ', 'hẳn', 'hết', 'hết_hơi', 'hỉu', 'họ', 'hốn', 'hồ', 'hồi', 'hồi_hộp', 'hồn', 'hộ', 'hộp', 'hợp', 'hửi', 'idol', 'ik', 'im', 'im_mồm', 'in', 'in4', 'iran', 'it', 'janpan', 'jav', 'jđức', 'k4', 'ken', 'ket', 'kha', 'khac', 'khen', 'khi', 'khinh_thường', 'khon_nan', 'khong', 'khoét', 'khoảng_chừng', 'khoẻ', 'khu_vực', 'khung_thành', 'khá', 'khác', 'khác_biệt', 'khách', 'khán_đài', 'khánh', 'khéo', 'khó', 'khóa', 'khóc', 'khô', 'khôi', 'không', 'khả_năng', 'khấc', 'khắc', 'khỉ', 'khỏe', 'khổ', 'khớp', 'kia', 'kieu', 'kinh_nghiệm', 'kinh_vãi', 'kiu', 'kiếm', 'kiến_thức', 'kiểu', 'kk', 'kkkk', 'kkkkk', 'kkkkkkk', 'kkkkkkkkkkkkkkkkkk', 'km', 'ko', 'ksa', 'ku', 'kèm', 'kèo', 'kém', 'kéo', 'kênh', 'kêu', 'kì', 'kì_tích', 'kìa', 'kết_thúc', 'la', 'la_ve', 'laakt', 'lai', 'lan', 'lang', 'lao', 'le', 'len', 'lennnn', 'lim', 'linh', 'live', 'liên_kết', 'liên_tục', 'liếm', 'liền', 'llllllllllll', 'lm', 'lmmm', 'lo', 'loiilieenm', 'loll', 'lols', 'lon', 'long', 'love_vietnam', 'loveee', 'lox', 'loz_cay', 'loại', 'loằm', 'lq', 'lua', 'luc', 'lun', 'lung', 'luu', 'luyên', 'luân_lưu', 'luôn', 'luônnnnnn', 'luật', 'lz', 'là', 'làm', 'làm_nên', 'làm_sao', 'làm_tường', 'làm_ăn', 'làng', 'lào', 'lá', 'láo', 'lâm', 'lâu', 'lè', 'lép_vế', 'lê', 'lê_văn_đô', 'lê_văn_đô_ski', 'lên', 'lên_đời', 'lênnm', 'lë๖', 'lìn', 'lòi', 'lô', 'lôn', 'lông', 'lùa', 'lùi', 'lý_do', 'lăn', 'lăn_lộn', 'lău', 'lũ', 'lại', 'lạy', 'lấy', 'lần', 'lẩu', 'lập', 'lắm', 'lỉnh', 'lọn', 'lối', 'lồn', 'lỗi', 'lởm', 'lỡ', 'lợn', 'lụm', 'lứa', 'm50', 'ma', 'ma_da', 'mai', 'mang', 'mang_danh', 'may', 'may_mắn', 'mayanmar', 'mcc', 'mchasnnnnnnnnnnn', 'me', 'mej', 'messsiiiiiiiiiiiiiiiii', 'met', 'mi', 'mia', 'miến', 'miếng', 'miệng', 'mk', 'ml', 'mm', 'mn', 'moi', 'mom', 'moá', 'moẹ', 'ms', 'mu', 'mua', 'muon', 'muôn', 'muốn', 'muộn', 'mya', 'myanmar', 'mà', 'màn_hình', 'mày', 'má', 'mái', 'máu', 'máu_lửa', 'máy', 'mã', 'mãi', 'mèo', 'mé', 'méo', 'mì', 'mình', 'móc', 'mô', 'mô_phật', 'môn', 'mõm', 'mù', 'mùa', 'mũ', 'mưa', 'mạnh', 'mả_cha', 'mả_mẹ', 'mất', 'mấy', 'mầm_non', 'mầy', 'mắc', 'mắm_tôm', 'mắt', 'mặc', 'mặt', 'mặt_cầu_thủ', 'mẹ', 'mẹ_kiếp', 'mẹ_mày', 'mẻ', 'mệ', 'mệt', 'mịa', 'mọi', 'mốt', 'mồm', 'mồn', 'mỗi', 'một', 'mới', 'mờ', 'mời', 'mở', 'mở_cửa', 'mứng', 'nai', 'nam', 'nam_vô', 'nam_vô_địch', 'nan', 'nang', 'nao', 'nay', 'ncc', 'nccc', 'ndfjhdf', 'ng', 'ngan', 'ngang', 'ngang_ngửa', 'ngay', 'nghe', 'nghi', 'nghiep', 'nghiền', 'nghiệp_dư', 'nghèo', 'nghĩ', 'nghệ_vcl', 'nghỉ', 'nghỉ_ngơi', 'ngoai', 'ngon', 'ngoài', 'ngt', 'ngta', 'ngu', 'ngua', 'nguu', 'nguuu', 'nguuuuuuuuuuuuuu7uuuuuuuuuuuuuuuuuuuuuuuuuuuuuuu', 'nguyễn_quang_tuyến', 'nguyễn_xạo_lìn', 'nguội', 'ngày', 'ngày_mai', 'ngán', 'ngáo', 'người', 'người_hùng', 'người_ta', 'ngạc_nhiên', 'ngọc', 'ngồi', 'ngộ', 'ngụy', 'ngủ', 'ngỷ', 'nha', 'nha_ban', 'nhanh', 'nhatài', 'nhau', 'nhiều', 'nhiệt_tình', 'nho', 'nhoc', 'nhu', 'nhung', 'nhà', 'nháp', 'nhâm', 'nhân_phẩm', 'nhé', 'nhìn', 'nhình', 'nhìu', 'nhăng', 'nhũn_não', 'như', 'như_thế', 'nhưng', 'nhảy', 'nhất', 'nhận', 'nhập', 'nhật', 'nhắc', 'nhắn', 'nhặt', 'nhể', 'nhỉ', 'nhịp', 'nhỏ', 'nhục', 'những', 'nick', 'ninh_bình', 'nit', 'niềm', 'no', 'nod', 'noi', 'non', 'nonnn', 'nqu', 'nquu', 'ns', 'nt', 'ntn', 'nuoc', 'nvn', 'nvta', 'nx', 'nyc', 'nào', 'nàooo', 'này', 'náo', 'nâng', 'nãn', 'não', 'nãyh', 'nè', 'né', 'ném_biên', 'nét', 'nên', 'nít', 'nó', 'nói', 'nói_chung', 'nói_chuyện', 'nói_phét', 'nói_xàm', 'nóng', 'nóng_vội', 'năm', 'nước', 'nản', 'nảy', 'nắm', 'nằm', 'nếu', 'nịt', 'nốt', 'nồi', 'nổ', 'nổi', 'nội', 'nức', 'nửa_mùa', 'nữ', 'nữa', 'o_ép', 'oc', 'occ', 'occho', 'oi', 'ok', 'okk', 'onl', 'online', 'out', 'ox', 'oy', 'p2', 'pa', 'pakheoseo', 'park', 'pay', 'pen', 'ph', 'phai', 'phan', 'phan_văn_chuẩn', 'phi', 'philippines', 'phim', 'phu', 'phuong', 'phut', 'phào', 'phá', 'phán_xét', 'pháp', 'phát', 'phát_biểu', 'phát_xít', 'phím', 'phòng_ngự', 'phút', 'phút_đâu', 'phạm', 'phạt', 'phải', 'phản_công', 'phế', 'phết', 'phối_hợp', 'phở', 'phụ_nữ', 'pk', 'pressing', 'pye', 'qa', 'qq', 'qsqsqsqsqqsqsqsqqsqsqsqsqsqsqqsqsqsqsqs', 'qu', 'qua', 'quan', 'quang', 'quang_nho', 'quay', 'que', 'qus', 'quyên', 'quá', 'quá_trời', 'quá_đáng', 'quái', 'quân', 'quãng', 'què', 'quê', 'quên', 'quí_vị', 'quả', 'quảng_hải', 'quất', 'quầng', 'quốc', 'quốc_ca', 'quốc_gia', 'ra', 'raahp', 'rach', 'rap', 'rau', 'red', 'ri', 'riét', 'roi', 'ronaldo', 'rosé', 'rrooig', 'rui', 'ruộng', 'rác', 'rác_rưởi', 'rách', 'ráng', 'râu', 'râu_ria', 'rê', 'rên', 'ròi', 'rô', 'rôi', 'rõ', 'rù', 'rùa', 'rút', 'răng', 'rạp', 'rất', 'rập', 'rẻ', 'rồi', 'rồiiiiiiiiiiiiiiiiiiiiiii', 'rời', 'rời_rạc', 'rứa', 'sa', 'sa_thải', 'sai', 'sai_số', 'sam', 'san', 'sang', 'sao', 'sato', 'sau', 'saudi', 'say', 'saôc', 'seagames', 'seagames_30', 'serbia', 'sex', 'shaw', 'shit', 'shoppe', 'simmi', 'sinh', 'siuuuuuuuuuuuuuuuuuuuuuuuuuuuuuuuuuuuuuuuuuuuuuuuuuuuuuuuuuuuuuuuuuuuuuuuuuuuuuuuu', 'sl', 'sml', 'som', 'sos', 'spam', 'suvsnnho', 'suýt', 'sv', 'sàm', 'sách', 'sáng', 'sân', 'sân_bay', 'sân_nhà', 'sân_si', 'sóng', 'súc_vật', 'súc_vật_mang', 'sút', 'sĩ', 'sướng', 'sảng', 'sắc', 'sắp', 'sẽ', 'sỏ', 'số', 'sớm', 'sợ', 'sủa', 'sức', 'sự_thật_là', 'ta', 'tai', 'tan', 'tann', 'tao', 'tau', 'tay', 'team', 'th', 'tha', 'thag', 'than', 'thang', 'thangwfggggggggggggggggggggggggggggggggggggggggggggggggggggggggggggggg', 'thanh_bình', 'thanh_minh', 'that', 'thay', 'thay_áo', 'the', 'theo', 'theo_dõi', 'thi', 'thiet', 'thigr', 'thiên_vi', 'thiên_vị', 'thiếu', 'thiệc', 'thiệt', 'thk', 'thoi', 'thopio_', 'thu', 'thua', 'thui', 'thuốc', 'thuỷ', 'thành_ra', 'thái', 'thân', 'thèm', 'thêm', 'thì', 'thì_thôi', 'thích', 'thô_thiển', 'thôi', 'thôi_thôi', 'thông_cảm', 'thăng', 'thư', 'thưa', 'thương', 'thải', 'thấp', 'thất_vọng', 'thấy', 'thầy', 'thật', 'thật_sự', 'thắg', 'thắn', 'thắng', 'thằg', 'thằng', 'thẳng', 'thẻ', 'thẻ_vàng', 'thẻ_đỏ', 'thế', 'thề', 'thể', 'thể_hiện', 'thể_lực', 'thỏ', 'thổi', 'thời', 'thủ', 'thủ_môn', 'thủ_thành', 'thủng_lưới', 'thứ', 'thực_lực', 'thực_sự', 'tien', 'tieng', 'tik', 'tim', 'time', 'timo', 'tin', 'tinh', 'tiên_linh', 'tiên_tri', 'tiếc', 'tiến', 'tiếng', 'tiếp', 'tiết_chế', 'tiền', 'tiền_vệ', 'tiền_đạo', 'tiểu_xảo', 'tiệm', 'tjjtjt', 'tk', 'tks', 'tl', 'tloz', 'tnua', 'to', 'toan', 'toang', 'toi', 'tok', 'tomi', 'ton', 'top', 'tot', 'toxic', 'toàn', 'toàn_dân', 'tq', 'tr', 'tranh', 'tre', 'trg', 'triiệu', 'trinh', 'triệu', 'trog', 'trong', 'trssu', 'trung', 'trung_lộ', 'trung_thực', 'truoc', 'truy', 'trái', 'trán', 'trâm_anh', 'trâu', 'trên', 'trình', 'trình_độ', 'trông', 'trùm_lớp', 'trúng', 'trước', 'trượt', 'trẩu', 'trận', 'trật_tự', 'trắng', 'trẻ', 'trẻ_con', 'trị', 'trọg', 'trọng', 'trọng_tài', 'trọng_tì', 'trống', 'trời', 'trứng', 'trực_tiếp', 'ts', 'tt', 'tu', 'tu_luyện', 'tucê', 'tue', 'tui', 'tung_hô', 'tuoi', 'tuoiir', 'tuyển', 'tuyệt_vời', 'tuấn', 'tuấn_ngu', 'tuổi', 'tv', 'tài', 'tài_xỉu', 'tào_lao', 'tác_dụng', 'tâm_linh', 'tâm_lí', 'tâm_lý', 'tâm_sự', 'tâm_thần', 'tây', 'té', 'tét', 'tên', 'tìm', 'tình_huống', 'tí', 'tóc', 'tôi', 'tù', 'tùng', 'túi', 'túmaos', 'tưng_bừng', 'tường', 'tạ', 'tại', 'tại_sao', 'tạo', 'tấn', 'tấn_công', 'tất_tay', 'tập', 'tẹ', 'tệ', 'tọng', 'tố', 'tố_cáo', 'tốc_độ', 'tối', 'tốn', 'tồi', 'tồi_tệ', 'tổ', 'tới', 'tởm', 'tụi', 'tụivuj', 'tụt', 'tủa', 'tức', 'từ', 'từ_từ', 'từng', 'tự', 'tự_động', 'tỷ_số', 'u16', 'u17', 'u23', 'u23vn', 'uiiiiiiiiii', 'ut', 'uầy', 'va', 'vafooooooooooooooooo', 'vai', 'vai9', 'vaika', 'vailol', 'vailoz', 'vali', 'van', 'vao', 'vaofffff', 'vaofooooooooooooooo', 'vaoooooooo', 'vapf', 'var', 'vay', 'vb', 'vc', 'vcc', 'vcch', 'vcdd', 'vchhhhhhhhhhhhhhhh', 've', 'vi', 'viet', 'vietnam', 'viêt', 'viêt_nam', 'viết', 'việc', 'việt', 'việt_nam', 'việt_vị', 'vkl', 'vlozzz', 'vlz', 'vn', 'vn2', 'vnnn', 'vnvnvnvnvnvn', 'vo', 'voi', 'vong', 'vs', 'vs5', 'vs_phan_luôn', 'vtv', 'vua', 'vui', 'vvv', 'vvvvvvvvvvvvvvvvvvvvvvvvvvvvvvvvvvvvvvvvvvvvvvvvvvvvvvvvvvvvvvvvvvv', 'vy', 'và', 'vài', 'vào', 'vàoooooo', 'vàooooooooooooooooooo', 'vàooooooooooooooooooooooooooooooooooooooooooooooooooooooooooooooooo', 'vâng', 'vãi', 'vãi_cứt', 'vão', 'vèo_vèo', 'vênh', 'vì', 'vòng', 'vô', 'vô_dưỡng_sức', 'vô_dụng', 'vô_địch', 'vùng', 'văn', 'văn_chuẩn', 'văn_hậu', 'văn_minh', 'văn_quyến', 'văn_đô', 'vĩnh_biệt', 'vũ', 'vượt', 'vạ', 'vại', 'vạn_tuế', 'vẫn', 'vật', 'vậy', 'vằn', 'về', 'vệt', 'vịt', 'vội', 'với', 'vở', 'vợ', 'vụt', 'vừa', 'vừa_qua', 'vực', 'vựt', 'wa', 'weeee', 'win', 'woow', 'wtf', 'xa', 'xanh', 'xe', 'xe_máy', 'xem', 'xiaomi', 'xin', 'xin_lỗi', 'xinh', 'xog', 'xom', 'xong', 'xoạt', 'xu', 'xuan', 'xuân', 'xxx', 'xàm', 'xách', 'xém', 'xê', 'xóm', 'xúc', 'xúc_phạm', 'xương', 'xấu', 'xấu_xí', 'xỉu', 'xời', 'xứng_đáng', 'y47zv9qlkl', 'youuu', 'ytsổn', 'yuf', 'yêu', 'yếu', 'yếu_kém', 'zem', 'zidan', 'zo', 'zu', 'zui', 'zô', 'zị', 'ào', 'ác', 'án', 'áo', 'áp_lực', 'áp_đặt', 'âm', 'âu', 'éo', 'ép', 'ít', 'óc', 'ô_hợp', 'ôi', 'ôn', 'ông', 'ùm', 'út', 'út_', 'ý_tưởng', 'ăn', 'ăn_chắc', 'ăn_gian', 'ăn_mừng', 'ăn_thua', 'ăn_tiền', 'ăn_vạ', 'đa', 'đa_tê_ea', 'đang', 'đau', 'đb', 'đbrr', 'đc', 'đc_bước_1', 'đcm', 'đcmm', 'đcmn', 'đcu', 'đe', 'đell', 'đem', 'đen', 'đhs', 'đi', 'điiiiiiiiiiiiiiiiiiiiiiiiiiiiiiiiiiiiiiiiiiiiiiiiiiiiiiiiiiiiiiiiiiiiiiiiiiiiiiiiiiiiiiiiiiiiiiiiiiiiiiiiiiiiiiiiiiiiiiiiiiiiiiiiiiiiiiiiiiiiiiiii', 'đit', 'điên', 'điềm', 'điều', 'điều_chỉnh', 'điểm', 'điện', 'đj', 'đjt', 'đjtttttttttttttttttttttttttttttttttttttttttttt', 'đk', 'đmmm', 'đmmmm', 'đmmmmmmm', 'đmá', 'đoi', 'đu', 'đubai', 'đuọi', 'đuổi', 'đá', 'đá_kì', 'đá_quả_bóng', 'đám_ma', 'đáng', 'đánh', 'đánh_lộn', 'đátoàn', 'đáy', 'đâm', 'đâu', 'đây', 'đâyyyyyyyyyyyyyyyyyyyyyyy', 'đã', 'đéo', 'đê', 'đêm', 'đên', 'đòi', 'đó', 'đói', 'đón', 'đóng', 'đô', 'đôi', 'đông', 'đông_nguyen', 'đù', 'đú', 'đúng', 'đút', 'đưa', 'đường', 'đường_dài', 'được', 'đạp', 'đả', 'đảm_bảo', 'đảo', 'đấm', 'đất', 'đất_đá', 'đấu', 'đấy', 'đầu', 'đầu_tiên', 'đầy', 'đẩy', 'đậm', 'đập', 'đậu', 'đằng', 'đẳng_cấp', 'đẹp', 'đẻ', 'đến', 'đếu', 'đề_phòng', 'đều', 'để', 'đểu', 'đỉnh', 'đị', 'địch', 'địcu', 'định', 'địt_mẹ', 'địtt', 'đọc', 'đỏ', 'đối_phương', 'đối_thủ', 'đốn', 'đống', 'đồ', 'đồng', 'đồng_chí', 'đồng_loại', 'đồng_đội', 'đổ', 'đổ_lỗi', 'đổ_thừa', 'đổ_tại', 'đổi', 'đỗ', 'đỗ_m', 'đội', 'đội_hình', 'đội_tuyển', 'đờ', 'đỡ', 'đợi', 'đứa', 'đức', 'đứng', 'đừng', 'ũa', 'ơi', 'ơn', 'ưeqtyriuodsahgfljkcxzbvpm', 'ưn', 'м4s', 'єŕ', 'ᴳo_', 'ả_rập', 'ảo', 'ảo_tưởng', 'ấn_tượng', 'ấy', 'ỉa', 'ỉa_chảy', 'ối', 'ống', 'ủa', 'ủng_hộ', 'ức_chế', 'ứt', 'こんばんは', 'やはたな']\n",
            "\n",
            "\n",
            "\n"
          ]
        },
        {
          "output_type": "stream",
          "name": "stderr",
          "text": [
            "/usr/local/lib/python3.7/dist-packages/sklearn/utils/deprecation.py:87: FutureWarning: Function get_feature_names is deprecated; get_feature_names is deprecated in 1.0 and will be removed in 1.2. Please use get_feature_names_out instead.\n",
            "  warnings.warn(msg, category=FutureWarning)\n"
          ]
        }
      ]
    },
    {
      "cell_type": "markdown",
      "metadata": {
        "id": "Cj9kLLvaeXYW"
      },
      "source": [
        "#### 2.4 Performance metrics (Accuracy, F1-score…) for the test sets in UIT-VSMEC"
      ]
    },
    {
      "cell_type": "code",
      "source": [
        "Accuracy  = []\n",
        "Precision = []\n",
        "F1_Score  = []\n",
        "\n",
        "Accuracy.append(accuracy_score(testY, predY))\n",
        "F1_Score.append(f1_score(testY, predY, average='weighted'))  # Could change to None,'weighted','micro','macro'\n",
        "Precision.append(precision_score(testY, predY, average='weighted'))\n",
        "\n",
        "averageAccuracy = sum(Accuracy)/len(Accuracy)\n",
        "print(\"Average of Accuracy:\", averageAccuracy)\n",
        "averageF1_Score = sum(F1_Score)/len(F1_Score)\n",
        "print(\"Average of F1_Score:\", averageF1_Score)\n",
        "averagePrecision = sum(Precision)/len(Precision)\n",
        "print(\"Average of Precision:\", averagePrecision)"
      ],
      "metadata": {
        "id": "efowljBamS2g",
        "colab": {
          "base_uri": "https://localhost:8080/"
        },
        "outputId": "7be8c50d-ca30-4443-c6dc-0ef152fc79ac"
      },
      "execution_count": null,
      "outputs": [
        {
          "output_type": "stream",
          "name": "stdout",
          "text": [
            "Average of Accuracy: 0.803030303030303\n",
            "Average of F1_Score: 0.802731728239629\n",
            "Average of Precision: 0.8046183881921197\n"
          ]
        }
      ]
    },
    {
      "cell_type": "code",
      "source": [
        ""
      ],
      "metadata": {
        "id": "IKFJheAqhVKh"
      },
      "execution_count": null,
      "outputs": []
    },
    {
      "cell_type": "markdown",
      "metadata": {
        "id": "L2W-62uv2Wrk"
      },
      "source": [
        "### TASK 3: APPLYING THE TRAINED MODEL IN TASK 2 TO THREE DATASETS IN TASK 1"
      ]
    },
    {
      "cell_type": "markdown",
      "metadata": {
        "id": "c14_E2SP2Wrk"
      },
      "source": [
        "#### 3.1 Applying the trained model in Task 2 to three datasets in Task 1"
      ]
    },
    {
      "cell_type": "code",
      "source": [
        "dataList1.head()"
      ],
      "metadata": {
        "colab": {
          "base_uri": "https://localhost:8080/"
        },
        "id": "6Bl64a5AY0ec",
        "outputId": "c2882eb5-da9d-4a5c-8370-2cdcbb1d5730"
      },
      "execution_count": null,
      "outputs": [
        {
          "output_type": "execute_result",
          "data": {
            "text/plain": [
              "                                      Content  Final\n",
              "0                                     lại tạt      0\n",
              "1  Thua đổ trọng tài hồi nào địt mẹ thằng kia      1\n",
              "2                                    Nhục nhã      0\n",
              "3                      thua rồi đá làm gì nữa      0\n",
              "4                                    xin chào      0"
            ],
            "text/html": [
              "\n",
              "  <div id=\"df-b45a9d56-74b0-407d-9f6b-ffa81394228f\">\n",
              "    <div class=\"colab-df-container\">\n",
              "      <div>\n",
              "<style scoped>\n",
              "    .dataframe tbody tr th:only-of-type {\n",
              "        vertical-align: middle;\n",
              "    }\n",
              "\n",
              "    .dataframe tbody tr th {\n",
              "        vertical-align: top;\n",
              "    }\n",
              "\n",
              "    .dataframe thead th {\n",
              "        text-align: right;\n",
              "    }\n",
              "</style>\n",
              "<table border=\"1\" class=\"dataframe\">\n",
              "  <thead>\n",
              "    <tr style=\"text-align: right;\">\n",
              "      <th></th>\n",
              "      <th>Content</th>\n",
              "      <th>Final</th>\n",
              "    </tr>\n",
              "  </thead>\n",
              "  <tbody>\n",
              "    <tr>\n",
              "      <th>0</th>\n",
              "      <td>lại tạt</td>\n",
              "      <td>0</td>\n",
              "    </tr>\n",
              "    <tr>\n",
              "      <th>1</th>\n",
              "      <td>Thua đổ trọng tài hồi nào địt mẹ thằng kia</td>\n",
              "      <td>1</td>\n",
              "    </tr>\n",
              "    <tr>\n",
              "      <th>2</th>\n",
              "      <td>Nhục nhã</td>\n",
              "      <td>0</td>\n",
              "    </tr>\n",
              "    <tr>\n",
              "      <th>3</th>\n",
              "      <td>thua rồi đá làm gì nữa</td>\n",
              "      <td>0</td>\n",
              "    </tr>\n",
              "    <tr>\n",
              "      <th>4</th>\n",
              "      <td>xin chào</td>\n",
              "      <td>0</td>\n",
              "    </tr>\n",
              "  </tbody>\n",
              "</table>\n",
              "</div>\n",
              "      <button class=\"colab-df-convert\" onclick=\"convertToInteractive('df-b45a9d56-74b0-407d-9f6b-ffa81394228f')\"\n",
              "              title=\"Convert this dataframe to an interactive table.\"\n",
              "              style=\"display:none;\">\n",
              "        \n",
              "  <svg xmlns=\"http://www.w3.org/2000/svg\" height=\"24px\"viewBox=\"0 0 24 24\"\n",
              "       width=\"24px\">\n",
              "    <path d=\"M0 0h24v24H0V0z\" fill=\"none\"/>\n",
              "    <path d=\"M18.56 5.44l.94 2.06.94-2.06 2.06-.94-2.06-.94-.94-2.06-.94 2.06-2.06.94zm-11 1L8.5 8.5l.94-2.06 2.06-.94-2.06-.94L8.5 2.5l-.94 2.06-2.06.94zm10 10l.94 2.06.94-2.06 2.06-.94-2.06-.94-.94-2.06-.94 2.06-2.06.94z\"/><path d=\"M17.41 7.96l-1.37-1.37c-.4-.4-.92-.59-1.43-.59-.52 0-1.04.2-1.43.59L10.3 9.45l-7.72 7.72c-.78.78-.78 2.05 0 2.83L4 21.41c.39.39.9.59 1.41.59.51 0 1.02-.2 1.41-.59l7.78-7.78 2.81-2.81c.8-.78.8-2.07 0-2.86zM5.41 20L4 18.59l7.72-7.72 1.47 1.35L5.41 20z\"/>\n",
              "  </svg>\n",
              "      </button>\n",
              "      \n",
              "  <style>\n",
              "    .colab-df-container {\n",
              "      display:flex;\n",
              "      flex-wrap:wrap;\n",
              "      gap: 12px;\n",
              "    }\n",
              "\n",
              "    .colab-df-convert {\n",
              "      background-color: #E8F0FE;\n",
              "      border: none;\n",
              "      border-radius: 50%;\n",
              "      cursor: pointer;\n",
              "      display: none;\n",
              "      fill: #1967D2;\n",
              "      height: 32px;\n",
              "      padding: 0 0 0 0;\n",
              "      width: 32px;\n",
              "    }\n",
              "\n",
              "    .colab-df-convert:hover {\n",
              "      background-color: #E2EBFA;\n",
              "      box-shadow: 0px 1px 2px rgba(60, 64, 67, 0.3), 0px 1px 3px 1px rgba(60, 64, 67, 0.15);\n",
              "      fill: #174EA6;\n",
              "    }\n",
              "\n",
              "    [theme=dark] .colab-df-convert {\n",
              "      background-color: #3B4455;\n",
              "      fill: #D2E3FC;\n",
              "    }\n",
              "\n",
              "    [theme=dark] .colab-df-convert:hover {\n",
              "      background-color: #434B5C;\n",
              "      box-shadow: 0px 1px 3px 1px rgba(0, 0, 0, 0.15);\n",
              "      filter: drop-shadow(0px 1px 2px rgba(0, 0, 0, 0.3));\n",
              "      fill: #FFFFFF;\n",
              "    }\n",
              "  </style>\n",
              "\n",
              "      <script>\n",
              "        const buttonEl =\n",
              "          document.querySelector('#df-b45a9d56-74b0-407d-9f6b-ffa81394228f button.colab-df-convert');\n",
              "        buttonEl.style.display =\n",
              "          google.colab.kernel.accessAllowed ? 'block' : 'none';\n",
              "\n",
              "        async function convertToInteractive(key) {\n",
              "          const element = document.querySelector('#df-b45a9d56-74b0-407d-9f6b-ffa81394228f');\n",
              "          const dataTable =\n",
              "            await google.colab.kernel.invokeFunction('convertToInteractive',\n",
              "                                                     [key], {});\n",
              "          if (!dataTable) return;\n",
              "\n",
              "          const docLinkHtml = 'Like what you see? Visit the ' +\n",
              "            '<a target=\"_blank\" href=https://colab.research.google.com/notebooks/data_table.ipynb>data table notebook</a>'\n",
              "            + ' to learn more about interactive tables.';\n",
              "          element.innerHTML = '';\n",
              "          dataTable['output_type'] = 'display_data';\n",
              "          await google.colab.output.renderOutput(dataTable, element);\n",
              "          const docLink = document.createElement('div');\n",
              "          docLink.innerHTML = docLinkHtml;\n",
              "          element.appendChild(docLink);\n",
              "        }\n",
              "      </script>\n",
              "    </div>\n",
              "  </div>\n",
              "  "
            ]
          },
          "metadata": {},
          "execution_count": 9
        }
      ]
    },
    {
      "cell_type": "code",
      "execution_count": null,
      "metadata": {
        "id": "ijRWKJkNW8Si",
        "outputId": "04ead4f4-f7e0-4d14-a68a-4acc0b63827e",
        "colab": {
          "base_uri": "https://localhost:8080/"
        }
      },
      "outputs": [
        {
          "output_type": "execute_result",
          "data": {
            "text/plain": [
              "                                             Content  Final\n",
              "0  2 quả thua lãng xẹt ả rập trc khi vào quả đầu ...      0\n",
              "1  nhìn kiểu chuyền bóng cứ ngơ ngơ, ko có liên l...      0\n",
              "2                đá thì đá nhanh đi câu làm cc j nữa      1\n",
              "3                                          tim ny kk      0\n",
              "4                                                Ncc      1"
            ],
            "text/html": [
              "\n",
              "  <div id=\"df-9cb76655-f053-4513-8030-ef242ebdb607\">\n",
              "    <div class=\"colab-df-container\">\n",
              "      <div>\n",
              "<style scoped>\n",
              "    .dataframe tbody tr th:only-of-type {\n",
              "        vertical-align: middle;\n",
              "    }\n",
              "\n",
              "    .dataframe tbody tr th {\n",
              "        vertical-align: top;\n",
              "    }\n",
              "\n",
              "    .dataframe thead th {\n",
              "        text-align: right;\n",
              "    }\n",
              "</style>\n",
              "<table border=\"1\" class=\"dataframe\">\n",
              "  <thead>\n",
              "    <tr style=\"text-align: right;\">\n",
              "      <th></th>\n",
              "      <th>Content</th>\n",
              "      <th>Final</th>\n",
              "    </tr>\n",
              "  </thead>\n",
              "  <tbody>\n",
              "    <tr>\n",
              "      <th>0</th>\n",
              "      <td>2 quả thua lãng xẹt ả rập trc khi vào quả đầu ...</td>\n",
              "      <td>0</td>\n",
              "    </tr>\n",
              "    <tr>\n",
              "      <th>1</th>\n",
              "      <td>nhìn kiểu chuyền bóng cứ ngơ ngơ, ko có liên l...</td>\n",
              "      <td>0</td>\n",
              "    </tr>\n",
              "    <tr>\n",
              "      <th>2</th>\n",
              "      <td>đá thì đá nhanh đi câu làm cc j nữa</td>\n",
              "      <td>1</td>\n",
              "    </tr>\n",
              "    <tr>\n",
              "      <th>3</th>\n",
              "      <td>tim ny kk</td>\n",
              "      <td>0</td>\n",
              "    </tr>\n",
              "    <tr>\n",
              "      <th>4</th>\n",
              "      <td>Ncc</td>\n",
              "      <td>1</td>\n",
              "    </tr>\n",
              "  </tbody>\n",
              "</table>\n",
              "</div>\n",
              "      <button class=\"colab-df-convert\" onclick=\"convertToInteractive('df-9cb76655-f053-4513-8030-ef242ebdb607')\"\n",
              "              title=\"Convert this dataframe to an interactive table.\"\n",
              "              style=\"display:none;\">\n",
              "        \n",
              "  <svg xmlns=\"http://www.w3.org/2000/svg\" height=\"24px\"viewBox=\"0 0 24 24\"\n",
              "       width=\"24px\">\n",
              "    <path d=\"M0 0h24v24H0V0z\" fill=\"none\"/>\n",
              "    <path d=\"M18.56 5.44l.94 2.06.94-2.06 2.06-.94-2.06-.94-.94-2.06-.94 2.06-2.06.94zm-11 1L8.5 8.5l.94-2.06 2.06-.94-2.06-.94L8.5 2.5l-.94 2.06-2.06.94zm10 10l.94 2.06.94-2.06 2.06-.94-2.06-.94-.94-2.06-.94 2.06-2.06.94z\"/><path d=\"M17.41 7.96l-1.37-1.37c-.4-.4-.92-.59-1.43-.59-.52 0-1.04.2-1.43.59L10.3 9.45l-7.72 7.72c-.78.78-.78 2.05 0 2.83L4 21.41c.39.39.9.59 1.41.59.51 0 1.02-.2 1.41-.59l7.78-7.78 2.81-2.81c.8-.78.8-2.07 0-2.86zM5.41 20L4 18.59l7.72-7.72 1.47 1.35L5.41 20z\"/>\n",
              "  </svg>\n",
              "      </button>\n",
              "      \n",
              "  <style>\n",
              "    .colab-df-container {\n",
              "      display:flex;\n",
              "      flex-wrap:wrap;\n",
              "      gap: 12px;\n",
              "    }\n",
              "\n",
              "    .colab-df-convert {\n",
              "      background-color: #E8F0FE;\n",
              "      border: none;\n",
              "      border-radius: 50%;\n",
              "      cursor: pointer;\n",
              "      display: none;\n",
              "      fill: #1967D2;\n",
              "      height: 32px;\n",
              "      padding: 0 0 0 0;\n",
              "      width: 32px;\n",
              "    }\n",
              "\n",
              "    .colab-df-convert:hover {\n",
              "      background-color: #E2EBFA;\n",
              "      box-shadow: 0px 1px 2px rgba(60, 64, 67, 0.3), 0px 1px 3px 1px rgba(60, 64, 67, 0.15);\n",
              "      fill: #174EA6;\n",
              "    }\n",
              "\n",
              "    [theme=dark] .colab-df-convert {\n",
              "      background-color: #3B4455;\n",
              "      fill: #D2E3FC;\n",
              "    }\n",
              "\n",
              "    [theme=dark] .colab-df-convert:hover {\n",
              "      background-color: #434B5C;\n",
              "      box-shadow: 0px 1px 3px 1px rgba(0, 0, 0, 0.15);\n",
              "      filter: drop-shadow(0px 1px 2px rgba(0, 0, 0, 0.3));\n",
              "      fill: #FFFFFF;\n",
              "    }\n",
              "  </style>\n",
              "\n",
              "      <script>\n",
              "        const buttonEl =\n",
              "          document.querySelector('#df-9cb76655-f053-4513-8030-ef242ebdb607 button.colab-df-convert');\n",
              "        buttonEl.style.display =\n",
              "          google.colab.kernel.accessAllowed ? 'block' : 'none';\n",
              "\n",
              "        async function convertToInteractive(key) {\n",
              "          const element = document.querySelector('#df-9cb76655-f053-4513-8030-ef242ebdb607');\n",
              "          const dataTable =\n",
              "            await google.colab.kernel.invokeFunction('convertToInteractive',\n",
              "                                                     [key], {});\n",
              "          if (!dataTable) return;\n",
              "\n",
              "          const docLinkHtml = 'Like what you see? Visit the ' +\n",
              "            '<a target=\"_blank\" href=https://colab.research.google.com/notebooks/data_table.ipynb>data table notebook</a>'\n",
              "            + ' to learn more about interactive tables.';\n",
              "          element.innerHTML = '';\n",
              "          dataTable['output_type'] = 'display_data';\n",
              "          await google.colab.output.renderOutput(dataTable, element);\n",
              "          const docLink = document.createElement('div');\n",
              "          docLink.innerHTML = docLinkHtml;\n",
              "          element.appendChild(docLink);\n",
              "        }\n",
              "      </script>\n",
              "    </div>\n",
              "  </div>\n",
              "  "
            ]
          },
          "metadata": {},
          "execution_count": 10
        }
      ],
      "source": [
        "dataList2.head()\n"
      ]
    },
    {
      "cell_type": "code",
      "execution_count": null,
      "metadata": {
        "id": "odj9Hi0kW8Si",
        "colab": {
          "base_uri": "https://localhost:8080/"
        },
        "outputId": "5005e902-7dcf-4fb6-c531-f4f877af7a11"
      },
      "outputs": [
        {
          "output_type": "execute_result",
          "data": {
            "text/plain": [
              "                                             Content  Final\n",
              "0            tao dái 2-1 cho mấy thằng cá độ thua đi      1\n",
              "1                 sút thế kia đéo ăn thẻ thì ăn gì ?      1\n",
              "2  quá ghê gớmmmmmmmmmmmmmmmmmmmmmmmmmmmmmmmmmmmm...      0\n",
              "3                                 Xin hùng dũng 30k       0\n",
              "4                         Tiến Linh ko làm đc gì hết      0"
            ],
            "text/html": [
              "\n",
              "  <div id=\"df-0efae180-5d46-4f3c-9270-efde7ed35393\">\n",
              "    <div class=\"colab-df-container\">\n",
              "      <div>\n",
              "<style scoped>\n",
              "    .dataframe tbody tr th:only-of-type {\n",
              "        vertical-align: middle;\n",
              "    }\n",
              "\n",
              "    .dataframe tbody tr th {\n",
              "        vertical-align: top;\n",
              "    }\n",
              "\n",
              "    .dataframe thead th {\n",
              "        text-align: right;\n",
              "    }\n",
              "</style>\n",
              "<table border=\"1\" class=\"dataframe\">\n",
              "  <thead>\n",
              "    <tr style=\"text-align: right;\">\n",
              "      <th></th>\n",
              "      <th>Content</th>\n",
              "      <th>Final</th>\n",
              "    </tr>\n",
              "  </thead>\n",
              "  <tbody>\n",
              "    <tr>\n",
              "      <th>0</th>\n",
              "      <td>tao dái 2-1 cho mấy thằng cá độ thua đi</td>\n",
              "      <td>1</td>\n",
              "    </tr>\n",
              "    <tr>\n",
              "      <th>1</th>\n",
              "      <td>sút thế kia đéo ăn thẻ thì ăn gì ?</td>\n",
              "      <td>1</td>\n",
              "    </tr>\n",
              "    <tr>\n",
              "      <th>2</th>\n",
              "      <td>quá ghê gớmmmmmmmmmmmmmmmmmmmmmmmmmmmmmmmmmmmm...</td>\n",
              "      <td>0</td>\n",
              "    </tr>\n",
              "    <tr>\n",
              "      <th>3</th>\n",
              "      <td>Xin hùng dũng 30k</td>\n",
              "      <td>0</td>\n",
              "    </tr>\n",
              "    <tr>\n",
              "      <th>4</th>\n",
              "      <td>Tiến Linh ko làm đc gì hết</td>\n",
              "      <td>0</td>\n",
              "    </tr>\n",
              "  </tbody>\n",
              "</table>\n",
              "</div>\n",
              "      <button class=\"colab-df-convert\" onclick=\"convertToInteractive('df-0efae180-5d46-4f3c-9270-efde7ed35393')\"\n",
              "              title=\"Convert this dataframe to an interactive table.\"\n",
              "              style=\"display:none;\">\n",
              "        \n",
              "  <svg xmlns=\"http://www.w3.org/2000/svg\" height=\"24px\"viewBox=\"0 0 24 24\"\n",
              "       width=\"24px\">\n",
              "    <path d=\"M0 0h24v24H0V0z\" fill=\"none\"/>\n",
              "    <path d=\"M18.56 5.44l.94 2.06.94-2.06 2.06-.94-2.06-.94-.94-2.06-.94 2.06-2.06.94zm-11 1L8.5 8.5l.94-2.06 2.06-.94-2.06-.94L8.5 2.5l-.94 2.06-2.06.94zm10 10l.94 2.06.94-2.06 2.06-.94-2.06-.94-.94-2.06-.94 2.06-2.06.94z\"/><path d=\"M17.41 7.96l-1.37-1.37c-.4-.4-.92-.59-1.43-.59-.52 0-1.04.2-1.43.59L10.3 9.45l-7.72 7.72c-.78.78-.78 2.05 0 2.83L4 21.41c.39.39.9.59 1.41.59.51 0 1.02-.2 1.41-.59l7.78-7.78 2.81-2.81c.8-.78.8-2.07 0-2.86zM5.41 20L4 18.59l7.72-7.72 1.47 1.35L5.41 20z\"/>\n",
              "  </svg>\n",
              "      </button>\n",
              "      \n",
              "  <style>\n",
              "    .colab-df-container {\n",
              "      display:flex;\n",
              "      flex-wrap:wrap;\n",
              "      gap: 12px;\n",
              "    }\n",
              "\n",
              "    .colab-df-convert {\n",
              "      background-color: #E8F0FE;\n",
              "      border: none;\n",
              "      border-radius: 50%;\n",
              "      cursor: pointer;\n",
              "      display: none;\n",
              "      fill: #1967D2;\n",
              "      height: 32px;\n",
              "      padding: 0 0 0 0;\n",
              "      width: 32px;\n",
              "    }\n",
              "\n",
              "    .colab-df-convert:hover {\n",
              "      background-color: #E2EBFA;\n",
              "      box-shadow: 0px 1px 2px rgba(60, 64, 67, 0.3), 0px 1px 3px 1px rgba(60, 64, 67, 0.15);\n",
              "      fill: #174EA6;\n",
              "    }\n",
              "\n",
              "    [theme=dark] .colab-df-convert {\n",
              "      background-color: #3B4455;\n",
              "      fill: #D2E3FC;\n",
              "    }\n",
              "\n",
              "    [theme=dark] .colab-df-convert:hover {\n",
              "      background-color: #434B5C;\n",
              "      box-shadow: 0px 1px 3px 1px rgba(0, 0, 0, 0.15);\n",
              "      filter: drop-shadow(0px 1px 2px rgba(0, 0, 0, 0.3));\n",
              "      fill: #FFFFFF;\n",
              "    }\n",
              "  </style>\n",
              "\n",
              "      <script>\n",
              "        const buttonEl =\n",
              "          document.querySelector('#df-0efae180-5d46-4f3c-9270-efde7ed35393 button.colab-df-convert');\n",
              "        buttonEl.style.display =\n",
              "          google.colab.kernel.accessAllowed ? 'block' : 'none';\n",
              "\n",
              "        async function convertToInteractive(key) {\n",
              "          const element = document.querySelector('#df-0efae180-5d46-4f3c-9270-efde7ed35393');\n",
              "          const dataTable =\n",
              "            await google.colab.kernel.invokeFunction('convertToInteractive',\n",
              "                                                     [key], {});\n",
              "          if (!dataTable) return;\n",
              "\n",
              "          const docLinkHtml = 'Like what you see? Visit the ' +\n",
              "            '<a target=\"_blank\" href=https://colab.research.google.com/notebooks/data_table.ipynb>data table notebook</a>'\n",
              "            + ' to learn more about interactive tables.';\n",
              "          element.innerHTML = '';\n",
              "          dataTable['output_type'] = 'display_data';\n",
              "          await google.colab.output.renderOutput(dataTable, element);\n",
              "          const docLink = document.createElement('div');\n",
              "          docLink.innerHTML = docLinkHtml;\n",
              "          element.appendChild(docLink);\n",
              "        }\n",
              "      </script>\n",
              "    </div>\n",
              "  </div>\n",
              "  "
            ]
          },
          "metadata": {},
          "execution_count": 11
        }
      ],
      "source": [
        "dataList3.head()"
      ]
    },
    {
      "cell_type": "code",
      "execution_count": null,
      "metadata": {
        "id": "UgLvqLuH2Wrk",
        "colab": {
          "base_uri": "https://localhost:8080/"
        },
        "outputId": "dd10adf3-7586-4f38-d7fd-784de5852460"
      },
      "outputs": [
        {
          "output_type": "stream",
          "name": "stderr",
          "text": [
            "/usr/local/lib/python3.7/dist-packages/sklearn/utils/deprecation.py:87: FutureWarning: Function get_feature_names is deprecated; get_feature_names is deprecated in 1.0 and will be removed in 1.2. Please use get_feature_names_out instead.\n",
            "  warnings.warn(msg, category=FutureWarning)\n"
          ]
        },
        {
          "output_type": "stream",
          "name": "stdout",
          "text": [
            "['00', '0000000', '0_3', '123345689123456789123456789123456789123456789123456789123456789123456789', '1_', '1_0', '2_0', '2_1', '2p', '44', '5p', '_0', '_2', '_còn', '_dit_me', '_ko', '_loai', '_làm', '_mấy', '_não', '_nói', '_nổ', '_phạt', '_thua', '_thủ_môn', '_đội', 'acc', 'accc', 'ae', 'ai', 'akari', 'al', 'am', 'an', 'anh', 'anti', 'ao', 'araki', 'arap', 'av', 'bai', 'balo', 'ban', 'bang', 'banh', 'bao_nhiêu', 'bay', 'be', 'bi', 'biet', 'binh', 'biên_cương', 'biến', 'biết', 'blv', 'bome', 'bon', 'bt', 'btg', 'buồi', 'buồn_ngủ', 'buổi', 'bài', 'bàn', 'bàn_thờ', 'bán', 'bán_độ', 'bây', 'bé', 'béo', 'béomẹ', 'bên', 'bình_luận', 'bình_thường', 'bìu', 'bí_thư', 'bò', 'bóng', 'bóng_đá', 'bùi', 'bú', 'bướm_đêm', 'bười', 'bạn', 'bảng', 'bảo', 'bất_đắc_dĩ', 'bẩn', 'bắt', 'bắt_lỗi', 'bằng', 'bẻ', 'bị', 'bịp', 'bọn', 'bỏ_mẹ', 'bố', 'bốc', 'bốc_phét', 'bổn', 'bớt', 'bực', 'ca', 'ca1ig', 'cac', 'cai', 'cal', 'campuchia', 'canh', 'cao', 'cat', 'cau', 'cayyyyyy', 'cc', 'ccc', 'cccccccccccccccccccccccccccccccccccccccccccccccccccccccccccccccccccccccccccccccccccccccccccccccccccccccccccccccccccccccccccccccccccccccccccccccccccccccccccccccccccccccccccccccccccccccccccccccccccccccc', 'cdmm', 'cha', 'chac', 'cham', 'chan', 'chat', 'chay', 'chet', 'chewta', 'chi', 'chien', 'chim', 'china', 'chiên', 'chiến', 'chiến_thuật', 'chiến_thắng', 'chiến_đấu', 'cho', 'choa', 'choi', 'chui', 'chuong', 'chuyền', 'chuyện', 'chuẩn', 'chuẩn_bị', 'chym', 'chào', 'chán', 'cháo', 'cháu', 'chân', 'chân_như', 'châu_á', 'châuu', 'chèn', 'chém', 'chê', 'chí_minh', 'chính', 'chó', 'chú', 'chúc', 'chúng', 'chúng_mày', 'chúng_nó', 'chúng_ta', 'chăn', 'chơi', 'chưa', 'chạm', 'chạy', 'chả', 'chấm', 'chấp', 'chấp_nhận', 'chất', 'chất_lượng', 'chậm', 'chắc', 'chết', 'chỉ', 'chỉa', 'chỉnh', 'chịu', 'chờ', 'chủ', 'chứ', 'chửi', 'cl', 'cm', 'cmmmmm', 'cmn', 'cmnr', 'cmt', 'cn', 'cnm', 'co', 'coi', 'comfort', 'con', 'con_mẹ', 'cu_ban_lui_lam', 'cuc', 'cuccc', 'cug', 'cut', 'càng', 'cào', 'các', 'cái', 'cánh', 'câm', 'câu', 'cãi', 'còi', 'còn', 'có', 'công', 'công_bằng', 'cùng', 'cúm_dò', 'cút', 'cút_đi', 'căng', 'cđv', 'cũng', 'cơ', 'cười', 'cả', 'cầm', 'cần', 'cầu_may', 'cầu_thủ', 'cặc', 'cố', 'cộng', 'cớ', 'cờ', 'của', 'củi', 'cứ', 'cứt', 'cứu', 'da', 'dao', 'dau', 'day', 'dc', 'dcmcm', 'dcmmmm', 'dcu', 'dell', 'deo', 'di', 'di_e', 'dit', 'dkm', 'dm', 'dmmm', 'dmthanglontrongtaidmmtrongtai', 'do', 'dog', 'du', 'dung', 'dái', 'dân_trí', 'dù', 'dùm', 'dùng', 'dúnau', 'dũng', 'dơ', 'dơ_bẩn', 'dư', 'dạ', 'dẫm', 'dẫn', 'dậy', 'dẽ', 'dịch', 'dịt', 'dở', 'dừng', 'dự', 'em', 'fair', 'fan', 'fpt', 'game', 'gay', 'ghee', 'ghi_bàn', 'ghéc', 'ghê', 'gi', 'gio', 'gium', 'giành', 'giàu', 'giò', 'giòn', 'giải', 'giật', 'giết', 'giỏi', 'giống', 'giờ', 'giữ', 'go', 'gu', 'gà', 'gánh', 'gáy', 'gãy', 'gãy_chân', 'gì', 'gấu', 'gặp', 'gọi', 'gỗ', 'h2', 'ha', 'hack', 'haha', 'haizzzzzzzzzz', 'hang', 'hau', 'hay', 'hay_văn_toàn', 'hazz', 'hehe', 'het', 'hi_vọng', 'hihu', 'hinh', 'hiểu', 'hk', 'hlv', 'hoan', 'hok', 'hom', 'hon', 'hoà', 'hoàng', 'hoàng_anh', 'hq_ko_ae', 'htl', 'huan', 'huhu', 'hung', 'huy_chương', 'huề', 'hàn', 'hàn_quốc', 'hát', 'hãm', 'hãy', 'hè', 'hên', 'hìu', 'hòa', 'hó', 'hôi', 'hôm_nay', 'hùa', 'hơi', 'hơi_thiếu', 'hơn', 'hơntiến_linh', 'hạch', 'hả', 'hải', 'hảunx', 'hậu', 'hậu_vệ', 'hẳn', 'hết', 'hết_mình', 'hề', 'hễ', 'họ', 'học', 'hỏi', 'hỏng', 'hối_lộ', 'hồ', 'hồi', 'iii', 'ik', 'im_mồm', 'in4', 'indo', 'j_về', 'japan', 'jjuhukhhyjkh99bl99', 'kaka', 'ke', 'kg', 'khac', 'khi', 'khong', 'khung', 'khá', 'khác', 'khây', 'khép', 'khó', 'khóc', 'khôn', 'không', 'khỏe', 'khỏi', 'khốn_nạn', 'kia', 'kieu', 'kinh', 'kinh_nghiệm', 'kiếm', 'kiều', 'kiểu', 'kkhi', 'kkkk', 'kmn', 'ko', 'kon', 'kunn', 'kém', 'kêu', 'kì', 'kì_tích', 'kìa', 'kín', 'kẹc', 'kẹo', 'kể', 'la', 'lag', 'lai', 'lam', 'lan', 'len', 'lim', 'linh', 'lit', 'liên_tục', 'liếm', 'liền', 'lmun', 'ln', 'loi', 'loll', 'lolll', 'lollll', 'lon', 'love', 'loại', 'lun', 'lung_tung', 'luon', 'luyen', 'luyện', 'luôn', 'lz', 'là', 'làm', 'làm_gì', 'làng', 'lào', 'láo', 'lâu', 'lão', 'lé', 'lê', 'lên', 'lò', 'lòi', 'lô', 'lùa', 'lùn', 'lùng', 'lúc', 'lý_do', 'lũ', 'lương', 'lạ', 'lại', 'lạy', 'lấy', 'lần', 'lắm', 'lặp', 'lễ', 'lịch_sử', 'lọ', 'lồm', 'lồmjapan', 'lồn', 'lồnc', 'lỗi', 'lộ', 'lộn', 'lỡ', 'lợn', 'lứa', 'lứng', 'lửn', 'm50', 'ma', 'mac', 'mai', 'malai', 'mang', 'manh', 'mat', 'may', 'may_mắn', 'mcmmm', 'me', 'messi', 'mik', 'minh', 'minhf', 'miết', 'mjnh', 'mmng', 'mom', 'moá', 'mpapé', 'mua', 'muu', 'muốn', 'my1', 'mya', 'myama', 'myanma', 'myanmar', 'mà', 'mà_còn', 'mày', 'má', 'mát', 'máy', 'mã', 'mãi', 'mèo', 'mé', 'méo', 'mình', 'mía', 'mõm', 'mù', 'mùi', 'mạng', 'mạnh', 'mất', 'mất_dạy', 'mấu', 'mấy', 'mầy', 'mặt', 'mẹ', 'mệt', 'mọi', 'mồm', 'một', 'mới', 'mỹ', 'n0n9mmn9n0nnoo9n', 'nam', 'nay', 'naymar', 'nc', 'ncc', 'ng', 'ngang', 'ngay', 'nghe', 'nghiệp_dư', 'nghèo', 'nghĩ', 'nghề', 'nghỉ', 'ngo', 'ngoi', 'ngon', 'ngoài', 'ngta', 'ngu', 'nguuuu', 'nguy_hiểm', 'ngày_càng', 'ngán', 'ngáo', 'ngũ', 'ngơ', 'người', 'người_việt_nam', 'ngồi', 'ngụy', 'ngủ', 'ngửi', 'nha', 'nhanh', 'nhau', 'nhe', 'nhieu', 'nhiều', 'nhm', 'nho', 'nhu', 'nhung', 'nhà', 'nhà_báo', 'nhào', 'nhái', 'nhâm', 'nhân', 'nhé', 'nhìn', 'nhóc_con', 'như', 'nhưng', 'nhưngo', 'nhạt', 'nhập', 'nhật', 'nhằm', 'nhẹ', 'nhẹ_nhàng', 'nhề', 'nhỉ', 'nhỏ', 'nhớ', 'nhờ', 'nhục', 'nhục_nhã', 'nick', 'nick_fb', 'ninh_bình', 'nkoaaa', 'nn', 'nnguuu', 'no', 'noi', 'non', 'ntn', 'nuoc', 'nào', 'này', 'nâng', 'não', 'nãy', 'nè', 'nên', 'ních', 'nó', 'nói', 'nói_chung', 'nói_chuyện', 'nói_phét', 'nósaudi', 'nước', 'nước_nhà', 'nản', 'nấu', 'nắc', 'nếu', 'nồi', 'nổ', 'nổi', 'nội', 'nới', 'nữa', 'o0', 'o99', 'oc', 'ocailonnay', 'oh', 'oi', 'ok', 'oonbg', 'ooo', 'p0oo', 'pack', 'park', 'pay', 'pen', 'pha', 'phk', 'phong', 'phá', 'phát', 'phát_triển', 'phím', 'phòi', 'phút', 'phương', 'phước', 'phượng', 'phạm', 'phạp', 'phạt', 'phải', 'phắn_chê_cái', 'phế', 'phế_vật', 'phối_hợp', 'phốt', 'pin', 'play', 'pumk', 'pồn', 'qa', 'qua', 'quan_trọng', 'quang', 'quá', 'què', 'quả', 'quế_ngọc_hải', 'quỳ', 'ra', 'rang', 'really', 'red', 'ri', 'riếc', 'roi', 'roiif', 'rr', 'rài', 'rác', 'rõ', 'rút', 'rạp', 'rất', 'rập', 'rồi', 'rồiii', 'sai', 'sai_sót', 'sao', 'sau', 'saudi', 'seo', 'sg', 'siuuuuuuuuuuuuuuuuuuuuuuuuuuu', 'som', 'sp', 'spam', 'su', 'sv', 'sít', 'súc_sinh', 'súc_vật', 'sút', 'sạo', 'sấp_mặt', 'sắp', 'sẽ', 'sịt', 'số', 'sợ', 'sức', 'sứt', 'sử', 'ta', 'tai', 'taif', 'taii', 'tao', 'tat', 'tay', 'te_tua', 'team', 'teo', 'tg', 'tgian', 'th', 'thag', 'thai', 'tham', 'thang', 'that', 'thay', 'the', 'theo', 'thi', 'thiet', 'thik', 'thiên_vị', 'thng', 'thoát', 'thoại', 'thu', 'thua', 'thuaaaaaaaaaaaaaa', 'thái', 'thèm', 'thêm', 'thì', 'thía', 'thích', 'thôi', 'thông_cảm', 'thưa', 'thường', 'thảo', 'thấp', 'thấy', 'thầy', 'thật', 'thắng', 'thắng_thế', 'thằng', 'thẳng', 'thẻ', 'thẻ_vàng', 'thẻ_đỏ', 'thế', 'thế_nào', 'thế_trận', 'thề', 'thể_lực', 'thổi', 'thời_gian', 'thủ_môn', 'thừa', 'thực_sự', 'ti', 'tien', 'tiet', 'timo', 'timorr', 'tin', 'tinh_thần', 'tiến', 'tiến_linh', 'tiếp', 'tiền', 'tiền_đạo', 'tiểu_nhân', 'tj', 'tk', 'tn', 'to', 'toan', 'toang', 'toàn', 'toán', 'tr5', 'tran', 'tran_tuan', 'trao', 'treo', 'triệt_hạ', 'trong', 'trong5', 'truc', 'trung_đông', 'truoc', 'trái', 'trâu', 'tròn', 'tró', 'trúng', 'trả_thù', 'trất', 'trần', 'trận', 'trẻ', 'trọc', 'trọn', 'trọng', 'trọng_tài', 'trời', 'trở_lại', 'trứng', 'tt', 'tthằng', 'tui', 'tukw', 'tung_hô', 'tuấn', 'tuổi', 'tx', 'tài', 'tài_ngáo', 'tào_lao', 'tát', 'tân_phú', 'té', 'tên', 'tí', 'tòi', 'tóm', 'tôi', 'tù', 'tý', 'tưk', 'tươi', 'tương_lai', 'tạ', 'tạo', 'tạt', 'tảy', 'tập', 'tế', 'tệ', 'tối', 'tốt', 'tồi', 'tồi_tệ', 'tổ', 'tổ_chức', 'tới', 'tụi', 'tủi', 'tứ_kết', 'tức', 'từ', 'từng', 'tự', 'u23', 'uk', 'umbala', 'uyon', 'va', 'vai', 'vailon', 'van', 'vao', 'vapf', 'var', 'vay', 'vc', 'vccccc', 'vcđ', 've', 'video', 'viet', 'vietnam', 'việt', 'việt_nam', 'việt_nam_vô_địch', 'việt_vị', 'vkl', 'vlz', 'vn', 'vn10', 'vnch', 'vnhay', 'vnhay_lam', 'vo', 'vong', 'vs', 'vu', 'vui', 'vuii', 'và', 'vàng', 'vào', 'vàoooooooo', 'vàoooooooooooo', 'vàoooooooooooooo', 'vác', 'vãi', 'vãii', 'vãy', 'vênh', 'vênh_vênh', 'vì', 'vòng', 'vô', 'vô_vị', 'vô_địch', 'vùi_dập', 'vúung', 'văn', 'văn_hóa_khi', 'văn_đô', 'vĩ', 'vương_quốc', 'vả', 'vầy', 'vẫn', 'vậy', 'vậy_nên', 'về', 'vệ', 'vệt', 'với', 'vợ', 'vứt', 'vừa', 'wa', 'win', 'wtf', 'xa', 'xanh', 'xem', 'xin', 'xinh', 'xong', 'xoạc', 'xu', 'xuân', 'xàm', 'xách', 'xíu', 'xù', 'xăng', 'xịt', 'xứng_đáng', 'xử', 'yeah', 'yeh', 'ynsun', 'yusuke', 'yêu_cầu', 'yến', 'yếu', 'yếu_kém', 'zalo', 'zzzzzzzzzzzzzzzzzz', 'zô', 'âm_phủ', 'âo', 'éo', 'ép', 'ít', 'òn', 'óc', 'ôg', 'ông', 'úc', 'úunir', 'ăn', 'ăn_bẩn', 'ăn_hại', 'ăn_học', 'ăn_hối_lộ', 'ăn_tiền', 'ăn_vạ', 'đa', 'đang', 'đau_mắt', 'đb', 'đc', 'đcm', 'đen', 'đeo', 'đi', 'đi_lại', 'đi_đứng', 'điiiiiiiiiiiiiiiiiiiiiiiiiiiiiiiiiiiiiiiiiiiiiiiiiiiiiiiiiiiiiiiiiiiiiiiiiiiiiiiiiiiiiiiiiiiiiiiiiiiiiiiiiiiiiiiiiiiiiiiiiiiiiiiiiiiiiiiiiiiiiiiiiiiiiiiiiiiiiiiiiiiiiiiiiiiiiiiiiiiiiiiiii', 'đinh', 'đit', 'điền_kinh', 'điểm', 'đmd', 'đo', 'đoàn_kết', 'đoán', 'đt', 'đuối', 'đuổi', 'đá', 'đá_gà', 'đá_gót', 'đách', 'đánh', 'đápro', 'đâu', 'đây', 'đã', 'đéo', 'đét', 'đê', 'đòi', 'đó', 'đóng_phim', 'đô', 'đôi', 'đông_nam_á', 'đù', 'đúng', 'đăng', 'đưa', 'đưacs', 'được', 'đại', 'đạn', 'đạp', 'đấm', 'đấu', 'đấy', 'đần', 'đầu', 'đập', 'đẳng_cấp', 'đẹp', 'đến', 'đều', 'để', 'đểu', 'đỉnh', 'địch', 'địt_mẹ', 'đọc', 'đỏ', 'đối_thủ', 'đốn', 'đốt', 'đồ', 'đồng', 'đồng_đội', 'đổ', 'đổ_lỗi', 'đổ_thừa', 'độ', 'đội', 'đội_tuyển', 'động_vật_lý', 'đỡ', 'đợi', 'đứa', 'đức', 'đừng', 'ơi', 'ơiiiiiiiiiiiiiiiiiiiii', 'ưng', 'ưu_tú', 'ải', 'ảo_mộng', 'ấy', 'ẩu', 'ập', 'ỉa', 'ống', 'ủauni', 'ứa_gan', 'ức_chế', 'ứt', '越南加油']\n",
            "\n",
            "\n",
            "\n"
          ]
        },
        {
          "output_type": "stream",
          "name": "stderr",
          "text": [
            "/usr/local/lib/python3.7/dist-packages/sklearn/utils/deprecation.py:87: FutureWarning: Function get_feature_names is deprecated; get_feature_names is deprecated in 1.0 and will be removed in 1.2. Please use get_feature_names_out instead.\n",
            "  warnings.warn(msg, category=FutureWarning)\n"
          ]
        },
        {
          "output_type": "stream",
          "name": "stdout",
          "text": [
            "['00', '0000001', '000_', '0_', '0_dược', '1000', '111111121', '1_0', '1ksa', '3223', '46', '4g', '_000', '_1', '_chả', '_dit_me', '_dlm', '_dễ', '_giỏi', '_kkkk', '_mấy', '_nên', '_san', '_vn', '_ép', '_đm', '_đá', '_đừng', 'acc', 'adu', 'ae', 'aesw', 'ahihi', 'ai', 'an', 'an_toàn', 'anh', 'anh_em', 'ao', 'arap2', 'arapxi', 'ay', 'ay_bi_sao', 'ba', 'ba_que', 'bai', 'ban', 'banh', 'bao_nhiêu', 'bat', 'bay', 'bexuanmailonto', 'bi', 'binh', 'bip', 'biết', 'biển', 'bl', 'black', 'blv', 'bon', 'bong', 'brazil', 'bucu', 'buoi', 'buồi', 'buồn', 'buồn_cười', 'bà', 'bà_con', 'bài', 'bàn', 'bàn_thờ', 'bàng', 'bán', 'bán_kết', 'bán_nước', 'bán_độ', 'bão', 'bên', 'bình_luận', 'bình_luận_viên', 'bình_định', 'bìuuuuuuuuuuuuuuuuuuuuuuuuuuu', 'bóng', 'bóng_vàng', 'bóng_đá', 'bùi', 'bú', 'băt', 'bơi', 'bướm', 'bạn', 'bản', 'bản_mặt', 'bảo', 'bảo_thắng', 'bảo_thủ', 'bất_lực', 'bẩn', 'bẩn_thỉu', 'bận', 'bật', 'bắn', 'bắt', 'bắt_lỗi_việt_nam', 'bắt_ép', 'bằng', 'bị', 'bọn', 'bỏ', 'bố', 'bổn', 'bộ', 'bớt', 'bửa', 'bữa', 'cac', 'cai', 'cai_quan_que', 'cali_con', 'cam', 'campuchia', 'cang', 'card', 'cas', 'cau', 'cay', 'cbi', 'cc', 'cdmn', 'cdv', 'ch0', 'cha', 'chan', 'chans', 'che', 'chem', 'chet', 'chi', 'chim', 'chim_ưng', 'chiên', 'chiếc', 'chiến_binh', 'chiến_sự', 'chiến_thuật', 'chiếu', 'cho', 'cho_bõ', 'chue', 'chuyen', 'chuyền', 'chuẩn', 'chào', 'chày', 'chán', 'chán_vãi', 'cháu', 'cháy', 'chân', 'chân_gỗ', 'châu_á', 'chém', 'chê_bai', 'chê_tiến', 'chê_tiến_linh', 'chính', 'chó', 'chùa', 'chúc_mừng', 'chúng_mày', 'chúng_nó', 'chúng_ta', 'chúng_tôi', 'chút', 'chăm', 'chơi', 'chưa', 'chạm', 'chạy', 'chả', 'chấp', 'chấp_nhận', 'chất', 'chắc', 'chắt', 'chẳng', 'chết', 'chỉ', 'chịu', 'chọc', 'chốt', 'chờ', 'chục', 'chứ', 'chửi', 'cl', 'clmm', 'clmmm', 'cmcm', 'cmno', 'cmr', 'cn', 'co', 'coi', 'con', 'con_gái', 'con_mẹ', 'concac', 'cong', 'cua', 'cuc', 'cuối', 'cuối_cùng', 'cx', 'cào', 'cá_độ', 'các', 'cái', 'cánh', 'câm', 'câm_mồm', 'câu', 'còi', 'còn', 'còng', 'có', 'có_khi', 'cóng', 'cô', 'công', 'cùi_bắp', 'cùng', 'cút', 'cút_đi', 'căng', 'căng_thẳng', 'cđv', 'cũng', 'cơ', 'cơ_hội', 'cưa', 'cương', 'cười', 'cạc', 'cạnh_tranh', 'cả', 'cảm_ơn', 'cấp', 'cầm', 'cầu', 'cầu_thủ', 'cặc', 'cẹc', 'cọiii', 'cỏ', 'cố', 'cố_gắng', 'cồi', 'cổ_vũ', 'cụ', 'của', 'cứ', 'cứk', 'cứt', 'cứu', 'cửa', 'cực', 'da', 'dau', 'daỵqua', 'dc', 'dcmm', 'dcmuoc', 'dditj', 'de', 'dfawe', 'dfghjjhgfds', 'di', 'di12345678910', 'dich', 'dijt', 'dit', 'dit_me', 'dit_me_trọng_tài', 'ditme', 'ditmej', 'diễn', 'djt', 'djtconbamay', 'djtttttttttttt', 'dm', 'dmd', 'dmm', 'dmmm', 'dmmmmmm', 'do', 'doi', 'dot', 'dsu', 'du', 'dung', 'duy', 'duy_nhất', 'dài', 'dành', 'dái', 'dân', 'dân_trí', 'dìm', 'dô', 'dù', 'dũng', 'dưới', 'dậy', 'dẵm', 'dể', 'dịttt', 'dồn_dập', 'dở', 'dỡ', 'dụ', 'dụng', 'dụng_quang_nho', 'dứt_điểm', 'dừng', 'em', 'eo', 'face', 'fan', 'fb', 'gay', 'ghi_bàn', 'ghê', 'gi', 'giai', 'gian', 'gio', 'gion', 'già', 'giò', 'giòn', 'gió', 'giải', 'giải_tán', 'giấu', 'giật', 'giết', 'giỏi', 'giống', 'giờ', 'giừo', 'giữ', 'gà', 'gánh', 'gáy', 'gãy', 'gì', 'góc', 'gần', 'gặp', 'gọi', 'gố', 'gổ', 'gỗ', 'gỡ', 'h1', 'h2', 'ha', 'hach', 'haha', 'hahaha', 'haiz', 'haizzz', 'hat', 'hay', 'hay_sao', 'hazz', 'hcv', 'het', 'hi', 'hiep', 'hiẻu', 'hiểu', 'hiệp', 'hl', 'hlv', 'hnay', 'ho', 'hoang', 'hom', 'hoà', 'hoài', 'hoàng', 'hqua', 'ht', 'huy_chương', 'huấn_luyện', 'huấn_luyện_viên', 'hà_nội', 'hài', 'hàn', 'hàn_quốc', 'hàng', 'hát', 'hâm_mộ', 'hãm', 'hét', 'hên', 'hình_như', 'hình_ảnh', 'hòa', 'hòa_vs', 'hôm_nay', 'hùa', 'hú', 'hú_hồn', 'hơi', 'hơn', 'hạch', 'hả', 'hảo', 'hậu_vệ', 'hết', 'hết_thời', 'họ', 'học_hỏi', 'học_sinh', 'học_trò', 'hỏng', 'hồi', 'hồn', 'hộ', 'ik', 'im', 'im_mồm', 'im_đi', 'indo', 'instagram', 'it', 'iu', 'j_', 'jaki_leo', 'janpan', 'japan', 'jensoo', 'jo', 'kane', 'kg', 'kg_thể', 'kh', 'khe', 'khi', 'khinh', 'khinh_bỉ', 'khiến', 'khong', 'khác', 'khán_giả', 'khéo', 'khép', 'khó', 'khó_chịu', 'khóa', 'khóc_lóc', 'không', 'khùng', 'khỏi', 'khốn_nạn', 'kia', 'kieu', 'kim', 'kinh_khủng', 'kiểm_lâm', 'kiểu', 'kiện', 'kk', 'ko', 'ko_đùa_dc_', 'kođại', 'kèn', 'kèo', 'kém', 'kéo', 'kênh', 'kìa', 'kín', 'kĩ', 'kết', 'kết_quả', 'kết_thúc', 'kệ', 'kỳ_diệu', 'la', 'laf', 'lag', 'lam', 'lan', 'lanh', 'lau', 'le', 'len', 'linh', 'linhcon', 'liverpool', 'liên_lạc', 'liên_tục', 'liệt', 'lm', 'lo', 'lol_me', 'loll', 'lololololololololololololollololôlololololololololololololollololôlololololololololololololollololôlololololololololololololollololôlololololololololololololollololôlololololololololololololol', 'lon', 'lozz', 'loại', 'lu', 'lun', 'luon', 'luôn', 'lzzz', 'là', 'làm', 'làm_sao', 'làng', 'lào', 'lây', 'lãng_xẹt', 'lé', 'lê', 'lê_văn_xuân', 'lê_văn_đô', 'lên', 'lênj', 'lìm', 'lìn', 'lôn', 'lông', 'lúc', 'lăng', 'lũ', 'lơ', 'lưng', 'lại', 'lạng', 'lấy', 'lần', 'lắc_lê', 'lắm', 'lẻn', 'lịa', 'lịch_sử', 'lỏ', 'lối', 'lồn', 'lỗi', 'lớn', 'lợi_dụng', 'lợi_thế', 'lụm', 'lứa', 'lừa', 'lửa', 'ma', 'ma_da', 'mafia', 'mafy', 'mai', 'malay', 'manh', 'marry', 'mat', 'may', 'may_mắn', 'mayy', 'me', 'mej', 'messi', 'mh', 'minh_vo', 'miếng', 'mm', 'mn', 'mn_', 'mo', 'moẹ', 'ms', 'mu', 'mua', 'mua_bán', 'muon', 'muốn', 'myanma', 'myanmar', 'mzzz', 'mà', 'mà_còn', 'màu_mè', 'mày', 'má', 'máaaaaaaaaa', 'máy', 'mãi', 'mãnh', 'mé', 'méo', 'mình', 'móa', 'móc', 'móe', 'môn', 'mõn', 'mù', 'múc', 'mút', 'mơ', 'mạnh', 'mả_cha', 'mảng', 'mất', 'mất_công', 'mất_dạy', 'mấy', 'mắc', 'mắt', 'mặt', 'mẹ', 'mẹ_cha', 'mẹ_mày', 'mệt', 'mịa', 'mịe', 'mọc', 'mọe', 'mọi', 'mồm', 'một_cách', 'mớ', 'mới', 'mờooooooooooooooo', 'mở_mắt', 'nam', 'nam_vô', 'nam_vô_địch', 'nammmmmmmmmmmmmmmmm', 'nao', 'nau', 'nay', 'ncc', 'ng', 'ngai', 'ngan', 'ngang', 'ngay', 'nghe', 'nghi', 'nghĩ', 'nghỉ', 'ngon', 'ngoài', 'ngoại_lắm', 'ngu', 'nguu', 'nguuu', 'nguy_hiểm', 'nguỵ_biện', 'ngày', 'ngáo', 'ngã', 'ngôù', 'ngũ', 'ngơ_ngơ', 'người', 'ngại', 'ngỉ', 'ngồi', 'ngộ', 'ngủ', 'ngứa', 'ngửi', 'nha', 'nhac', 'nhai', 'nham', 'nhanh', 'nhat', 'nhau', 'nhiều', 'nhiệt', 'nho', 'nhot', 'nhu', 'nhà', 'nháp', 'nhé', 'nhì', 'nhìn', 'nhông_nhông', 'như', 'như_vậy', 'nhưng', 'nhường', 'nhả', 'nhảy_cầu', 'nhất', 'nhất_định', 'nhận', 'nhật', 'nhật_bản', 'nhậtminh', 'nhậu', 'nhắc_nhở', 'nhẹ_hều', 'nhỉ', 'nhục', 'nhức', 'những', 'nnuw', 'no', 'noi', 'non', 'nonnnnn', 'nua', 'nv', 'nx', 'ny', 'nào', 'này', 'nâng', 'nãy', 'nè', 'né', 'nét', 'nên', 'nít', 'nó', 'nói', 'nói_chung', 'nói_nhảm', 'năm', 'năng', 'nơi', 'nước', 'nản', 'nắm', 'nằm', 'nặng', 'nẹ', 'nếu', 'nổi', 'nội', 'nữ', 'nữa', 'oc', 'og', 'ohets', 'oi', 'online', 'pack', 'park', 'park_hang', 'pass', 'pay', 'pay_acc', 'pen', 'penalty', 'pha', 'phet', 'phim', 'phog', 'phán', 'phát_xít', 'phèn', 'phét', 'phê', 'phí', 'phím', 'phút', 'phượng', 'phạm', 'phạt', 'phải', 'phản_công', 'phản_động', 'phất', 'phần', 'phế', 'phết', 'phối_hợp', 'phụ_trợ', 'phủi', 'played', 'po', 'păk', 'qoa', 'qoài', 'qq', 'qua', 'quan', 'quang', 'quas', 'quay', 'que', 'quài', 'quá', 'quê', 'quêêêêêê', 'quả', 'quảng_cáo', 'quất', 'quốc', 'qá', 'ra', 'ra_hồn', 'rapf', 'real', 'red', 'rr', 'rài', 'rách', 'rén', 'ròii', 'rôig', 'rõ', 'rõ_ràng', 'rùi', 'rút', 'rất', 'rập', 'rồi', 'rớt_cục', 'rụng', 'sai', 'sam', 'sao', 'sau', 'sau_này', 'saudi', 'se', 'seo', 'sex', 'shit', 'siu', 'siuuuu', 'sml', 'so', 'sp', 'spam', 'sua', 'sucvat', 'sut', 'sv', 'sw', 'sát', 'sân', 'sân_bay', 'sân_khấu', 'sân_nhà', 'sê', 'sút', 'sơ_sơ', 'sấp_mặt', 'sắc', 'sẽ', 'sỉ_nhục', 'số', 'sốt', 'sớm', 'sợ', 'sủa', 't_cay', 'ta', 'tai', 'taid', 'tan', 'tao', 'tay', 'te', 'tg', 'th', 'th6', 'thag', 'tham', 'thang', 'thanh', 'that', 'thay', 'thees', 'thi', 'thihs', 'thiên_vị', 'thiến', 'thiện', 'thk', 'thoi', 'thoáng', 'thu', 'thua', 'thuaaaaaaaaaaaaaaaaaaaaaaaaaaaaaaaaaaaaaaaaaaa', 'thuan', 'thui', 'thành_công', 'thái', 'tháilan', 'tháng', 'thánh', 'tháp', 'thì', 'thích', 'thôi', 'thông_cảm', 'thúi', 'thăng', 'thưa', 'thấp', 'thất_bại', 'thất_vọng', 'thấy', 'thật', 'thật_sự', 'thắg', 'thắng', 'thằng', 'thẻ', 'thẻ_vàng', 'thẻ_đỏ', 'thế', 'thế_này', 'thế_thì', 'thể', 'thịt', 'thổi', 'thời', 'thời_gian', 'thủ', 'thủ_môn', 'thủng_lưới', 'thứ', 'thức', 'thừa', 'thử', 'thỳ', 'tiang', 'tim', 'tin', 'tivi', 'tiêu', 'tiếc', 'tiến', 'tiếng', 'tiếp', 'tiếp_tục', 'tiền', 'tiền_vệ', 'tiền_đạo', 'tiệt', 'tk', 'to', 'toan', 'toang', 'toàn', 'tra', 'tran', 'trang', 'tranh_chấp', 'trao_đổi', 'trc', 'trinh', 'tro', 'troi', 'trong', 'trung_học', 'truyền', 'trà', 'trách', 'trái', 'trâu', 'trên', 'trúng', 'trước', 'trưởng', 'trả', 'trẩu', 'trận', 'trẻ', 'trẻ_ranh', 'trễ', 'trọg', 'trọng', 'trọng_tài', 'trốn', 'trời', 'trời_ơi', 'tt', 'tthay', 'tung_hô', 'tuyển', 'tuyệt_đối', 'tuấn', 'tuấn_hải', 'tuổi', 'tv', 'tài', 'tào_lao', 'tâm_linh', 'tân_tài', 'tây', 'tên', 'tìm', 'tình_huống', 'tí', 'tính', 'tít', 'tóc', 'tóm', 'tôi', 'tôl', 'tôm', 'tù', 'tưởng', 'tại', 'tạt', 'tấn', 'tấn_công', 'tầm', 'tận_dụng', 'tập', 'tắt', 'tệ', 'tỉ_số', 'tối_ngày', 'tốt', 'tổ_cha', 'tới', 'tởm', 'tụi', 'tức', 'từ', 'từng', 'tự', 'tự_hào', 'tự_tin', 'tự_ái', 'u16', 'u23', 'u23vn', 'uc', 'uiiiiiiiiiiiiiiiiiiiiiii', 'uổng_công', 'vai', 'vailol', 'van', 'van_do_vao_', 'vandik', 'vao', 'vaoooooooooooooooooooooooooooooo', 'var', 'vaz', 'vc', 'vch', 'vci', 've', 'vi', 'viet', 'vieệt', 'vip', 'việc', 'việt', 'việt_nam', 'việt_nam_vô_địch', 'vkl', 'vler', 'vn', 'vn1', 'vn2', 'vo', 'voa', 'vooooooo', 'vr', 'vs', 'vt', 'vuon', 'vuvuzela', 'vv', 'và', 'vài', 'vàng', 'vào', 'vàooooooo', 'vân_anh', 'vâyh', 'vãi', 'vãii', 'vòng', 'vô', 'vô_dụng', 'vô_hải_', 'vô_địch', 'võ', 'văn', 'văn_chuẩn', 'văn_minh', 'vẫn', 'vật', 'vậy', 'vết', 'vếu', 'về', 'vị', 'vội', 'với', 'vỡ', 'vứt', 'vừa', 'well', 'win', 'xa', 'xe', 'xem', 'xin', 'xinh', 'xlths', 'xong', 'xoạc', 'xt', 'xuân', 'xuống', 'xx', 'xàm', 'xác_định', 'xém', 'xéo', 'xê', 'xí', 'xích', 'xít', 'xóm', 'xôi', 'xẹt', 'xẻng', 'xứng', 'yeahhh', 'yunki', 'yên_tâm', 'yêu', 'yến', 'yếu', 'zay', 'zò', 'ác', 'áo', 'áp', 'âm', 'éo', 'ép', 'ít', 'óc', 'ông', 'út', 'út_2', 'ăn', 'ăn_mừng', 'ăn_nhậu', 'ăn_nổi', 'ăn_vạ', 'ăn_ý', 'đa', 'đam', 'đang', 'đao', 'đau', 'đc', 'đcm', 'đcu', 'đell', 'đen', 'đepn', 'đi', 'đinh', 'đit', 'đièm', 'điếm', 'điều', 'đjtme', 'đot', 'đt', 'đá', 'đá_gà', 'đám', 'đám_ma', 'đánh', 'đâm', 'đâu', 'đây', 'đã', 'đéo', 'đê', 'đêm', 'đít', 'đí𝙩', 'đòi', 'đòn', 'đó', 'đói', 'đóng', 'đô', 'đôi', 'đông', 'đông_ti', 'đù', 'đú', 'đúng', 'đđâu', 'đưa', 'đưngfggggggg', 'đướng', 'đường', 'được', 'đại_bàng', 'đạp', 'đấm', 'đất_nước', 'đấu', 'đấy', 'đần', 'đầu', 'đầu_tiên', 'đậm', 'đập', 'đằng', 'đẹp', 'đẹp_trai', 'đến', 'đề_nghị', 'để', 'đểu', 'đỉnh', 'địch', 'địchhhhhhhhhhhhhhhhhhhhhhhhhh', 'địchvvn', 'địt_mẹ', 'địy', 'đỏ', 'đồ', 'đồng', 'đồng_bộ', 'đổ', 'đổ_lỗi', 'đổ_thừa', 'đổ_tội', 'đổi', 'đỗ', 'độ', 'đội', 'đội_hình', 'động_vật_lý', 'đột_biến', 'đột_phá', 'đời', 'đợi', 'đụng', 'đủ', 'đứa', 'đừng', 'đỵt', 'đ𝙞', 'ĩa', 'ơi', 'ạh', 'ấy', 'ỉa', 'ịt', 'ống', 'ới', 'ức_chế', '𝙣𝙖𝙢_𝙩𝙝ắ𝙣𝙜_𝙩𝙖𝙤', '𝙨𝙝𝙤𝙬_𝙡ỗ', '𝙩𝙝ằ𝙣𝙜_𝙗𝙛𝙛', '𝙫𝙞ệ𝙩']\n",
            "\n",
            "\n",
            "\n",
            "['00', '000', '03', '0_', '19', '1_bát', '33', '47', '70', '_3', '_4', '_bước_1', '_co', '_dit_me', '_hđxvm', '_m', '_nghỉ_ngơi', '_nhật', '_parkout', '_parkout_', '_số', '_thua', '_thẻ', '_tài', '_vcl', '_vn', '_vô', '_đm', '_đội', 'acc', 'ae', 'ahbán', 'ai', 'ak', 'akira', 'an', 'anh', 'anh_em', 'ao', 'ar', 'arab', 'ba', 'ban', 'banh', 'bao', 'bao_nhiêu', 'bay', 'biên', 'biết', 'biết_tiếng', 'bl', 'blv', 'bon', 'bruhhh', 'bt', 'bucky', 'bui', 'buồi', 'buồn', 'buổi', 'bà_con', 'bài', 'bài_bản', 'bàn_thắng', 'bàn_thờ', 'bán', 'bán_kết', 'bán_độ', 'bánh_canh', 'bãi', 'bé', 'bê_tông', 'bên', 'bênh', 'bình', 'bình_luận', 'bình_luận_viên', 'bò', 'bòi', 'bóng', 'bóng_đá', 'bù', 'bú', 'bạn', 'bả', 'bản', 'bản_chất', 'bảng', 'bảo', 'bảo_thủ_môn', 'bất_mãn', 'bẩn', 'bậy', 'bắt', 'bắt_lỗi', 'bắt_ép', 'bắt_đầu', 'bằng', 'bặt', 'bị', 'bọn', 'bố', 'bốc', 'bộ', 'bữa', 'bực', 'ca', 'cac', 'cacy', 'cai', 'can', 'cao', 'cao_đầu', 'cau', 'cay', 'cbi', 'cc', 'cdmm', 'cdv', 'cem', 'cha', 'cham', 'chan', 'changg', 'chao', 'chat', 'check', 'chet', 'chia_buồn', 'chien', 'chinh', 'chiu', 'chiếc', 'chiến_thắng', 'chno', 'cho', 'choi', 'chuan', 'chung', 'chung_kết', 'chuyền', 'chuẩn', 'chuẩn_bị', 'chào', 'chán', 'cháu', 'cháy', 'chân', 'chân_gỗ', 'chân_như', 'châu_chán', 'chê', 'chê_đá_ncc_sao', 'chênh_lệch', 'chí', 'chó', 'chú', 'chúc_mừng', 'chúng', 'chúng_nó', 'chúng_ta', 'chúng_tôi', 'chút', 'chăng', 'chơi', 'chưa', 'chạm', 'chạy', 'chả', 'chấn', 'chậm', 'chắc', 'chẳng', 'chết', 'chỉ', 'chỉ_có', 'chịu', 'chốt', 'chờ', 'chở', 'chục', 'chủ', 'chủ_yếu', 'chủi', 'chứ', 'chừng', 'chửi', 'cit', 'cl', 'cllllllllllllllll', 'clon', 'cm', 'cmcm', 'cmnr', 'cn', 'co', 'coi', 'con', 'con_mẹ', 'cong', 'conmemayyyyyyyyyyyyyyyyyyy', 'covit', 'crush', 'cta', 'cuc', 'cung_dc', 'cup', 'cuốc', 'cuối', 'cá_nhân', 'cá_độ', 'các', 'cách', 'cái', 'cánh', 'câm', 'câu', 'còn', 'còng', 'có', 'có_thể', 'cô', 'công', 'công_chuyện', 'cùng', 'cú', 'cúc', 'cún', 'cút', 'căn_cơ', 'căng', 'cũ', 'cũng', 'cơ', 'cư', 'cưng', 'cưt', 'cười', 'cường', 'cả', 'cảm_xúc', 'cầm', 'cần', 'cần_thiết', 'cầu_thủ', 'cặc', 'cặk', 'cặp', 'cặt', 'cố', 'cố_gắng', 'cổ_vũ', 'cổ_động_viên', 'cỡ', 'của', 'cứ', 'cức', 'cứt', 'cứt_trâu', 'cực', 'da', 'dau', 'dcu', 'de', 'dee', 'del', 'dell', 'deo', 'di', 'di_me', 'diss', 'dit', 'ditconmemay', 'djt', 'djtme', 'dkm', 'dm', 'dmmmmmmmmmmmmmmmmmmmmmmmmmmmm', 'dongtimo', 'dt', 'duma', 'dung', 'dái', 'dân_trí', 'dê_cụ', 'dí', 'dô', 'dù_sao', 'dùm', 'dũng', 'dơ', 'dậy', 'dẹp', 'dễ', 'dị', 'dịch', 'dỏ', 'dở', 'dỡ', 'dụng_quang', 'em', 'facebook', 'fan', 'fb', 'ge', 'get', 'gg', 'ghi_bàn', 'ghét', 'ghê', 'ghị', 'gia', 'gian', 'giao', 'giwof', 'giá', 'giáp', 'giò', 'giòn', 'giúp', 'giải', 'giải_nghệ', 'giọng', 'giỏi', 'giờ', 'giữa', 'gj', 'go', 'grap', 'gà', 'gà_đá', 'gánh', 'gáy', 'gãy', 'gì', 'gần', 'gẫy', 'gẳn', 'gặp', 'gọi', 'gỗ', 'gớmmmmmmmmmmmmmmmmmmmmmmmmmmmmmmmmmmmmmmmmmmmmmmmmmmmmmmmmmmmmmmmmmmmmmmmmmmmmmmmmmmmmmmmmmmmmmmmmmmmmmmmmmmmmmmmmmmmmmmmmmmmmmmmmmmmmmmmmmmmmmmmmmmmmmmmmmmmmmmmmmmmmmmmmmmmmmmmmmmmmmmmmmmmmmm', 'gờ', 'h2s', 'ha', 'hagl', 'haha', 'hai', 'haizzz', 'hala_madrid', 'hang', 'hat', 'hay', 'hayy', 'helllo', 'hello', 'heuy3bv3tv3tuyb3wjhefgw3', 'hi_vọng', 'hiep', 'hihi', 'hiểu', 'hiệp', 'hk', 'hkgupflyzlgzđh', 'hlv', 'hn', 'hoa', 'hoc', 'hok', 'hop', 'hov', 'hoà', 'hoài', 'hoàng_đức', 'huhu', 'huy_pham_quoc', 'hài', 'hàn', 'hàng', 'háng', 'hát', 'hâm', 'hâuk', 'hã', 'hè', 'hên', 'hòa', 'hòa_1', 'hô', 'hôk', 'hôm_nay', 'hùa', 'hùng_dũng', 'hơi', 'hơn', 'hư', 'hạch', 'hả', 'hải', 'hấp_tấp', 'hậu_vệ', 'hết', 'họ', 'hồ', 'hợp', 'hụt', 'iem', 'im', 'in4', 'indo', 'ioiw', 'iuu', 'japan', 'jav', 'jjy', 'jsổn', 'jv', 'kg', 'kh', 'khi', 'khong', 'khoẻ', 'khung_thành', 'khuôn_mặt', 'khách_mời', 'khán_giả', 'kháng_chiến', 'khét', 'khó', 'khóc', 'không', 'khùng', 'khả_năng', 'khỏe', 'ki', 'kia', 'kids', 'kinh', 'kinh_nghiệm', 'kiến_thức', 'kiểm_lâm', 'kiểu', 'kk', 'ko', 'ksa', 'kèm', 'kênh', 'kêu', 'kì', 'kìa', 'kô', 'kĩ_năng', 'kế', 'kệ', 'kỳ', 'kỵ', 'la', 'la_ó', 'lam', 'lap', 'len', 'lf', 'ligt', 'like', 'lin', 'linh', 'linh_tính', 'link', 'liverpool', 'liz', 'lm', 'lmm', 'lo', 'loai', 'lollll', 'lollllll', 'lon', 'lonnn', 'loại', 'loạn', 'lq', 'lu', 'lua', 'lun', 'luân_lưu', 'luôn', 'luônnnnnnnnnnnnnnnnnnnnnnnnnnnnnnnn', 'lz', 'là', 'làm', 'làng', 'lê', 'lê_dê', 'lê_văn_xuân', 'lê_văn_đô', 'lên', 'lênnnnnnnnnnnnnnnnnnnnjjnnnnnnnnnnnnnnnnnnnnnnnnnnnnnnnnnnnnnnnnnnnnnnnnnnnn', 'lòng', 'lôi', 'lùa', 'lăn', 'lăn_lộn', 'lũ', 'lơn', 'lưa', 'lưng', 'lưới', 'lạ', 'lại', 'lạt', 'lạy', 'lần', 'lập_bập', 'lắm', 'lến', 'lề_mề', 'lệch', 'lỏ', 'lối', 'lồm', 'lồn', 'lồng', 'lổi', 'lỗi', 'lộn', 'lộng', 'lờ', 'lứa', 'ma', 'maay', 'mai', 'mam', 'max', 'may', 'me', 'mi', 'minh', 'minhhhhhhhhhhhhhhhhhhhhhhhhhhhhhhhhhhhhhhhhhhhhhhhhhhhhhhhhhhhh', 'mllllllllllllllllllllllllllllllll', 'mmm', 'mn', 'mng', 'mod', 'moi', 'mong', 'ms', 'mua', 'muốn', 'myanma', 'myanmar', 'mà', 'màu_mè', 'mày', 'má', 'mãi', 'mé', 'méo', 'mình', 'móa', 'môm', 'mõm', 'mù', 'mă', 'mơ', 'mạnh', 'mất', 'mất_dạy', 'mấy', 'mấythg', 'mầy', 'mắc', 'mắt', 'mặc', 'mặt', 'mẹ', 'mẹ_kiếp', 'mẹ_mày', 'mệt', 'mịa', 'mọe', 'mọi', 'mồm', 'mới', 'mới_lạ', 'n10tv', 'nam', 'nam_vô_địch', 'nan', 'nay', 'ncc', 'neu', 'neymar', 'ng', 'ngay', 'nghe', 'nghi', 'nghỉ', 'ngi', 'ngkhac', 'ngon', 'ngoài', 'ngt', 'ngu', 'nguoi', 'nguu', 'nguuuu', 'nguy_hiểm', 'nguyen', 'nguyên', 'ngày', 'ngán', 'ngáo', 'ngã', 'ngón', 'ngô_anh_vũ', 'ngũ', 'ngươf', 'người', 'người_ta', 'ngẩng', 'ngắm', 'ngồi', 'ngủ', 'ngừng', 'nha', 'nhanh', 'nhau', 'nhin', 'nhiu', 'nhiêu', 'nhiều', 'nho', 'nhu', 'nhu_bi', 'nhulol', 'nhung', 'nhà', 'nhé', 'nhìn', 'nhìu', 'như', 'như_thế', 'như_vậy', 'nhưg', 'nhưng', 'nhạc', 'nhảy_cầu', 'nhất', 'nhận', 'nhập', 'nhật', 'nhắm', 'nhỉ', 'nhồi', 'nhớ', 'nhờ', 'nhỡ', 'nhục', 'nhức', 'nnnnnnnnnnnnnnnnnnnnnnnnnnnnnnnnnnnnnnnnnnnnnnnnnnnnnnnnnnnnnnnnnnnnnnnnnnnnnnnnnnnnnnnnnnnnnnnnnnnnnnn', 'no', 'nohope', 'noi', 'non', 'ns', 'nug', 'nuoc', 'nv', 'nào', 'này', 'nát', 'nãy', 'nét', 'nên', 'nín', 'nó', 'nói', 'nói_chuyện', 'nói_xàm', 'năm', 'nưa', 'nước', 'nấu', 'nằm', 'nổi', 'nứng', 'nữa', 'oc', 'occho', 'ocsc', 'oi', 'ok', 'om', 'online', 'out', 'park', 'parkout_', 'penalty', 'pha', 'philippines', 'phong', 'phong_thủy', 'phoois', 'phuc', 'phán', 'pháp', 'phét', 'phí_công', 'phú', 'phút', 'phượng', 'phạm', 'phạt', 'phải', 'phản', 'phản_động', 'phố', 'phụ', 'phụ_thuộc', 'pé', 'qq', 'qua', 'qua11111111111111111111111111111111111111111111111111111', 'quang', 'quay', 'queeeeeee', 'quá', 'quả', 'quảng_hải', 'quận', 'quốc', 'quốc_gia', 'ra', 'ra_gì', 'rap', 'roi', 'ronaldinho', 'ronaldo', 'rp', 'rshsh', 'rác', 'rách', 'râp', 'ròi', 'rôi', 'rõ', 'rút', 'rơ', 'rập', 'rễ', 'rồi', 'rổ', 'rớt', 'rời_rạc', 'sai', 'sao', 'sau', 'saudi', 'seo', 'sex', 'shit', 'slo_ff', 'sos', 'spam', 'ssooss', 'sui', 'suiiiiiiiiiiiiii', 'suwk', 'suýt', 'suốt', 'sáng', 'sát', 'sân', 'sên', 'sù', 'sút', 'sơi', 'sạo', 'sắp', 'sọc', 'số', 'sổn', 'sờ', 'sợ', 'sợ_sệt', 'sức_khỏe', 'sữa', 'ta', 'tai', 'tan', 'tao', 'team', 'teemo', 'th', 'thag', 'thailand', 'thang', 'thanh', 'thanh_niên', 'thay', 'then', 'theo', 'thg_trọng_tài', 'thi', 'thien', 'thif', 'thiên_vị', 'thiệt', 'thk', 'thoi', 'thoy', 'thoại', 'thu', 'thua', 'thuathua', 'thuong', 'thành', 'thày', 'thánh', 'thèm', 'thì', 'thì_thôi', 'thích', 'thôi', 'thông_cảm', 'thương', 'thượng_đẳng', 'thấp', 'thất_vọng', 'thấy', 'thầy', 'thật', 'thật_sự', 'thắng', 'thằng', 'thằngtafi', 'thẳng', 'thẳng_tay', 'thẻ', 'thẻ_đỏ', 'thế', 'thế_kia', 'thế_trận', 'thể_hình', 'thống_khổ', 'thổi', 'thời', 'thủ', 'thủ_môn', 'thủng_lưới', 'thứ', 'thừa', 'thực_lực', 'ti', 'tia', 'tinh_thần', 'tivi', 'tiến', 'tiếng', 'tiếp', 'tiền', 'tiền_đạo', 'tiểu_xảo', 'tk', 'to', 'tong', 'toppp', 'toàn', 'tphcm', 'tr', 'tran', 'trc', 'tretrau', 'trinh', 'triển_khai', 'trog', 'trong', 'trtai', 'trung', 'trách_cứ', 'trái', 'trâu', 'trên', 'trình', 'trình_độ', 'trúng', 'trăng', 'trước', 'trận', 'trẻ', 'trọng', 'trọng_tài', 'trọngggggggggggggggggggggg', 'trời', 'tui', 'tuoi_lon', 'tuy', 'tuyêt', 'tuyển', 'tuấn', 'tuổi', 'tuổiiiiiiii', 'tv', 'tài', 'tàiiiiiiiiiiiiiiiiiiiiiiii', 'tàn', 'tát', 'tâm_lý', 'tân_phú', 'tâng', 'tây', 'tên', 'tìm', 'tình_huống', 'tí', 'tính', 'tóc', 'tóm', 'tôi', 'tôm', 'tùng', 'tý', 'tương_lai', 'tạch', 'tại', 'tạt', 'tấn_công', 'tấn_tài', 'tầm', 'tẩy_chay', 'tận', 'tập', 'tệ', 'tỉ', 'tỉ_số', 'tỏ_tình', 'tố_cáo', 'tốt', 'tồi', 'tổ', 'tới', 'tụi', 'tự', 'tự_tin', 'u17', 'u23', 'u23vn', 'vafooooooooooooooo', 'vai', 'vailone', 'vaiz', 'van', 'vao', 'vaofooooooo', 'vaooooooo', 'var', 'vc', 'vch', 'vcvv', 've', 'vidic', 'vietnam', 'view', 'viêt', 'viẹt', 'việt', 'việt_nam', 'việt_nam_cộng_hòa', 'việt_nam_vô_địch', 'vler', 'vlz', 'vn', 'vnv', 'vo', 'vqò', 'vs', 'vs12', 'vu_khống', 'vui', 'vv', 'vy', 'và', 'vài', 'vàng', 'vào', 'vãi', 'vãiii', 'vòng', 'vô', 'vô_duyên', 'vô_ý_thức', 'vô_địch', 'văn', 'văn_hóa', 'văn_đô', 'văn_đền', 'vũng_tàu', 'vươn', 'vẫn', 'vận_động_viên', 'vậy', 'vậy_mà', 'vậyta', 'về', 'vệ_myanmar', 'vội_vàng', 'với', 'vời', 'vỡ', 'vụ', 'vứt', 'vừa', 'vừa_tầm', 'w8jwjw9wj', 'wa', 'war', 'world_cup', 'wtf', 'xa', 'xem', 'xin', 'xoá', 'xui', 'xuống', 'xàm', 'xê', 'xúc_phạm', 'xạo', 'xấu', 'xẽo', 'xếp', 'xỏ', 'xời', 'xứng', 'xứng_đáng', 'yeu', 'ytb', 'yêu', 'yếu', 'yếu_như', 'zksursggklhđhfhđduđdđhfđjxhđxjxjxđhxđhdhđshđdhđzđhzđhzđhdpufpuxjxjđdhđdđhdyđđyggglhdđysyodit', 'ác', 'áo', 'áp', 'áp_lực', 'çhi', 'éo', 'ép', 'óc', 'ôg', 'ôi', 'ôm', 'ông', 'úc', 'út', 'ăn', 'ăn_hại', 'ăn_trộm', 'ăn_vạ', 'đa', 'đang', 'đao', 'đau', 'đauu', 'đb', 'đbrr', 'đc', 'đcm', 'đcu', 'đell', 'đen', 'đeoa', 'đi', 'đii', 'điền_kinh', 'đmmdmmdmdmdmdmdmdmdmdmdmdm', 'đou', 'đtqg', 'đui', 'đuma_cay', 'đà', 'đàn_anh', 'đào_tạo', 'đá', 'đáiii', 'đám', 'đánh', 'đâu', 'đây', 'đã', 'đéo', 'đê', 'đêm', 'đòi', 'đó', 'đô', 'đôi', 'đông', 'đù', 'đúng', 'đơ', 'đơn_giản', 'được', 'đấm', 'đất', 'đấy', 'đần', 'đầu', 'đầu_hói', 'đầy', 'đẩy', 'đập', 'đẹp', 'đến', 'đều', 'để', 'để_ý', 'đỉnh', 'địt_mẹ', 'đọc', 'đọi', 'đỏ', 'đốn', 'đổ', 'đổi', 'đỗ', 'đỗ_trọng_tài', 'độ', 'đội', 'đội_tuyển', 'động', 'đột_biến', 'đột_phá', 'đỡ', 'đợi', 'đủng', 'đứa', 'đức', 'đừng', 'ơi', 'ảo', 'ấy', 'ẩu', 'ỉa', 'ối', 'ổn', 'ủa', 'ỳypdtlsgksirsristisiđraursđrusurufarzfkutsitjfrusitsuđrdigditđeiydiiơwhixkfsitsitz']\n",
            "\n",
            "\n",
            "\n"
          ]
        },
        {
          "output_type": "stream",
          "name": "stderr",
          "text": [
            "/usr/local/lib/python3.7/dist-packages/sklearn/utils/deprecation.py:87: FutureWarning: Function get_feature_names is deprecated; get_feature_names is deprecated in 1.0 and will be removed in 1.2. Please use get_feature_names_out instead.\n",
            "  warnings.warn(msg, category=FutureWarning)\n"
          ]
        }
      ],
      "source": [
        "dataListY1 = dataList1.Final\n",
        "dataListY2 = dataList2.Final\n",
        "dataListY3 = dataList3.Final\n",
        "\n",
        "dataListX1 = text_process(dataList1)\n",
        "trainX1, testX1, trainY1, testY1 = train_test_split(dataListX1, dataListY1, test_size=0.33, random_state=42)\n",
        "model = model.fit(trainX1, trainY1)\n",
        "predY1 = model.predict(testX1)\n",
        "\n",
        "dataListX2 = text_process(dataList2)\n",
        "trainX2, testX2, trainY2, testY2 = train_test_split(dataListX2, dataListY2, test_size=0.33, random_state=42)\n",
        "model = model.fit(trainX2, trainY2)\n",
        "predY2 = model.predict(testX2)\n",
        "\n",
        "dataListX3 = text_process(dataList3)\n",
        "trainX3, testX3, trainY3, testY3 = train_test_split(dataListX3, dataListY3, test_size=0.33, random_state=42)\n",
        "model = model.fit(trainX3, trainY3)\n",
        "predY3 = model.predict(testX3)"
      ]
    },
    {
      "cell_type": "markdown",
      "metadata": {
        "id": "3-PYq-UJ2Wrl"
      },
      "source": [
        "#### 3.2 Performance metrics (Accuracy, F1-score…) for these datasets"
      ]
    },
    {
      "cell_type": "code",
      "execution_count": null,
      "metadata": {
        "id": "B2x9LsUy2Wrl",
        "colab": {
          "base_uri": "https://localhost:8080/"
        },
        "outputId": "24c28ba1-50da-43b8-c17a-dc75771674ed"
      },
      "outputs": [
        {
          "output_type": "stream",
          "name": "stdout",
          "text": [
            "Average of Accuracy 1: 0.7489177489177489\n",
            "Average of F1_Score 1: 0.7489177489177489\n",
            "Average of Precision 1: 0.7489177489177489\n"
          ]
        }
      ],
      "source": [
        "Accuracy1  = []\n",
        "Precision1 = []\n",
        "F1_Score1  = []\n",
        "\n",
        "Accuracy1.append(accuracy_score(testY1, predY1))\n",
        "F1_Score1.append(f1_score(testY1, predY1, average='micro'))  # Could change to None,'weighted','micro','macro'\n",
        "Precision1.append(precision_score(testY1, predY1, average='micro'))\n",
        "\n",
        "averageAccuracy1 = sum(Accuracy1)/len(Accuracy1)\n",
        "print(\"Average of Accuracy 1:\", averageAccuracy1)\n",
        "averageF1_Score1 = sum(F1_Score1)/len(F1_Score1)\n",
        "print(\"Average of F1_Score 1:\", averageF1_Score1)\n",
        "averagePrecision1 = sum(Precision1)/len(Precision1)\n",
        "print(\"Average of Precision 1:\", averagePrecision1)"
      ]
    },
    {
      "cell_type": "code",
      "source": [
        "Accuracy2  = []\n",
        "Precision2 = []\n",
        "F1_Score2  = []\n",
        "\n",
        "Accuracy2.append(accuracy_score(testY2, predY2))\n",
        "F1_Score2.append(f1_score(testY2, predY2, average='micro'))  # Could change to None,'weighted','micro','macro'\n",
        "Precision2.append(precision_score(testY2, predY2, average='micro'))\n",
        "\n",
        "averageAccuracy2 = sum(Accuracy2)/len(Accuracy2)\n",
        "print(\"Average of Accuracy 2:\", averageAccuracy2)\n",
        "averageF1_Score2 = sum(F1_Score2)/len(F1_Score2)\n",
        "print(\"Average of F1_Score 2:\", averageF1_Score2)\n",
        "averagePrecision2 = sum(Precision2)/len(Precision2)\n",
        "print(\"Average of Precision 2:\", averagePrecision2)"
      ],
      "metadata": {
        "colab": {
          "base_uri": "https://localhost:8080/"
        },
        "id": "BCgfHZX2g6bZ",
        "outputId": "671fcf87-2679-4a3a-eb13-bfde16931c31"
      },
      "execution_count": null,
      "outputs": [
        {
          "output_type": "stream",
          "name": "stdout",
          "text": [
            "Average of Accuracy 2: 0.7660377358490567\n",
            "Average of F1_Score 2: 0.7660377358490567\n",
            "Average of Precision 2: 0.7660377358490567\n"
          ]
        }
      ]
    },
    {
      "cell_type": "code",
      "source": [
        "Accuracy3  = []\n",
        "Precision3 = []\n",
        "F1_Score3  = []\n",
        "\n",
        "Accuracy3.append(accuracy_score(testY3, predY3))\n",
        "F1_Score3.append(f1_score(testY3, predY3, average='micro'))  # Could change to None,'weighted','micro','macro'\n",
        "Precision3.append(precision_score(testY3, predY3, average='micro'))\n",
        "\n",
        "averageAccuracy3 = sum(Accuracy3)/len(Accuracy3)\n",
        "print(\"Average of Accuracy 3:\", averageAccuracy2)\n",
        "averageF1_Score3 = sum(F1_Score3)/len(F1_Score3)\n",
        "print(\"Average of F1_Score 3:\", averageF1_Score3)\n",
        "averagePrecision3 = sum(Precision3)/len(Precision3)\n",
        "print(\"Average of Precision 3:\", averagePrecision3)"
      ],
      "metadata": {
        "colab": {
          "base_uri": "https://localhost:8080/"
        },
        "id": "3SMVEQagg8SQ",
        "outputId": "e69a3757-0c83-4c22-ac59-a5595012253b"
      },
      "execution_count": null,
      "outputs": [
        {
          "output_type": "stream",
          "name": "stdout",
          "text": [
            "Average of Accuracy 3: 0.7660377358490567\n",
            "Average of F1_Score 3: 0.7186147186147186\n",
            "Average of Precision 3: 0.7186147186147186\n"
          ]
        }
      ]
    }
  ]
}
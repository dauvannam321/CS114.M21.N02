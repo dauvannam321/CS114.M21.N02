{
  "cells": [
    {
      "cell_type": "code",
      "execution_count": 23,
      "metadata": {
        "id": "t5YDpO7vW9If"
      },
      "outputs": [],
      "source": [
        "import cv2"
      ]
    },
    {
      "cell_type": "code",
      "execution_count": 24,
      "metadata": {
        "id": "0agghuF0W9Ih"
      },
      "outputs": [],
      "source": [
        "src1 = cv2.imread('lena.jpg')\n",
        "src2 = cv2.imread('rocket.jpg')"
      ]
    },
    {
      "cell_type": "code",
      "execution_count": 25,
      "metadata": {
        "id": "Giswjdj3W9Ii"
      },
      "outputs": [],
      "source": [
        "src2 = cv2.resize(src2, src1.shape[1::-1])"
      ]
    },
    {
      "cell_type": "code",
      "execution_count": 26,
      "metadata": {
        "id": "piKNa5rHW9Ii"
      },
      "outputs": [],
      "source": [
        "dst = cv2.addWeighted(src1, 0.5, src2, 0.5, 0)"
      ]
    },
    {
      "cell_type": "code",
      "execution_count": 27,
      "metadata": {
        "id": "GVF7nb9dW9Ii",
        "outputId": "8de5502e-fb86-4de6-ce8b-dd9965f9081a",
        "colab": {
          "base_uri": "https://localhost:8080/"
        }
      },
      "outputs": [
        {
          "output_type": "execute_result",
          "data": {
            "text/plain": [
              "True"
            ]
          },
          "metadata": {},
          "execution_count": 27
        }
      ],
      "source": [
        "cv2.imwrite('opencv_add_weighted.jpg', dst)"
      ]
    },
    {
      "cell_type": "code",
      "execution_count": 32,
      "metadata": {
        "id": "apRjz1ztW9Ik",
        "outputId": "6f6ac364-4134-456c-a237-8f8e45728e0c",
        "colab": {
          "base_uri": "https://localhost:8080/"
        }
      },
      "outputs": [
        {
          "output_type": "execute_result",
          "data": {
            "text/plain": [
              "True"
            ]
          },
          "metadata": {},
          "execution_count": 32
        }
      ],
      "source": [
        "dst = cv2.addWeighted(src1, 0.5, src2, 0.2, 64)\n",
        "cv2.imwrite('opencv_add_weighted_gamma.jpg', dst)"
      ]
    },
    {
      "cell_type": "code",
      "execution_count": 31,
      "metadata": {
        "id": "mswAeKnSW9Il",
        "outputId": "683a8a5c-9511-4ec7-e129-482be44e9e21",
        "colab": {
          "base_uri": "https://localhost:8080/"
        }
      },
      "outputs": [
        {
          "output_type": "execute_result",
          "data": {
            "text/plain": [
              "True"
            ]
          },
          "metadata": {},
          "execution_count": 31
        }
      ],
      "source": []
    },
    {
      "cell_type": "markdown",
      "metadata": {
        "id": "XVSUSKsWW9Il"
      },
      "source": [
        "![](https://github.com/nkmk/python-snippets/blob/817ec63c20dd1e3289327948c943abe646fe10d4/notebook/data/dst/opencv_add_weighted_gamma.jpg?raw=1)"
      ]
    }
  ],
  "metadata": {
    "kernelspec": {
      "display_name": "Python 3",
      "language": "python",
      "name": "python3"
    },
    "language_info": {
      "codemirror_mode": {
        "name": "ipython",
        "version": 3
      },
      "file_extension": ".py",
      "mimetype": "text/x-python",
      "name": "python",
      "nbconvert_exporter": "python",
      "pygments_lexer": "ipython3",
      "version": "3.7.2"
    },
    "colab": {
      "provenance": []
    }
  },
  "nbformat": 4,
  "nbformat_minor": 0
}
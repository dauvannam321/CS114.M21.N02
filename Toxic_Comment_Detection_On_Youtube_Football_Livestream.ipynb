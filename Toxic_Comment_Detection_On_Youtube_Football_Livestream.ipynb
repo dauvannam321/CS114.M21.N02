{
  "cells": [
    {
      "cell_type": "markdown",
      "metadata": {
        "id": "view-in-github",
        "colab_type": "text"
      },
      "source": [
        "<a href=\"https://colab.research.google.com/github/dauvannam321/CS114.M21.N02/blob/main/Toxic_Comment_Detection_On_Youtube_Football_Livestream.ipynb\" target=\"_parent\"><img src=\"https://colab.research.google.com/assets/colab-badge.svg\" alt=\"Open In Colab\"/></a>"
      ]
    },
    {
      "cell_type": "markdown",
      "metadata": {
        "id": "Mw8Vd6PbMmkr"
      },
      "source": [
        "### IMPORT PACKAGES"
      ]
    },
    {
      "cell_type": "code",
      "source": [
        "! pip install openpyxl\n",
        "#Documentation : https://openpyxl.readthedocs.io/en/stable/"
      ],
      "metadata": {
        "id": "2R7ijCrz7iND",
        "colab": {
          "base_uri": "https://localhost:8080/"
        },
        "outputId": "5b3daae9-0096-471d-faac-fc946c859027"
      },
      "execution_count": 135,
      "outputs": [
        {
          "output_type": "stream",
          "name": "stdout",
          "text": [
            "Looking in indexes: https://pypi.org/simple, https://us-python.pkg.dev/colab-wheels/public/simple/\n",
            "Requirement already satisfied: openpyxl in /usr/local/lib/python3.7/dist-packages (3.0.10)\n",
            "Requirement already satisfied: et-xmlfile in /usr/local/lib/python3.7/dist-packages (from openpyxl) (1.1.0)\n"
          ]
        }
      ]
    },
    {
      "cell_type": "code",
      "execution_count": 136,
      "metadata": {
        "collapsed": true,
        "jupyter": {
          "outputs_hidden": true
        },
        "tags": [],
        "id": "qEco4t6kMmkt",
        "colab": {
          "base_uri": "https://localhost:8080/"
        },
        "outputId": "1ccaa213-01ef-4556-d0dc-519dc3acd0cd"
      },
      "outputs": [
        {
          "output_type": "stream",
          "name": "stdout",
          "text": [
            "Looking in indexes: https://pypi.org/simple, https://us-python.pkg.dev/colab-wheels/public/simple/\n",
            "Requirement already satisfied: tensorflow in /usr/local/lib/python3.7/dist-packages (2.8.2+zzzcolab20220527125636)\n",
            "Requirement already satisfied: tensorflow-gpu in /usr/local/lib/python3.7/dist-packages (2.8.2)\n",
            "Requirement already satisfied: pandas in /usr/local/lib/python3.7/dist-packages (1.3.5)\n",
            "Requirement already satisfied: matplotlib in /usr/local/lib/python3.7/dist-packages (3.2.2)\n",
            "Requirement already satisfied: sklearn in /usr/local/lib/python3.7/dist-packages (0.0)\n",
            "Requirement already satisfied: tensorboard<2.9,>=2.8 in /usr/local/lib/python3.7/dist-packages (from tensorflow) (2.8.0)\n",
            "Requirement already satisfied: astunparse>=1.6.0 in /usr/local/lib/python3.7/dist-packages (from tensorflow) (1.6.3)\n",
            "Requirement already satisfied: setuptools in /usr/local/lib/python3.7/dist-packages (from tensorflow) (57.4.0)\n",
            "Requirement already satisfied: six>=1.12.0 in /usr/local/lib/python3.7/dist-packages (from tensorflow) (1.15.0)\n",
            "Requirement already satisfied: gast>=0.2.1 in /usr/local/lib/python3.7/dist-packages (from tensorflow) (0.5.3)\n",
            "Requirement already satisfied: google-pasta>=0.1.1 in /usr/local/lib/python3.7/dist-packages (from tensorflow) (0.2.0)\n",
            "Requirement already satisfied: h5py>=2.9.0 in /usr/local/lib/python3.7/dist-packages (from tensorflow) (3.1.0)\n",
            "Requirement already satisfied: protobuf<3.20,>=3.9.2 in /usr/local/lib/python3.7/dist-packages (from tensorflow) (3.17.3)\n",
            "Requirement already satisfied: keras-preprocessing>=1.1.1 in /usr/local/lib/python3.7/dist-packages (from tensorflow) (1.1.2)\n",
            "Requirement already satisfied: keras<2.9,>=2.8.0rc0 in /usr/local/lib/python3.7/dist-packages (from tensorflow) (2.8.0)\n",
            "Requirement already satisfied: flatbuffers>=1.12 in /usr/local/lib/python3.7/dist-packages (from tensorflow) (2.0)\n",
            "Requirement already satisfied: opt-einsum>=2.3.2 in /usr/local/lib/python3.7/dist-packages (from tensorflow) (3.3.0)\n",
            "Requirement already satisfied: tensorflow-estimator<2.9,>=2.8 in /usr/local/lib/python3.7/dist-packages (from tensorflow) (2.8.0)\n",
            "Requirement already satisfied: termcolor>=1.1.0 in /usr/local/lib/python3.7/dist-packages (from tensorflow) (1.1.0)\n",
            "Requirement already satisfied: typing-extensions>=3.6.6 in /usr/local/lib/python3.7/dist-packages (from tensorflow) (4.1.1)\n",
            "Requirement already satisfied: tensorflow-io-gcs-filesystem>=0.23.1 in /usr/local/lib/python3.7/dist-packages (from tensorflow) (0.26.0)\n",
            "Requirement already satisfied: grpcio<2.0,>=1.24.3 in /usr/local/lib/python3.7/dist-packages (from tensorflow) (1.46.3)\n",
            "Requirement already satisfied: absl-py>=0.4.0 in /usr/local/lib/python3.7/dist-packages (from tensorflow) (1.1.0)\n",
            "Requirement already satisfied: numpy>=1.20 in /usr/local/lib/python3.7/dist-packages (from tensorflow) (1.21.6)\n",
            "Requirement already satisfied: wrapt>=1.11.0 in /usr/local/lib/python3.7/dist-packages (from tensorflow) (1.14.1)\n",
            "Requirement already satisfied: libclang>=9.0.1 in /usr/local/lib/python3.7/dist-packages (from tensorflow) (14.0.1)\n",
            "Requirement already satisfied: wheel<1.0,>=0.23.0 in /usr/local/lib/python3.7/dist-packages (from astunparse>=1.6.0->tensorflow) (0.37.1)\n",
            "Requirement already satisfied: cached-property in /usr/local/lib/python3.7/dist-packages (from h5py>=2.9.0->tensorflow) (1.5.2)\n",
            "Requirement already satisfied: requests<3,>=2.21.0 in /usr/local/lib/python3.7/dist-packages (from tensorboard<2.9,>=2.8->tensorflow) (2.23.0)\n",
            "Requirement already satisfied: tensorboard-plugin-wit>=1.6.0 in /usr/local/lib/python3.7/dist-packages (from tensorboard<2.9,>=2.8->tensorflow) (1.8.1)\n",
            "Requirement already satisfied: google-auth<3,>=1.6.3 in /usr/local/lib/python3.7/dist-packages (from tensorboard<2.9,>=2.8->tensorflow) (1.35.0)\n",
            "Requirement already satisfied: google-auth-oauthlib<0.5,>=0.4.1 in /usr/local/lib/python3.7/dist-packages (from tensorboard<2.9,>=2.8->tensorflow) (0.4.6)\n",
            "Requirement already satisfied: markdown>=2.6.8 in /usr/local/lib/python3.7/dist-packages (from tensorboard<2.9,>=2.8->tensorflow) (3.3.7)\n",
            "Requirement already satisfied: tensorboard-data-server<0.7.0,>=0.6.0 in /usr/local/lib/python3.7/dist-packages (from tensorboard<2.9,>=2.8->tensorflow) (0.6.1)\n",
            "Requirement already satisfied: werkzeug>=0.11.15 in /usr/local/lib/python3.7/dist-packages (from tensorboard<2.9,>=2.8->tensorflow) (1.0.1)\n",
            "Requirement already satisfied: cachetools<5.0,>=2.0.0 in /usr/local/lib/python3.7/dist-packages (from google-auth<3,>=1.6.3->tensorboard<2.9,>=2.8->tensorflow) (4.2.4)\n",
            "Requirement already satisfied: pyasn1-modules>=0.2.1 in /usr/local/lib/python3.7/dist-packages (from google-auth<3,>=1.6.3->tensorboard<2.9,>=2.8->tensorflow) (0.2.8)\n",
            "Requirement already satisfied: rsa<5,>=3.1.4 in /usr/local/lib/python3.7/dist-packages (from google-auth<3,>=1.6.3->tensorboard<2.9,>=2.8->tensorflow) (4.8)\n",
            "Requirement already satisfied: requests-oauthlib>=0.7.0 in /usr/local/lib/python3.7/dist-packages (from google-auth-oauthlib<0.5,>=0.4.1->tensorboard<2.9,>=2.8->tensorflow) (1.3.1)\n",
            "Requirement already satisfied: importlib-metadata>=4.4 in /usr/local/lib/python3.7/dist-packages (from markdown>=2.6.8->tensorboard<2.9,>=2.8->tensorflow) (4.11.4)\n",
            "Requirement already satisfied: zipp>=0.5 in /usr/local/lib/python3.7/dist-packages (from importlib-metadata>=4.4->markdown>=2.6.8->tensorboard<2.9,>=2.8->tensorflow) (3.8.0)\n",
            "Requirement already satisfied: pyasn1<0.5.0,>=0.4.6 in /usr/local/lib/python3.7/dist-packages (from pyasn1-modules>=0.2.1->google-auth<3,>=1.6.3->tensorboard<2.9,>=2.8->tensorflow) (0.4.8)\n",
            "Requirement already satisfied: certifi>=2017.4.17 in /usr/local/lib/python3.7/dist-packages (from requests<3,>=2.21.0->tensorboard<2.9,>=2.8->tensorflow) (2022.6.15)\n",
            "Requirement already satisfied: urllib3!=1.25.0,!=1.25.1,<1.26,>=1.21.1 in /usr/local/lib/python3.7/dist-packages (from requests<3,>=2.21.0->tensorboard<2.9,>=2.8->tensorflow) (1.24.3)\n",
            "Requirement already satisfied: chardet<4,>=3.0.2 in /usr/local/lib/python3.7/dist-packages (from requests<3,>=2.21.0->tensorboard<2.9,>=2.8->tensorflow) (3.0.4)\n",
            "Requirement already satisfied: idna<3,>=2.5 in /usr/local/lib/python3.7/dist-packages (from requests<3,>=2.21.0->tensorboard<2.9,>=2.8->tensorflow) (2.10)\n",
            "Requirement already satisfied: oauthlib>=3.0.0 in /usr/local/lib/python3.7/dist-packages (from requests-oauthlib>=0.7.0->google-auth-oauthlib<0.5,>=0.4.1->tensorboard<2.9,>=2.8->tensorflow) (3.2.0)\n",
            "Requirement already satisfied: python-dateutil>=2.7.3 in /usr/local/lib/python3.7/dist-packages (from pandas) (2.8.2)\n",
            "Requirement already satisfied: pytz>=2017.3 in /usr/local/lib/python3.7/dist-packages (from pandas) (2022.1)\n",
            "Requirement already satisfied: pyparsing!=2.0.4,!=2.1.2,!=2.1.6,>=2.0.1 in /usr/local/lib/python3.7/dist-packages (from matplotlib) (3.0.9)\n",
            "Requirement already satisfied: kiwisolver>=1.0.1 in /usr/local/lib/python3.7/dist-packages (from matplotlib) (1.4.3)\n",
            "Requirement already satisfied: cycler>=0.10 in /usr/local/lib/python3.7/dist-packages (from matplotlib) (0.11.0)\n",
            "Requirement already satisfied: scikit-learn in /usr/local/lib/python3.7/dist-packages (from sklearn) (1.0.2)\n",
            "Requirement already satisfied: threadpoolctl>=2.0.0 in /usr/local/lib/python3.7/dist-packages (from scikit-learn->sklearn) (3.1.0)\n",
            "Requirement already satisfied: joblib>=0.11 in /usr/local/lib/python3.7/dist-packages (from scikit-learn->sklearn) (1.1.0)\n",
            "Requirement already satisfied: scipy>=1.1.0 in /usr/local/lib/python3.7/dist-packages (from scikit-learn->sklearn) (1.4.1)\n"
          ]
        }
      ],
      "source": [
        "!pip install tensorflow tensorflow-gpu pandas matplotlib sklearn"
      ]
    },
    {
      "cell_type": "code",
      "execution_count": 137,
      "metadata": {
        "tags": [],
        "id": "ZXBjTXMuMmku",
        "colab": {
          "base_uri": "https://localhost:8080/"
        },
        "outputId": "cc2e8657-e0e1-4bff-e6b2-6d955755cf5e"
      },
      "outputs": [
        {
          "output_type": "stream",
          "name": "stdout",
          "text": [
            "Looking in indexes: https://pypi.org/simple, https://us-python.pkg.dev/colab-wheels/public/simple/\n",
            "Requirement already satisfied: xlrd==1.2.0 in /usr/local/lib/python3.7/dist-packages (1.2.0)\n",
            "Looking in indexes: https://pypi.org/simple, https://us-python.pkg.dev/colab-wheels/public/simple/\n",
            "Requirement already satisfied: pandas in /usr/local/lib/python3.7/dist-packages (1.3.5)\n",
            "Requirement already satisfied: numpy>=1.17.3 in /usr/local/lib/python3.7/dist-packages (from pandas) (1.21.6)\n",
            "Requirement already satisfied: python-dateutil>=2.7.3 in /usr/local/lib/python3.7/dist-packages (from pandas) (2.8.2)\n",
            "Requirement already satisfied: pytz>=2017.3 in /usr/local/lib/python3.7/dist-packages (from pandas) (2022.1)\n",
            "Requirement already satisfied: six>=1.5 in /usr/local/lib/python3.7/dist-packages (from python-dateutil>=2.7.3->pandas) (1.15.0)\n",
            "Looking in indexes: https://pypi.org/simple, https://us-python.pkg.dev/colab-wheels/public/simple/\n",
            "Requirement already satisfied: underthesea in /usr/local/lib/python3.7/dist-packages (1.3.4)\n",
            "Requirement already satisfied: PyYAML in /usr/local/lib/python3.7/dist-packages (from underthesea) (3.13)\n",
            "Requirement already satisfied: unidecode in /usr/local/lib/python3.7/dist-packages (from underthesea) (1.3.4)\n",
            "Requirement already satisfied: tqdm in /usr/local/lib/python3.7/dist-packages (from underthesea) (4.64.0)\n",
            "Requirement already satisfied: underthesea-core==0.0.4_alpha.10 in /usr/local/lib/python3.7/dist-packages (from underthesea) (0.0.4a10)\n",
            "Requirement already satisfied: Click>=6.0 in /usr/local/lib/python3.7/dist-packages (from underthesea) (7.1.2)\n",
            "Requirement already satisfied: joblib in /usr/local/lib/python3.7/dist-packages (from underthesea) (1.1.0)\n",
            "Requirement already satisfied: scikit-learn in /usr/local/lib/python3.7/dist-packages (from underthesea) (1.0.2)\n",
            "Requirement already satisfied: python-crfsuite>=0.9.6 in /usr/local/lib/python3.7/dist-packages (from underthesea) (0.9.8)\n",
            "Requirement already satisfied: nltk in /usr/local/lib/python3.7/dist-packages (from underthesea) (3.7)\n",
            "Requirement already satisfied: requests in /usr/local/lib/python3.7/dist-packages (from underthesea) (2.23.0)\n",
            "Requirement already satisfied: regex>=2021.8.3 in /usr/local/lib/python3.7/dist-packages (from nltk->underthesea) (2022.6.2)\n",
            "Requirement already satisfied: urllib3!=1.25.0,!=1.25.1,<1.26,>=1.21.1 in /usr/local/lib/python3.7/dist-packages (from requests->underthesea) (1.24.3)\n",
            "Requirement already satisfied: certifi>=2017.4.17 in /usr/local/lib/python3.7/dist-packages (from requests->underthesea) (2022.6.15)\n",
            "Requirement already satisfied: idna<3,>=2.5 in /usr/local/lib/python3.7/dist-packages (from requests->underthesea) (2.10)\n",
            "Requirement already satisfied: chardet<4,>=3.0.2 in /usr/local/lib/python3.7/dist-packages (from requests->underthesea) (3.0.4)\n",
            "Requirement already satisfied: scipy>=1.1.0 in /usr/local/lib/python3.7/dist-packages (from scikit-learn->underthesea) (1.4.1)\n",
            "Requirement already satisfied: threadpoolctl>=2.0.0 in /usr/local/lib/python3.7/dist-packages (from scikit-learn->underthesea) (3.1.0)\n",
            "Requirement already satisfied: numpy>=1.14.6 in /usr/local/lib/python3.7/dist-packages (from scikit-learn->underthesea) (1.21.6)\n"
          ]
        }
      ],
      "source": [
        "!pip3 install  xlrd==1.2.0\n",
        "!pip install --upgrade pandas\n",
        "!pip install underthesea\n",
        "import os\n",
        "import pandas as pd\n",
        "import tensorflow as tf\n",
        "import numpy as np\n",
        "import time\n",
        "from pandas import Series, DataFrame\n",
        "import xlrd\n",
        "from sklearn.feature_extraction.text import TfidfVectorizer\n",
        "from xlrd import open_workbook\n",
        "from underthesea import word_tokenize #Documentation :https://pypi.org/project/underthesea/ "
      ]
    },
    {
      "cell_type": "markdown",
      "metadata": {
        "id": "pJy1JlIfMmkv"
      },
      "source": [
        "# 1. Preprocess"
      ]
    },
    {
      "cell_type": "code",
      "execution_count": 138,
      "metadata": {
        "collapsed": true,
        "jupyter": {
          "outputs_hidden": true
        },
        "tags": [],
        "id": "yL4fo5pIMmkv",
        "colab": {
          "base_uri": "https://localhost:8080/"
        },
        "outputId": "083b27eb-510b-468e-848f-16a04f7b1bb5"
      },
      "outputs": [
        {
          "output_type": "stream",
          "name": "stdout",
          "text": [
            "Package                       Version\n",
            "----------------------------- ------------------------------\n",
            "absl-py                       1.1.0\n",
            "alabaster                     0.7.12\n",
            "albumentations                0.1.12\n",
            "altair                        4.2.0\n",
            "appdirs                       1.4.4\n",
            "argon2-cffi                   21.3.0\n",
            "argon2-cffi-bindings          21.2.0\n",
            "arviz                         0.12.1\n",
            "astor                         0.8.1\n",
            "astropy                       4.3.1\n",
            "astunparse                    1.6.3\n",
            "atari-py                      0.2.9\n",
            "atomicwrites                  1.4.0\n",
            "attrs                         21.4.0\n",
            "audioread                     2.1.9\n",
            "autograd                      1.4\n",
            "Babel                         2.10.2\n",
            "backcall                      0.2.0\n",
            "beautifulsoup4                4.6.3\n",
            "bleach                        5.0.0\n",
            "blis                          0.7.7\n",
            "bokeh                         2.3.3\n",
            "branca                        0.5.0\n",
            "bs4                           0.0.1\n",
            "CacheControl                  0.12.11\n",
            "cached-property               1.5.2\n",
            "cachetools                    4.2.4\n",
            "catalogue                     2.0.7\n",
            "certifi                       2022.6.15\n",
            "cffi                          1.15.0\n",
            "cftime                        1.6.0\n",
            "chardet                       3.0.4\n",
            "charset-normalizer            2.1.0\n",
            "click                         7.1.2\n",
            "cloudpickle                   1.3.0\n",
            "cmake                         3.22.5\n",
            "cmdstanpy                     0.9.5\n",
            "colorcet                      3.0.0\n",
            "colorlover                    0.3.0\n",
            "community                     1.0.0b1\n",
            "contextlib2                   0.5.5\n",
            "convertdate                   2.4.0\n",
            "coverage                      3.7.1\n",
            "coveralls                     0.5\n",
            "crcmod                        1.7\n",
            "cufflinks                     0.17.3\n",
            "cvxopt                        1.2.7\n",
            "cvxpy                         1.0.31\n",
            "cycler                        0.11.0\n",
            "cymem                         2.0.6\n",
            "Cython                        0.29.30\n",
            "daft                          0.0.4\n",
            "dask                          2.12.0\n",
            "datascience                   0.10.6\n",
            "debugpy                       1.0.0\n",
            "decorator                     4.4.2\n",
            "defusedxml                    0.7.1\n",
            "descartes                     1.1.0\n",
            "dill                          0.3.5.1\n",
            "distributed                   1.25.3\n",
            "dlib                          19.18.0+zzzcolab20220513001918\n",
            "dm-tree                       0.1.7\n",
            "docopt                        0.6.2\n",
            "docutils                      0.17.1\n",
            "dopamine-rl                   1.0.5\n",
            "earthengine-api               0.1.315\n",
            "easydict                      1.9\n",
            "ecos                          2.0.10\n",
            "editdistance                  0.5.3\n",
            "en-core-web-sm                3.3.0\n",
            "entrypoints                   0.4\n",
            "ephem                         4.1.3\n",
            "et-xmlfile                    1.1.0\n",
            "fa2                           0.3.5\n",
            "fastai                        2.6.3\n",
            "fastcore                      1.4.4\n",
            "fastdownload                  0.0.6\n",
            "fastdtw                       0.3.4\n",
            "fastjsonschema                2.15.3\n",
            "fastprogress                  1.0.2\n",
            "fastrlock                     0.8\n",
            "fbprophet                     0.7.1\n",
            "feather-format                0.4.1\n",
            "filelock                      3.7.1\n",
            "firebase-admin                4.4.0\n",
            "fix-yahoo-finance             0.0.22\n",
            "Flask                         1.1.4\n",
            "flatbuffers                   2.0\n",
            "folium                        0.8.3\n",
            "future                        0.16.0\n",
            "gast                          0.5.3\n",
            "GDAL                          2.2.2\n",
            "gdown                         4.4.0\n",
            "gensim                        3.6.0\n",
            "geographiclib                 1.52\n",
            "geopy                         1.17.0\n",
            "gin-config                    0.5.0\n",
            "glob2                         0.7\n",
            "google                        2.0.3\n",
            "google-api-core               1.31.6\n",
            "google-api-python-client      1.12.11\n",
            "google-auth                   1.35.0\n",
            "google-auth-httplib2          0.0.4\n",
            "google-auth-oauthlib          0.4.6\n",
            "google-cloud-bigquery         1.21.0\n",
            "google-cloud-bigquery-storage 1.1.2\n",
            "google-cloud-core             1.0.3\n",
            "google-cloud-datastore        1.8.0\n",
            "google-cloud-firestore        1.7.0\n",
            "google-cloud-language         1.2.0\n",
            "google-cloud-storage          1.18.1\n",
            "google-cloud-translate        1.5.0\n",
            "google-colab                  1.0.0\n",
            "google-pasta                  0.2.0\n",
            "google-resumable-media        0.4.1\n",
            "googleapis-common-protos      1.56.2\n",
            "googledrivedownloader         0.4\n",
            "graphviz                      0.10.1\n",
            "greenlet                      1.1.2\n",
            "grpcio                        1.46.3\n",
            "gspread                       3.4.2\n",
            "gspread-dataframe             3.0.8\n",
            "gym                           0.17.3\n",
            "h5py                          3.1.0\n",
            "HeapDict                      1.0.1\n",
            "hijri-converter               2.2.4\n",
            "holidays                      0.10.5.2\n",
            "holoviews                     1.14.9\n",
            "html5lib                      1.0.1\n",
            "httpimport                    0.5.18\n",
            "httplib2                      0.17.4\n",
            "httplib2shim                  0.0.3\n",
            "humanize                      0.5.1\n",
            "hyperopt                      0.1.2\n",
            "ideep4py                      2.0.0.post3\n",
            "idna                          2.10\n",
            "imageio                       2.4.1\n",
            "imagesize                     1.3.0\n",
            "imbalanced-learn              0.8.1\n",
            "imblearn                      0.0\n",
            "imgaug                        0.2.9\n",
            "importlib-metadata            4.11.4\n",
            "importlib-resources           5.7.1\n",
            "imutils                       0.5.4\n",
            "inflect                       2.1.0\n",
            "iniconfig                     1.1.1\n",
            "intel-openmp                  2022.1.0\n",
            "intervaltree                  2.1.0\n",
            "ipykernel                     4.10.1\n",
            "ipython                       5.5.0\n",
            "ipython-genutils              0.2.0\n",
            "ipython-sql                   0.3.9\n",
            "ipywidgets                    7.7.0\n",
            "itsdangerous                  1.1.0\n",
            "jax                           0.3.8\n",
            "jaxlib                        0.3.7+cuda11.cudnn805\n",
            "jedi                          0.18.1\n",
            "jieba                         0.42.1\n",
            "Jinja2                        2.11.3\n",
            "joblib                        1.1.0\n",
            "jpeg4py                       0.1.4\n",
            "jsonschema                    4.3.3\n",
            "jupyter                       1.0.0\n",
            "jupyter-client                5.3.5\n",
            "jupyter-console               5.2.0\n",
            "jupyter-core                  4.10.0\n",
            "jupyterlab-pygments           0.2.2\n",
            "jupyterlab-widgets            1.1.0\n",
            "kaggle                        1.5.12\n",
            "kapre                         0.3.7\n",
            "keras                         2.8.0\n",
            "Keras-Preprocessing           1.1.2\n",
            "keras-vis                     0.4.1\n",
            "kiwisolver                    1.4.3\n",
            "korean-lunar-calendar         0.2.1\n",
            "langcodes                     3.3.0\n",
            "libclang                      14.0.1\n",
            "librosa                       0.8.1\n",
            "lightgbm                      2.2.3\n",
            "llvmlite                      0.34.0\n",
            "lmdb                          0.99\n",
            "LunarCalendar                 0.0.9\n",
            "lxml                          4.2.6\n",
            "Markdown                      3.3.7\n",
            "MarkupSafe                    2.0.1\n",
            "matplotlib                    3.2.2\n",
            "matplotlib-inline             0.1.3\n",
            "matplotlib-venn               0.11.7\n",
            "missingno                     0.5.1\n",
            "mistune                       0.8.4\n",
            "mizani                        0.6.0\n",
            "mkl                           2019.0\n",
            "mlxtend                       0.14.0\n",
            "more-itertools                8.13.0\n",
            "moviepy                       0.2.3.5\n",
            "mpmath                        1.2.1\n",
            "msgpack                       1.0.4\n",
            "multiprocess                  0.70.13\n",
            "multitasking                  0.0.10\n",
            "murmurhash                    1.0.7\n",
            "music21                       5.5.0\n",
            "natsort                       5.5.0\n",
            "nbclient                      0.6.6\n",
            "nbconvert                     5.6.1\n",
            "nbformat                      5.4.0\n",
            "nest-asyncio                  1.5.5\n",
            "netCDF4                       1.5.8\n",
            "networkx                      2.6.3\n",
            "nibabel                       3.0.2\n",
            "nltk                          3.7\n",
            "notebook                      5.3.1\n",
            "numba                         0.51.2\n",
            "numexpr                       2.8.1\n",
            "numpy                         1.21.6\n",
            "oauth2client                  4.1.3\n",
            "oauthlib                      3.2.0\n",
            "okgrade                       0.4.3\n",
            "opencv-contrib-python         4.1.2.30\n",
            "opencv-python                 4.1.2.30\n",
            "openpyxl                      3.0.10\n",
            "opt-einsum                    3.3.0\n",
            "osqp                          0.6.2.post0\n",
            "packaging                     21.3\n",
            "palettable                    3.3.0\n",
            "pandas                        1.3.5\n",
            "pandas-datareader             0.9.0\n",
            "pandas-gbq                    0.13.3\n",
            "pandas-profiling              1.4.1\n",
            "pandocfilters                 1.5.0\n",
            "panel                         0.12.1\n",
            "param                         1.12.1\n",
            "parso                         0.8.3\n",
            "pathlib                       1.0.1\n",
            "pathy                         0.6.1\n",
            "patsy                         0.5.2\n",
            "pep517                        0.12.0\n",
            "pexpect                       4.8.0\n",
            "pickleshare                   0.7.5\n",
            "Pillow                        7.1.2\n",
            "pip                           21.1.3\n",
            "pip-tools                     6.2.0\n",
            "plotly                        5.5.0\n",
            "plotnine                      0.6.0\n",
            "pluggy                        0.7.1\n",
            "pooch                         1.6.0\n",
            "portpicker                    1.3.9\n",
            "prefetch-generator            1.0.1\n",
            "preshed                       3.0.6\n",
            "prettytable                   3.3.0\n",
            "progressbar2                  3.38.0\n",
            "prometheus-client             0.14.1\n",
            "promise                       2.3\n",
            "prompt-toolkit                1.0.18\n",
            "protobuf                      3.17.3\n",
            "psutil                        5.4.8\n",
            "psycopg2                      2.7.6.1\n",
            "ptyprocess                    0.7.0\n",
            "py                            1.11.0\n",
            "pyarrow                       6.0.1\n",
            "pyasn1                        0.4.8\n",
            "pyasn1-modules                0.2.8\n",
            "pycocotools                   2.0.4\n",
            "pycparser                     2.21\n",
            "pyct                          0.4.8\n",
            "pydantic                      1.8.2\n",
            "pydata-google-auth            1.4.0\n",
            "pydot                         1.3.0\n",
            "pydot-ng                      2.0.0\n",
            "pydotplus                     2.0.2\n",
            "PyDrive                       1.3.1\n",
            "pyemd                         0.5.1\n",
            "pyerfa                        2.0.0.1\n",
            "pyglet                        1.5.0\n",
            "Pygments                      2.6.1\n",
            "pygobject                     3.26.1\n",
            "pymc3                         3.11.4\n",
            "PyMeeus                       0.5.11\n",
            "pymongo                       4.1.1\n",
            "pymystem3                     0.2.0\n",
            "PyOpenGL                      3.1.6\n",
            "pyparsing                     3.0.9\n",
            "pyrsistent                    0.18.1\n",
            "pysndfile                     1.3.8\n",
            "PySocks                       1.7.1\n",
            "pystan                        2.19.1.1\n",
            "pytest                        3.6.4\n",
            "python-apt                    0.0.0\n",
            "python-chess                  0.23.11\n",
            "python-crfsuite               0.9.8\n",
            "python-dateutil               2.8.2\n",
            "python-louvain                0.16\n",
            "python-slugify                6.1.2\n",
            "python-utils                  3.3.3\n",
            "pytz                          2022.1\n",
            "pyviz-comms                   2.2.0\n",
            "PyWavelets                    1.3.0\n",
            "PyYAML                        3.13\n",
            "pyzmq                         23.1.0\n",
            "qdldl                         0.1.5.post2\n",
            "qtconsole                     5.3.1\n",
            "QtPy                          2.1.0\n",
            "regex                         2022.6.2\n",
            "requests                      2.23.0\n",
            "requests-oauthlib             1.3.1\n",
            "resampy                       0.2.2\n",
            "rpy2                          3.4.5\n",
            "rsa                           4.8\n",
            "scikit-image                  0.18.3\n",
            "scikit-learn                  1.0.2\n",
            "scipy                         1.4.1\n",
            "screen-resolution-extra       0.0.0\n",
            "scs                           3.2.0\n",
            "seaborn                       0.11.2\n",
            "semver                        2.13.0\n",
            "Send2Trash                    1.8.0\n",
            "setuptools                    57.4.0\n",
            "setuptools-git                1.2\n",
            "Shapely                       1.8.2\n",
            "simplegeneric                 0.8.1\n",
            "six                           1.15.0\n",
            "sklearn                       0.0\n",
            "sklearn-pandas                1.8.0\n",
            "smart-open                    5.2.1\n",
            "snowballstemmer               2.2.0\n",
            "sortedcontainers              2.4.0\n",
            "SoundFile                     0.10.3.post1\n",
            "soupsieve                     2.3.2.post1\n",
            "spacy                         3.3.1\n",
            "spacy-legacy                  3.0.9\n",
            "spacy-loggers                 1.0.2\n",
            "Sphinx                        1.8.6\n",
            "sphinxcontrib-serializinghtml 1.1.5\n",
            "sphinxcontrib-websupport      1.2.4\n",
            "SQLAlchemy                    1.4.37\n",
            "sqlparse                      0.4.2\n",
            "srsly                         2.4.3\n",
            "statsmodels                   0.10.2\n",
            "sympy                         1.7.1\n",
            "tables                        3.7.0\n",
            "tabulate                      0.8.9\n",
            "tblib                         1.7.0\n",
            "tenacity                      8.0.1\n",
            "tensorboard                   2.8.0\n",
            "tensorboard-data-server       0.6.1\n",
            "tensorboard-plugin-wit        1.8.1\n",
            "tensorflow                    2.8.2+zzzcolab20220527125636\n",
            "tensorflow-datasets           4.0.1\n",
            "tensorflow-estimator          2.8.0\n",
            "tensorflow-gcs-config         2.8.0\n",
            "tensorflow-gpu                2.8.2\n",
            "tensorflow-hub                0.12.0\n",
            "tensorflow-io-gcs-filesystem  0.26.0\n",
            "tensorflow-metadata           1.8.0\n",
            "tensorflow-probability        0.16.0\n",
            "termcolor                     1.1.0\n",
            "terminado                     0.13.3\n",
            "testpath                      0.6.0\n",
            "text-unidecode                1.3\n",
            "textblob                      0.15.3\n",
            "Theano-PyMC                   1.1.2\n",
            "thinc                         8.0.17\n",
            "threadpoolctl                 3.1.0\n",
            "tifffile                      2021.11.2\n",
            "tinycss2                      1.1.1\n",
            "tomli                         2.0.1\n",
            "toolz                         0.11.2\n",
            "torch                         1.11.0+cu113\n",
            "torchaudio                    0.11.0+cu113\n",
            "torchsummary                  1.5.1\n",
            "torchtext                     0.12.0\n",
            "torchvision                   0.12.0+cu113\n",
            "tornado                       5.1.1\n",
            "tqdm                          4.64.0\n",
            "traitlets                     5.1.1\n",
            "tweepy                        3.10.0\n",
            "typeguard                     2.7.1\n",
            "typer                         0.4.1\n",
            "typing-extensions             4.1.1\n",
            "tzlocal                       1.5.1\n",
            "underthesea                   1.3.4\n",
            "underthesea-core              0.0.4a10\n",
            "Unidecode                     1.3.4\n",
            "uritemplate                   3.0.1\n",
            "urllib3                       1.24.3\n",
            "vega-datasets                 0.9.0\n",
            "wasabi                        0.9.1\n",
            "wcwidth                       0.2.5\n",
            "webencodings                  0.5.1\n",
            "Werkzeug                      1.0.1\n",
            "wheel                         0.37.1\n",
            "widgetsnbextension            3.6.0\n",
            "wordcloud                     1.5.0\n",
            "wrapt                         1.14.1\n",
            "xarray                        0.20.2\n",
            "xarray-einstats               0.2.2\n",
            "xgboost                       0.90\n",
            "xkit                          0.0.0\n",
            "xlrd                          1.2.0\n",
            "xlwt                          1.3.0\n",
            "yellowbrick                   1.4\n",
            "zict                          2.2.0\n",
            "zipp                          3.8.0\n"
          ]
        }
      ],
      "source": [
        "!pip list"
      ]
    },
    {
      "cell_type": "code",
      "execution_count": 139,
      "metadata": {
        "tags": [],
        "id": "iJHgBdYEMmku"
      },
      "outputs": [],
      "source": [
        "dataTrainUIT = open_workbook(\"/content/dataset_main.xlsx\", encoding_override='latin')\n",
        "df = pd.read_excel(dataTrainUIT)\n"
      ]
    },
    {
      "cell_type": "code",
      "execution_count": 140,
      "metadata": {
        "tags": [],
        "id": "pvmhYCJFMmku",
        "colab": {
          "base_uri": "https://localhost:8080/",
          "height": 206
        },
        "outputId": "7c3b0df7-a7e9-4064-8449-dbd5db65ea36"
      },
      "outputs": [
        {
          "output_type": "execute_result",
          "data": {
            "text/plain": [
              "                                             Content  Final\n",
              "0                                      VN cố lên nha      0\n",
              "1                                        90 phút nữa      0\n",
              "2  các cầu thủ hãy cố gắng da hết mình nhé . nhất...      0\n",
              "3                                      nhật ăn 3:0 r      0\n",
              "4                                         1-0 cho vn      0"
            ],
            "text/html": [
              "\n",
              "  <div id=\"df-54968565-cf60-4dc2-a7fc-ced78628b8f4\">\n",
              "    <div class=\"colab-df-container\">\n",
              "      <div>\n",
              "<style scoped>\n",
              "    .dataframe tbody tr th:only-of-type {\n",
              "        vertical-align: middle;\n",
              "    }\n",
              "\n",
              "    .dataframe tbody tr th {\n",
              "        vertical-align: top;\n",
              "    }\n",
              "\n",
              "    .dataframe thead th {\n",
              "        text-align: right;\n",
              "    }\n",
              "</style>\n",
              "<table border=\"1\" class=\"dataframe\">\n",
              "  <thead>\n",
              "    <tr style=\"text-align: right;\">\n",
              "      <th></th>\n",
              "      <th>Content</th>\n",
              "      <th>Final</th>\n",
              "    </tr>\n",
              "  </thead>\n",
              "  <tbody>\n",
              "    <tr>\n",
              "      <th>0</th>\n",
              "      <td>VN cố lên nha</td>\n",
              "      <td>0</td>\n",
              "    </tr>\n",
              "    <tr>\n",
              "      <th>1</th>\n",
              "      <td>90 phút nữa</td>\n",
              "      <td>0</td>\n",
              "    </tr>\n",
              "    <tr>\n",
              "      <th>2</th>\n",
              "      <td>các cầu thủ hãy cố gắng da hết mình nhé . nhất...</td>\n",
              "      <td>0</td>\n",
              "    </tr>\n",
              "    <tr>\n",
              "      <th>3</th>\n",
              "      <td>nhật ăn 3:0 r</td>\n",
              "      <td>0</td>\n",
              "    </tr>\n",
              "    <tr>\n",
              "      <th>4</th>\n",
              "      <td>1-0 cho vn</td>\n",
              "      <td>0</td>\n",
              "    </tr>\n",
              "  </tbody>\n",
              "</table>\n",
              "</div>\n",
              "      <button class=\"colab-df-convert\" onclick=\"convertToInteractive('df-54968565-cf60-4dc2-a7fc-ced78628b8f4')\"\n",
              "              title=\"Convert this dataframe to an interactive table.\"\n",
              "              style=\"display:none;\">\n",
              "        \n",
              "  <svg xmlns=\"http://www.w3.org/2000/svg\" height=\"24px\"viewBox=\"0 0 24 24\"\n",
              "       width=\"24px\">\n",
              "    <path d=\"M0 0h24v24H0V0z\" fill=\"none\"/>\n",
              "    <path d=\"M18.56 5.44l.94 2.06.94-2.06 2.06-.94-2.06-.94-.94-2.06-.94 2.06-2.06.94zm-11 1L8.5 8.5l.94-2.06 2.06-.94-2.06-.94L8.5 2.5l-.94 2.06-2.06.94zm10 10l.94 2.06.94-2.06 2.06-.94-2.06-.94-.94-2.06-.94 2.06-2.06.94z\"/><path d=\"M17.41 7.96l-1.37-1.37c-.4-.4-.92-.59-1.43-.59-.52 0-1.04.2-1.43.59L10.3 9.45l-7.72 7.72c-.78.78-.78 2.05 0 2.83L4 21.41c.39.39.9.59 1.41.59.51 0 1.02-.2 1.41-.59l7.78-7.78 2.81-2.81c.8-.78.8-2.07 0-2.86zM5.41 20L4 18.59l7.72-7.72 1.47 1.35L5.41 20z\"/>\n",
              "  </svg>\n",
              "      </button>\n",
              "      \n",
              "  <style>\n",
              "    .colab-df-container {\n",
              "      display:flex;\n",
              "      flex-wrap:wrap;\n",
              "      gap: 12px;\n",
              "    }\n",
              "\n",
              "    .colab-df-convert {\n",
              "      background-color: #E8F0FE;\n",
              "      border: none;\n",
              "      border-radius: 50%;\n",
              "      cursor: pointer;\n",
              "      display: none;\n",
              "      fill: #1967D2;\n",
              "      height: 32px;\n",
              "      padding: 0 0 0 0;\n",
              "      width: 32px;\n",
              "    }\n",
              "\n",
              "    .colab-df-convert:hover {\n",
              "      background-color: #E2EBFA;\n",
              "      box-shadow: 0px 1px 2px rgba(60, 64, 67, 0.3), 0px 1px 3px 1px rgba(60, 64, 67, 0.15);\n",
              "      fill: #174EA6;\n",
              "    }\n",
              "\n",
              "    [theme=dark] .colab-df-convert {\n",
              "      background-color: #3B4455;\n",
              "      fill: #D2E3FC;\n",
              "    }\n",
              "\n",
              "    [theme=dark] .colab-df-convert:hover {\n",
              "      background-color: #434B5C;\n",
              "      box-shadow: 0px 1px 3px 1px rgba(0, 0, 0, 0.15);\n",
              "      filter: drop-shadow(0px 1px 2px rgba(0, 0, 0, 0.3));\n",
              "      fill: #FFFFFF;\n",
              "    }\n",
              "  </style>\n",
              "\n",
              "      <script>\n",
              "        const buttonEl =\n",
              "          document.querySelector('#df-54968565-cf60-4dc2-a7fc-ced78628b8f4 button.colab-df-convert');\n",
              "        buttonEl.style.display =\n",
              "          google.colab.kernel.accessAllowed ? 'block' : 'none';\n",
              "\n",
              "        async function convertToInteractive(key) {\n",
              "          const element = document.querySelector('#df-54968565-cf60-4dc2-a7fc-ced78628b8f4');\n",
              "          const dataTable =\n",
              "            await google.colab.kernel.invokeFunction('convertToInteractive',\n",
              "                                                     [key], {});\n",
              "          if (!dataTable) return;\n",
              "\n",
              "          const docLinkHtml = 'Like what you see? Visit the ' +\n",
              "            '<a target=\"_blank\" href=https://colab.research.google.com/notebooks/data_table.ipynb>data table notebook</a>'\n",
              "            + ' to learn more about interactive tables.';\n",
              "          element.innerHTML = '';\n",
              "          dataTable['output_type'] = 'display_data';\n",
              "          await google.colab.output.renderOutput(dataTable, element);\n",
              "          const docLink = document.createElement('div');\n",
              "          docLink.innerHTML = docLinkHtml;\n",
              "          element.appendChild(docLink);\n",
              "        }\n",
              "      </script>\n",
              "    </div>\n",
              "  </div>\n",
              "  "
            ]
          },
          "metadata": {},
          "execution_count": 140
        }
      ],
      "source": [
        "df.head()"
      ]
    },
    {
      "cell_type": "code",
      "source": [
        "import seaborn as sns\n",
        "import matplotlib.pyplot as plt\n",
        "\n",
        "sns.barplot(['Toxic', 'NonToxic'], df['Final'].map({0:\"Non Toxic\", 1: \"Toxic\"}).value_counts(ascending=True), alpha=0.8,palette=\"vlag\")\n",
        "\n",
        "plt.title('Count of Toxic Comment of Dataset')"
      ],
      "metadata": {
        "id": "5WzQcd5TEZQh",
        "colab": {
          "base_uri": "https://localhost:8080/",
          "height": 353
        },
        "outputId": "0bbad1d3-e0a9-413c-a33f-188e7ac8f2e0"
      },
      "execution_count": 141,
      "outputs": [
        {
          "output_type": "stream",
          "name": "stderr",
          "text": [
            "/usr/local/lib/python3.7/dist-packages/seaborn/_decorators.py:43: FutureWarning: Pass the following variables as keyword args: x, y. From version 0.12, the only valid positional argument will be `data`, and passing other arguments without an explicit keyword will result in an error or misinterpretation.\n",
            "  FutureWarning\n"
          ]
        },
        {
          "output_type": "execute_result",
          "data": {
            "text/plain": [
              "Text(0.5, 1.0, 'Count of Toxic Comment of Dataset')"
            ]
          },
          "metadata": {},
          "execution_count": 141
        },
        {
          "output_type": "display_data",
          "data": {
            "text/plain": [
              "<Figure size 432x288 with 1 Axes>"
            ],
            "image/png": "[encoded data removed]"
          },
          "metadata": {
            "needs_background": "light"
          }
        }
      ]
    },
    {
      "cell_type": "code",
      "execution_count": 142,
      "metadata": {
        "tags": [],
        "id": "wTQfd87xMmkv"
      },
      "outputs": [],
      "source": [
        "from tensorflow.keras.layers import TextVectorization"
      ]
    },
    {
      "cell_type": "code",
      "execution_count": 143,
      "metadata": {
        "tags": [],
        "id": "zlrenNF-Mmkw",
        "colab": {
          "base_uri": "https://localhost:8080/"
        },
        "outputId": "02bc1ecf-011f-46bc-cc21-45c3e3aa7815"
      },
      "outputs": [
        {
          "output_type": "stream",
          "name": "stdout",
          "text": [
            "                                                       0\n",
            "0                                          VN cố lên nha\n",
            "1                                            90 phút nữa\n",
            "2      các cầu_thủ hãy cố_gắng da hết_mình nhé . nhất...\n",
            "3                                        nhật ăn 3 : 0 r\n",
            "4                                             1-0 cho vn\n",
            "...                                                  ...\n",
            "16798                                    đá vẫn chán lắm\n",
            "16799                            vaooooooooooooooooooooo\n",
            "16800                                           yeahhhhh\n",
            "16801                     ghi_bàn rồi sẽ giải_toả tâm_lí\n",
            "16802                      SUIIIIIIIIIIIIIIIIIIIIIIIIIII\n",
            "\n",
            "[16803 rows x 1 columns]\n"
          ]
        }
      ],
      "source": [
        "X = df['Content']\n",
        "y = df['Final']\n",
        "WordSeg = []\n",
        "for i in range(len(X)):\n",
        "        sentence_strip = str(X[i]).strip()# Remove spaces at begin & end\n",
        "        WordSeg.append(word_tokenize(sentence_strip, format='text')) # format text: add \"_\" where text is phrases.\n",
        "X = pd.DataFrame(WordSeg) # Update new sentences\n",
        "print(X)"
      ]
    },
    {
      "cell_type": "code",
      "execution_count": 144,
      "metadata": {
        "tags": [],
        "id": "vpOYrNttMmkw"
      },
      "outputs": [],
      "source": [
        "MAX_FEATURES = 200000 # number of words in the vocab"
      ]
    },
    {
      "cell_type": "code",
      "execution_count": 145,
      "metadata": {
        "tags": [],
        "id": "bdIwDpGiMmkx"
      },
      "outputs": [],
      "source": [
        "vectorizer = TextVectorization(max_tokens=MAX_FEATURES,\n",
        "                               output_sequence_length=50,\n",
        "                               output_mode='int')"
      ]
    },
    {
      "cell_type": "code",
      "execution_count": 146,
      "metadata": {
        "tags": [],
        "id": "d3RabH5nMmkx"
      },
      "outputs": [],
      "source": [
        "vectorizer.adapt(X.values)"
      ]
    },
    {
      "cell_type": "code",
      "source": [
        "vectorizer.get_vocabulary()"
      ],
      "metadata": {
        "id": "-z2iZ1b9XPLz",
        "colab": {
          "base_uri": "https://localhost:8080/"
        },
        "outputId": "73efb8a6-9b75-4473-c72f-c8cfa579887e"
      },
      "execution_count": 147,
      "outputs": [
        {
          "output_type": "execute_result",
          "data": {
            "text/plain": [
              "['',\n",
              " '[UNK]',\n",
              " 'đá',\n",
              " 'vn',\n",
              " 'thua',\n",
              " 'quá',\n",
              " 'trọngtài',\n",
              " 'ko',\n",
              " 'rồi',\n",
              " 'này',\n",
              " 'là',\n",
              " 'mà',\n",
              " 'có',\n",
              " 'như',\n",
              " 'thì',\n",
              " 'đi',\n",
              " 'lên',\n",
              " 'vào',\n",
              " 'hay',\n",
              " 'gì',\n",
              " 'nó',\n",
              " 'chán',\n",
              " 'thôi',\n",
              " 'tài',\n",
              " 'không',\n",
              " 'cho',\n",
              " 'thắng',\n",
              " 'r',\n",
              " 'mấy',\n",
              " 'cố',\n",
              " 'sao',\n",
              " 'k',\n",
              " 'việtnam',\n",
              " 'thằng',\n",
              " 'nam',\n",
              " 'về',\n",
              " 'thế',\n",
              " '1',\n",
              " 'việt',\n",
              " 'vậy',\n",
              " 'cái',\n",
              " 'bóng',\n",
              " 'còn',\n",
              " 'rập',\n",
              " '2',\n",
              " 'ae',\n",
              " 'đâu',\n",
              " 'xem',\n",
              " 'lứa',\n",
              " 'nào',\n",
              " 'ơi',\n",
              " 'trận',\n",
              " 'ăn',\n",
              " 'lại',\n",
              " 'bị',\n",
              " 'Đá',\n",
              " 'chắc',\n",
              " 'ra',\n",
              " 'linh',\n",
              " 'cũng',\n",
              " '3',\n",
              " '0',\n",
              " 'hết',\n",
              " '10',\n",
              " 'các',\n",
              " 'nữa',\n",
              " 'anh',\n",
              " 'đc',\n",
              " 'toàn',\n",
              " 'giờ',\n",
              " 'ông',\n",
              " 'chơi',\n",
              " 'ngủ',\n",
              " 'trong',\n",
              " 'luôn',\n",
              " 'ả',\n",
              " 'câu',\n",
              " 'được',\n",
              " 'mình',\n",
              " 'bắt',\n",
              " 'con',\n",
              " 'thấy',\n",
              " 'nói',\n",
              " 'làm',\n",
              " 'hơn',\n",
              " 'vôđịch',\n",
              " 'kiểu',\n",
              " 'j',\n",
              " 'à',\n",
              " 'mua',\n",
              " 'chuyền',\n",
              " 'qua',\n",
              " 'mẹ',\n",
              " 'ai',\n",
              " 'u23',\n",
              " 'lắm',\n",
              " 'nay',\n",
              " 'bọn',\n",
              " 'da',\n",
              " '🇻',\n",
              " 'đúng',\n",
              " 'đã',\n",
              " 'vô',\n",
              " 'với',\n",
              " 'v',\n",
              " 'người',\n",
              " 'đội',\n",
              " 'vãi',\n",
              " 'coi',\n",
              " 'má',\n",
              " 'tệ',\n",
              " 'phải',\n",
              " 'ngu',\n",
              " 'em',\n",
              " 'nhiều',\n",
              " 'loại',\n",
              " 'chân',\n",
              " 'm',\n",
              " 'tiến',\n",
              " 'cả',\n",
              " 'bạn',\n",
              " 'nhìn',\n",
              " 'đó',\n",
              " 'cc',\n",
              " 'số',\n",
              " 'h',\n",
              " 'cứ',\n",
              " 'của',\n",
              " 'trái',\n",
              " 'giòn',\n",
              " 'và',\n",
              " 'thay',\n",
              " 'biết',\n",
              " 'bay',\n",
              " 'a',\n",
              " 'để',\n",
              " 'vl',\n",
              " '20',\n",
              " 'nhật',\n",
              " 'thủmôn',\n",
              " 'tai',\n",
              " 'phút',\n",
              " 'cầuthủ',\n",
              " 'mới',\n",
              " 'mạnh',\n",
              " '12',\n",
              " 'sút',\n",
              " 'thật',\n",
              " 'kém',\n",
              " 'ở',\n",
              " 'gặp',\n",
              " 'chưa',\n",
              " 'sẽ',\n",
              " 'nước',\n",
              " 'nhé',\n",
              " 'chỉ',\n",
              " 'nha',\n",
              " 'chuẩn',\n",
              " 'tôi',\n",
              " 'chứ',\n",
              " 'trỌngtÀi',\n",
              " 'thái',\n",
              " 'đầu',\n",
              " 'trời',\n",
              " 'blv',\n",
              " 'tao',\n",
              " 'quang',\n",
              " 'vẫn',\n",
              " 'co',\n",
              " 'hiệp',\n",
              " 'do',\n",
              " 'yêu',\n",
              " 'thẻ',\n",
              " 'park',\n",
              " 'gỗ',\n",
              " 'tốt',\n",
              " 'quả',\n",
              " 'nhỉ',\n",
              " 'yếu',\n",
              " 't',\n",
              " 'ĐÁ',\n",
              " 'vs',\n",
              " 'hoà',\n",
              " 'Ả',\n",
              " 'thổi',\n",
              " 'nhưng',\n",
              " 'may',\n",
              " 'nhà',\n",
              " 'hàn',\n",
              " 'á',\n",
              " 'đê',\n",
              " 'đây',\n",
              " 'viet',\n",
              " 'chịu',\n",
              " 'đừng',\n",
              " 'vòng',\n",
              " 'thẻđỏ',\n",
              " 'non',\n",
              " 'nhanh',\n",
              " 'chạy',\n",
              " 'chiếnthắng',\n",
              " 'đấy',\n",
              " 'lỗi',\n",
              " '30',\n",
              " 'nên',\n",
              " '5',\n",
              " 'xong',\n",
              " 'thang',\n",
              " 'rất',\n",
              " 'mất',\n",
              " 'lÀ',\n",
              " 'hlv',\n",
              " '21',\n",
              " 'dũng',\n",
              " 'nổi',\n",
              " 'ta',\n",
              " 'sau',\n",
              " 'z',\n",
              " 'roi',\n",
              " 'myanmar',\n",
              " 'hòa',\n",
              " 'dc',\n",
              " 'bánđộ',\n",
              " 'mn',\n",
              " 'acc',\n",
              " 'đến',\n",
              " 'nhƯ',\n",
              " 'dở',\n",
              " 'chết',\n",
              " '11',\n",
              " 'ok',\n",
              " 'bìnhluận',\n",
              " 'đòi',\n",
              " 'phạt',\n",
              " 'tÀi',\n",
              " 'tiền',\n",
              " 'bàn',\n",
              " 'var',\n",
              " 'muốn',\n",
              " 'đa',\n",
              " 'khó',\n",
              " 'ghibàn',\n",
              " 'chê',\n",
              " 'từ',\n",
              " 'khi',\n",
              " 'ghê',\n",
              " 'gà',\n",
              " 'giỏi',\n",
              " 'cốgắng',\n",
              " 'chửi',\n",
              " 'lol',\n",
              " 'e',\n",
              " '🇳',\n",
              " 'thiênvị',\n",
              " 'nhất',\n",
              " 'mãi',\n",
              " 'yÊu',\n",
              " 'trẻ',\n",
              " 'hoàng',\n",
              " 'bảng',\n",
              " 'bên',\n",
              " 'nho',\n",
              " 'Đi',\n",
              " 'l',\n",
              " 'bóngđá',\n",
              " 'ạ',\n",
              " 'н',\n",
              " 'νιỆтиαмνÔĐỊ',\n",
              " '¢',\n",
              " 'quÁ',\n",
              " 'lồn',\n",
              " 'lỒn',\n",
              " 'cần',\n",
              " 'sân',\n",
              " 'ma',\n",
              " 'len',\n",
              " 'chângỗ',\n",
              " 'anhyÊutỐ',\n",
              " 'xê',\n",
              " 'văn',\n",
              " 'vcl',\n",
              " 'vc',\n",
              " 'mày',\n",
              " 'họ',\n",
              " 'hơi',\n",
              " 'giải',\n",
              " 'buồn',\n",
              " 'năm',\n",
              " 'nhu',\n",
              " 'ngoài',\n",
              " 'di',\n",
              " 'chan',\n",
              " 'bằng',\n",
              " 'bảo',\n",
              " '🇻🇳',\n",
              " 'tụi',\n",
              " 'the',\n",
              " 'đức',\n",
              " 'tuổi',\n",
              " 'liu',\n",
              " 'lan',\n",
              " 'hải',\n",
              " 'ban',\n",
              " 'ép',\n",
              " 'thu',\n",
              " 'ngon',\n",
              " 'ditme',\n",
              " 'út',\n",
              " 'trước',\n",
              " 'đéo',\n",
              " 'xin',\n",
              " 'pen',\n",
              " 'mặt',\n",
              " 'lần',\n",
              " 'chó',\n",
              " 'xàm',\n",
              " 'vao',\n",
              " 'một',\n",
              " 'myanma',\n",
              " 'kia',\n",
              " 'hả',\n",
              " 'cầm',\n",
              " 'công',\n",
              " 'banh',\n",
              " 'anhem',\n",
              " 'vo',\n",
              " 'thÔi',\n",
              " 'sớm',\n",
              " 'spam',\n",
              " 'cao',\n",
              " 'bẩn',\n",
              " 'ao',\n",
              " 'đm',\n",
              " 'xỉu',\n",
              " 'ngày',\n",
              " 'kìa',\n",
              " '00',\n",
              " 'đỉnh',\n",
              " 'đấm',\n",
              " 'ít',\n",
              " 'tồi',\n",
              " 'trình',\n",
              " 'rỒi',\n",
              " 'p',\n",
              " 'nghỉ',\n",
              " 'ngay',\n",
              " 'mọi',\n",
              " 'mai',\n",
              " 'áo',\n",
              " 'xa',\n",
              " 'tập',\n",
              " 'tui',\n",
              " 'thủ',\n",
              " 'nhau',\n",
              " 'bài',\n",
              " '23',\n",
              " 'trên',\n",
              " 'oi',\n",
              " 'ng',\n",
              " 'la',\n",
              " 'khác',\n",
              " 'hai',\n",
              " 'chả',\n",
              " 'bỏ',\n",
              " 'arap',\n",
              " 'đỏ',\n",
              " 'đấu',\n",
              " 'vÂnanh',\n",
              " 'vietnam',\n",
              " 'me',\n",
              " 'lối',\n",
              " 'làng',\n",
              " 'dm',\n",
              " '100',\n",
              " '…',\n",
              " 'ănvạ',\n",
              " 'thoi',\n",
              " 'thi',\n",
              " 'sai',\n",
              " 'bản',\n",
              " 'tí',\n",
              " 'tin',\n",
              " 'sợ',\n",
              " 'pha',\n",
              " 'ngỦ',\n",
              " 'nghĩ',\n",
              " 'lấy',\n",
              " 'hômnay',\n",
              " 'hát',\n",
              " 'cỐ',\n",
              " 'chúngta',\n",
              " 'bố',\n",
              " 'win',\n",
              " 'to',\n",
              " 'phạm',\n",
              " 'nÀy',\n",
              " 'no',\n",
              " 'nghe',\n",
              " 'hàng',\n",
              " 'cl',\n",
              " 'ấy',\n",
              " 'tiềnđạo',\n",
              " 'o',\n",
              " 'lÊn',\n",
              " 'cay',\n",
              " 'an',\n",
              " '𝙇À',\n",
              " '𝙆𝙊',\n",
              " '𝙂𝙄Ò𝙉',\n",
              " 'đang',\n",
              " 'ĐÂ𝙐',\n",
              " 'vừa',\n",
              " 'tỒi',\n",
              " 'tấncông',\n",
              " 'thiếu',\n",
              " 'quốc',\n",
              " 'nhờ',\n",
              " 'cÓ',\n",
              " 'chung',\n",
              " '🇸',\n",
              " 'trâu',\n",
              " 'tr',\n",
              " 'thầy',\n",
              " 'tay',\n",
              " 'sinhnhatsao',\n",
              " 'lêvănĐô',\n",
              " 'hỏng',\n",
              " 'hậuvệ',\n",
              " 'fb',\n",
              " 'cơhội',\n",
              " 'cháu',\n",
              " 'cha',\n",
              " '7',\n",
              " '6',\n",
              " '4',\n",
              " 'đưa',\n",
              " 'n',\n",
              " 'hiểu',\n",
              " 'gi',\n",
              " 'đẹp',\n",
              " 'đạp',\n",
              " 'Ông',\n",
              " 'tk',\n",
              " 'thậtsự',\n",
              " 'nếu',\n",
              " 'nè',\n",
              " 'ngáo',\n",
              " 'lam',\n",
              " 'gánh',\n",
              " 'giữ',\n",
              " '𝘾𝙃Ắ𝘾',\n",
              " 'đánh',\n",
              " 'đ',\n",
              " 'việtnamvôđịch',\n",
              " 've',\n",
              " 'tên',\n",
              " 'thẻvàng',\n",
              " 'thÌ',\n",
              " 'nhatài',\n",
              " 'lạy',\n",
              " 'lũ',\n",
              " 'hài',\n",
              " 'hoài',\n",
              " 'doi',\n",
              " 'bánkết',\n",
              " 'đứa',\n",
              " 'mong',\n",
              " 'kêu',\n",
              " 'ksa',\n",
              " 'ik',\n",
              " 'cười',\n",
              " 'cô',\n",
              " 'c',\n",
              " 'đô',\n",
              " 'viỆt',\n",
              " 'tới',\n",
              " 'tiếng',\n",
              " 'thẺĐỎ',\n",
              " 'gÌ',\n",
              " 'giống',\n",
              " 'đỡ',\n",
              " 'đau',\n",
              " 'éo',\n",
              " 'vì',\n",
              " 'vàng',\n",
              " 'tt',\n",
              " 'toang',\n",
              " 'tiếc',\n",
              " 'thứ',\n",
              " 'thg',\n",
              " 's',\n",
              " 'noi',\n",
              " 'nhục',\n",
              " 'nhớ',\n",
              " 'lun',\n",
              " 'khÔng',\n",
              " 'cau',\n",
              " 'bão',\n",
              " 'bt',\n",
              " 'độituyển',\n",
              " 'đêm',\n",
              " 'đen',\n",
              " 'van',\n",
              " 'thêm',\n",
              " 'sức',\n",
              " 'so',\n",
              " 'rùi',\n",
              " 'những',\n",
              " 'ngta',\n",
              " 'loz',\n",
              " 'khong',\n",
              " 'hùngdũng',\n",
              " 'dụng',\n",
              " 'càng',\n",
              " 'chấp',\n",
              " 'cai',\n",
              " 'đợi',\n",
              " 'wa',\n",
              " 'vai',\n",
              " 'tựtin',\n",
              " 'tại',\n",
              " 'tù',\n",
              " 'tìm',\n",
              " 'trọng',\n",
              " 'nét',\n",
              " 'mệt',\n",
              " 'lâu',\n",
              " 'haha',\n",
              " 'dỡ',\n",
              " 'dung',\n",
              " 'chuẩnbị',\n",
              " 'chi',\n",
              " '31',\n",
              " '13',\n",
              " 'đập',\n",
              " 'vÀo',\n",
              " 'thẰng',\n",
              " 'theo',\n",
              " 'th',\n",
              " 'phốihợp',\n",
              " 'phá',\n",
              " 'nữ',\n",
              " 'nx',\n",
              " 'ngồi',\n",
              " 'namvôđịch',\n",
              " 'lon',\n",
              " 'kkk',\n",
              " 'kg',\n",
              " 'dau',\n",
              " 'cánh',\n",
              " 'chÂngỖ',\n",
              " 'cac',\n",
              " 'ah',\n",
              " '……',\n",
              " 'đổ',\n",
              " 'tháilan',\n",
              " 'sử',\n",
              " 'mÀ',\n",
              " 'lúc',\n",
              " 'lm',\n",
              " 'kèo',\n",
              " 'khỏe',\n",
              " 'gáy',\n",
              " 'dcm',\n",
              " 'cặc',\n",
              " 'cùng',\n",
              " 'chờ',\n",
              " 'chính',\n",
              " 'bớt',\n",
              " 'bù',\n",
              " 'ak',\n",
              " '22',\n",
              " 'Đức',\n",
              " 'xe',\n",
              " 'vay',\n",
              " 'tạt',\n",
              " 'tiếp',\n",
              " 'tien',\n",
              " 'thích',\n",
              " 'nhâm',\n",
              " 'mắt',\n",
              " 'minh',\n",
              " 'lÊvĂnĐÔ',\n",
              " 'khỏi',\n",
              " 'hãy',\n",
              " 'hivọng',\n",
              " 'cút',\n",
              " 'cu',\n",
              " 'chẳng',\n",
              " 'bìnhtĩnh',\n",
              " 'anti',\n",
              " '50',\n",
              " '🇻🇳🇻🇳🇻🇳🇻🇳',\n",
              " '🇻🇳🇻🇳🇻🇳',\n",
              " 'ổn',\n",
              " 'vẬy',\n",
              " 'việtvị',\n",
              " 'tức',\n",
              " 'tối',\n",
              " 'pay',\n",
              " 'ngườita',\n",
              " 'mừnganh',\n",
              " 'mồm',\n",
              " 'indo',\n",
              " 'gãy',\n",
              " 'giÒn',\n",
              " 'dễ',\n",
              " 'chúc',\n",
              " 'chim',\n",
              " 'ứcchế',\n",
              " 'đứng',\n",
              " 'ý',\n",
              " 'ôi',\n",
              " 'xỨngĐÁng',\n",
              " 'vui',\n",
              " 'u',\n",
              " 'tuyệtvời',\n",
              " 'thừa',\n",
              " 'team',\n",
              " 'saudi',\n",
              " 'rờirạc',\n",
              " 'rẬp',\n",
              " 'nổ',\n",
              " 'nằm',\n",
              " 'nản',\n",
              " 'mỗi',\n",
              " 'máy',\n",
              " 'lào',\n",
              " 'làmsao',\n",
              " 'lo',\n",
              " 'lai',\n",
              " 'khángiả',\n",
              " 'hànquốc',\n",
              " 'gỡ',\n",
              " 'béomẹ',\n",
              " 'bán',\n",
              " 'bao',\n",
              " 'ba',\n",
              " '🇻🇳🇻🇳',\n",
              " 'ủa',\n",
              " 'ảo',\n",
              " 'đôi',\n",
              " 'ĐÊ',\n",
              " 'ĐÂu',\n",
              " 'vài',\n",
              " 'trúng',\n",
              " 'trai',\n",
              " 'toi',\n",
              " 'thui',\n",
              " 'out',\n",
              " 'nÀo',\n",
              " 'nua',\n",
              " 'mắc',\n",
              " 'hếtsức',\n",
              " 'dù',\n",
              " 'dit',\n",
              " 'cổvũ',\n",
              " 'chắcchắn',\n",
              " 'chạm',\n",
              " 'chiến',\n",
              " 'chiên',\n",
              " 'bl',\n",
              " '40',\n",
              " '32',\n",
              " '●♡∀♡',\n",
              " 'đủ',\n",
              " 'Úc',\n",
              " 'xấu',\n",
              " 'va',\n",
              " 'tốn',\n",
              " 'tiÊnlinh',\n",
              " 'thếnào',\n",
              " 'thương',\n",
              " 'thiệt',\n",
              " 'rap',\n",
              " 'nick',\n",
              " 'mu',\n",
              " 'iu',\n",
              " 'hang',\n",
              " 'ghét',\n",
              " 'ghi',\n",
              " 'fan',\n",
              " 'dich',\n",
              " 'cơ',\n",
              " 'cx',\n",
              " 'cung',\n",
              " 'cmm',\n",
              " 'chúngmày',\n",
              " 'chuyen',\n",
              " 'chs',\n",
              " 'bong',\n",
              " '01',\n",
              " '🇻🇳🇻🇳🇻🇳🇻🇳🇻🇳',\n",
              " 'địtmẹ',\n",
              " 'địt',\n",
              " 'ynhƯ',\n",
              " 'vinh',\n",
              " 'sáng',\n",
              " 'quay',\n",
              " 'qq',\n",
              " 'phanthanhbÌnh',\n",
              " 'nữatrọng',\n",
              " 'nhá',\n",
              " 'mõm',\n",
              " 'maymắn',\n",
              " 'lua',\n",
              " 'liêntục',\n",
              " 'kinh',\n",
              " 'khen',\n",
              " 'in4',\n",
              " 'i',\n",
              " 'hẾt',\n",
              " 'giò',\n",
              " 'cứt',\n",
              " 'cÒn',\n",
              " 'chẮc',\n",
              " 'chút',\n",
              " 'chien',\n",
              " 'check',\n",
              " 'chat',\n",
              " 'bìnhluậnviên',\n",
              " 'bn',\n",
              " '02',\n",
              " 'xuống',\n",
              " 'xanh',\n",
              " 'tự',\n",
              " 'tỐ',\n",
              " 'tây',\n",
              " 'tuyển',\n",
              " 'trẬn',\n",
              " 'tim',\n",
              " 'thời',\n",
              " 'que',\n",
              " 'nãy',\n",
              " 'nhập',\n",
              " 'nhận',\n",
              " 'nghi',\n",
              " 'ncc',\n",
              " 'messi',\n",
              " 'lỨa',\n",
              " 'lê',\n",
              " 'liền',\n",
              " 'h1',\n",
              " 'dứtđiểm',\n",
              " 'dám',\n",
              " 'căng',\n",
              " 'cÁi',\n",
              " 'cuối',\n",
              " 'chào',\n",
              " 'cam',\n",
              " 'bắn',\n",
              " 'b',\n",
              " 'đỗ',\n",
              " 'đều',\n",
              " 'điểm',\n",
              " 'ănmừng',\n",
              " 'vỀ',\n",
              " 'vé',\n",
              " 'toan',\n",
              " 'thếnày',\n",
              " 'rút',\n",
              " 'quý',\n",
              " 'phím',\n",
              " 'nÓ',\n",
              " 'nhẹ',\n",
              " 'mya',\n",
              " 'mang',\n",
              " 'kh',\n",
              " 'im',\n",
              " 'hên',\n",
              " 'hack',\n",
              " 'gọi',\n",
              " 'dùm',\n",
              " 'dô',\n",
              " 'dá',\n",
              " 'chậm',\n",
              " 'chúng',\n",
              " 'chínhxác',\n",
              " 'chungkết',\n",
              " 'campuchia',\n",
              " 'bò',\n",
              " 'bàibản',\n",
              " 'bi',\n",
              " '9',\n",
              " '15',\n",
              " 'ỉa',\n",
              " 'đổlỗi',\n",
              " 'đồng',\n",
              " 'ĐÚng',\n",
              " 'óc',\n",
              " 'ác',\n",
              " 'vÔĐỊch',\n",
              " 'viêt',\n",
              " 'tầm',\n",
              " 'tâmlý',\n",
              " 'ti',\n",
              " 'thểlực',\n",
              " 'thấp',\n",
              " 'sắp',\n",
              " 'rõ',\n",
              " 'nịt',\n",
              " 'nhìu',\n",
              " 'ngụy',\n",
              " 'nguu',\n",
              " 'mẤy',\n",
              " 'muôn',\n",
              " 'luânlưu',\n",
              " 'kkkk',\n",
              " 'khá',\n",
              " 'info',\n",
              " 'hồ',\n",
              " 'huấnluyệnviên',\n",
              " 'góc',\n",
              " 'go',\n",
              " 'dậy',\n",
              " 'de',\n",
              " 'd',\n",
              " 'cầu',\n",
              " 'còi',\n",
              " 'clm',\n",
              " 'chốt',\n",
              " 'chúcmừng',\n",
              " 'chú',\n",
              " 'chàng',\n",
              " 'chx',\n",
              " 'chiếnthuật',\n",
              " 'chac',\n",
              " 'ca',\n",
              " 'bà',\n",
              " 'bon',\n",
              " 'bat',\n",
              " '90',\n",
              " '🇦',\n",
              " '𝙡à𝙠𝙝ô𝙣𝙜𝙜𝙞ò𝙣',\n",
              " 'đất',\n",
              " 'đường',\n",
              " 'đông',\n",
              " 'điều',\n",
              " 'xinh',\n",
              " 'vkl',\n",
              " 'tỉsố',\n",
              " 'tươnglai',\n",
              " 'tóc',\n",
              " 'trắng',\n",
              " 'thờigian',\n",
              " 'thếhệ',\n",
              " 'thấtvọng',\n",
              " 'thánh',\n",
              " 'that',\n",
              " 'sủa',\n",
              " 'seagame',\n",
              " 'red',\n",
              " 'quê',\n",
              " 'nhÌn',\n",
              " 'mù',\n",
              " 'lơn',\n",
              " 'kiếm',\n",
              " 'học',\n",
              " 'hếtmình',\n",
              " 'hảo',\n",
              " 'hạch',\n",
              " 'hùa',\n",
              " 'hyvọng',\n",
              " 'giữa',\n",
              " 'game',\n",
              " 'dưới',\n",
              " 'dơ',\n",
              " 'dell',\n",
              " 'cÓvẺ',\n",
              " 'cmnr',\n",
              " 'chỨ',\n",
              " 'chủ',\n",
              " 'chíminh',\n",
              " 'châu',\n",
              " 'chua',\n",
              " 'buồnngủ',\n",
              " '19',\n",
              " '🇸🇦',\n",
              " 'đần',\n",
              " 'đú',\n",
              " 'đuổi',\n",
              " 'Đội',\n",
              " 'ĐƯỢc',\n",
              " 'Ăn',\n",
              " 'xíu',\n",
              " 'xém',\n",
              " 'xuân',\n",
              " 'vừatầm',\n",
              " 'vũ',\n",
              " 'ui',\n",
              " 'tạ',\n",
              " 'tôm',\n",
              " 'té',\n",
              " 'tv',\n",
              " 'tuấn',\n",
              " 'truyền',\n",
              " 'thẮng',\n",
              " 'thăng',\n",
              " 'thôngcảm',\n",
              " 'thành',\n",
              " 'thanh',\n",
              " 'thag',\n",
              " 'sự',\n",
              " 'se',\n",
              " 'ri',\n",
              " 'quan',\n",
              " 'onl',\n",
              " 'nội',\n",
              " 'nỗi',\n",
              " 'nặng',\n",
              " 'nóiphét',\n",
              " 'nhung',\n",
              " 'méo',\n",
              " 'mé',\n",
              " 'moi',\n",
              " 'lịchsử',\n",
              " 'lơncon',\n",
              " 'luon',\n",
              " 'long',\n",
              " 'le',\n",
              " 'lao',\n",
              " 'kk',\n",
              " 'kieu',\n",
              " 'khóc',\n",
              " 'hoa',\n",
              " 'het',\n",
              " 'hcv',\n",
              " 'gần',\n",
              " 'giàu',\n",
              " 'gg',\n",
              " 'day',\n",
              " 'cụ',\n",
              " 'conmẹ',\n",
              " 'cmt',\n",
              " 'chiếnbinh',\n",
              " 'bật',\n",
              " 'bùi',\n",
              " 'bànthờ',\n",
              " 'bÌnhluẬnviÊn',\n",
              " 'bo',\n",
              " 'biên',\n",
              " '14',\n",
              " 'đểu',\n",
              " 'đói',\n",
              " 'Đô',\n",
              " 'zô',\n",
              " 'xóm',\n",
              " 'vÀ',\n",
              " 'việc',\n",
              " 'viết',\n",
              " 'u23vn',\n",
              " 'tỷsố',\n",
              " 'tàolao',\n",
              " 'trìnhđộ',\n",
              " 'toản',\n",
              " 'ròi',\n",
              " 'roiiiiiiiiiiiiiiivaooooooooooo',\n",
              " 'quần',\n",
              " 'phế',\n",
              " 'phượng',\n",
              " 'online',\n",
              " 'nỮa',\n",
              " 'nửa',\n",
              " 'ntn',\n",
              " 'nhiỀu',\n",
              " 'nc',\n",
              " 'màcòn',\n",
              " 'miếng',\n",
              " 'lêvănxuân',\n",
              " 'kênh',\n",
              " 'kiỆtchÂu',\n",
              " 'hợp',\n",
              " 'hồi',\n",
              " 'hẳn',\n",
              " 'hãm',\n",
              " 'huychương',\n",
              " 'h2',\n",
              " 'face',\n",
              " 'dị',\n",
              " 'dân',\n",
              " 'cỦa',\n",
              " 'cổđộngviên',\n",
              " 'cóthể',\n",
              " 'cách',\n",
              " 'cào',\n",
              " 'cÔng',\n",
              " 'cm',\n",
              " 'chấpnhận',\n",
              " 'chúngnó',\n",
              " 'binh',\n",
              " 'biet',\n",
              " 'độihình',\n",
              " 'đổthừa',\n",
              " 'đổi',\n",
              " 'đốithủ',\n",
              " 'đcm',\n",
              " 'ĐỪng',\n",
              " 'ĐÃ',\n",
              " 'ănthua',\n",
              " 'À',\n",
              " ...]"
            ]
          },
          "metadata": {},
          "execution_count": 147
        }
      ]
    },
    {
      "cell_type": "code",
      "execution_count": 148,
      "metadata": {
        "tags": [],
        "id": "ojtRaE-DMmkx"
      },
      "outputs": [],
      "source": [
        "vectorized_text = vectorizer(X.values)"
      ]
    },
    {
      "cell_type": "code",
      "source": [
        "num =int(input())  # Chọn stt của comment\n",
        "print(\"Đoạn comment ban đầu: \")\n",
        "print(X[0][num])\n",
        "print()\n",
        "print(\"Sau khi vector hóa: \")\n",
        "print(vectorized_text[num])\n",
        "print()\n",
        "print(\"Kiểm tra lại: \")\n",
        "for i in range(0,len(vectorized_text[num])):\n",
        "  if(vectorized_text[num][i]!=0):\n",
        "    print(vectorizer.get_vocabulary()[vectorized_text[num][i]],end=' ')"
      ],
      "metadata": {
        "id": "DaIiA3qaXSZz",
        "colab": {
          "base_uri": "https://localhost:8080/"
        },
        "outputId": "102adaac-f0a1-424c-be55-a4da7198839e"
      },
      "execution_count": 149,
      "outputs": [
        {
          "output_type": "stream",
          "name": "stdout",
          "text": [
            "0\n",
            "Đoạn comment ban đầu: \n",
            "VN cố lên nha\n",
            "\n",
            "Sau khi vector hóa: \n",
            "tf.Tensor(\n",
            "[  3  29  16 156   0   0   0   0   0   0   0   0   0   0   0   0   0   0\n",
            "   0   0   0   0   0   0   0   0   0   0   0   0   0   0   0   0   0   0\n",
            "   0   0   0   0   0   0   0   0   0   0   0   0   0   0], shape=(50,), dtype=int64)\n",
            "\n",
            "Kiểm tra lại: \n",
            "vn cố lên nha "
          ]
        }
      ]
    },
    {
      "cell_type": "code",
      "execution_count": 150,
      "metadata": {
        "tags": [],
        "id": "c02tH6W_Mmkx"
      },
      "outputs": [],
      "source": [
        "#MCSHBAP - map, chache, shuffle, batch, prefetch  from_tensor_slices, list_file\n",
        "dataset = tf.data.Dataset.from_tensor_slices((vectorized_text, y))\n",
        "dataset = dataset.cache()\n",
        "dataset = dataset.shuffle(160000)\n",
        "dataset = dataset.batch(16)\n",
        "dataset = dataset.prefetch(8) # helps bottlenecks"
      ]
    },
    {
      "cell_type": "code",
      "source": [
        "batch_X , batch_y = dataset.as_numpy_iterator().next()"
      ],
      "metadata": {
        "id": "vj5Dj0tBdzsp"
      },
      "execution_count": 151,
      "outputs": []
    },
    {
      "cell_type": "code",
      "execution_count": 152,
      "metadata": {
        "tags": [],
        "id": "so1p8CxTMmkx"
      },
      "outputs": [],
      "source": [
        "train = dataset.take(int(len(dataset)*.6))#Train set 60%\n",
        "val = dataset.skip(int(len(dataset)*.6)).take(int(len(dataset)*.2))#Valuating set 20%\n",
        "test = dataset.skip(int(len(dataset)*.8)).take(int(len(dataset)*.2))#Test set 20%"
      ]
    },
    {
      "cell_type": "markdown",
      "metadata": {
        "id": "Zr8_hX0ZMmky"
      },
      "source": [
        "# 2. Create Sequential Model"
      ]
    },
    {
      "cell_type": "code",
      "execution_count": 153,
      "metadata": {
        "tags": [],
        "id": "ViiXYtt0Mmky"
      },
      "outputs": [],
      "source": [
        "from tensorflow.keras.models import Sequential\n",
        "from tensorflow.keras.layers import LSTM, Dropout, Bidirectional, Dense, Embedding"
      ]
    },
    {
      "cell_type": "code",
      "execution_count": 154,
      "metadata": {
        "tags": [],
        "id": "Avj-JdrsMmky"
      },
      "outputs": [],
      "source": [
        "model = Sequential()\n",
        "# Create the embedding layer \n",
        "model.add(Embedding(MAX_FEATURES+1, 32))\n",
        "# Bidirectional LSTM Layer\n",
        "model.add(Bidirectional(LSTM(32, activation='tanh')))\n",
        "# Feature extractor Fully connected layers\n",
        "model.add(Dense(128, activation='relu'))\n",
        "model.add(Dense(256, activation='relu'))\n",
        "model.add(Dense(512, activation='relu'))\n",
        "# Final layer \n",
        "model.add(Dense(1, activation='sigmoid'))"
      ]
    },
    {
      "cell_type": "code",
      "source": [
        "import keras\n",
        "%matplotlib inline \n",
        "\n",
        "from keras.utils.vis_utils import plot_model\n",
        "plot_model(model, to_file='cnn_model.png')\n",
        "\n",
        "# show model\n",
        "from IPython.display import SVG\n",
        "from keras.utils.vis_utils import model_to_dot\n",
        "SVG(model_to_dot(model,show_shapes=True).create(prog='dot', format='svg'))"
      ],
      "metadata": {
        "id": "tw1I_SnrF6Cj",
        "colab": {
          "base_uri": "https://localhost:8080/",
          "height": 1000
        },
        "outputId": "d40f9749-f197-443f-f367-754f02fe149a"
      },
      "execution_count": 155,
      "outputs": [
        {
          "output_type": "execute_result",
          "data": {
            "text/plain": [
              "<IPython.core.display.SVG object>"
            ],
            "image/svg+xml": "<svg height=\"737pt\" viewBox=\"0.00 0.00 416.00 553.00\" width=\"555pt\" xmlns=\"http://www.w3.org/2000/svg\" xmlns:xlink=\"http://www.w3.org/1999/xlink\">\n<g class=\"graph\" id=\"graph0\" transform=\"scale(1.3333 1.3333) rotate(0) translate(4 549)\">\n<title>G</title>\n<polygon fill=\"#ffffff\" points=\"-4,4 -4,-549 412,-549 412,4 -4,4\" stroke=\"transparent\"/>\n<!-- 140146243526032 -->\n<g class=\"node\" id=\"node1\">\n<title>140146243526032</title>\n<polygon fill=\"none\" points=\"3,-498.5 3,-544.5 405,-544.5 405,-498.5 3,-498.5\" stroke=\"#000000\"/>\n<text fill=\"#000000\" font-family=\"Times,serif\" font-size=\"14.00\" text-anchor=\"middle\" x=\"70\" y=\"-529.3\">embedding_1_input</text>\n<polyline fill=\"none\" points=\"3,-521.5 137,-521.5 \" stroke=\"#000000\"/>\n<text fill=\"#000000\" font-family=\"Times,serif\" font-size=\"14.00\" text-anchor=\"middle\" x=\"70\" y=\"-506.3\">InputLayer</text>\n<polyline fill=\"none\" points=\"137,-498.5 137,-544.5 \" stroke=\"#000000\"/>\n<text fill=\"#000000\" font-family=\"Times,serif\" font-size=\"14.00\" text-anchor=\"middle\" x=\"166\" y=\"-529.3\">input:</text>\n<polyline fill=\"none\" points=\"137,-521.5 195,-521.5 \" stroke=\"#000000\"/>\n<text fill=\"#000000\" font-family=\"Times,serif\" font-size=\"14.00\" text-anchor=\"middle\" x=\"166\" y=\"-506.3\">output:</text>\n<polyline fill=\"none\" points=\"195,-498.5 195,-544.5 \" stroke=\"#000000\"/>\n<text fill=\"#000000\" font-family=\"Times,serif\" font-size=\"14.00\" text-anchor=\"middle\" x=\"247.5\" y=\"-517.8\">[(None, None)]</text>\n<polyline fill=\"none\" points=\"300,-498.5 300,-544.5 \" stroke=\"#000000\"/>\n<text fill=\"#000000\" font-family=\"Times,serif\" font-size=\"14.00\" text-anchor=\"middle\" x=\"352.5\" y=\"-517.8\">[(None, None)]</text>\n</g>\n<!-- 140146245410192 -->\n<g class=\"node\" id=\"node2\">\n<title>140146245410192</title>\n<polygon fill=\"none\" points=\"19.5,-415.5 19.5,-461.5 388.5,-461.5 388.5,-415.5 19.5,-415.5\" stroke=\"#000000\"/>\n<text fill=\"#000000\" font-family=\"Times,serif\" font-size=\"14.00\" text-anchor=\"middle\" x=\"67.5\" y=\"-446.3\">embedding_1</text>\n<polyline fill=\"none\" points=\"19.5,-438.5 115.5,-438.5 \" stroke=\"#000000\"/>\n<text fill=\"#000000\" font-family=\"Times,serif\" font-size=\"14.00\" text-anchor=\"middle\" x=\"67.5\" y=\"-423.3\">Embedding</text>\n<polyline fill=\"none\" points=\"115.5,-415.5 115.5,-461.5 \" stroke=\"#000000\"/>\n<text fill=\"#000000\" font-family=\"Times,serif\" font-size=\"14.00\" text-anchor=\"middle\" x=\"144.5\" y=\"-446.3\">input:</text>\n<polyline fill=\"none\" points=\"115.5,-438.5 173.5,-438.5 \" stroke=\"#000000\"/>\n<text fill=\"#000000\" font-family=\"Times,serif\" font-size=\"14.00\" text-anchor=\"middle\" x=\"144.5\" y=\"-423.3\">output:</text>\n<polyline fill=\"none\" points=\"173.5,-415.5 173.5,-461.5 \" stroke=\"#000000\"/>\n<text fill=\"#000000\" font-family=\"Times,serif\" font-size=\"14.00\" text-anchor=\"middle\" x=\"221.5\" y=\"-434.8\">(None, None)</text>\n<polyline fill=\"none\" points=\"269.5,-415.5 269.5,-461.5 \" stroke=\"#000000\"/>\n<text fill=\"#000000\" font-family=\"Times,serif\" font-size=\"14.00\" text-anchor=\"middle\" x=\"329\" y=\"-434.8\">(None, None, 32)</text>\n</g>\n<!-- 140146243526032&#45;&gt;140146245410192 -->\n<g class=\"edge\" id=\"edge1\">\n<title>140146243526032-&gt;140146245410192</title>\n<path d=\"M204,-498.3799C204,-490.1745 204,-480.7679 204,-471.8786\" fill=\"none\" stroke=\"#000000\"/>\n<polygon fill=\"#000000\" points=\"207.5001,-471.784 204,-461.784 200.5001,-471.784 207.5001,-471.784\" stroke=\"#000000\"/>\n</g>\n<!-- 140146245351568 -->\n<g class=\"node\" id=\"node3\">\n<title>140146245351568</title>\n<polygon fill=\"none\" points=\"0,-332.5 0,-378.5 408,-378.5 408,-332.5 0,-332.5\" stroke=\"#000000\"/>\n<text fill=\"#000000\" font-family=\"Times,serif\" font-size=\"14.00\" text-anchor=\"middle\" x=\"75.5\" y=\"-363.3\">bidirectional_1(lstm_1)</text>\n<polyline fill=\"none\" points=\"0,-355.5 151,-355.5 \" stroke=\"#000000\"/>\n<text fill=\"#000000\" font-family=\"Times,serif\" font-size=\"14.00\" text-anchor=\"middle\" x=\"75.5\" y=\"-340.3\">Bidirectional(LSTM)</text>\n<polyline fill=\"none\" points=\"151,-332.5 151,-378.5 \" stroke=\"#000000\"/>\n<text fill=\"#000000\" font-family=\"Times,serif\" font-size=\"14.00\" text-anchor=\"middle\" x=\"180\" y=\"-363.3\">input:</text>\n<polyline fill=\"none\" points=\"151,-355.5 209,-355.5 \" stroke=\"#000000\"/>\n<text fill=\"#000000\" font-family=\"Times,serif\" font-size=\"14.00\" text-anchor=\"middle\" x=\"180\" y=\"-340.3\">output:</text>\n<polyline fill=\"none\" points=\"209,-332.5 209,-378.5 \" stroke=\"#000000\"/>\n<text fill=\"#000000\" font-family=\"Times,serif\" font-size=\"14.00\" text-anchor=\"middle\" x=\"268.5\" y=\"-351.8\">(None, None, 32)</text>\n<polyline fill=\"none\" points=\"328,-332.5 328,-378.5 \" stroke=\"#000000\"/>\n<text fill=\"#000000\" font-family=\"Times,serif\" font-size=\"14.00\" text-anchor=\"middle\" x=\"368\" y=\"-351.8\">(None, 64)</text>\n</g>\n<!-- 140146245410192&#45;&gt;140146245351568 -->\n<g class=\"edge\" id=\"edge2\">\n<title>140146245410192-&gt;140146245351568</title>\n<path d=\"M204,-415.3799C204,-407.1745 204,-397.7679 204,-388.8786\" fill=\"none\" stroke=\"#000000\"/>\n<polygon fill=\"#000000\" points=\"207.5001,-388.784 204,-378.784 200.5001,-388.784 207.5001,-388.784\" stroke=\"#000000\"/>\n</g>\n<!-- 140146245339984 -->\n<g class=\"node\" id=\"node4\">\n<title>140146245339984</title>\n<polygon fill=\"none\" points=\"59.5,-249.5 59.5,-295.5 348.5,-295.5 348.5,-249.5 59.5,-249.5\" stroke=\"#000000\"/>\n<text fill=\"#000000\" font-family=\"Times,serif\" font-size=\"14.00\" text-anchor=\"middle\" x=\"91.5\" y=\"-280.3\">dense_4</text>\n<polyline fill=\"none\" points=\"59.5,-272.5 123.5,-272.5 \" stroke=\"#000000\"/>\n<text fill=\"#000000\" font-family=\"Times,serif\" font-size=\"14.00\" text-anchor=\"middle\" x=\"91.5\" y=\"-257.3\">Dense</text>\n<polyline fill=\"none\" points=\"123.5,-249.5 123.5,-295.5 \" stroke=\"#000000\"/>\n<text fill=\"#000000\" font-family=\"Times,serif\" font-size=\"14.00\" text-anchor=\"middle\" x=\"152.5\" y=\"-280.3\">input:</text>\n<polyline fill=\"none\" points=\"123.5,-272.5 181.5,-272.5 \" stroke=\"#000000\"/>\n<text fill=\"#000000\" font-family=\"Times,serif\" font-size=\"14.00\" text-anchor=\"middle\" x=\"152.5\" y=\"-257.3\">output:</text>\n<polyline fill=\"none\" points=\"181.5,-249.5 181.5,-295.5 \" stroke=\"#000000\"/>\n<text fill=\"#000000\" font-family=\"Times,serif\" font-size=\"14.00\" text-anchor=\"middle\" x=\"221.5\" y=\"-268.8\">(None, 64)</text>\n<polyline fill=\"none\" points=\"261.5,-249.5 261.5,-295.5 \" stroke=\"#000000\"/>\n<text fill=\"#000000\" font-family=\"Times,serif\" font-size=\"14.00\" text-anchor=\"middle\" x=\"305\" y=\"-268.8\">(None, 128)</text>\n</g>\n<!-- 140146245351568&#45;&gt;140146245339984 -->\n<g class=\"edge\" id=\"edge3\">\n<title>140146245351568-&gt;140146245339984</title>\n<path d=\"M204,-332.3799C204,-324.1745 204,-314.7679 204,-305.8786\" fill=\"none\" stroke=\"#000000\"/>\n<polygon fill=\"#000000\" points=\"207.5001,-305.784 204,-295.784 200.5001,-305.784 207.5001,-305.784\" stroke=\"#000000\"/>\n</g>\n<!-- 140146243574544 -->\n<g class=\"node\" id=\"node5\">\n<title>140146243574544</title>\n<polygon fill=\"none\" points=\"56,-166.5 56,-212.5 352,-212.5 352,-166.5 56,-166.5\" stroke=\"#000000\"/>\n<text fill=\"#000000\" font-family=\"Times,serif\" font-size=\"14.00\" text-anchor=\"middle\" x=\"88\" y=\"-197.3\">dense_5</text>\n<polyline fill=\"none\" points=\"56,-189.5 120,-189.5 \" stroke=\"#000000\"/>\n<text fill=\"#000000\" font-family=\"Times,serif\" font-size=\"14.00\" text-anchor=\"middle\" x=\"88\" y=\"-174.3\">Dense</text>\n<polyline fill=\"none\" points=\"120,-166.5 120,-212.5 \" stroke=\"#000000\"/>\n<text fill=\"#000000\" font-family=\"Times,serif\" font-size=\"14.00\" text-anchor=\"middle\" x=\"149\" y=\"-197.3\">input:</text>\n<polyline fill=\"none\" points=\"120,-189.5 178,-189.5 \" stroke=\"#000000\"/>\n<text fill=\"#000000\" font-family=\"Times,serif\" font-size=\"14.00\" text-anchor=\"middle\" x=\"149\" y=\"-174.3\">output:</text>\n<polyline fill=\"none\" points=\"178,-166.5 178,-212.5 \" stroke=\"#000000\"/>\n<text fill=\"#000000\" font-family=\"Times,serif\" font-size=\"14.00\" text-anchor=\"middle\" x=\"221.5\" y=\"-185.8\">(None, 128)</text>\n<polyline fill=\"none\" points=\"265,-166.5 265,-212.5 \" stroke=\"#000000\"/>\n<text fill=\"#000000\" font-family=\"Times,serif\" font-size=\"14.00\" text-anchor=\"middle\" x=\"308.5\" y=\"-185.8\">(None, 256)</text>\n</g>\n<!-- 140146245339984&#45;&gt;140146243574544 -->\n<g class=\"edge\" id=\"edge4\">\n<title>140146245339984-&gt;140146243574544</title>\n<path d=\"M204,-249.3799C204,-241.1745 204,-231.7679 204,-222.8786\" fill=\"none\" stroke=\"#000000\"/>\n<polygon fill=\"#000000\" points=\"207.5001,-222.784 204,-212.784 200.5001,-222.784 207.5001,-222.784\" stroke=\"#000000\"/>\n</g>\n<!-- 140146243572624 -->\n<g class=\"node\" id=\"node6\">\n<title>140146243572624</title>\n<polygon fill=\"none\" points=\"56,-83.5 56,-129.5 352,-129.5 352,-83.5 56,-83.5\" stroke=\"#000000\"/>\n<text fill=\"#000000\" font-family=\"Times,serif\" font-size=\"14.00\" text-anchor=\"middle\" x=\"88\" y=\"-114.3\">dense_6</text>\n<polyline fill=\"none\" points=\"56,-106.5 120,-106.5 \" stroke=\"#000000\"/>\n<text fill=\"#000000\" font-family=\"Times,serif\" font-size=\"14.00\" text-anchor=\"middle\" x=\"88\" y=\"-91.3\">Dense</text>\n<polyline fill=\"none\" points=\"120,-83.5 120,-129.5 \" stroke=\"#000000\"/>\n<text fill=\"#000000\" font-family=\"Times,serif\" font-size=\"14.00\" text-anchor=\"middle\" x=\"149\" y=\"-114.3\">input:</text>\n<polyline fill=\"none\" points=\"120,-106.5 178,-106.5 \" stroke=\"#000000\"/>\n<text fill=\"#000000\" font-family=\"Times,serif\" font-size=\"14.00\" text-anchor=\"middle\" x=\"149\" y=\"-91.3\">output:</text>\n<polyline fill=\"none\" points=\"178,-83.5 178,-129.5 \" stroke=\"#000000\"/>\n<text fill=\"#000000\" font-family=\"Times,serif\" font-size=\"14.00\" text-anchor=\"middle\" x=\"221.5\" y=\"-102.8\">(None, 256)</text>\n<polyline fill=\"none\" points=\"265,-83.5 265,-129.5 \" stroke=\"#000000\"/>\n<text fill=\"#000000\" font-family=\"Times,serif\" font-size=\"14.00\" text-anchor=\"middle\" x=\"308.5\" y=\"-102.8\">(None, 512)</text>\n</g>\n<!-- 140146243574544&#45;&gt;140146243572624 -->\n<g class=\"edge\" id=\"edge5\">\n<title>140146243574544-&gt;140146243572624</title>\n<path d=\"M204,-166.3799C204,-158.1745 204,-148.7679 204,-139.8786\" fill=\"none\" stroke=\"#000000\"/>\n<polygon fill=\"#000000\" points=\"207.5001,-139.784 204,-129.784 200.5001,-139.784 207.5001,-139.784\" stroke=\"#000000\"/>\n</g>\n<!-- 140146248358672 -->\n<g class=\"node\" id=\"node7\">\n<title>140146248358672</title>\n<polygon fill=\"none\" points=\"63.5,-.5 63.5,-46.5 344.5,-46.5 344.5,-.5 63.5,-.5\" stroke=\"#000000\"/>\n<text fill=\"#000000\" font-family=\"Times,serif\" font-size=\"14.00\" text-anchor=\"middle\" x=\"95.5\" y=\"-31.3\">dense_7</text>\n<polyline fill=\"none\" points=\"63.5,-23.5 127.5,-23.5 \" stroke=\"#000000\"/>\n<text fill=\"#000000\" font-family=\"Times,serif\" font-size=\"14.00\" text-anchor=\"middle\" x=\"95.5\" y=\"-8.3\">Dense</text>\n<polyline fill=\"none\" points=\"127.5,-.5 127.5,-46.5 \" stroke=\"#000000\"/>\n<text fill=\"#000000\" font-family=\"Times,serif\" font-size=\"14.00\" text-anchor=\"middle\" x=\"156.5\" y=\"-31.3\">input:</text>\n<polyline fill=\"none\" points=\"127.5,-23.5 185.5,-23.5 \" stroke=\"#000000\"/>\n<text fill=\"#000000\" font-family=\"Times,serif\" font-size=\"14.00\" text-anchor=\"middle\" x=\"156.5\" y=\"-8.3\">output:</text>\n<polyline fill=\"none\" points=\"185.5,-.5 185.5,-46.5 \" stroke=\"#000000\"/>\n<text fill=\"#000000\" font-family=\"Times,serif\" font-size=\"14.00\" text-anchor=\"middle\" x=\"229\" y=\"-19.8\">(None, 512)</text>\n<polyline fill=\"none\" points=\"272.5,-.5 272.5,-46.5 \" stroke=\"#000000\"/>\n<text fill=\"#000000\" font-family=\"Times,serif\" font-size=\"14.00\" text-anchor=\"middle\" x=\"308.5\" y=\"-19.8\">(None, 1)</text>\n</g>\n<!-- 140146243572624&#45;&gt;140146248358672 -->\n<g class=\"edge\" id=\"edge6\">\n<title>140146243572624-&gt;140146248358672</title>\n<path d=\"M204,-83.3799C204,-75.1745 204,-65.7679 204,-56.8786\" fill=\"none\" stroke=\"#000000\"/>\n<polygon fill=\"#000000\" points=\"207.5001,-56.784 204,-46.784 200.5001,-56.784 207.5001,-56.784\" stroke=\"#000000\"/>\n</g>\n</g>\n</svg>"
          },
          "metadata": {},
          "execution_count": 155
        }
      ]
    },
    {
      "cell_type": "code",
      "execution_count": 156,
      "metadata": {
        "tags": [],
        "id": "n07ViuS9Mmky"
      },
      "outputs": [],
      "source": [
        "model.compile(loss='BinaryCrossentropy', optimizer='Adam')"
      ]
    },
    {
      "cell_type": "code",
      "execution_count": 157,
      "metadata": {
        "tags": [],
        "id": "wDtreQoIMmky",
        "colab": {
          "base_uri": "https://localhost:8080/"
        },
        "outputId": "c790041e-a669-4152-d68d-9d6a2584f85b"
      },
      "outputs": [
        {
          "output_type": "stream",
          "name": "stdout",
          "text": [
            "Model: \"sequential_1\"\n",
            "_________________________________________________________________\n",
            " Layer (type)                Output Shape              Param #   \n",
            "=================================================================\n",
            " embedding_1 (Embedding)     (None, None, 32)          6400032   \n",
            "                                                                 \n",
            " bidirectional_1 (Bidirectio  (None, 64)               16640     \n",
            " nal)                                                            \n",
            "                                                                 \n",
            " dense_4 (Dense)             (None, 128)               8320      \n",
            "                                                                 \n",
            " dense_5 (Dense)             (None, 256)               33024     \n",
            "                                                                 \n",
            " dense_6 (Dense)             (None, 512)               131584    \n",
            "                                                                 \n",
            " dense_7 (Dense)             (None, 1)                 513       \n",
            "                                                                 \n",
            "=================================================================\n",
            "Total params: 6,590,113\n",
            "Trainable params: 6,590,113\n",
            "Non-trainable params: 0\n",
            "_________________________________________________________________\n"
          ]
        }
      ],
      "source": [
        "model.summary()"
      ]
    },
    {
      "cell_type": "code",
      "source": [
        "history = model.fit(train, epochs=15, validation_data=val)"
      ],
      "metadata": {
        "colab": {
          "base_uri": "https://localhost:8080/"
        },
        "id": "T3qHhm1XZTPR",
        "outputId": "1d3c1e8a-51f6-4ab4-c792-a729ee01b09b"
      },
      "execution_count": 158,
      "outputs": [
        {
          "output_type": "stream",
          "name": "stdout",
          "text": [
            "Epoch 1/15\n",
            "630/630 [==============================] - 73s 105ms/step - loss: 0.2892 - val_loss: 0.1560\n",
            "Epoch 2/15\n",
            "630/630 [==============================] - 68s 108ms/step - loss: 0.1582 - val_loss: 0.1082\n",
            "Epoch 3/15\n",
            "630/630 [==============================] - 66s 105ms/step - loss: 0.1166 - val_loss: 0.0835\n",
            "Epoch 4/15\n",
            "630/630 [==============================] - 66s 105ms/step - loss: 0.0953 - val_loss: 0.0864\n",
            "Epoch 5/15\n",
            "630/630 [==============================] - 67s 107ms/step - loss: 0.0783 - val_loss: 0.0713\n",
            "Epoch 6/15\n",
            "630/630 [==============================] - 66s 104ms/step - loss: 0.0648 - val_loss: 0.0559\n",
            "Epoch 7/15\n",
            "630/630 [==============================] - 66s 105ms/step - loss: 0.0658 - val_loss: 0.0662\n",
            "Epoch 8/15\n",
            "630/630 [==============================] - 66s 104ms/step - loss: 0.0598 - val_loss: 0.0430\n",
            "Epoch 9/15\n",
            "630/630 [==============================] - 65s 104ms/step - loss: 0.0536 - val_loss: 0.0442\n",
            "Epoch 10/15\n",
            "630/630 [==============================] - 65s 104ms/step - loss: 0.0456 - val_loss: 0.0302\n",
            "Epoch 11/15\n",
            "630/630 [==============================] - 65s 103ms/step - loss: 0.0443 - val_loss: 0.0310\n",
            "Epoch 12/15\n",
            "630/630 [==============================] - 65s 103ms/step - loss: 0.0376 - val_loss: 0.0328\n",
            "Epoch 13/15\n",
            "630/630 [==============================] - 66s 105ms/step - loss: 0.0359 - val_loss: 0.0240\n",
            "Epoch 14/15\n",
            "630/630 [==============================] - 65s 104ms/step - loss: 0.0313 - val_loss: 0.0236\n",
            "Epoch 15/15\n",
            "630/630 [==============================] - 66s 105ms/step - loss: 0.0285 - val_loss: 0.0404\n"
          ]
        }
      ]
    },
    {
      "cell_type": "code",
      "execution_count": 159,
      "metadata": {
        "tags": [],
        "id": "NzW6y5NuMmkz"
      },
      "outputs": [],
      "source": [
        "from matplotlib import pyplot as plt"
      ]
    },
    {
      "cell_type": "code",
      "execution_count": 160,
      "metadata": {
        "collapsed": true,
        "jupyter": {
          "outputs_hidden": true
        },
        "tags": [],
        "id": "vdeGN3TvMmkz",
        "colab": {
          "base_uri": "https://localhost:8080/",
          "height": 285
        },
        "outputId": "a2e8077f-5984-4592-8d14-abb8856a65d3"
      },
      "outputs": [
        {
          "output_type": "display_data",
          "data": {
            "text/plain": [
              "<Figure size 576x360 with 0 Axes>"
            ]
          },
          "metadata": {}
        },
        {
          "output_type": "display_data",
          "data": {
            "text/plain": [
              "<Figure size 432x288 with 1 Axes>"
            ],
            "image/png": "[encoded data removed]"
          },
          "metadata": {
            "needs_background": "light"
          }
        }
      ],
      "source": [
        "plt.figure(figsize=(8,5))\n",
        "pd.DataFrame(history.history).plot()\n",
        "plt.show()"
      ]
    },
    {
      "cell_type": "markdown",
      "metadata": {
        "id": "FyPasnM9Mmkz"
      },
      "source": [
        "# 3. Make Predictions"
      ]
    },
    {
      "cell_type": "code",
      "execution_count": 161,
      "metadata": {
        "tags": [],
        "id": "ZBe30YrfMmkz"
      },
      "outputs": [],
      "source": [
        "input_text = vectorizer(['tụi m giỏi thì vào mà đá, ở đó mà sủa ngu'])"
      ]
    },
    {
      "cell_type": "code",
      "source": [
        "print(input_text)"
      ],
      "metadata": {
        "id": "Pey3v4JWSCin",
        "colab": {
          "base_uri": "https://localhost:8080/"
        },
        "outputId": "05bbb214-0b23-4912-ede3-3e3cc112e82f"
      },
      "execution_count": 162,
      "outputs": [
        {
          "output_type": "stream",
          "name": "stdout",
          "text": [
            "tf.Tensor(\n",
            "[[295 117 247  14  17  11   2 149 122  11 849 112   0   0   0   0   0   0\n",
            "    0   0   0   0   0   0   0   0   0   0   0   0   0   0   0   0   0   0\n",
            "    0   0   0   0   0   0   0   0   0   0   0   0   0   0]], shape=(1, 50), dtype=int64)\n"
          ]
        }
      ]
    },
    {
      "cell_type": "code",
      "execution_count": 163,
      "metadata": {
        "tags": [],
        "id": "uHt534rBMmkz"
      },
      "outputs": [],
      "source": [
        "res = model.predict(input_text)"
      ]
    },
    {
      "cell_type": "code",
      "source": [
        "print(res)"
      ],
      "metadata": {
        "id": "5_-wxxnRT1Ew",
        "colab": {
          "base_uri": "https://localhost:8080/"
        },
        "outputId": "1db0cd13-f24a-444b-b92e-3c69816dda0d"
      },
      "execution_count": 164,
      "outputs": [
        {
          "output_type": "stream",
          "name": "stdout",
          "text": [
            "[[0.5155721]]\n"
          ]
        }
      ]
    },
    {
      "cell_type": "code",
      "execution_count": 165,
      "metadata": {
        "jupyter": {
          "source_hidden": true
        },
        "id": "JERBNQrNMmkz",
        "colab": {
          "base_uri": "https://localhost:8080/"
        },
        "outputId": "773ce87d-d6fc-49bb-f83b-32cb46ee30fb"
      },
      "outputs": [
        {
          "output_type": "execute_result",
          "data": {
            "text/plain": [
              "array([[1]])"
            ]
          },
          "metadata": {},
          "execution_count": 165
        }
      ],
      "source": [
        "(res > 0.5).astype(int)"
      ]
    },
    {
      "cell_type": "code",
      "execution_count": 166,
      "metadata": {
        "id": "RPdUNJOzMmkz"
      },
      "outputs": [],
      "source": [
        "batch_X, batch_y = test.as_numpy_iterator().next()"
      ]
    },
    {
      "cell_type": "code",
      "execution_count": 167,
      "metadata": {
        "collapsed": true,
        "jupyter": {
          "outputs_hidden": true
        },
        "tags": [],
        "id": "spfyiVW1Mmkz",
        "colab": {
          "base_uri": "https://localhost:8080/"
        },
        "outputId": "b2c115b2-1dc9-46d5-ab49-cc268013152b"
      },
      "outputs": [
        {
          "output_type": "execute_result",
          "data": {
            "text/plain": [
              "array([[0],\n",
              "       [0],\n",
              "       [0],\n",
              "       [1],\n",
              "       [0],\n",
              "       [0],\n",
              "       [1],\n",
              "       [1],\n",
              "       [0],\n",
              "       [1],\n",
              "       [0],\n",
              "       [0],\n",
              "       [0],\n",
              "       [0],\n",
              "       [0],\n",
              "       [0]])"
            ]
          },
          "metadata": {},
          "execution_count": 167
        }
      ],
      "source": [
        "(model.predict(batch_X) > 0.5).astype(int)"
      ]
    },
    {
      "cell_type": "code",
      "execution_count": 168,
      "metadata": {
        "id": "nit6vTQdMmkz",
        "colab": {
          "base_uri": "https://localhost:8080/"
        },
        "outputId": "f06e79ab-5619-472f-bab9-080de51134ed"
      },
      "outputs": [
        {
          "output_type": "execute_result",
          "data": {
            "text/plain": [
              "(1, 1)"
            ]
          },
          "metadata": {},
          "execution_count": 168
        }
      ],
      "source": [
        "res.shape"
      ]
    },
    {
      "cell_type": "code",
      "execution_count": 169,
      "metadata": {
        "tags": [],
        "id": "SXQjvgSbt1Ou"
      },
      "outputs": [],
      "source": [
        "input_text = vectorizer(['Việt Nam vô địch'])"
      ]
    },
    {
      "cell_type": "code",
      "source": [
        "print(input_text)"
      ],
      "metadata": {
        "id": "60mF6-iKt1O6",
        "colab": {
          "base_uri": "https://localhost:8080/"
        },
        "outputId": "5ba2e6b2-a65f-4ebb-a58f-b26b3c8bde94"
      },
      "execution_count": 170,
      "outputs": [
        {
          "output_type": "stream",
          "name": "stdout",
          "text": [
            "tf.Tensor(\n",
            "[[  38   34  102 1152    0    0    0    0    0    0    0    0    0    0\n",
            "     0    0    0    0    0    0    0    0    0    0    0    0    0    0\n",
            "     0    0    0    0    0    0    0    0    0    0    0    0    0    0\n",
            "     0    0    0    0    0    0    0    0]], shape=(1, 50), dtype=int64)\n"
          ]
        }
      ]
    },
    {
      "cell_type": "code",
      "execution_count": 171,
      "metadata": {
        "tags": [],
        "id": "pg0VZnaHt1O7"
      },
      "outputs": [],
      "source": [
        "res = model.predict(input_text)"
      ]
    },
    {
      "cell_type": "code",
      "source": [
        "print(res)"
      ],
      "metadata": {
        "id": "34cR_IA5t1O7",
        "colab": {
          "base_uri": "https://localhost:8080/"
        },
        "outputId": "57e61aa0-4098-4b85-96ad-cd03f1ddb663"
      },
      "execution_count": 172,
      "outputs": [
        {
          "output_type": "stream",
          "name": "stdout",
          "text": [
            "[[0.09227484]]\n"
          ]
        }
      ]
    },
    {
      "cell_type": "code",
      "execution_count": 173,
      "metadata": {
        "jupyter": {
          "source_hidden": true
        },
        "id": "GZ2Zue3ot1O7",
        "colab": {
          "base_uri": "https://localhost:8080/"
        },
        "outputId": "cc9e2234-c320-413a-ab77-9ef7289b0af6"
      },
      "outputs": [
        {
          "output_type": "execute_result",
          "data": {
            "text/plain": [
              "array([[0]])"
            ]
          },
          "metadata": {},
          "execution_count": 173
        }
      ],
      "source": [
        "(res > 0.5).astype(int)"
      ]
    },
    {
      "cell_type": "code",
      "execution_count": 174,
      "metadata": {
        "id": "MlwvMJbet1O8"
      },
      "outputs": [],
      "source": [
        "batch_X, batch_y = test.as_numpy_iterator().next()"
      ]
    },
    {
      "cell_type": "code",
      "execution_count": 175,
      "metadata": {
        "collapsed": true,
        "jupyter": {
          "outputs_hidden": true
        },
        "tags": [],
        "id": "d30K2QZst1O8",
        "colab": {
          "base_uri": "https://localhost:8080/"
        },
        "outputId": "2e617924-0078-4df0-a0f0-ab0459053d08"
      },
      "outputs": [
        {
          "output_type": "execute_result",
          "data": {
            "text/plain": [
              "array([[0],\n",
              "       [1],\n",
              "       [0],\n",
              "       [1],\n",
              "       [0],\n",
              "       [0],\n",
              "       [0],\n",
              "       [0],\n",
              "       [0],\n",
              "       [0],\n",
              "       [0],\n",
              "       [0],\n",
              "       [0],\n",
              "       [0],\n",
              "       [0],\n",
              "       [0]])"
            ]
          },
          "metadata": {},
          "execution_count": 175
        }
      ],
      "source": [
        "(model.predict(batch_X) > 0.5).astype(int)"
      ]
    },
    {
      "cell_type": "code",
      "execution_count": 176,
      "metadata": {
        "id": "HB19te57t1O8",
        "colab": {
          "base_uri": "https://localhost:8080/"
        },
        "outputId": "59e80f8f-488f-47e8-871f-0f64667a1d00"
      },
      "outputs": [
        {
          "output_type": "execute_result",
          "data": {
            "text/plain": [
              "(1, 1)"
            ]
          },
          "metadata": {},
          "execution_count": 176
        }
      ],
      "source": [
        "res.shape"
      ]
    },
    {
      "cell_type": "code",
      "execution_count": 177,
      "metadata": {
        "tags": [],
        "id": "h5_v6I6JyBF7"
      },
      "outputs": [],
      "source": [
        "input_text = vectorizer(['Việt Nam vô địt'])"
      ]
    },
    {
      "cell_type": "code",
      "source": [
        "print(input_text)"
      ],
      "metadata": {
        "id": "BPEVQgvUyBF8",
        "colab": {
          "base_uri": "https://localhost:8080/"
        },
        "outputId": "b7c632a8-78da-4c20-f161-29d2086c1b95"
      },
      "execution_count": 178,
      "outputs": [
        {
          "output_type": "stream",
          "name": "stdout",
          "text": [
            "tf.Tensor(\n",
            "[[ 38  34 102 694   0   0   0   0   0   0   0   0   0   0   0   0   0   0\n",
            "    0   0   0   0   0   0   0   0   0   0   0   0   0   0   0   0   0   0\n",
            "    0   0   0   0   0   0   0   0   0   0   0   0   0   0]], shape=(1, 50), dtype=int64)\n"
          ]
        }
      ]
    },
    {
      "cell_type": "code",
      "execution_count": 179,
      "metadata": {
        "tags": [],
        "id": "km5ht2jcyBF8"
      },
      "outputs": [],
      "source": [
        "res = model.predict(input_text)"
      ]
    },
    {
      "cell_type": "code",
      "source": [
        "print(res)"
      ],
      "metadata": {
        "id": "M7GEupZsyBF9",
        "colab": {
          "base_uri": "https://localhost:8080/"
        },
        "outputId": "4f28c703-19f2-4faa-c180-5f9dd5a54005"
      },
      "execution_count": 180,
      "outputs": [
        {
          "output_type": "stream",
          "name": "stdout",
          "text": [
            "[[0.9985609]]\n"
          ]
        }
      ]
    },
    {
      "cell_type": "code",
      "execution_count": 181,
      "metadata": {
        "jupyter": {
          "source_hidden": true
        },
        "id": "A-1mRAqDyBF9",
        "colab": {
          "base_uri": "https://localhost:8080/"
        },
        "outputId": "0f82ae9f-2d41-42d3-f187-6ddeb2be7c26"
      },
      "outputs": [
        {
          "output_type": "execute_result",
          "data": {
            "text/plain": [
              "array([[1]])"
            ]
          },
          "metadata": {},
          "execution_count": 181
        }
      ],
      "source": [
        "(res > 0.5).astype(int)"
      ]
    },
    {
      "cell_type": "code",
      "execution_count": 182,
      "metadata": {
        "id": "IpvQA8BTyBF9"
      },
      "outputs": [],
      "source": [
        "batch_X, batch_y = test.as_numpy_iterator().next()"
      ]
    },
    {
      "cell_type": "code",
      "execution_count": 183,
      "metadata": {
        "collapsed": true,
        "jupyter": {
          "outputs_hidden": true
        },
        "tags": [],
        "id": "ENrSQbVvyBF9",
        "colab": {
          "base_uri": "https://localhost:8080/"
        },
        "outputId": "4d95a5e4-1a15-4eba-cd65-d9af99bc8858"
      },
      "outputs": [
        {
          "output_type": "execute_result",
          "data": {
            "text/plain": [
              "array([[0],\n",
              "       [0],\n",
              "       [0],\n",
              "       [0],\n",
              "       [0],\n",
              "       [0],\n",
              "       [1],\n",
              "       [0],\n",
              "       [0],\n",
              "       [0],\n",
              "       [0],\n",
              "       [1],\n",
              "       [0],\n",
              "       [0],\n",
              "       [0],\n",
              "       [0]])"
            ]
          },
          "metadata": {},
          "execution_count": 183
        }
      ],
      "source": [
        "(model.predict(batch_X) > 0.5).astype(int)"
      ]
    },
    {
      "cell_type": "code",
      "execution_count": 184,
      "metadata": {
        "id": "5VwWiqyHyBF9",
        "colab": {
          "base_uri": "https://localhost:8080/"
        },
        "outputId": "c44d5b03-4725-4c7e-b866-c3c262f4d263"
      },
      "outputs": [
        {
          "output_type": "execute_result",
          "data": {
            "text/plain": [
              "(1, 1)"
            ]
          },
          "metadata": {},
          "execution_count": 184
        }
      ],
      "source": [
        "res.shape"
      ]
    },
    {
      "cell_type": "code",
      "execution_count": 185,
      "metadata": {
        "tags": [],
        "id": "YQAWhva-ySf3"
      },
      "outputs": [],
      "source": [
        "input_text = vectorizer(['chửi chết nó đi anh em'])"
      ]
    },
    {
      "cell_type": "code",
      "source": [
        "print(input_text)"
      ],
      "metadata": {
        "id": "stCj1VfHySf4",
        "colab": {
          "base_uri": "https://localhost:8080/"
        },
        "outputId": "ebe20139-f3ee-4bb0-9b99-510b06531871"
      },
      "execution_count": 186,
      "outputs": [
        {
          "output_type": "stream",
          "name": "stdout",
          "text": [
            "tf.Tensor(\n",
            "[[249 228  20  15  66 113   0   0   0   0   0   0   0   0   0   0   0   0\n",
            "    0   0   0   0   0   0   0   0   0   0   0   0   0   0   0   0   0   0\n",
            "    0   0   0   0   0   0   0   0   0   0   0   0   0   0]], shape=(1, 50), dtype=int64)\n"
          ]
        }
      ]
    },
    {
      "cell_type": "code",
      "execution_count": 187,
      "metadata": {
        "tags": [],
        "id": "QgEzh0dFySf4"
      },
      "outputs": [],
      "source": [
        "res = model.predict(input_text)"
      ]
    },
    {
      "cell_type": "code",
      "source": [
        "print(res)"
      ],
      "metadata": {
        "id": "bLJDl-X_ySf4",
        "colab": {
          "base_uri": "https://localhost:8080/"
        },
        "outputId": "7b4cbea9-2f0c-457d-ad64-c75a462173f5"
      },
      "execution_count": 188,
      "outputs": [
        {
          "output_type": "stream",
          "name": "stdout",
          "text": [
            "[[0.96117324]]\n"
          ]
        }
      ]
    },
    {
      "cell_type": "code",
      "execution_count": 189,
      "metadata": {
        "jupyter": {
          "source_hidden": true
        },
        "id": "GMQY7KsVySf4",
        "colab": {
          "base_uri": "https://localhost:8080/"
        },
        "outputId": "95ade894-f0e6-47db-d0ba-240454632910"
      },
      "outputs": [
        {
          "output_type": "execute_result",
          "data": {
            "text/plain": [
              "array([[1]])"
            ]
          },
          "metadata": {},
          "execution_count": 189
        }
      ],
      "source": [
        "(res > 0.5).astype(int)"
      ]
    },
    {
      "cell_type": "code",
      "execution_count": 190,
      "metadata": {
        "id": "7dj7zyOMySf4"
      },
      "outputs": [],
      "source": [
        "batch_X, batch_y = test.as_numpy_iterator().next()"
      ]
    },
    {
      "cell_type": "code",
      "execution_count": 191,
      "metadata": {
        "collapsed": true,
        "jupyter": {
          "outputs_hidden": true
        },
        "tags": [],
        "id": "ff__V9fUySf5",
        "colab": {
          "base_uri": "https://localhost:8080/"
        },
        "outputId": "4f40a90b-d1da-45dd-f6ef-f9e5ea1ee0ce"
      },
      "outputs": [
        {
          "output_type": "execute_result",
          "data": {
            "text/plain": [
              "array([[1],\n",
              "       [0],\n",
              "       [1],\n",
              "       [0],\n",
              "       [0],\n",
              "       [0],\n",
              "       [0],\n",
              "       [0],\n",
              "       [0],\n",
              "       [0],\n",
              "       [0],\n",
              "       [0],\n",
              "       [0],\n",
              "       [0],\n",
              "       [0],\n",
              "       [0]])"
            ]
          },
          "metadata": {},
          "execution_count": 191
        }
      ],
      "source": [
        "(model.predict(batch_X) > 0.5).astype(int)"
      ]
    },
    {
      "cell_type": "code",
      "execution_count": 192,
      "metadata": {
        "id": "ryIxwiIJySf5",
        "colab": {
          "base_uri": "https://localhost:8080/"
        },
        "outputId": "6d9bb666-b357-416c-90eb-0cc4ebb2bd92"
      },
      "outputs": [
        {
          "output_type": "execute_result",
          "data": {
            "text/plain": [
              "(1, 1)"
            ]
          },
          "metadata": {},
          "execution_count": 192
        }
      ],
      "source": [
        "res.shape"
      ]
    },
    {
      "cell_type": "markdown",
      "metadata": {
        "id": "Tgc0jKfZMmkz"
      },
      "source": [
        "# 4. Evaluate Model"
      ]
    },
    {
      "cell_type": "code",
      "execution_count": 193,
      "metadata": {
        "tags": [],
        "id": "tOsVUeCSMmk0"
      },
      "outputs": [],
      "source": [
        "from tensorflow.keras.metrics import Precision, Recall, CategoricalAccuracy"
      ]
    },
    {
      "cell_type": "code",
      "execution_count": 224,
      "metadata": {
        "tags": [],
        "id": "b7GuHenBMmk0"
      },
      "outputs": [],
      "source": [
        "pre = Precision()\n",
        "re = Recall()\n",
        "acc = CategoricalAccuracy()"
      ]
    },
    {
      "cell_type": "code",
      "source": [
        "for batch in test.as_numpy_iterator(): \n",
        "  X_true, y_true = batch\n",
        "  print(\"1 Comment trong 1 batch sau khi được vector hóa:\")\n",
        "  print(X_true[0])\n",
        "\n",
        "  print(\"Nhãn của các comment trong batch:\")\n",
        "  print(y_true[0])\n",
        "\n",
        "  print(\"Kết quả mà model predict được:\")\n",
        "  yhat = model.predict(X_true)\n",
        "  print(yhat[0])\n",
        "  break"
      ],
      "metadata": {
        "colab": {
          "base_uri": "https://localhost:8080/"
        },
        "id": "BOO4t2NS2NpD",
        "outputId": "b3b12d48-ad02-4fea-fa44-d0ee5be9e96c"
      },
      "execution_count": 232,
      "outputs": [
        {
          "output_type": "stream",
          "name": "stdout",
          "text": [
            "1 Comment trong 1 batch sau khi được vector hóa:\n",
            "[ 427 2746    0    0    0    0    0    0    0    0    0    0    0    0\n",
            "    0    0    0    0    0    0    0    0    0    0    0    0    0    0\n",
            "    0    0    0    0    0    0    0    0    0    0    0    0    0    0\n",
            "    0    0    0    0    0    0    0    0]\n",
            "Nhãn của các comment trong batch:\n",
            "0\n",
            "Kết quả mà model predict được:\n",
            "[0.00226063]\n"
          ]
        }
      ]
    },
    {
      "cell_type": "code",
      "execution_count": 208,
      "metadata": {
        "tags": [],
        "id": "X1wr7FFvMmk0"
      },
      "outputs": [],
      "source": [
        "label = []\n",
        "predict = []\n",
        "\n",
        "for batch in test.as_numpy_iterator(): \n",
        "    # Unpack the batch \n",
        "    # print(batch)\n",
        "    # print(len(batch[0]))\n",
        "    X_true, y_true = batch\n",
        "    # Make a prediction \n",
        "    # print(X_true)\n",
        "    # print(\"Label: \\n\", y_true)\n",
        "    yhat = model.predict(X_true)\n",
        "    \n",
        "    # Flatten the predictions\n",
        "    y_true = y_true.flatten()\n",
        "    # print(\"Predict:\\n\", y_true)\n",
        "    yhat = yhat.flatten()\n",
        "    # print(yhat)\n",
        "    pre.update_state(y_true, yhat)\n",
        "    re.update_state(y_true, yhat)\n",
        "    acc.update_state(y_true, yhat)\n",
        "    for i in y_true:\n",
        "      label.append(i)\n",
        "    for i in yhat:\n",
        "      if i > 0.5:\n",
        "        predict.append(1)\n",
        "      else:\n",
        "        predict.append(0)\n",
        "      "
      ]
    },
    {
      "cell_type": "code",
      "source": [
        "# Nhãn ban đầu của tập test\n",
        "print(label)"
      ],
      "metadata": {
        "colab": {
          "base_uri": "https://localhost:8080/"
        },
        "id": "XTCy7SlKmyol",
        "outputId": "869266cb-d5eb-4bf2-bd6c-18f360cdf1f8"
      },
      "execution_count": 209,
      "outputs": [
        {
          "output_type": "stream",
          "name": "stdout",
          "text": [
            "[0, 0, 0, 0, 0, 0, 0, 0, 1, 0, 0, 1, 1, 0, 0, 0, 0, 0, 0, 0, 0, 0, 0, 0, 0, 0, 0, 1, 0, 0, 0, 0, 1, 0, 1, 0, 0, 0, 0, 0, 0, 0, 0, 0, 0, 0, 0, 1, 0, 0, 1, 0, 0, 0, 0, 0, 0, 0, 1, 0, 0, 0, 0, 0, 0, 0, 0, 0, 0, 0, 0, 1, 0, 0, 0, 0, 0, 0, 0, 0, 1, 0, 0, 0, 0, 0, 0, 0, 0, 1, 0, 0, 0, 0, 0, 0, 0, 0, 0, 0, 0, 0, 0, 0, 0, 0, 0, 1, 0, 0, 0, 0, 0, 0, 0, 0, 0, 0, 0, 0, 0, 0, 0, 0, 0, 0, 0, 0, 0, 0, 0, 1, 1, 0, 0, 1, 1, 0, 0, 0, 0, 0, 0, 0, 0, 1, 1, 0, 0, 0, 0, 1, 1, 0, 0, 0, 0, 0, 0, 0, 0, 0, 0, 1, 0, 0, 0, 1, 0, 0, 0, 0, 0, 0, 1, 0, 0, 0, 0, 0, 0, 0, 1, 0, 0, 1, 0, 0, 0, 0, 0, 0, 0, 0, 1, 0, 0, 0, 0, 0, 0, 0, 1, 0, 0, 0, 0, 0, 0, 0, 0, 0, 0, 1, 0, 0, 0, 0, 0, 0, 0, 0, 0, 0, 0, 0, 0, 0, 0, 1, 1, 0, 0, 0, 1, 0, 0, 0, 0, 0, 0, 0, 0, 0, 1, 0, 0, 0, 0, 1, 0, 0, 0, 0, 0, 0, 0, 0, 0, 0, 0, 0, 0, 0, 0, 0, 0, 0, 1, 0, 0, 0, 0, 0, 0, 0, 0, 0, 0, 0, 0, 0, 0, 0, 1, 1, 0, 0, 0, 0, 0, 0, 1, 0, 0, 0, 0, 0, 0, 0, 0, 0, 1, 0, 0, 0, 0, 0, 0, 1, 0, 0, 1, 0, 0, 1, 0, 0, 0, 0, 0, 0, 0, 0, 0, 0, 0, 0, 0, 1, 0, 0, 0, 0, 0, 0, 0, 0, 0, 0, 0, 0, 0, 0, 1, 0, 1, 0, 0, 0, 1, 0, 1, 1, 0, 0, 0, 1, 0, 0, 0, 0, 1, 0, 0, 0, 1, 0, 0, 0, 0, 0, 0, 0, 0, 1, 0, 0, 1, 1, 0, 1, 0, 0, 0, 0, 0, 0, 0, 0, 0, 0, 1, 0, 0, 1, 0, 0, 0, 0, 1, 0, 0, 0, 1, 0, 1, 0, 0, 1, 0, 0, 0, 1, 1, 0, 0, 0, 0, 0, 0, 0, 0, 0, 0, 0, 0, 0, 0, 0, 0, 0, 0, 0, 0, 0, 0, 0, 0, 0, 0, 0, 0, 0, 0, 0, 0, 0, 1, 0, 0, 0, 0, 0, 0, 0, 0, 0, 0, 0, 0, 0, 0, 0, 0, 0, 0, 1, 0, 0, 0, 0, 1, 0, 1, 0, 0, 0, 0, 0, 0, 0, 0, 1, 0, 0, 0, 0, 0, 0, 0, 0, 0, 1, 0, 0, 0, 0, 0, 0, 0, 0, 0, 0, 0, 0, 0, 1, 1, 0, 0, 1, 0, 0, 1, 0, 0, 0, 0, 1, 0, 1, 0, 1, 1, 0, 0, 0, 0, 0, 0, 0, 0, 0, 1, 0, 0, 0, 0, 0, 1, 0, 0, 0, 0, 0, 1, 0, 0, 0, 1, 0, 0, 1, 1, 0, 0, 0, 0, 0, 0, 0, 0, 1, 0, 0, 1, 1, 0, 0, 0, 0, 0, 1, 0, 0, 0, 0, 0, 0, 0, 0, 0, 0, 0, 0, 0, 0, 0, 0, 0, 0, 0, 0, 0, 0, 0, 0, 0, 1, 1, 0, 0, 1, 0, 0, 0, 0, 0, 0, 0, 1, 1, 0, 0, 0, 0, 0, 0, 0, 0, 0, 0, 0, 0, 0, 0, 0, 1, 0, 0, 0, 0, 0, 0, 0, 0, 1, 0, 0, 0, 0, 0, 0, 0, 0, 0, 0, 0, 1, 0, 0, 0, 0, 0, 0, 0, 0, 0, 1, 1, 0, 0, 0, 1, 0, 0, 0, 0, 1, 0, 0, 0, 0, 0, 0, 1, 0, 0, 0, 1, 0, 0, 1, 0, 1, 0, 0, 0, 1, 0, 0, 1, 0, 0, 0, 0, 0, 0, 0, 0, 0, 0, 0, 0, 0, 0, 0, 0, 1, 0, 1, 0, 0, 1, 0, 1, 1, 0, 0, 0, 0, 0, 0, 0, 0, 1, 0, 0, 0, 0, 1, 0, 0, 0, 0, 0, 0, 0, 1, 0, 1, 0, 0, 0, 0, 0, 0, 0, 0, 0, 0, 0, 0, 0, 1, 0, 0, 1, 0, 0, 0, 0, 0, 1, 1, 0, 0, 0, 0, 0, 0, 0, 0, 0, 0, 0, 0, 0, 0, 0, 1, 0, 0, 1, 0, 0, 0, 0, 0, 1, 0, 0, 1, 0, 1, 1, 0, 0, 0, 0, 0, 0, 1, 0, 1, 1, 0, 0, 0, 0, 0, 0, 0, 0, 0, 1, 0, 1, 0, 0, 0, 0, 0, 1, 0, 0, 0, 0, 0, 0, 0, 1, 0, 0, 0, 0, 0, 0, 0, 1, 0, 0, 0, 0, 0, 0, 0, 0, 0, 0, 0, 0, 0, 0, 1, 0, 0, 0, 0, 0, 0, 0, 0, 0, 0, 0, 0, 0, 0, 0, 1, 1, 1, 0, 1, 0, 0, 0, 0, 0, 1, 0, 0, 0, 0, 1, 0, 0, 0, 0, 1, 0, 0, 0, 1, 0, 1, 0, 0, 0, 0, 0, 0, 0, 0, 1, 0, 0, 0, 0, 0, 0, 1, 0, 1, 0, 0, 0, 0, 0, 0, 0, 0, 0, 0, 0, 0, 0, 0, 0, 0, 0, 1, 1, 0, 0, 0, 0, 0, 0, 0, 0, 0, 0, 1, 0, 0, 0, 1, 1, 0, 0, 0, 0, 0, 0, 1, 0, 0, 0, 0, 0, 0, 0, 0, 0, 0, 0, 0, 0, 0, 0, 0, 0, 0, 0, 0, 0, 0, 0, 0, 0, 0, 0, 0, 0, 1, 0, 0, 0, 0, 0, 0, 0, 0, 0, 0, 0, 0, 0, 0, 0, 0, 0, 1, 0, 1, 0, 0, 0, 0, 0, 1, 0, 0, 1, 0, 0, 0, 0, 0, 0, 0, 0, 0, 0, 0, 0, 0, 0, 0, 1, 0, 0, 0, 0, 0, 0, 0, 1, 0, 0, 0, 1, 0, 0, 0, 0, 0, 0, 0, 0, 0, 0, 0, 0, 0, 1, 0, 0, 0, 0, 0, 0, 0, 0, 0, 0, 0, 0, 0, 0, 1, 0, 0, 0, 1, 0, 0, 0, 0, 0, 0, 0, 0, 0, 0, 0, 0, 1, 1, 0, 1, 0, 0, 0, 0, 0, 0, 0, 0, 0, 0, 0, 0, 0, 0, 0, 0, 0, 0, 0, 0, 0, 0, 0, 0, 0, 0, 0, 1, 0, 0, 0, 0, 0, 0, 0, 0, 0, 0, 0, 0, 0, 1, 0, 1, 0, 0, 0, 0, 0, 0, 0, 0, 0, 0, 0, 0, 0, 0, 0, 1, 0, 0, 0, 0, 1, 0, 0, 1, 0, 0, 0, 0, 0, 0, 0, 0, 0, 0, 1, 1, 1, 0, 0, 0, 0, 0, 0, 0, 0, 0, 1, 0, 0, 0, 0, 1, 0, 0, 0, 0, 0, 0, 0, 0, 0, 0, 0, 1, 0, 0, 0, 0, 0, 0, 0, 0, 0, 0, 0, 0, 0, 1, 0, 0, 0, 1, 0, 0, 0, 0, 0, 0, 0, 1, 0, 1, 0, 0, 0, 0, 0, 1, 0, 0, 1, 1, 0, 0, 0, 0, 0, 0, 0, 0, 0, 0, 0, 0, 0, 0, 0, 0, 0, 0, 1, 0, 0, 0, 0, 0, 0, 0, 0, 0, 0, 0, 0, 0, 1, 0, 0, 0, 0, 0, 1, 0, 0, 0, 0, 0, 0, 0, 0, 0, 0, 0, 0, 0, 0, 0, 0, 0, 0, 0, 0, 0, 0, 0, 0, 0, 0, 0, 0, 0, 0, 0, 0, 0, 0, 0, 0, 0, 0, 0, 1, 1, 0, 0, 0, 0, 0, 0, 0, 0, 0, 0, 1, 0, 0, 0, 0, 1, 0, 0, 0, 1, 0, 0, 0, 0, 1, 0, 0, 0, 0, 0, 0, 0, 0, 0, 1, 0, 1, 0, 0, 1, 0, 0, 0, 0, 1, 0, 0, 0, 1, 0, 0, 0, 0, 0, 0, 0, 0, 0, 0, 1, 0, 0, 1, 1, 0, 0, 0, 0, 0, 0, 0, 0, 0, 0, 0, 0, 0, 0, 0, 0, 0, 0, 0, 0, 1, 0, 0, 0, 0, 0, 0, 0, 1, 0, 0, 0, 0, 0, 0, 1, 0, 0, 0, 1, 0, 1, 0, 0, 0, 0, 0, 1, 0, 0, 1, 0, 0, 0, 0, 1, 0, 0, 0, 0, 1, 0, 0, 0, 0, 0, 0, 1, 0, 0, 0, 0, 0, 0, 1, 0, 0, 0, 0, 1, 0, 0, 0, 0, 1, 0, 0, 0, 0, 0, 0, 0, 0, 0, 0, 0, 0, 0, 0, 0, 0, 0, 0, 0, 1, 0, 1, 0, 1, 1, 0, 0, 0, 0, 0, 0, 0, 0, 0, 0, 1, 0, 1, 0, 0, 0, 0, 1, 1, 0, 0, 1, 0, 1, 0, 0, 0, 0, 0, 0, 0, 0, 0, 0, 1, 1, 0, 0, 0, 0, 0, 0, 0, 0, 0, 0, 0, 1, 0, 0, 0, 0, 0, 0, 0, 0, 0, 0, 0, 1, 0, 0, 0, 0, 1, 0, 1, 0, 0, 0, 0, 0, 0, 0, 0, 1, 0, 0, 0, 0, 0, 0, 0, 0, 0, 1, 0, 0, 0, 0, 0, 0, 0, 0, 0, 0, 0, 0, 0, 0, 0, 1, 0, 0, 0, 0, 0, 0, 0, 0, 0, 0, 0, 0, 0, 0, 1, 0, 0, 0, 1, 0, 0, 0, 0, 0, 1, 0, 0, 0, 0, 0, 0, 1, 1, 0, 0, 1, 0, 0, 0, 0, 1, 0, 0, 0, 0, 0, 0, 1, 1, 0, 0, 1, 0, 0, 0, 0, 0, 0, 0, 0, 0, 0, 0, 0, 0, 0, 0, 0, 0, 0, 1, 0, 0, 0, 0, 0, 0, 0, 0, 0, 0, 0, 0, 0, 0, 0, 0, 0, 1, 0, 0, 0, 0, 1, 0, 0, 0, 0, 0, 0, 0, 1, 0, 0, 0, 0, 0, 0, 0, 0, 0, 0, 0, 0, 0, 0, 0, 0, 0, 0, 0, 0, 0, 0, 0, 0, 0, 0, 0, 0, 0, 0, 0, 0, 0, 0, 0, 1, 0, 0, 0, 1, 0, 1, 0, 1, 0, 0, 0, 0, 0, 0, 0, 0, 1, 0, 0, 0, 0, 1, 0, 1, 0, 0, 1, 0, 1, 0, 0, 0, 0, 0, 0, 1, 0, 0, 0, 0, 0, 1, 0, 0, 0, 0, 1, 0, 0, 0, 0, 0, 0, 1, 0, 0, 0, 0, 0, 0, 0, 0, 0, 0, 0, 0, 0, 1, 0, 1, 1, 0, 0, 0, 0, 1, 1, 0, 1, 0, 0, 0, 0, 0, 0, 0, 0, 0, 0, 1, 0, 0, 0, 0, 0, 0, 0, 0, 0, 0, 0, 1, 0, 0, 0, 0, 0, 0, 0, 0, 0, 0, 0, 1, 0, 0, 0, 0, 0, 0, 0, 0, 0, 0, 0, 0, 0, 0, 1, 0, 0, 1, 0, 0, 0, 0, 0, 0, 1, 0, 1, 0, 0, 0, 0, 1, 0, 0, 0, 0, 0, 1, 0, 0, 0, 0, 0, 0, 0, 0, 1, 0, 0, 1, 0, 0, 1, 1, 0, 0, 1, 1, 0, 0, 0, 0, 0, 0, 0, 0, 0, 0, 0, 0, 0, 1, 0, 0, 1, 0, 0, 0, 0, 0, 0, 0, 0, 0, 0, 0, 0, 0, 0, 0, 0, 0, 0, 0, 0, 0, 0, 0, 0, 0, 1, 0, 0, 0, 0, 0, 0, 1, 0, 1, 0, 0, 0, 0, 0, 0, 0, 0, 0, 0, 0, 0, 0, 0, 0, 0, 0, 0, 0, 0, 0, 1, 0, 0, 0, 0, 0, 0, 0, 0, 0, 0, 0, 0, 0, 0, 0, 0, 0, 0, 0, 0, 0, 1, 0, 1, 0, 0, 1, 0, 0, 1, 0, 0, 0, 0, 0, 0, 0, 0, 0, 1, 0, 0, 0, 0, 1, 0, 1, 0, 0, 0, 0, 0, 0, 0, 0, 0, 0, 1, 0, 0, 0, 0, 0, 0, 0, 1, 0, 0, 0, 0, 0, 0, 0, 0, 0, 0, 0, 1, 1, 0, 0, 1, 0, 0, 0, 0, 0, 0, 0, 0, 0, 0, 0, 0, 0, 0, 0, 0, 0, 0, 0, 0, 0, 0, 1, 1, 0, 0, 0, 0, 0, 0, 0, 0, 0, 0, 1, 0, 1, 0, 0, 0, 1, 1, 0, 0, 0, 0, 0, 0, 0, 0, 0, 0, 0, 1, 1, 0, 0, 1, 0, 1, 0, 0, 0, 0, 1, 0, 0, 1, 0, 0, 0, 0, 0, 0, 0, 0, 0, 0, 1, 0, 1, 0, 0, 0, 0, 1, 0, 0, 0, 0, 0, 0, 0, 0, 0, 0, 0, 0, 0, 0, 0, 0, 1, 0, 0, 0, 0, 0, 0, 0, 0, 0, 0, 0, 0, 0, 0, 0, 0, 1, 0, 0, 0, 0, 0, 0, 1, 1, 0, 0, 0, 1, 0, 0, 0, 1, 0, 0, 0, 0, 0, 0, 0, 1, 0, 0, 0, 0, 0, 0, 0, 0, 0, 1, 0, 1, 0, 1, 1, 0, 1, 1, 0, 0, 0, 0, 0, 0, 0, 0, 0, 0, 0, 0, 0, 0, 0, 0, 0, 0, 1, 1, 0, 1, 0, 0, 0, 0, 1, 0, 0, 1, 1, 0, 0, 0, 0, 0, 0, 0, 0, 0, 0, 0, 0, 0, 1, 0, 1, 0, 0, 0, 0, 0, 0, 0, 0, 1, 0, 0, 0, 0, 0, 0, 0, 0, 0, 0, 0, 0, 0, 0, 0, 0, 0, 0, 0, 0, 0, 0, 0, 0, 0, 0, 0, 1, 0, 1, 0, 0, 1, 0, 0, 0, 0, 0, 0, 0, 0, 1, 1, 1, 0, 0, 0, 0, 0, 1, 1, 0, 0, 1, 0, 0, 0, 1, 0, 0, 0, 0, 1, 0, 0, 0, 0, 0, 0, 1, 0, 0, 0, 0, 1, 0, 0, 1, 0, 0, 1, 0, 1, 0, 0, 0, 0, 0, 0, 0, 0, 0, 0, 0, 0, 0, 0, 0, 0, 0, 0, 0, 1, 0, 1, 0, 0, 1, 0, 0, 0, 0, 0, 0, 0, 0, 0, 0, 1, 0, 1, 0, 0, 0, 1, 0, 0, 0, 1, 0, 0, 0, 0, 1, 0, 0, 0, 0, 0, 0, 0, 1, 0, 1, 1, 0, 0, 1, 0, 1, 0, 0, 0, 1, 0, 0, 0, 0, 0, 1, 0, 0, 0, 0, 0, 0, 0, 0, 0, 0, 0, 0, 1, 0, 0, 0, 0, 0, 0, 0, 1, 1, 1, 0, 1, 0, 0, 1, 0, 0, 1, 0, 1, 0, 0, 0, 0, 0, 0, 0, 0, 0, 1, 0, 0, 0, 1, 1, 0, 0, 0, 0, 0, 0, 0, 0, 0, 0, 0, 0, 0, 0, 0, 1, 0, 0, 1, 0, 1, 1, 0, 1, 1, 0, 0, 0, 0, 0, 0, 0, 0, 0, 0, 0, 0, 0, 0, 0, 0, 1, 0, 0, 0, 0, 0, 0, 0, 0, 0, 0, 0, 1, 0, 0, 0, 0, 0, 0, 0, 0, 0, 0, 0, 0, 1, 0, 1, 0, 0, 0, 0, 0, 1, 0, 1, 0, 0, 1, 0, 0, 0, 1, 0, 0, 1, 0, 0, 0, 0, 0, 0, 0, 0, 0, 0, 0, 1, 0, 0, 0, 0, 1, 0, 0, 0, 0, 0, 0, 0, 1, 0, 0, 0, 0, 0, 0, 0, 0, 0, 0, 0, 0, 0, 0, 0, 0, 0, 1, 0, 0, 0, 1, 0, 0, 0, 0, 0, 0, 1, 0, 0, 0, 0, 0, 0, 0, 0, 1, 0, 0, 0, 0, 0, 1, 1, 0, 0, 1, 0, 0, 1, 0, 0, 0, 0, 0, 0, 0, 0, 0, 1, 1, 0, 0, 1, 0, 0, 0, 0, 1, 0, 0, 0, 0, 0, 0, 0, 0, 0, 0, 0, 0, 1, 0, 0, 1, 0, 0, 0, 1, 0, 0, 0, 0, 0, 0, 0, 0, 0, 0, 0, 0, 0, 0, 0, 0, 0, 0, 0, 0, 0, 0, 0, 0, 0, 0, 0, 0, 0, 0, 0, 0, 0, 0, 0, 0, 0, 1, 0, 0, 1, 0, 0, 0, 0, 0, 0, 1, 0, 0, 0, 0, 0, 0, 0, 0, 0, 0, 1, 0, 0, 0, 0, 0, 1, 0, 0, 0, 0, 0, 0, 0, 0, 0, 0, 0, 0, 1, 0, 0, 0, 0, 1, 0, 0, 0, 0, 0, 0, 0, 0, 0, 0, 0, 0, 0, 0, 0, 0, 0, 1, 0, 0, 0, 0, 0, 0, 0, 1, 0, 0, 0, 0, 0, 0, 0, 0, 0, 0, 0, 0, 1, 0, 0, 0, 0, 0, 0, 0, 0, 0, 0, 0, 0, 0, 0, 0, 0, 1, 0, 0, 0, 1, 0, 0, 0, 0, 0, 0, 0, 0, 0, 0, 1, 0, 0, 1, 0, 0, 0, 0, 0, 0, 0, 0, 0, 0, 0, 0, 0, 0, 0, 1, 0, 0, 0, 0, 0, 0, 0, 0, 1, 1, 0, 0, 0, 0, 0, 0, 0, 0, 0, 0, 0, 0, 0, 1, 0, 1, 0, 0, 0, 1, 0, 0, 0, 1, 0, 0, 1, 0, 0, 0, 0, 0, 0, 1, 0, 0, 1, 0, 0, 0, 1, 0, 0, 1, 0, 0, 0, 0, 0, 1, 0, 0, 0, 0, 0, 0, 0, 0, 0, 0, 1, 0, 0, 0, 0, 0, 0, 0, 1, 0, 0, 0, 0, 0, 0, 0, 1, 0, 0, 0, 0, 0, 1, 1, 0, 1, 0, 0, 0, 0, 0, 0, 0, 0, 0, 0, 1, 0, 0, 0, 0, 0, 0, 0, 0, 0, 0, 0, 0, 0, 0, 0, 0, 0, 0, 0, 0, 0, 1, 0, 0, 0, 1, 0, 0, 1, 0, 0, 0, 0, 0, 0, 1, 0, 0, 0, 0, 0, 1, 0, 0, 0, 0, 0, 1, 0, 0, 0, 0, 0, 0, 0, 1, 0, 0, 1, 0, 0, 0, 0, 0, 0, 0, 0, 0, 1, 0, 0, 0, 1, 0, 0, 0, 0, 0, 0, 0, 0, 0, 1, 0, 0, 0, 0, 0, 0, 0, 0, 0, 0, 0, 0, 1, 0, 0, 0, 1, 0, 0, 1, 0, 0, 0, 0, 0, 1, 0, 0, 0, 1, 0, 0, 0, 1, 0, 0, 0, 1, 0, 0, 0, 0, 0, 0, 0, 0, 0, 1, 1, 0, 0, 0, 0, 1, 0, 0, 0, 0, 1, 0, 0, 0, 0, 0, 0, 0, 0, 0, 0, 0, 0, 1, 0, 1, 0, 0, 0, 0, 0, 0, 0, 0, 0, 0, 0, 1, 0, 1, 0, 0, 1, 1, 1, 0, 0, 0, 0, 0, 0, 0, 0, 0, 0, 0, 0, 0, 0, 1, 0, 1, 0, 0, 1, 0, 0, 0, 0, 0, 0, 0, 1, 0, 0, 0, 0, 0, 0, 0, 0, 0, 0, 1, 0, 0, 0, 1, 0, 0, 0, 0, 0, 1, 1, 0, 0, 0, 0, 0, 0, 0, 0, 0, 0, 0, 0, 0, 0, 0, 1, 0, 0, 0, 0, 0, 1, 0, 0, 0, 0, 0, 0, 0, 0, 0, 0, 0, 0, 0, 0, 0, 0, 0, 0, 0, 0, 0, 0, 0, 0, 0, 0, 0, 1, 1, 0, 0, 0, 0, 0, 0, 0, 0, 0, 0, 0, 0, 0, 1, 0, 1, 1, 0, 0, 0, 0, 0, 0, 0, 0, 1, 1, 0, 0, 0, 0, 0, 1, 0, 0, 0, 0, 0, 0, 0, 0, 0, 1, 0, 0, 0, 0, 0, 0, 0, 1, 0, 0, 1, 0, 0, 0, 0, 0, 0, 0, 0, 0, 0, 0, 1, 0, 0, 1, 0, 0, 0, 0, 0, 0, 0, 1, 0, 0, 0, 0, 0, 0, 0, 0, 0, 0, 0, 0, 0, 0, 1, 0, 0, 0, 0, 0, 0, 0, 1, 0, 0, 0, 0, 1, 0, 0, 0, 0, 0, 0, 0, 0]\n"
          ]
        }
      ]
    },
    {
      "cell_type": "code",
      "source": [
        "# Kết quả mà mô hình dự đoán được\n",
        "print(predict)"
      ],
      "metadata": {
        "colab": {
          "base_uri": "https://localhost:8080/"
        },
        "id": "oBNwJM-3q81Q",
        "outputId": "b9c524e1-2a59-4e6c-d127-8fbee29d3826"
      },
      "execution_count": 210,
      "outputs": [
        {
          "output_type": "stream",
          "name": "stdout",
          "text": [
            "[0, 0, 0, 0, 0, 0, 0, 0, 1, 0, 0, 1, 1, 0, 0, 0, 0, 0, 0, 0, 0, 0, 0, 0, 0, 0, 0, 1, 0, 0, 0, 0, 1, 0, 1, 0, 0, 0, 0, 0, 0, 0, 0, 0, 0, 0, 0, 1, 0, 0, 1, 0, 0, 0, 0, 0, 0, 0, 1, 0, 0, 0, 0, 0, 0, 0, 0, 0, 0, 0, 0, 1, 0, 0, 0, 0, 0, 0, 0, 0, 1, 0, 0, 0, 0, 0, 0, 0, 0, 1, 0, 0, 0, 0, 0, 0, 0, 0, 0, 0, 0, 0, 0, 0, 0, 0, 0, 1, 0, 0, 0, 0, 0, 0, 0, 0, 0, 0, 0, 0, 0, 0, 0, 0, 0, 0, 0, 0, 0, 0, 0, 1, 1, 0, 0, 1, 1, 0, 0, 0, 0, 0, 0, 0, 0, 1, 1, 0, 0, 0, 0, 1, 1, 0, 0, 0, 0, 0, 0, 0, 0, 0, 0, 1, 0, 0, 0, 1, 0, 0, 0, 0, 0, 0, 1, 0, 0, 0, 0, 0, 0, 0, 1, 0, 0, 1, 0, 0, 0, 0, 0, 0, 0, 0, 1, 0, 0, 0, 0, 0, 0, 0, 1, 0, 0, 0, 0, 0, 0, 0, 0, 0, 0, 1, 0, 0, 1, 0, 0, 0, 0, 0, 0, 0, 0, 1, 0, 0, 0, 1, 1, 0, 0, 0, 1, 0, 0, 0, 0, 0, 0, 0, 0, 0, 1, 0, 0, 0, 0, 1, 0, 0, 0, 0, 0, 0, 0, 0, 0, 0, 0, 0, 0, 0, 0, 0, 0, 0, 1, 0, 0, 0, 0, 0, 0, 0, 0, 0, 0, 0, 0, 0, 0, 0, 1, 1, 0, 0, 0, 0, 0, 0, 1, 0, 0, 0, 0, 0, 0, 0, 0, 0, 1, 0, 0, 0, 0, 0, 0, 1, 0, 0, 1, 0, 0, 1, 0, 0, 0, 0, 0, 0, 0, 0, 0, 0, 0, 0, 0, 1, 0, 0, 0, 0, 0, 0, 0, 0, 0, 0, 0, 0, 0, 0, 1, 0, 1, 0, 0, 0, 0, 0, 1, 1, 0, 0, 0, 0, 0, 0, 0, 0, 1, 0, 0, 0, 1, 0, 0, 0, 0, 0, 0, 0, 0, 1, 0, 0, 1, 1, 0, 1, 0, 0, 0, 0, 0, 0, 0, 0, 0, 0, 1, 0, 0, 1, 0, 0, 0, 0, 1, 0, 0, 0, 1, 0, 1, 0, 0, 1, 0, 0, 0, 1, 1, 0, 0, 0, 0, 0, 0, 0, 0, 0, 0, 0, 0, 0, 0, 0, 0, 0, 0, 0, 0, 0, 0, 0, 0, 0, 0, 0, 0, 0, 0, 0, 0, 0, 1, 0, 0, 0, 0, 0, 0, 0, 0, 0, 0, 0, 0, 0, 0, 0, 0, 0, 0, 1, 0, 0, 0, 0, 1, 0, 1, 0, 0, 0, 0, 0, 0, 0, 0, 1, 0, 0, 0, 0, 0, 0, 0, 0, 0, 1, 0, 0, 0, 0, 0, 0, 0, 0, 0, 0, 0, 1, 0, 1, 1, 0, 0, 1, 0, 0, 1, 0, 0, 0, 0, 1, 0, 1, 0, 1, 0, 0, 0, 0, 0, 0, 0, 0, 0, 0, 0, 0, 0, 0, 0, 0, 1, 0, 0, 0, 0, 0, 1, 0, 0, 0, 1, 0, 0, 1, 1, 0, 0, 0, 0, 0, 0, 0, 0, 1, 0, 0, 1, 1, 0, 0, 0, 0, 0, 1, 0, 0, 0, 0, 0, 0, 0, 0, 0, 0, 0, 0, 0, 0, 0, 0, 0, 0, 0, 0, 0, 0, 0, 0, 0, 1, 1, 0, 0, 1, 0, 0, 0, 0, 0, 0, 0, 1, 1, 0, 0, 0, 0, 0, 0, 0, 0, 0, 0, 0, 0, 0, 0, 0, 1, 0, 0, 0, 0, 0, 0, 0, 0, 1, 1, 0, 0, 0, 0, 0, 0, 0, 0, 0, 0, 1, 0, 0, 0, 0, 0, 0, 0, 0, 0, 1, 1, 0, 0, 0, 1, 0, 0, 0, 0, 1, 0, 0, 0, 0, 0, 0, 1, 0, 0, 0, 1, 0, 0, 1, 0, 1, 0, 0, 0, 1, 0, 0, 1, 0, 0, 0, 0, 0, 0, 0, 1, 0, 0, 0, 0, 0, 0, 0, 0, 1, 0, 1, 0, 0, 1, 0, 1, 1, 0, 0, 0, 0, 0, 0, 0, 0, 1, 0, 0, 0, 0, 1, 0, 0, 0, 0, 0, 0, 0, 1, 0, 1, 0, 0, 0, 0, 0, 0, 0, 0, 0, 0, 0, 0, 0, 1, 0, 0, 1, 0, 0, 0, 0, 0, 1, 1, 0, 0, 0, 0, 0, 0, 0, 0, 0, 0, 0, 0, 0, 0, 0, 1, 0, 0, 1, 0, 0, 0, 0, 0, 1, 0, 0, 1, 0, 0, 1, 0, 0, 0, 0, 0, 0, 1, 0, 1, 1, 0, 0, 0, 0, 0, 0, 0, 0, 0, 0, 0, 1, 0, 0, 0, 0, 0, 1, 0, 0, 0, 0, 0, 0, 0, 1, 0, 0, 1, 0, 0, 0, 0, 1, 0, 0, 0, 0, 0, 0, 0, 0, 0, 0, 0, 0, 0, 0, 1, 0, 0, 0, 0, 0, 0, 0, 0, 0, 0, 0, 0, 0, 0, 0, 1, 1, 1, 0, 1, 0, 0, 0, 0, 0, 1, 0, 0, 0, 0, 1, 0, 0, 0, 0, 1, 0, 0, 0, 1, 0, 1, 0, 0, 0, 0, 0, 0, 0, 0, 1, 0, 0, 0, 0, 0, 0, 1, 0, 1, 0, 0, 0, 0, 0, 0, 0, 0, 0, 0, 0, 0, 0, 0, 0, 0, 0, 1, 1, 0, 0, 0, 0, 0, 0, 0, 0, 0, 0, 1, 0, 0, 0, 1, 1, 0, 0, 0, 0, 0, 0, 1, 0, 0, 0, 0, 0, 0, 0, 0, 0, 0, 0, 0, 0, 0, 0, 0, 0, 0, 0, 0, 0, 0, 0, 0, 0, 0, 0, 0, 0, 1, 0, 0, 0, 0, 0, 0, 0, 0, 0, 0, 0, 0, 0, 0, 0, 0, 0, 1, 0, 1, 0, 0, 0, 0, 0, 1, 0, 0, 1, 0, 0, 0, 0, 0, 0, 0, 0, 0, 0, 0, 0, 0, 0, 0, 1, 0, 0, 0, 0, 0, 0, 0, 1, 0, 0, 0, 1, 0, 0, 0, 0, 0, 0, 0, 0, 0, 0, 0, 0, 0, 1, 0, 0, 0, 0, 0, 0, 0, 0, 0, 0, 0, 0, 0, 0, 1, 0, 0, 0, 1, 0, 0, 0, 0, 0, 0, 0, 0, 0, 0, 0, 0, 0, 1, 0, 1, 0, 0, 0, 0, 0, 0, 0, 0, 0, 0, 0, 0, 0, 0, 0, 0, 0, 0, 0, 0, 0, 0, 0, 0, 0, 0, 0, 1, 0, 0, 0, 0, 0, 0, 0, 0, 0, 0, 0, 0, 0, 1, 0, 1, 0, 0, 0, 0, 0, 0, 0, 0, 0, 0, 0, 0, 0, 0, 0, 1, 0, 0, 0, 0, 1, 0, 0, 1, 0, 0, 0, 0, 0, 0, 0, 0, 0, 0, 1, 1, 1, 0, 0, 0, 0, 0, 0, 0, 0, 0, 0, 0, 0, 0, 0, 1, 0, 0, 0, 0, 0, 0, 0, 0, 0, 0, 0, 1, 0, 0, 0, 0, 0, 0, 0, 0, 0, 0, 0, 0, 0, 1, 0, 0, 0, 1, 0, 0, 0, 0, 0, 0, 0, 1, 0, 1, 0, 0, 0, 0, 0, 1, 0, 0, 1, 1, 0, 0, 0, 0, 0, 0, 0, 0, 0, 0, 0, 0, 0, 0, 0, 0, 0, 0, 1, 0, 0, 0, 0, 0, 0, 0, 0, 0, 0, 0, 0, 0, 1, 0, 0, 0, 0, 0, 1, 0, 0, 0, 0, 0, 0, 0, 0, 0, 0, 0, 0, 0, 0, 0, 0, 0, 0, 0, 0, 0, 0, 0, 0, 0, 0, 0, 0, 0, 0, 0, 0, 0, 0, 0, 0, 0, 0, 0, 1, 1, 0, 0, 0, 0, 0, 0, 0, 0, 0, 0, 1, 0, 0, 0, 0, 1, 0, 0, 0, 1, 0, 0, 0, 0, 1, 0, 0, 0, 0, 0, 0, 0, 0, 0, 1, 0, 1, 0, 0, 0, 0, 0, 0, 0, 1, 0, 0, 0, 1, 0, 0, 0, 0, 0, 0, 0, 0, 0, 0, 1, 0, 0, 1, 1, 0, 0, 0, 0, 0, 0, 0, 0, 0, 0, 0, 0, 0, 0, 0, 0, 0, 0, 0, 0, 1, 0, 0, 0, 0, 0, 0, 0, 1, 0, 0, 0, 0, 0, 0, 1, 0, 0, 0, 1, 0, 1, 0, 0, 0, 0, 0, 1, 0, 0, 0, 0, 0, 0, 0, 1, 0, 0, 0, 0, 1, 0, 0, 0, 0, 0, 0, 1, 0, 0, 0, 0, 0, 0, 1, 0, 0, 0, 0, 1, 0, 0, 0, 0, 1, 0, 0, 0, 0, 0, 0, 0, 0, 0, 0, 0, 0, 0, 0, 0, 0, 0, 0, 0, 1, 0, 1, 0, 1, 1, 0, 0, 0, 0, 0, 0, 0, 0, 0, 0, 1, 0, 1, 0, 0, 0, 0, 1, 1, 0, 0, 1, 0, 1, 0, 0, 0, 0, 0, 0, 0, 0, 0, 0, 1, 1, 0, 0, 0, 0, 0, 0, 0, 0, 0, 0, 0, 1, 0, 0, 0, 0, 0, 0, 0, 0, 0, 0, 0, 1, 0, 0, 0, 0, 1, 0, 1, 0, 0, 0, 0, 0, 0, 0, 0, 1, 0, 0, 0, 0, 0, 0, 0, 0, 0, 1, 0, 0, 0, 0, 0, 0, 0, 0, 0, 0, 0, 0, 0, 0, 0, 1, 0, 0, 0, 0, 0, 0, 0, 0, 0, 0, 0, 0, 0, 0, 1, 0, 0, 0, 1, 0, 0, 0, 0, 0, 1, 0, 0, 0, 0, 0, 0, 1, 1, 0, 0, 1, 0, 0, 0, 0, 1, 0, 0, 0, 0, 0, 0, 1, 1, 0, 0, 1, 0, 0, 0, 0, 0, 0, 0, 0, 0, 0, 0, 0, 0, 0, 0, 0, 0, 0, 1, 0, 0, 0, 0, 0, 0, 0, 0, 0, 0, 0, 0, 0, 0, 0, 0, 0, 1, 0, 0, 0, 0, 1, 0, 0, 0, 0, 0, 0, 0, 1, 0, 0, 0, 0, 0, 0, 0, 0, 0, 0, 0, 0, 0, 0, 0, 0, 0, 0, 0, 0, 0, 0, 0, 0, 0, 0, 0, 0, 0, 0, 0, 0, 0, 0, 0, 1, 0, 0, 0, 1, 0, 1, 0, 1, 0, 0, 0, 0, 0, 0, 0, 0, 1, 0, 0, 0, 0, 1, 0, 1, 0, 0, 1, 0, 1, 0, 0, 0, 1, 0, 0, 1, 0, 0, 0, 0, 0, 1, 0, 0, 0, 0, 1, 0, 0, 0, 0, 0, 0, 1, 0, 0, 0, 0, 0, 0, 0, 0, 0, 0, 0, 0, 0, 0, 0, 1, 1, 0, 0, 0, 0, 1, 1, 0, 1, 0, 0, 0, 0, 0, 0, 1, 0, 0, 0, 1, 0, 0, 0, 0, 0, 0, 0, 0, 0, 0, 0, 1, 0, 0, 0, 0, 0, 0, 0, 0, 0, 0, 0, 1, 0, 0, 0, 0, 0, 0, 0, 0, 0, 0, 0, 0, 0, 0, 1, 0, 0, 1, 0, 0, 0, 0, 0, 0, 1, 0, 1, 0, 0, 0, 0, 1, 0, 0, 0, 0, 0, 1, 0, 0, 0, 0, 0, 0, 0, 0, 1, 0, 0, 1, 0, 0, 1, 1, 0, 0, 1, 1, 0, 0, 0, 0, 0, 0, 0, 0, 0, 0, 0, 0, 0, 1, 0, 0, 1, 0, 0, 0, 0, 0, 0, 0, 0, 0, 0, 0, 0, 0, 0, 0, 0, 0, 0, 0, 0, 0, 0, 0, 0, 0, 1, 0, 0, 0, 0, 0, 0, 1, 0, 1, 0, 0, 0, 0, 0, 0, 0, 0, 0, 0, 0, 0, 0, 0, 0, 0, 0, 0, 0, 0, 0, 1, 0, 0, 0, 0, 0, 0, 0, 0, 0, 0, 0, 0, 0, 0, 0, 0, 0, 0, 0, 0, 0, 1, 0, 1, 0, 0, 1, 0, 0, 1, 0, 0, 0, 0, 0, 0, 0, 0, 0, 1, 0, 0, 0, 0, 0, 0, 1, 0, 0, 0, 0, 0, 0, 0, 0, 0, 0, 1, 0, 0, 0, 0, 0, 0, 0, 1, 0, 0, 0, 0, 0, 0, 0, 0, 0, 0, 0, 1, 1, 0, 0, 1, 0, 0, 0, 0, 0, 0, 0, 0, 0, 0, 0, 0, 0, 0, 0, 0, 0, 0, 0, 0, 0, 0, 1, 1, 0, 0, 0, 0, 0, 0, 0, 0, 0, 0, 1, 0, 1, 0, 0, 0, 1, 1, 0, 0, 0, 0, 0, 0, 0, 0, 0, 0, 0, 1, 1, 0, 0, 0, 0, 1, 0, 0, 0, 0, 1, 0, 0, 1, 0, 0, 0, 0, 0, 0, 0, 0, 0, 0, 1, 0, 1, 0, 0, 0, 0, 1, 0, 0, 1, 0, 0, 0, 0, 0, 0, 0, 0, 0, 0, 0, 0, 0, 1, 0, 0, 0, 0, 0, 0, 0, 0, 0, 0, 0, 0, 0, 0, 0, 0, 1, 0, 0, 0, 0, 0, 0, 1, 1, 0, 0, 0, 1, 0, 0, 0, 1, 0, 0, 0, 0, 0, 0, 0, 1, 0, 0, 0, 0, 0, 0, 0, 0, 0, 1, 0, 1, 0, 1, 1, 0, 1, 1, 0, 0, 0, 0, 0, 0, 0, 0, 0, 0, 0, 0, 0, 0, 0, 0, 0, 0, 1, 1, 0, 1, 0, 0, 0, 0, 1, 0, 0, 1, 1, 0, 0, 0, 0, 0, 0, 0, 0, 0, 0, 0, 0, 0, 1, 0, 1, 0, 0, 0, 0, 0, 0, 0, 0, 1, 0, 0, 0, 0, 0, 0, 0, 0, 0, 0, 0, 0, 0, 0, 0, 0, 0, 0, 0, 0, 0, 0, 0, 0, 0, 0, 0, 1, 0, 1, 0, 0, 1, 0, 0, 0, 0, 0, 0, 0, 0, 1, 1, 1, 0, 0, 0, 0, 0, 1, 1, 0, 0, 1, 0, 0, 0, 1, 0, 0, 0, 0, 1, 0, 0, 0, 0, 0, 0, 1, 0, 0, 0, 0, 1, 0, 0, 1, 0, 0, 1, 0, 1, 0, 0, 0, 0, 0, 0, 0, 0, 0, 0, 0, 0, 0, 0, 0, 0, 0, 0, 0, 0, 0, 1, 0, 0, 1, 0, 0, 0, 0, 0, 0, 0, 0, 0, 0, 1, 0, 1, 0, 0, 0, 1, 0, 0, 0, 1, 0, 0, 0, 0, 1, 0, 0, 0, 0, 0, 0, 0, 1, 0, 1, 1, 0, 0, 1, 0, 1, 0, 0, 0, 1, 0, 0, 0, 0, 0, 1, 0, 0, 0, 0, 0, 0, 0, 0, 0, 0, 0, 0, 1, 0, 0, 0, 0, 0, 0, 0, 1, 1, 1, 0, 1, 0, 0, 1, 0, 0, 1, 0, 0, 0, 0, 0, 0, 0, 0, 0, 0, 0, 1, 0, 0, 0, 1, 1, 0, 0, 0, 0, 0, 0, 0, 0, 0, 0, 0, 0, 0, 0, 0, 1, 0, 0, 1, 0, 1, 1, 0, 1, 1, 0, 0, 0, 0, 0, 0, 0, 0, 0, 0, 0, 0, 0, 0, 0, 0, 1, 0, 0, 0, 0, 0, 0, 0, 0, 0, 0, 0, 1, 0, 0, 0, 0, 0, 0, 0, 0, 0, 0, 0, 0, 1, 0, 1, 0, 0, 0, 0, 0, 1, 0, 1, 0, 0, 1, 0, 0, 0, 1, 0, 0, 1, 0, 0, 0, 0, 0, 0, 0, 0, 0, 0, 0, 1, 0, 0, 0, 0, 1, 0, 0, 0, 0, 0, 0, 0, 1, 0, 0, 0, 0, 0, 0, 0, 0, 0, 0, 0, 0, 0, 0, 0, 0, 0, 1, 0, 0, 0, 1, 0, 0, 0, 0, 0, 0, 0, 0, 0, 0, 0, 0, 0, 0, 0, 1, 0, 0, 0, 0, 0, 1, 1, 0, 0, 1, 0, 0, 1, 0, 0, 0, 0, 0, 0, 0, 0, 0, 1, 1, 0, 0, 1, 0, 0, 0, 0, 1, 0, 0, 0, 0, 0, 0, 0, 0, 0, 0, 0, 0, 1, 0, 0, 1, 0, 0, 0, 1, 0, 0, 0, 0, 0, 0, 0, 0, 0, 0, 0, 0, 0, 0, 0, 0, 0, 0, 0, 0, 0, 0, 0, 0, 0, 0, 0, 0, 0, 0, 0, 0, 0, 0, 0, 0, 0, 1, 0, 0, 1, 0, 0, 0, 0, 0, 0, 1, 0, 0, 0, 0, 0, 0, 0, 0, 0, 0, 1, 0, 0, 0, 0, 0, 1, 0, 0, 0, 0, 0, 0, 0, 0, 0, 0, 0, 0, 1, 0, 0, 0, 0, 1, 0, 0, 0, 0, 0, 0, 0, 0, 0, 0, 0, 0, 0, 0, 0, 0, 0, 1, 0, 0, 0, 0, 0, 0, 0, 1, 0, 0, 0, 0, 0, 0, 0, 0, 0, 0, 0, 0, 1, 0, 0, 0, 0, 0, 0, 0, 0, 0, 0, 0, 0, 0, 0, 0, 0, 1, 0, 0, 0, 1, 0, 0, 0, 0, 0, 0, 0, 0, 0, 0, 1, 0, 0, 1, 0, 0, 0, 0, 0, 0, 0, 0, 0, 0, 0, 0, 0, 0, 0, 1, 0, 0, 0, 0, 0, 0, 0, 0, 1, 1, 0, 0, 0, 0, 0, 0, 0, 0, 0, 0, 0, 0, 0, 1, 0, 1, 0, 0, 0, 1, 0, 0, 0, 1, 0, 0, 1, 0, 0, 0, 0, 0, 0, 1, 0, 0, 1, 0, 0, 0, 1, 0, 0, 1, 0, 0, 0, 0, 0, 0, 0, 0, 0, 0, 0, 0, 0, 0, 0, 0, 1, 0, 0, 0, 0, 0, 0, 0, 1, 0, 0, 0, 0, 0, 0, 0, 1, 0, 0, 0, 0, 0, 1, 1, 0, 1, 0, 0, 0, 0, 0, 0, 0, 0, 0, 0, 1, 0, 0, 0, 0, 0, 0, 0, 0, 0, 0, 0, 0, 0, 0, 0, 0, 0, 0, 0, 0, 0, 1, 0, 0, 0, 1, 0, 0, 1, 0, 0, 0, 0, 0, 0, 1, 0, 0, 0, 0, 0, 1, 0, 0, 0, 0, 0, 1, 0, 0, 0, 0, 0, 0, 0, 1, 0, 0, 0, 0, 0, 0, 0, 0, 0, 0, 0, 0, 1, 0, 0, 0, 1, 0, 0, 0, 0, 0, 0, 0, 0, 0, 1, 0, 0, 0, 0, 0, 0, 0, 0, 0, 0, 0, 0, 1, 0, 0, 0, 1, 0, 0, 1, 0, 0, 0, 0, 0, 1, 0, 0, 0, 1, 0, 0, 0, 1, 0, 0, 0, 1, 0, 0, 0, 0, 0, 0, 0, 0, 0, 1, 1, 0, 0, 0, 0, 0, 0, 0, 0, 0, 1, 0, 0, 0, 0, 0, 0, 0, 0, 0, 0, 0, 0, 1, 0, 1, 0, 0, 0, 0, 0, 0, 0, 0, 0, 0, 0, 1, 0, 1, 0, 0, 1, 1, 1, 0, 0, 0, 0, 0, 0, 0, 0, 0, 0, 0, 0, 0, 0, 1, 0, 1, 0, 0, 1, 0, 0, 0, 0, 0, 0, 0, 1, 0, 0, 0, 0, 0, 0, 0, 0, 0, 0, 1, 0, 0, 0, 1, 0, 0, 0, 0, 0, 1, 0, 0, 0, 0, 0, 0, 0, 0, 0, 0, 0, 0, 0, 0, 0, 0, 1, 0, 0, 0, 0, 0, 1, 0, 0, 0, 0, 0, 0, 0, 0, 0, 0, 0, 0, 0, 0, 0, 0, 0, 0, 0, 0, 0, 0, 0, 0, 0, 0, 0, 1, 1, 0, 0, 0, 0, 0, 0, 0, 0, 0, 0, 1, 0, 0, 1, 0, 1, 1, 0, 0, 0, 0, 0, 1, 0, 0, 1, 1, 0, 0, 0, 0, 0, 1, 0, 0, 0, 0, 0, 0, 0, 0, 0, 1, 0, 0, 0, 0, 0, 0, 0, 1, 0, 0, 1, 0, 0, 0, 0, 0, 0, 0, 0, 0, 0, 0, 1, 0, 0, 1, 0, 0, 0, 0, 0, 0, 0, 1, 0, 0, 0, 0, 0, 0, 0, 0, 0, 0, 0, 0, 0, 0, 1, 0, 0, 0, 1, 0, 0, 0, 0, 0, 0, 0, 0, 1, 0, 0, 0, 0, 0, 0, 0, 0]\n"
          ]
        }
      ]
    },
    {
      "cell_type": "code",
      "source": [
        "toxic_in_test = 0\n",
        "non_toxic_in_test = 0\n",
        "toxic_predicted = 0\n",
        "non_toxic_predicted = 0\n",
        "for i in range(0,len(label)):\n",
        "  if label[i] == 1:\n",
        "    toxic_in_test+=1\n",
        "  if label[i] == 0:\n",
        "    non_toxic_in_test+=1\n",
        "  if predict[i] == 1:\n",
        "    toxic_predicted +=1\n",
        "  if predict[i] == 0:\n",
        "    non_toxic_predicted+=1"
      ],
      "metadata": {
        "id": "F_mM2_WlxxB8"
      },
      "execution_count": 220,
      "outputs": []
    },
    {
      "cell_type": "code",
      "source": [
        "print(\"Số nhãn toxic trên tập test: \", toxic_in_test)\n",
        "print(\"Số nhãn non-toxic trên tập test:\",non_toxic_in_test)\n",
        "print(\"Số nhãn predict toxic trên tập test: \",toxic_predicted)\n",
        "print(\"Số nhãn predict non-toxic trên tập test: \",non_toxic_predicted)\n"
      ],
      "metadata": {
        "colab": {
          "base_uri": "https://localhost:8080/"
        },
        "id": "C1I1mwkyzNfd",
        "outputId": "494d44bf-09ac-4b3e-d9be-b6ea241b56ed"
      },
      "execution_count": 223,
      "outputs": [
        {
          "output_type": "stream",
          "name": "stdout",
          "text": [
            "Số nhãn toxic trên tập test:  501\n",
            "Số nhãn non-toxic trên tập test: 2859\n",
            "Số nhãn predict toxic trên tập test:  492\n",
            "Số nhãn predict non-toxic trên tập test:  2868\n"
          ]
        }
      ]
    },
    {
      "cell_type": "code",
      "execution_count": 198,
      "metadata": {
        "tags": [],
        "id": "cxGBoaUhMmk0",
        "colab": {
          "base_uri": "https://localhost:8080/"
        },
        "outputId": "8cc55665-84c8-47a0-a6ab-f30257395102"
      },
      "outputs": [
        {
          "output_type": "stream",
          "name": "stdout",
          "text": [
            "Precision: 0.9678800702095032, Recall:0.9596602916717529, F1 Score: 0.9637526845830237, Accuracy:0.48571428656578064\n"
          ]
        }
      ],
      "source": [
        "def recall_m(y_true, y_pred):\n",
        "    true_positives = K.sum(K.round(K.clip(y_true * y_pred, 0, 1)))\n",
        "    possible_positives = K.sum(K.round(K.clip(y_true, 0, 1)))\n",
        "    recall = true_positives / (possible_positives + K.epsilon())\n",
        "    return recall\n",
        "\n",
        "def precision_m(y_true, y_pred):\n",
        "    true_positives = K.sum(K.round(K.clip(y_true * y_pred, 0, 1)))\n",
        "    predicted_positives = K.sum(K.round(K.clip(y_pred, 0, 1)))\n",
        "    precision = true_positives / (predicted_positives + K.epsilon())\n",
        "    return precision\n",
        "\n",
        "def f1_m(y_true, y_pred):\n",
        "    precision = precision_m(y_true, y_pred)\n",
        "    recall = recall_m(y_true, y_pred)\n",
        "    return 2*((precision*recall)/(precision+recall+K.epsilon()))\n",
        "print(f'Precision: {pre.result().numpy()}, Recall:{re.result().numpy()}, F1 Score: {2*pre.result().numpy()*re.result().numpy()/(pre.result().numpy()+re.result().numpy())}, Accuracy:{acc.result().numpy()}')"
      ]
    }
  ],
  "metadata": {
    "kernelspec": {
      "display_name": "toxic",
      "language": "python",
      "name": "toxic"
    },
    "language_info": {
      "codemirror_mode": {
        "name": "ipython",
        "version": 3
      },
      "file_extension": ".py",
      "mimetype": "text/x-python",
      "name": "python",
      "nbconvert_exporter": "python",
      "pygments_lexer": "ipython3",
      "version": "3.9.7"
    },
    "colab": {
      "name": "Toxic Comment Detection On Youtube Football Livestream.ipynb",
      "provenance": [],
      "collapsed_sections": [],
      "include_colab_link": true
    }
  },
  "nbformat": 4,
  "nbformat_minor": 0
}
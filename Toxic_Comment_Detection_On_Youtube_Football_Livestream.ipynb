{
  "cells": [
    {
      "cell_type": "markdown",
      "metadata": {
        "id": "view-in-github",
        "colab_type": "text"
      },
      "source": [
        "<a href=\"https://colab.research.google.com/github/goldenspring6622/CS114.M21.N02/blob/main/Toxic_Comment_Detection_On_Youtube_Football_Livestream.ipynb\" target=\"_parent\"><img src=\"https://colab.research.google.com/assets/colab-badge.svg\" alt=\"Open In Colab\"/></a>"
      ]
    },
    {
      "cell_type": "markdown",
      "metadata": {
        "id": "Mw8Vd6PbMmkr"
      },
      "source": [
        "### IMPORT PACKAGES"
      ]
    },
    {
      "cell_type": "code",
      "source": [
        "! pip install openpyxl\n",
        "#Documentation : https://openpyxl.readthedocs.io/en/stable/"
      ],
      "metadata": {
        "id": "2R7ijCrz7iND",
        "outputId": "0fc1d2bf-c79c-409c-b174-01efa1f39aad",
        "colab": {
          "base_uri": "https://localhost:8080/"
        }
      },
      "execution_count": 1,
      "outputs": [
        {
          "output_type": "stream",
          "name": "stdout",
          "text": [
            "Looking in indexes: https://pypi.org/simple, https://us-python.pkg.dev/colab-wheels/public/simple/\n",
            "Requirement already satisfied: openpyxl in /usr/local/lib/python3.7/dist-packages (3.0.10)\n",
            "Requirement already satisfied: et-xmlfile in /usr/local/lib/python3.7/dist-packages (from openpyxl) (1.1.0)\n"
          ]
        }
      ]
    },
    {
      "cell_type": "code",
      "execution_count": 2,
      "metadata": {
        "collapsed": true,
        "jupyter": {
          "outputs_hidden": true
        },
        "tags": [],
        "id": "qEco4t6kMmkt",
        "colab": {
          "base_uri": "https://localhost:8080/"
        },
        "outputId": "72f01130-856c-4e66-d417-f9b0a14e2da1"
      },
      "outputs": [
        {
          "output_type": "stream",
          "name": "stdout",
          "text": [
            "Looking in indexes: https://pypi.org/simple, https://us-python.pkg.dev/colab-wheels/public/simple/\n",
            "Requirement already satisfied: tensorflow in /usr/local/lib/python3.7/dist-packages (2.8.2+zzzcolab20220527125636)\n",
            "Collecting tensorflow-gpu\n",
            "  Downloading tensorflow_gpu-2.9.1-cp37-cp37m-manylinux_2_17_x86_64.manylinux2014_x86_64.whl (511.7 MB)\n",
            "\u001b[K     |████████████████████████████████| 511.7 MB 3.6 kB/s \n",
            "\u001b[?25hRequirement already satisfied: pandas in /usr/local/lib/python3.7/dist-packages (1.3.5)\n",
            "Requirement already satisfied: matplotlib in /usr/local/lib/python3.7/dist-packages (3.2.2)\n",
            "Requirement already satisfied: sklearn in /usr/local/lib/python3.7/dist-packages (0.0)\n",
            "Requirement already satisfied: six>=1.12.0 in /usr/local/lib/python3.7/dist-packages (from tensorflow) (1.15.0)\n",
            "Requirement already satisfied: tensorflow-io-gcs-filesystem>=0.23.1 in /usr/local/lib/python3.7/dist-packages (from tensorflow) (0.26.0)\n",
            "Requirement already satisfied: typing-extensions>=3.6.6 in /usr/local/lib/python3.7/dist-packages (from tensorflow) (4.1.1)\n",
            "Requirement already satisfied: grpcio<2.0,>=1.24.3 in /usr/local/lib/python3.7/dist-packages (from tensorflow) (1.46.3)\n",
            "Requirement already satisfied: termcolor>=1.1.0 in /usr/local/lib/python3.7/dist-packages (from tensorflow) (1.1.0)\n",
            "Requirement already satisfied: flatbuffers>=1.12 in /usr/local/lib/python3.7/dist-packages (from tensorflow) (2.0)\n",
            "Requirement already satisfied: libclang>=9.0.1 in /usr/local/lib/python3.7/dist-packages (from tensorflow) (14.0.1)\n",
            "Requirement already satisfied: keras-preprocessing>=1.1.1 in /usr/local/lib/python3.7/dist-packages (from tensorflow) (1.1.2)\n",
            "Requirement already satisfied: google-pasta>=0.1.1 in /usr/local/lib/python3.7/dist-packages (from tensorflow) (0.2.0)\n",
            "Requirement already satisfied: numpy>=1.20 in /usr/local/lib/python3.7/dist-packages (from tensorflow) (1.21.6)\n",
            "Requirement already satisfied: h5py>=2.9.0 in /usr/local/lib/python3.7/dist-packages (from tensorflow) (3.1.0)\n",
            "Requirement already satisfied: opt-einsum>=2.3.2 in /usr/local/lib/python3.7/dist-packages (from tensorflow) (3.3.0)\n",
            "Requirement already satisfied: keras<2.9,>=2.8.0rc0 in /usr/local/lib/python3.7/dist-packages (from tensorflow) (2.8.0)\n",
            "Requirement already satisfied: protobuf<3.20,>=3.9.2 in /usr/local/lib/python3.7/dist-packages (from tensorflow) (3.17.3)\n",
            "Requirement already satisfied: tensorflow-estimator<2.9,>=2.8 in /usr/local/lib/python3.7/dist-packages (from tensorflow) (2.8.0)\n",
            "Requirement already satisfied: tensorboard<2.9,>=2.8 in /usr/local/lib/python3.7/dist-packages (from tensorflow) (2.8.0)\n",
            "Requirement already satisfied: absl-py>=0.4.0 in /usr/local/lib/python3.7/dist-packages (from tensorflow) (1.1.0)\n",
            "Requirement already satisfied: gast>=0.2.1 in /usr/local/lib/python3.7/dist-packages (from tensorflow) (0.5.3)\n",
            "Requirement already satisfied: wrapt>=1.11.0 in /usr/local/lib/python3.7/dist-packages (from tensorflow) (1.14.1)\n",
            "Requirement already satisfied: setuptools in /usr/local/lib/python3.7/dist-packages (from tensorflow) (57.4.0)\n",
            "Requirement already satisfied: astunparse>=1.6.0 in /usr/local/lib/python3.7/dist-packages (from tensorflow) (1.6.3)\n",
            "Requirement already satisfied: wheel<1.0,>=0.23.0 in /usr/local/lib/python3.7/dist-packages (from astunparse>=1.6.0->tensorflow) (0.37.1)\n",
            "Requirement already satisfied: cached-property in /usr/local/lib/python3.7/dist-packages (from h5py>=2.9.0->tensorflow) (1.5.2)\n",
            "Requirement already satisfied: google-auth-oauthlib<0.5,>=0.4.1 in /usr/local/lib/python3.7/dist-packages (from tensorboard<2.9,>=2.8->tensorflow) (0.4.6)\n",
            "Requirement already satisfied: werkzeug>=0.11.15 in /usr/local/lib/python3.7/dist-packages (from tensorboard<2.9,>=2.8->tensorflow) (1.0.1)\n",
            "Requirement already satisfied: tensorboard-plugin-wit>=1.6.0 in /usr/local/lib/python3.7/dist-packages (from tensorboard<2.9,>=2.8->tensorflow) (1.8.1)\n",
            "Requirement already satisfied: markdown>=2.6.8 in /usr/local/lib/python3.7/dist-packages (from tensorboard<2.9,>=2.8->tensorflow) (3.3.7)\n",
            "Requirement already satisfied: tensorboard-data-server<0.7.0,>=0.6.0 in /usr/local/lib/python3.7/dist-packages (from tensorboard<2.9,>=2.8->tensorflow) (0.6.1)\n",
            "Requirement already satisfied: google-auth<3,>=1.6.3 in /usr/local/lib/python3.7/dist-packages (from tensorboard<2.9,>=2.8->tensorflow) (1.35.0)\n",
            "Requirement already satisfied: requests<3,>=2.21.0 in /usr/local/lib/python3.7/dist-packages (from tensorboard<2.9,>=2.8->tensorflow) (2.23.0)\n",
            "Requirement already satisfied: rsa<5,>=3.1.4 in /usr/local/lib/python3.7/dist-packages (from google-auth<3,>=1.6.3->tensorboard<2.9,>=2.8->tensorflow) (4.8)\n",
            "Requirement already satisfied: pyasn1-modules>=0.2.1 in /usr/local/lib/python3.7/dist-packages (from google-auth<3,>=1.6.3->tensorboard<2.9,>=2.8->tensorflow) (0.2.8)\n",
            "Requirement already satisfied: cachetools<5.0,>=2.0.0 in /usr/local/lib/python3.7/dist-packages (from google-auth<3,>=1.6.3->tensorboard<2.9,>=2.8->tensorflow) (4.2.4)\n",
            "Requirement already satisfied: requests-oauthlib>=0.7.0 in /usr/local/lib/python3.7/dist-packages (from google-auth-oauthlib<0.5,>=0.4.1->tensorboard<2.9,>=2.8->tensorflow) (1.3.1)\n",
            "Requirement already satisfied: importlib-metadata>=4.4 in /usr/local/lib/python3.7/dist-packages (from markdown>=2.6.8->tensorboard<2.9,>=2.8->tensorflow) (4.11.4)\n",
            "Requirement already satisfied: zipp>=0.5 in /usr/local/lib/python3.7/dist-packages (from importlib-metadata>=4.4->markdown>=2.6.8->tensorboard<2.9,>=2.8->tensorflow) (3.8.0)\n",
            "Requirement already satisfied: pyasn1<0.5.0,>=0.4.6 in /usr/local/lib/python3.7/dist-packages (from pyasn1-modules>=0.2.1->google-auth<3,>=1.6.3->tensorboard<2.9,>=2.8->tensorflow) (0.4.8)\n",
            "Requirement already satisfied: chardet<4,>=3.0.2 in /usr/local/lib/python3.7/dist-packages (from requests<3,>=2.21.0->tensorboard<2.9,>=2.8->tensorflow) (3.0.4)\n",
            "Requirement already satisfied: certifi>=2017.4.17 in /usr/local/lib/python3.7/dist-packages (from requests<3,>=2.21.0->tensorboard<2.9,>=2.8->tensorflow) (2022.6.15)\n",
            "Requirement already satisfied: urllib3!=1.25.0,!=1.25.1,<1.26,>=1.21.1 in /usr/local/lib/python3.7/dist-packages (from requests<3,>=2.21.0->tensorboard<2.9,>=2.8->tensorflow) (1.24.3)\n",
            "Requirement already satisfied: idna<3,>=2.5 in /usr/local/lib/python3.7/dist-packages (from requests<3,>=2.21.0->tensorboard<2.9,>=2.8->tensorflow) (2.10)\n",
            "Requirement already satisfied: oauthlib>=3.0.0 in /usr/local/lib/python3.7/dist-packages (from requests-oauthlib>=0.7.0->google-auth-oauthlib<0.5,>=0.4.1->tensorboard<2.9,>=2.8->tensorflow) (3.2.0)\n",
            "  Downloading tensorflow_gpu-2.9.0-cp37-cp37m-manylinux_2_17_x86_64.manylinux2014_x86_64.whl (511.7 MB)\n",
            "\u001b[K     |████████████████████████████████| 511.7 MB 5.0 kB/s \n",
            "\u001b[?25h  Downloading tensorflow_gpu-2.8.2-cp37-cp37m-manylinux2010_x86_64.whl (497.9 MB)\n",
            "\u001b[K     |████████████████████████████████| 497.9 MB 17 kB/s \n",
            "\u001b[?25hRequirement already satisfied: python-dateutil>=2.7.3 in /usr/local/lib/python3.7/dist-packages (from pandas) (2.8.2)\n",
            "Requirement already satisfied: pytz>=2017.3 in /usr/local/lib/python3.7/dist-packages (from pandas) (2022.1)\n",
            "Requirement already satisfied: kiwisolver>=1.0.1 in /usr/local/lib/python3.7/dist-packages (from matplotlib) (1.4.3)\n",
            "Requirement already satisfied: pyparsing!=2.0.4,!=2.1.2,!=2.1.6,>=2.0.1 in /usr/local/lib/python3.7/dist-packages (from matplotlib) (3.0.9)\n",
            "Requirement already satisfied: cycler>=0.10 in /usr/local/lib/python3.7/dist-packages (from matplotlib) (0.11.0)\n",
            "Requirement already satisfied: scikit-learn in /usr/local/lib/python3.7/dist-packages (from sklearn) (1.0.2)\n",
            "Requirement already satisfied: threadpoolctl>=2.0.0 in /usr/local/lib/python3.7/dist-packages (from scikit-learn->sklearn) (3.1.0)\n",
            "Requirement already satisfied: scipy>=1.1.0 in /usr/local/lib/python3.7/dist-packages (from scikit-learn->sklearn) (1.4.1)\n",
            "Requirement already satisfied: joblib>=0.11 in /usr/local/lib/python3.7/dist-packages (from scikit-learn->sklearn) (1.1.0)\n",
            "Installing collected packages: tensorflow-gpu\n",
            "Successfully installed tensorflow-gpu-2.8.2\n"
          ]
        }
      ],
      "source": [
        "!pip install tensorflow tensorflow-gpu pandas matplotlib sklearn"
      ]
    },
    {
      "cell_type": "code",
      "execution_count": 3,
      "metadata": {
        "tags": [],
        "id": "ZXBjTXMuMmku",
        "colab": {
          "base_uri": "https://localhost:8080/"
        },
        "outputId": "acc86150-0c14-4468-bf3a-30cb48ec0b09"
      },
      "outputs": [
        {
          "output_type": "stream",
          "name": "stdout",
          "text": [
            "Looking in indexes: https://pypi.org/simple, https://us-python.pkg.dev/colab-wheels/public/simple/\n",
            "Collecting xlrd==1.2.0\n",
            "  Downloading xlrd-1.2.0-py2.py3-none-any.whl (103 kB)\n",
            "\u001b[K     |████████████████████████████████| 103 kB 8.3 MB/s \n",
            "\u001b[?25hInstalling collected packages: xlrd\n",
            "  Attempting uninstall: xlrd\n",
            "    Found existing installation: xlrd 1.1.0\n",
            "    Uninstalling xlrd-1.1.0:\n",
            "      Successfully uninstalled xlrd-1.1.0\n",
            "Successfully installed xlrd-1.2.0\n",
            "Looking in indexes: https://pypi.org/simple, https://us-python.pkg.dev/colab-wheels/public/simple/\n",
            "Requirement already satisfied: pandas in /usr/local/lib/python3.7/dist-packages (1.3.5)\n",
            "Requirement already satisfied: numpy>=1.17.3 in /usr/local/lib/python3.7/dist-packages (from pandas) (1.21.6)\n",
            "Requirement already satisfied: pytz>=2017.3 in /usr/local/lib/python3.7/dist-packages (from pandas) (2022.1)\n",
            "Requirement already satisfied: python-dateutil>=2.7.3 in /usr/local/lib/python3.7/dist-packages (from pandas) (2.8.2)\n",
            "Requirement already satisfied: six>=1.5 in /usr/local/lib/python3.7/dist-packages (from python-dateutil>=2.7.3->pandas) (1.15.0)\n",
            "Looking in indexes: https://pypi.org/simple, https://us-python.pkg.dev/colab-wheels/public/simple/\n",
            "Collecting underthesea\n",
            "  Downloading underthesea-1.3.4-py3-none-any.whl (7.6 MB)\n",
            "\u001b[K     |████████████████████████████████| 7.6 MB 6.4 MB/s \n",
            "\u001b[?25hRequirement already satisfied: Click>=6.0 in /usr/local/lib/python3.7/dist-packages (from underthesea) (7.1.2)\n",
            "Requirement already satisfied: joblib in /usr/local/lib/python3.7/dist-packages (from underthesea) (1.1.0)\n",
            "Requirement already satisfied: requests in /usr/local/lib/python3.7/dist-packages (from underthesea) (2.23.0)\n",
            "Requirement already satisfied: scikit-learn in /usr/local/lib/python3.7/dist-packages (from underthesea) (1.0.2)\n",
            "Collecting python-crfsuite>=0.9.6\n",
            "  Downloading python_crfsuite-0.9.8-cp37-cp37m-manylinux_2_17_x86_64.manylinux2014_x86_64.whl (965 kB)\n",
            "\u001b[K     |████████████████████████████████| 965 kB 44.5 MB/s \n",
            "\u001b[?25hCollecting underthesea-core==0.0.4_alpha.10\n",
            "  Downloading underthesea_core-0.0.4_alpha.10-cp37-cp37m-manylinux2010_x86_64.whl (581 kB)\n",
            "\u001b[K     |████████████████████████████████| 581 kB 38.1 MB/s \n",
            "\u001b[?25hRequirement already satisfied: PyYAML in /usr/local/lib/python3.7/dist-packages (from underthesea) (3.13)\n",
            "Requirement already satisfied: tqdm in /usr/local/lib/python3.7/dist-packages (from underthesea) (4.64.0)\n",
            "Collecting unidecode\n",
            "  Downloading Unidecode-1.3.4-py3-none-any.whl (235 kB)\n",
            "\u001b[K     |████████████████████████████████| 235 kB 51.3 MB/s \n",
            "\u001b[?25hRequirement already satisfied: nltk in /usr/local/lib/python3.7/dist-packages (from underthesea) (3.7)\n",
            "Requirement already satisfied: regex>=2021.8.3 in /usr/local/lib/python3.7/dist-packages (from nltk->underthesea) (2022.6.2)\n",
            "Requirement already satisfied: chardet<4,>=3.0.2 in /usr/local/lib/python3.7/dist-packages (from requests->underthesea) (3.0.4)\n",
            "Requirement already satisfied: idna<3,>=2.5 in /usr/local/lib/python3.7/dist-packages (from requests->underthesea) (2.10)\n",
            "Requirement already satisfied: certifi>=2017.4.17 in /usr/local/lib/python3.7/dist-packages (from requests->underthesea) (2022.6.15)\n",
            "Requirement already satisfied: urllib3!=1.25.0,!=1.25.1,<1.26,>=1.21.1 in /usr/local/lib/python3.7/dist-packages (from requests->underthesea) (1.24.3)\n",
            "Requirement already satisfied: threadpoolctl>=2.0.0 in /usr/local/lib/python3.7/dist-packages (from scikit-learn->underthesea) (3.1.0)\n",
            "Requirement already satisfied: scipy>=1.1.0 in /usr/local/lib/python3.7/dist-packages (from scikit-learn->underthesea) (1.4.1)\n",
            "Requirement already satisfied: numpy>=1.14.6 in /usr/local/lib/python3.7/dist-packages (from scikit-learn->underthesea) (1.21.6)\n",
            "Installing collected packages: unidecode, underthesea-core, python-crfsuite, underthesea\n",
            "Successfully installed python-crfsuite-0.9.8 underthesea-1.3.4 underthesea-core-0.0.4a10 unidecode-1.3.4\n"
          ]
        }
      ],
      "source": [
        "!pip3 install  xlrd==1.2.0\n",
        "!pip install --upgrade pandas\n",
        "!pip install underthesea\n",
        "import os\n",
        "import pandas as pd\n",
        "import tensorflow as tf\n",
        "import numpy as np\n",
        "import time\n",
        "from pandas import Series, DataFrame\n",
        "import xlrd\n",
        "from sklearn.feature_extraction.text import TfidfVectorizer\n",
        "from xlrd import open_workbook\n",
        "from underthesea import word_tokenize #Documentation :https://pypi.org/project/underthesea/ "
      ]
    },
    {
      "cell_type": "markdown",
      "metadata": {
        "id": "pJy1JlIfMmkv"
      },
      "source": [
        "# 1. Preprocess"
      ]
    },
    {
      "cell_type": "code",
      "execution_count": 4,
      "metadata": {
        "collapsed": true,
        "jupyter": {
          "outputs_hidden": true
        },
        "tags": [],
        "id": "yL4fo5pIMmkv",
        "outputId": "e7e04110-fe3b-4df2-ed5e-9353b1d5b93e",
        "colab": {
          "base_uri": "https://localhost:8080/"
        }
      },
      "outputs": [
        {
          "output_type": "stream",
          "name": "stdout",
          "text": [
            "Package                       Version\n",
            "----------------------------- ------------------------------\n",
            "absl-py                       1.1.0\n",
            "alabaster                     0.7.12\n",
            "albumentations                0.1.12\n",
            "altair                        4.2.0\n",
            "appdirs                       1.4.4\n",
            "argon2-cffi                   21.3.0\n",
            "argon2-cffi-bindings          21.2.0\n",
            "arviz                         0.12.1\n",
            "astor                         0.8.1\n",
            "astropy                       4.3.1\n",
            "astunparse                    1.6.3\n",
            "atari-py                      0.2.9\n",
            "atomicwrites                  1.4.0\n",
            "attrs                         21.4.0\n",
            "audioread                     2.1.9\n",
            "autograd                      1.4\n",
            "Babel                         2.10.2\n",
            "backcall                      0.2.0\n",
            "beautifulsoup4                4.6.3\n",
            "bleach                        5.0.0\n",
            "blis                          0.7.7\n",
            "bokeh                         2.3.3\n",
            "branca                        0.5.0\n",
            "bs4                           0.0.1\n",
            "CacheControl                  0.12.11\n",
            "cached-property               1.5.2\n",
            "cachetools                    4.2.4\n",
            "catalogue                     2.0.7\n",
            "certifi                       2022.6.15\n",
            "cffi                          1.15.0\n",
            "cftime                        1.6.0\n",
            "chardet                       3.0.4\n",
            "charset-normalizer            2.1.0\n",
            "click                         7.1.2\n",
            "cloudpickle                   1.3.0\n",
            "cmake                         3.22.5\n",
            "cmdstanpy                     0.9.5\n",
            "colorcet                      3.0.0\n",
            "colorlover                    0.3.0\n",
            "community                     1.0.0b1\n",
            "contextlib2                   0.5.5\n",
            "convertdate                   2.4.0\n",
            "coverage                      3.7.1\n",
            "coveralls                     0.5\n",
            "crcmod                        1.7\n",
            "cufflinks                     0.17.3\n",
            "cvxopt                        1.2.7\n",
            "cvxpy                         1.0.31\n",
            "cycler                        0.11.0\n",
            "cymem                         2.0.6\n",
            "Cython                        0.29.30\n",
            "daft                          0.0.4\n",
            "dask                          2.12.0\n",
            "datascience                   0.10.6\n",
            "debugpy                       1.0.0\n",
            "decorator                     4.4.2\n",
            "defusedxml                    0.7.1\n",
            "descartes                     1.1.0\n",
            "dill                          0.3.5.1\n",
            "distributed                   1.25.3\n",
            "dlib                          19.18.0+zzzcolab20220513001918\n",
            "dm-tree                       0.1.7\n",
            "docopt                        0.6.2\n",
            "docutils                      0.17.1\n",
            "dopamine-rl                   1.0.5\n",
            "earthengine-api               0.1.315\n",
            "easydict                      1.9\n",
            "ecos                          2.0.10\n",
            "editdistance                  0.5.3\n",
            "en-core-web-sm                3.3.0\n",
            "entrypoints                   0.4\n",
            "ephem                         4.1.3\n",
            "et-xmlfile                    1.1.0\n",
            "fa2                           0.3.5\n",
            "fastai                        2.6.3\n",
            "fastcore                      1.4.4\n",
            "fastdownload                  0.0.6\n",
            "fastdtw                       0.3.4\n",
            "fastjsonschema                2.15.3\n",
            "fastprogress                  1.0.2\n",
            "fastrlock                     0.8\n",
            "fbprophet                     0.7.1\n",
            "feather-format                0.4.1\n",
            "filelock                      3.7.1\n",
            "firebase-admin                4.4.0\n",
            "fix-yahoo-finance             0.0.22\n",
            "Flask                         1.1.4\n",
            "flatbuffers                   2.0\n",
            "folium                        0.8.3\n",
            "future                        0.16.0\n",
            "gast                          0.5.3\n",
            "GDAL                          2.2.2\n",
            "gdown                         4.4.0\n",
            "gensim                        3.6.0\n",
            "geographiclib                 1.52\n",
            "geopy                         1.17.0\n",
            "gin-config                    0.5.0\n",
            "glob2                         0.7\n",
            "google                        2.0.3\n",
            "google-api-core               1.31.6\n",
            "google-api-python-client      1.12.11\n",
            "google-auth                   1.35.0\n",
            "google-auth-httplib2          0.0.4\n",
            "google-auth-oauthlib          0.4.6\n",
            "google-cloud-bigquery         1.21.0\n",
            "google-cloud-bigquery-storage 1.1.2\n",
            "google-cloud-core             1.0.3\n",
            "google-cloud-datastore        1.8.0\n",
            "google-cloud-firestore        1.7.0\n",
            "google-cloud-language         1.2.0\n",
            "google-cloud-storage          1.18.1\n",
            "google-cloud-translate        1.5.0\n",
            "google-colab                  1.0.0\n",
            "google-pasta                  0.2.0\n",
            "google-resumable-media        0.4.1\n",
            "googleapis-common-protos      1.56.2\n",
            "googledrivedownloader         0.4\n",
            "graphviz                      0.10.1\n",
            "greenlet                      1.1.2\n",
            "grpcio                        1.46.3\n",
            "gspread                       3.4.2\n",
            "gspread-dataframe             3.0.8\n",
            "gym                           0.17.3\n",
            "h5py                          3.1.0\n",
            "HeapDict                      1.0.1\n",
            "hijri-converter               2.2.4\n",
            "holidays                      0.10.5.2\n",
            "holoviews                     1.14.9\n",
            "html5lib                      1.0.1\n",
            "httpimport                    0.5.18\n",
            "httplib2                      0.17.4\n",
            "httplib2shim                  0.0.3\n",
            "humanize                      0.5.1\n",
            "hyperopt                      0.1.2\n",
            "ideep4py                      2.0.0.post3\n",
            "idna                          2.10\n",
            "imageio                       2.4.1\n",
            "imagesize                     1.3.0\n",
            "imbalanced-learn              0.8.1\n",
            "imblearn                      0.0\n",
            "imgaug                        0.2.9\n",
            "importlib-metadata            4.11.4\n",
            "importlib-resources           5.7.1\n",
            "imutils                       0.5.4\n",
            "inflect                       2.1.0\n",
            "iniconfig                     1.1.1\n",
            "intel-openmp                  2022.1.0\n",
            "intervaltree                  2.1.0\n",
            "ipykernel                     4.10.1\n",
            "ipython                       5.5.0\n",
            "ipython-genutils              0.2.0\n",
            "ipython-sql                   0.3.9\n",
            "ipywidgets                    7.7.0\n",
            "itsdangerous                  1.1.0\n",
            "jax                           0.3.8\n",
            "jaxlib                        0.3.7+cuda11.cudnn805\n",
            "jedi                          0.18.1\n",
            "jieba                         0.42.1\n",
            "Jinja2                        2.11.3\n",
            "joblib                        1.1.0\n",
            "jpeg4py                       0.1.4\n",
            "jsonschema                    4.3.3\n",
            "jupyter                       1.0.0\n",
            "jupyter-client                5.3.5\n",
            "jupyter-console               5.2.0\n",
            "jupyter-core                  4.10.0\n",
            "jupyterlab-pygments           0.2.2\n",
            "jupyterlab-widgets            1.1.0\n",
            "kaggle                        1.5.12\n",
            "kapre                         0.3.7\n",
            "keras                         2.8.0\n",
            "Keras-Preprocessing           1.1.2\n",
            "keras-vis                     0.4.1\n",
            "kiwisolver                    1.4.3\n",
            "korean-lunar-calendar         0.2.1\n",
            "langcodes                     3.3.0\n",
            "libclang                      14.0.1\n",
            "librosa                       0.8.1\n",
            "lightgbm                      2.2.3\n",
            "llvmlite                      0.34.0\n",
            "lmdb                          0.99\n",
            "LunarCalendar                 0.0.9\n",
            "lxml                          4.2.6\n",
            "Markdown                      3.3.7\n",
            "MarkupSafe                    2.0.1\n",
            "matplotlib                    3.2.2\n",
            "matplotlib-inline             0.1.3\n",
            "matplotlib-venn               0.11.7\n",
            "missingno                     0.5.1\n",
            "mistune                       0.8.4\n",
            "mizani                        0.6.0\n",
            "mkl                           2019.0\n",
            "mlxtend                       0.14.0\n",
            "more-itertools                8.13.0\n",
            "moviepy                       0.2.3.5\n",
            "mpmath                        1.2.1\n",
            "msgpack                       1.0.4\n",
            "multiprocess                  0.70.13\n",
            "multitasking                  0.0.10\n",
            "murmurhash                    1.0.7\n",
            "music21                       5.5.0\n",
            "natsort                       5.5.0\n",
            "nbclient                      0.6.6\n",
            "nbconvert                     5.6.1\n",
            "nbformat                      5.4.0\n",
            "nest-asyncio                  1.5.5\n",
            "netCDF4                       1.5.8\n",
            "networkx                      2.6.3\n",
            "nibabel                       3.0.2\n",
            "nltk                          3.7\n",
            "notebook                      5.3.1\n",
            "numba                         0.51.2\n",
            "numexpr                       2.8.1\n",
            "numpy                         1.21.6\n",
            "oauth2client                  4.1.3\n",
            "oauthlib                      3.2.0\n",
            "okgrade                       0.4.3\n",
            "opencv-contrib-python         4.1.2.30\n",
            "opencv-python                 4.1.2.30\n",
            "openpyxl                      3.0.10\n",
            "opt-einsum                    3.3.0\n",
            "osqp                          0.6.2.post0\n",
            "packaging                     21.3\n",
            "palettable                    3.3.0\n",
            "pandas                        1.3.5\n",
            "pandas-datareader             0.9.0\n",
            "pandas-gbq                    0.13.3\n",
            "pandas-profiling              1.4.1\n",
            "pandocfilters                 1.5.0\n",
            "panel                         0.12.1\n",
            "param                         1.12.1\n",
            "parso                         0.8.3\n",
            "pathlib                       1.0.1\n",
            "pathy                         0.6.1\n",
            "patsy                         0.5.2\n",
            "pep517                        0.12.0\n",
            "pexpect                       4.8.0\n",
            "pickleshare                   0.7.5\n",
            "Pillow                        7.1.2\n",
            "pip                           21.1.3\n",
            "pip-tools                     6.2.0\n",
            "plotly                        5.5.0\n",
            "plotnine                      0.6.0\n",
            "pluggy                        0.7.1\n",
            "pooch                         1.6.0\n",
            "portpicker                    1.3.9\n",
            "prefetch-generator            1.0.1\n",
            "preshed                       3.0.6\n",
            "prettytable                   3.3.0\n",
            "progressbar2                  3.38.0\n",
            "prometheus-client             0.14.1\n",
            "promise                       2.3\n",
            "prompt-toolkit                1.0.18\n",
            "protobuf                      3.17.3\n",
            "psutil                        5.4.8\n",
            "psycopg2                      2.7.6.1\n",
            "ptyprocess                    0.7.0\n",
            "py                            1.11.0\n",
            "pyarrow                       6.0.1\n",
            "pyasn1                        0.4.8\n",
            "pyasn1-modules                0.2.8\n",
            "pycocotools                   2.0.4\n",
            "pycparser                     2.21\n",
            "pyct                          0.4.8\n",
            "pydantic                      1.8.2\n",
            "pydata-google-auth            1.4.0\n",
            "pydot                         1.3.0\n",
            "pydot-ng                      2.0.0\n",
            "pydotplus                     2.0.2\n",
            "PyDrive                       1.3.1\n",
            "pyemd                         0.5.1\n",
            "pyerfa                        2.0.0.1\n",
            "pyglet                        1.5.0\n",
            "Pygments                      2.6.1\n",
            "pygobject                     3.26.1\n",
            "pymc3                         3.11.4\n",
            "PyMeeus                       0.5.11\n",
            "pymongo                       4.1.1\n",
            "pymystem3                     0.2.0\n",
            "PyOpenGL                      3.1.6\n",
            "pyparsing                     3.0.9\n",
            "pyrsistent                    0.18.1\n",
            "pysndfile                     1.3.8\n",
            "PySocks                       1.7.1\n",
            "pystan                        2.19.1.1\n",
            "pytest                        3.6.4\n",
            "python-apt                    0.0.0\n",
            "python-chess                  0.23.11\n",
            "python-crfsuite               0.9.8\n",
            "python-dateutil               2.8.2\n",
            "python-louvain                0.16\n",
            "python-slugify                6.1.2\n",
            "python-utils                  3.3.3\n",
            "pytz                          2022.1\n",
            "pyviz-comms                   2.2.0\n",
            "PyWavelets                    1.3.0\n",
            "PyYAML                        3.13\n",
            "pyzmq                         23.1.0\n",
            "qdldl                         0.1.5.post2\n",
            "qtconsole                     5.3.1\n",
            "QtPy                          2.1.0\n",
            "regex                         2022.6.2\n",
            "requests                      2.23.0\n",
            "requests-oauthlib             1.3.1\n",
            "resampy                       0.2.2\n",
            "rpy2                          3.4.5\n",
            "rsa                           4.8\n",
            "scikit-image                  0.18.3\n",
            "scikit-learn                  1.0.2\n",
            "scipy                         1.4.1\n",
            "screen-resolution-extra       0.0.0\n",
            "scs                           3.2.0\n",
            "seaborn                       0.11.2\n",
            "semver                        2.13.0\n",
            "Send2Trash                    1.8.0\n",
            "setuptools                    57.4.0\n",
            "setuptools-git                1.2\n",
            "Shapely                       1.8.2\n",
            "simplegeneric                 0.8.1\n",
            "six                           1.15.0\n",
            "sklearn                       0.0\n",
            "sklearn-pandas                1.8.0\n",
            "smart-open                    5.2.1\n",
            "snowballstemmer               2.2.0\n",
            "sortedcontainers              2.4.0\n",
            "SoundFile                     0.10.3.post1\n",
            "soupsieve                     2.3.2.post1\n",
            "spacy                         3.3.1\n",
            "spacy-legacy                  3.0.9\n",
            "spacy-loggers                 1.0.2\n",
            "Sphinx                        1.8.6\n",
            "sphinxcontrib-serializinghtml 1.1.5\n",
            "sphinxcontrib-websupport      1.2.4\n",
            "SQLAlchemy                    1.4.37\n",
            "sqlparse                      0.4.2\n",
            "srsly                         2.4.3\n",
            "statsmodels                   0.10.2\n",
            "sympy                         1.7.1\n",
            "tables                        3.7.0\n",
            "tabulate                      0.8.9\n",
            "tblib                         1.7.0\n",
            "tenacity                      8.0.1\n",
            "tensorboard                   2.8.0\n",
            "tensorboard-data-server       0.6.1\n",
            "tensorboard-plugin-wit        1.8.1\n",
            "tensorflow                    2.8.2+zzzcolab20220527125636\n",
            "tensorflow-datasets           4.0.1\n",
            "tensorflow-estimator          2.8.0\n",
            "tensorflow-gcs-config         2.8.0\n",
            "tensorflow-gpu                2.8.2\n",
            "tensorflow-hub                0.12.0\n",
            "tensorflow-io-gcs-filesystem  0.26.0\n",
            "tensorflow-metadata           1.8.0\n",
            "tensorflow-probability        0.16.0\n",
            "termcolor                     1.1.0\n",
            "terminado                     0.13.3\n",
            "testpath                      0.6.0\n",
            "text-unidecode                1.3\n",
            "textblob                      0.15.3\n",
            "Theano-PyMC                   1.1.2\n",
            "thinc                         8.0.17\n",
            "threadpoolctl                 3.1.0\n",
            "tifffile                      2021.11.2\n",
            "tinycss2                      1.1.1\n",
            "tomli                         2.0.1\n",
            "toolz                         0.11.2\n",
            "torch                         1.11.0+cu113\n",
            "torchaudio                    0.11.0+cu113\n",
            "torchsummary                  1.5.1\n",
            "torchtext                     0.12.0\n",
            "torchvision                   0.12.0+cu113\n",
            "tornado                       5.1.1\n",
            "tqdm                          4.64.0\n",
            "traitlets                     5.1.1\n",
            "tweepy                        3.10.0\n",
            "typeguard                     2.7.1\n",
            "typer                         0.4.1\n",
            "typing-extensions             4.1.1\n",
            "tzlocal                       1.5.1\n",
            "underthesea                   1.3.4\n",
            "underthesea-core              0.0.4a10\n",
            "Unidecode                     1.3.4\n",
            "uritemplate                   3.0.1\n",
            "urllib3                       1.24.3\n",
            "vega-datasets                 0.9.0\n",
            "wasabi                        0.9.1\n",
            "wcwidth                       0.2.5\n",
            "webencodings                  0.5.1\n",
            "Werkzeug                      1.0.1\n",
            "wheel                         0.37.1\n",
            "widgetsnbextension            3.6.0\n",
            "wordcloud                     1.5.0\n",
            "wrapt                         1.14.1\n",
            "xarray                        0.20.2\n",
            "xarray-einstats               0.2.2\n",
            "xgboost                       0.90\n",
            "xkit                          0.0.0\n",
            "xlrd                          1.2.0\n",
            "xlwt                          1.3.0\n",
            "yellowbrick                   1.4\n",
            "zict                          2.2.0\n",
            "zipp                          3.8.0\n"
          ]
        }
      ],
      "source": [
        "!pip list"
      ]
    },
    {
      "cell_type": "code",
      "execution_count": 5,
      "metadata": {
        "tags": [],
        "id": "iJHgBdYEMmku"
      },
      "outputs": [],
      "source": [
        "dataTrainUIT = open_workbook(\"/content/dataset_main.xlsx\", encoding_override='latin')\n",
        "df = pd.read_excel(dataTrainUIT)\n"
      ]
    },
    {
      "cell_type": "code",
      "execution_count": 6,
      "metadata": {
        "tags": [],
        "id": "pvmhYCJFMmku",
        "outputId": "ca26604f-e022-43bb-e0b1-16afe605fa69",
        "colab": {
          "base_uri": "https://localhost:8080/",
          "height": 206
        }
      },
      "outputs": [
        {
          "output_type": "execute_result",
          "data": {
            "text/plain": [
              "                                             Content  Final\n",
              "0                                      VN cố lên nha      0\n",
              "1                                        90 phút nữa      0\n",
              "2  các cầu thủ hãy cố gắng da hết mình nhé . nhất...      0\n",
              "3                                      nhật ăn 3:0 r      0\n",
              "4                                         1-0 cho vn      0"
            ],
            "text/html": [
              "\n",
              "  <div id=\"df-348f9c2f-9d51-45f2-bda6-665d35204c68\">\n",
              "    <div class=\"colab-df-container\">\n",
              "      <div>\n",
              "<style scoped>\n",
              "    .dataframe tbody tr th:only-of-type {\n",
              "        vertical-align: middle;\n",
              "    }\n",
              "\n",
              "    .dataframe tbody tr th {\n",
              "        vertical-align: top;\n",
              "    }\n",
              "\n",
              "    .dataframe thead th {\n",
              "        text-align: right;\n",
              "    }\n",
              "</style>\n",
              "<table border=\"1\" class=\"dataframe\">\n",
              "  <thead>\n",
              "    <tr style=\"text-align: right;\">\n",
              "      <th></th>\n",
              "      <th>Content</th>\n",
              "      <th>Final</th>\n",
              "    </tr>\n",
              "  </thead>\n",
              "  <tbody>\n",
              "    <tr>\n",
              "      <th>0</th>\n",
              "      <td>VN cố lên nha</td>\n",
              "      <td>0</td>\n",
              "    </tr>\n",
              "    <tr>\n",
              "      <th>1</th>\n",
              "      <td>90 phút nữa</td>\n",
              "      <td>0</td>\n",
              "    </tr>\n",
              "    <tr>\n",
              "      <th>2</th>\n",
              "      <td>các cầu thủ hãy cố gắng da hết mình nhé . nhất...</td>\n",
              "      <td>0</td>\n",
              "    </tr>\n",
              "    <tr>\n",
              "      <th>3</th>\n",
              "      <td>nhật ăn 3:0 r</td>\n",
              "      <td>0</td>\n",
              "    </tr>\n",
              "    <tr>\n",
              "      <th>4</th>\n",
              "      <td>1-0 cho vn</td>\n",
              "      <td>0</td>\n",
              "    </tr>\n",
              "  </tbody>\n",
              "</table>\n",
              "</div>\n",
              "      <button class=\"colab-df-convert\" onclick=\"convertToInteractive('df-348f9c2f-9d51-45f2-bda6-665d35204c68')\"\n",
              "              title=\"Convert this dataframe to an interactive table.\"\n",
              "              style=\"display:none;\">\n",
              "        \n",
              "  <svg xmlns=\"http://www.w3.org/2000/svg\" height=\"24px\"viewBox=\"0 0 24 24\"\n",
              "       width=\"24px\">\n",
              "    <path d=\"M0 0h24v24H0V0z\" fill=\"none\"/>\n",
              "    <path d=\"M18.56 5.44l.94 2.06.94-2.06 2.06-.94-2.06-.94-.94-2.06-.94 2.06-2.06.94zm-11 1L8.5 8.5l.94-2.06 2.06-.94-2.06-.94L8.5 2.5l-.94 2.06-2.06.94zm10 10l.94 2.06.94-2.06 2.06-.94-2.06-.94-.94-2.06-.94 2.06-2.06.94z\"/><path d=\"M17.41 7.96l-1.37-1.37c-.4-.4-.92-.59-1.43-.59-.52 0-1.04.2-1.43.59L10.3 9.45l-7.72 7.72c-.78.78-.78 2.05 0 2.83L4 21.41c.39.39.9.59 1.41.59.51 0 1.02-.2 1.41-.59l7.78-7.78 2.81-2.81c.8-.78.8-2.07 0-2.86zM5.41 20L4 18.59l7.72-7.72 1.47 1.35L5.41 20z\"/>\n",
              "  </svg>\n",
              "      </button>\n",
              "      \n",
              "  <style>\n",
              "    .colab-df-container {\n",
              "      display:flex;\n",
              "      flex-wrap:wrap;\n",
              "      gap: 12px;\n",
              "    }\n",
              "\n",
              "    .colab-df-convert {\n",
              "      background-color: #E8F0FE;\n",
              "      border: none;\n",
              "      border-radius: 50%;\n",
              "      cursor: pointer;\n",
              "      display: none;\n",
              "      fill: #1967D2;\n",
              "      height: 32px;\n",
              "      padding: 0 0 0 0;\n",
              "      width: 32px;\n",
              "    }\n",
              "\n",
              "    .colab-df-convert:hover {\n",
              "      background-color: #E2EBFA;\n",
              "      box-shadow: 0px 1px 2px rgba(60, 64, 67, 0.3), 0px 1px 3px 1px rgba(60, 64, 67, 0.15);\n",
              "      fill: #174EA6;\n",
              "    }\n",
              "\n",
              "    [theme=dark] .colab-df-convert {\n",
              "      background-color: #3B4455;\n",
              "      fill: #D2E3FC;\n",
              "    }\n",
              "\n",
              "    [theme=dark] .colab-df-convert:hover {\n",
              "      background-color: #434B5C;\n",
              "      box-shadow: 0px 1px 3px 1px rgba(0, 0, 0, 0.15);\n",
              "      filter: drop-shadow(0px 1px 2px rgba(0, 0, 0, 0.3));\n",
              "      fill: #FFFFFF;\n",
              "    }\n",
              "  </style>\n",
              "\n",
              "      <script>\n",
              "        const buttonEl =\n",
              "          document.querySelector('#df-348f9c2f-9d51-45f2-bda6-665d35204c68 button.colab-df-convert');\n",
              "        buttonEl.style.display =\n",
              "          google.colab.kernel.accessAllowed ? 'block' : 'none';\n",
              "\n",
              "        async function convertToInteractive(key) {\n",
              "          const element = document.querySelector('#df-348f9c2f-9d51-45f2-bda6-665d35204c68');\n",
              "          const dataTable =\n",
              "            await google.colab.kernel.invokeFunction('convertToInteractive',\n",
              "                                                     [key], {});\n",
              "          if (!dataTable) return;\n",
              "\n",
              "          const docLinkHtml = 'Like what you see? Visit the ' +\n",
              "            '<a target=\"_blank\" href=https://colab.research.google.com/notebooks/data_table.ipynb>data table notebook</a>'\n",
              "            + ' to learn more about interactive tables.';\n",
              "          element.innerHTML = '';\n",
              "          dataTable['output_type'] = 'display_data';\n",
              "          await google.colab.output.renderOutput(dataTable, element);\n",
              "          const docLink = document.createElement('div');\n",
              "          docLink.innerHTML = docLinkHtml;\n",
              "          element.appendChild(docLink);\n",
              "        }\n",
              "      </script>\n",
              "    </div>\n",
              "  </div>\n",
              "  "
            ]
          },
          "metadata": {},
          "execution_count": 6
        }
      ],
      "source": [
        "df.head()"
      ]
    },
    {
      "cell_type": "code",
      "source": [
        "import seaborn as sns\n",
        "import matplotlib.pyplot as plt\n",
        "\n",
        "sns.barplot(['Toxic', 'NonToxic'], df['Final'].map({0:\"Non Toxic\", 1: \"Toxic\"}).value_counts(ascending=True), alpha=0.8,palette=\"vlag\")\n",
        "\n",
        "plt.title('Count of Toxic Comment of Dataset')"
      ],
      "metadata": {
        "colab": {
          "base_uri": "https://localhost:8080/",
          "height": 353
        },
        "id": "5WzQcd5TEZQh",
        "outputId": "be6f1a62-1747-48e5-99e4-8d7df61e7f3d"
      },
      "execution_count": 7,
      "outputs": [
        {
          "output_type": "stream",
          "name": "stderr",
          "text": [
            "/usr/local/lib/python3.7/dist-packages/seaborn/_decorators.py:43: FutureWarning: Pass the following variables as keyword args: x, y. From version 0.12, the only valid positional argument will be `data`, and passing other arguments without an explicit keyword will result in an error or misinterpretation.\n",
            "  FutureWarning\n"
          ]
        },
        {
          "output_type": "execute_result",
          "data": {
            "text/plain": [
              "Text(0.5, 1.0, 'Count of Toxic Comment of Dataset')"
            ]
          },
          "metadata": {},
          "execution_count": 7
        },
        {
          "output_type": "display_data",
          "data": {
            "text/plain": [
              "<Figure size 432x288 with 1 Axes>"
            ],
            "image/png": "[encoded data removed]"
          },
          "metadata": {
            "needs_background": "light"
          }
        }
      ]
    },
    {
      "cell_type": "code",
      "execution_count": 8,
      "metadata": {
        "tags": [],
        "id": "wTQfd87xMmkv"
      },
      "outputs": [],
      "source": [
        "from tensorflow.keras.layers import TextVectorization"
      ]
    },
    {
      "cell_type": "code",
      "execution_count": 9,
      "metadata": {
        "tags": [],
        "id": "zlrenNF-Mmkw",
        "colab": {
          "base_uri": "https://localhost:8080/"
        },
        "outputId": "762dd215-c941-4c9e-945d-cd48e804f977"
      },
      "outputs": [
        {
          "output_type": "stream",
          "name": "stdout",
          "text": [
            "                                                       0\n",
            "0                                          VN cố lên nha\n",
            "1                                            90 phút nữa\n",
            "2      các cầu_thủ hãy cố_gắng da hết_mình nhé . nhất...\n",
            "3                                        nhật ăn 3 : 0 r\n",
            "4                                             1-0 cho vn\n",
            "...                                                  ...\n",
            "16798                                    đá vẫn chán lắm\n",
            "16799                            vaooooooooooooooooooooo\n",
            "16800                                           yeahhhhh\n",
            "16801                     ghi_bàn rồi sẽ giải_toả tâm_lí\n",
            "16802                      SUIIIIIIIIIIIIIIIIIIIIIIIIIII\n",
            "\n",
            "[16803 rows x 1 columns]\n"
          ]
        }
      ],
      "source": [
        "X = df['Content']\n",
        "y = df['Final']\n",
        "WordSeg = []\n",
        "for i in range(len(X)):\n",
        "        sentence_strip = str(X[i]).strip()# Remove spaces at begin & end\n",
        "        WordSeg.append(word_tokenize(sentence_strip, format='text')) # format text: add \"_\" where text is phrases.\n",
        "X = pd.DataFrame(WordSeg) # Update new sentences\n",
        "print(X)"
      ]
    },
    {
      "cell_type": "code",
      "execution_count": 10,
      "metadata": {
        "tags": [],
        "id": "vpOYrNttMmkw"
      },
      "outputs": [],
      "source": [
        "MAX_FEATURES = 200000 # number of words in the vocab"
      ]
    },
    {
      "cell_type": "code",
      "execution_count": 11,
      "metadata": {
        "tags": [],
        "id": "bdIwDpGiMmkx"
      },
      "outputs": [],
      "source": [
        "vectorizer = TextVectorization(max_tokens=MAX_FEATURES,\n",
        "                               output_sequence_length=50,\n",
        "                               output_mode='int')"
      ]
    },
    {
      "cell_type": "code",
      "execution_count": 12,
      "metadata": {
        "tags": [],
        "id": "d3RabH5nMmkx"
      },
      "outputs": [],
      "source": [
        "vectorizer.adapt(X.values)"
      ]
    },
    {
      "cell_type": "code",
      "execution_count": 13,
      "metadata": {
        "tags": [],
        "id": "ojtRaE-DMmkx"
      },
      "outputs": [],
      "source": [
        "vectorized_text = vectorizer(X.values)"
      ]
    },
    {
      "cell_type": "code",
      "source": [
        "print(vectorized_text)"
      ],
      "metadata": {
        "id": "dXzl-m0-TCa4",
        "colab": {
          "base_uri": "https://localhost:8080/"
        },
        "outputId": "b49f5853-1b0d-42ea-e194-329513a54301"
      },
      "execution_count": 14,
      "outputs": [
        {
          "output_type": "stream",
          "name": "stdout",
          "text": [
            "tf.Tensor(\n",
            "[[   3   29   16 ...    0    0    0]\n",
            " [ 831  141   65 ...    0    0    0]\n",
            " [  64  142  584 ...    0    0    0]\n",
            " ...\n",
            " [4703    0    0 ...    0    0    0]\n",
            " [ 241    8  152 ...    0    0    0]\n",
            " [5847    0    0 ...    0    0    0]], shape=(16803, 50), dtype=int64)\n"
          ]
        }
      ]
    },
    {
      "cell_type": "code",
      "source": [
        "X = vectorizer(X.values)"
      ],
      "metadata": {
        "id": "YvQsM96Fvwp7"
      },
      "execution_count": 15,
      "outputs": []
    },
    {
      "cell_type": "code",
      "source": [
        "!pip install imbalanced-learn\n",
        "from collections import Counter\n",
        "from sklearn.datasets import make_classification\n",
        "from matplotlib import pyplot\n",
        "from numpy import where\n",
        "import imblearn\n",
        "from imblearn.over_sampling import RandomOverSampler\n",
        "\n",
        "# define dataset\n",
        "counter = Counter(y)\n",
        "print(counter)\n",
        "# define the undersampling method\n",
        "undersample =RandomOverSampler()\n",
        "\n",
        "# transform the dataset\n",
        "X, y = undersample.fit_resample(X, y)\n",
        "# summarize the new class distribution\n",
        "counter = Counter(y)\n",
        "print(counter)\n",
        "# scatter plot of examples by class label\n",
        "for label, _ in counter.items():\n",
        "\trow_ix = where(y == label)[0]\n",
        "\tpyplot.scatter(X[row_ix, 0], X[row_ix, 1], label=str(label))\n",
        "pyplot.legend()\n",
        "pyplot.show()"
      ],
      "metadata": {
        "colab": {
          "base_uri": "https://localhost:8080/",
          "height": 441
        },
        "id": "E1VbMprJOkpe",
        "outputId": "4c55e3c2-5624-44c2-b62c-be3a09d3be86"
      },
      "execution_count": 16,
      "outputs": [
        {
          "output_type": "stream",
          "name": "stdout",
          "text": [
            "Looking in indexes: https://pypi.org/simple, https://us-python.pkg.dev/colab-wheels/public/simple/\n",
            "Requirement already satisfied: imbalanced-learn in /usr/local/lib/python3.7/dist-packages (0.8.1)\n",
            "Requirement already satisfied: joblib>=0.11 in /usr/local/lib/python3.7/dist-packages (from imbalanced-learn) (1.1.0)\n",
            "Requirement already satisfied: numpy>=1.13.3 in /usr/local/lib/python3.7/dist-packages (from imbalanced-learn) (1.21.6)\n",
            "Requirement already satisfied: scikit-learn>=0.24 in /usr/local/lib/python3.7/dist-packages (from imbalanced-learn) (1.0.2)\n",
            "Requirement already satisfied: scipy>=0.19.1 in /usr/local/lib/python3.7/dist-packages (from imbalanced-learn) (1.4.1)\n",
            "Requirement already satisfied: threadpoolctl>=2.0.0 in /usr/local/lib/python3.7/dist-packages (from scikit-learn>=0.24->imbalanced-learn) (3.1.0)\n",
            "Counter({0: 14291, 1: 2512})\n",
            "Counter({0: 14291, 1: 14291})\n"
          ]
        },
        {
          "output_type": "display_data",
          "data": {
            "text/plain": [
              "<Figure size 432x288 with 1 Axes>"
            ],
            "image/png": "[encoded data removed]"
          },
          "metadata": {
            "needs_background": "light"
          }
        }
      ]
    },
    {
      "cell_type": "code",
      "execution_count": 17,
      "metadata": {
        "tags": [],
        "id": "c02tH6W_Mmkx"
      },
      "outputs": [],
      "source": [
        "#MCSHBAP - map, chache, shuffle, batch, prefetch  from_tensor_slices, list_file\n",
        "dataset = tf.data.Dataset.from_tensor_slices((X, y))\n",
        "dataset = dataset.cache()\n",
        "dataset = dataset.shuffle(160000)\n",
        "dataset = dataset.batch(16)\n",
        "dataset = dataset.prefetch(8) # helps bottlenecks"
      ]
    },
    {
      "cell_type": "code",
      "execution_count": 18,
      "metadata": {
        "tags": [],
        "id": "so1p8CxTMmkx"
      },
      "outputs": [],
      "source": [
        "train = dataset.take(int(len(dataset)*.6))#Train set 60%\n",
        "val = dataset.skip(int(len(dataset)*.6)).take(int(len(dataset)*.2))#Valuating set 20%\n",
        "test = dataset.skip(int(len(dataset)*.8)).take(int(len(dataset)*.2))#Test set 20%"
      ]
    },
    {
      "cell_type": "markdown",
      "metadata": {
        "id": "Zr8_hX0ZMmky"
      },
      "source": [
        "# 2. Create Sequential Model"
      ]
    },
    {
      "cell_type": "markdown",
      "source": [
        "Mạng này sẽ nhận vào input là X và trả ra output Y : \n",
        "![image.png](data:image/png;base64,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)"
      ],
      "metadata": {
        "id": "J0hxL02YaZhe"
      }
    },
    {
      "cell_type": "code",
      "execution_count": 19,
      "metadata": {
        "tags": [],
        "id": "ViiXYtt0Mmky"
      },
      "outputs": [],
      "source": [
        "from tensorflow.keras.models import Sequential, load_model\n",
        "from tensorflow.keras.layers import LSTM, Dropout, Bidirectional, Dense, Embedding"
      ]
    },
    {
      "cell_type": "code",
      "source": [
        ""
      ],
      "metadata": {
        "id": "B0K55wchap7T"
      },
      "execution_count": 19,
      "outputs": []
    },
    {
      "cell_type": "markdown",
      "source": [
        "Sigmoid Function : ![image.png](data:image/png;base64,iVBORw0KGgoAAAANSUhEUgAAAPUAAABSCAYAAACMqJIzAAALFUlEQVR4nO3df0zTdx7H8eduq3Lp4tALghecHXOUuUBQtqXkBsqFzHFuJ3AbUXFOsjv15q8xzoE7J+Fc/LVop84pnEuZk+E6J7i7XW+EHIhZ2rggnGQcXTb8mjVnGZnryDVB2eL9UXT+oAXkW2i/vB//+E375fv5tPbV7+f7+X4+n95x5cqVKwghNONnY10BIYS6JNRCaIyEWgiNkVALoTESaiE0RkIthMZIqIXQGAm1CB8Xm7GUn8DRM9YVCW0SahHi+vC4nNSWl5D0+Gus3GpH8Y51nULbXWNdASEG1sXRF1ax7GMAHQlG6Oge6zqFBzlTixAVTfb2I3zTZuXyeSt1q+PGukJhQ87UImRFTNITMdaVCENyphZCYyTUQmiMhFoIjZFQC6ExEmohNEZCLYTGSKiF0BgJtRAaI6EWQmMk1EJojIRaCI0ZZ6H20nr8GA0X+lQ5msdpw9LoUuVYYgBeL54eL54eFy2fX32ffdu+x730/jCmNQxJd4yfxfw9NOws5LkLeTSZszCocUhvG9vyt+B4cgvv/94okw9U5tibQ/quwPuU1dawcfbo1CdcjJNQe3HsXUP64SQ+OVlIhl7FQyvHWDjXyj1793F4YbSKBxbi9oyLUPd+tp/0p0+SccTCjjQ1E+2jVK8lvgTKT+6jQJUmgBC3T/vX1JfaMG+up3VeHn8MQqABDL/NpzDKRekeG+6glCDE0Gk+1J7GDyhth4IlmepcRw9Eb2LxH/S4j1dR3R6sQoQYGo2H2kXNe21ACtmpkUEtKTktk2S8mP/uoDeoJQkRmLZDrTRT2wgsSGH2pCCXNSuFnChwW+3YLwW5LCEC0HSoPV+2YQOS58QRM9i+n1Wx/vml3Dsjhwlz11J8opNevLRWbiZ9bg4TZuSxcGsTit8jxJH8BNDdTOtXar4KIYYnbBYe9DjrOXDoGNUNXQGWitWRbd6NNTcWgI72ZgBSDbEBj62cKCHdMpmdW99kz9s63+2vdUXU7NahTM6k6W/FRH68hbwSM+tnxnEib6Dj6Zlm0ANeWs55YFZwm/tC+BMGoe7CtqWUlYe6cKPDlBZNxpSLNDj7R4UZIsmYPtG3PcnIkjnR1/5O6fBtxfwiQK+3coz162Dnp8Us6s+qKS0VdtlQlAnsOLCC5M/NxJc4cQMRPf5Xko+JigWcNCpfA0MNtRPz3BKK/TcBhiTbfBBrrtwnFyEf6i6OFq5l2fE+TMtXUFeURUL/tbFiLSF+gxMM2ZS/s3CAnm0PF84BxHFflP8SHB9ZaVn9Eu9fd/JVzjl9G1HppM6CiPbJGAC3IZFXnjD6PVbML6cDTtzfe+mFIY4wM1J4sobCIe0rxOBCOtTKcTPLjvfBvHwOl904tNOQNpdsnNQ22mntXojhluBeprcdQAd3+i8jYX4xdVEp1wWwj3Mdnb7N3CSSAWYtp+n88sErfJfO96/rOzww6HX8WJowI2esqzBuXD5fM6rlhW6oLzmwbHUCOjauGuBMfMnL9/2bIxnUH2lMuamh3IHjuG8r+6H7NDuee7Q/aGL0hGzvt+dUPdu6AVKZN0d36/NfdtAAEBVHwjQVC1acNHYD6El9QK5RRfgJ2VArzrO+jdwEHpx487N9tJzxPR+Tl0TCgEeYTEyab19+HHq5174sSCV11g3P0GHvxBPoj3/o77yLnTzkbjIh1Ba6ze+JE4A+uC/21mvTiyc5ur8PiKUsz+SniXw3k6MAOjnXDQx4V6uL2g1rybP2YSrbRdPy6bSc9t0G49nEG74seu0WHl8L73xaSMYtXzI+7v9+3V/0cH4DSnq/hbpCNtQJD6UQQxPu/93ck+ylwVKJBR2L9m4KMCsqEsNMHdCH+1svMMBtLeUUB6y+s6vS44VLzTT2X08z9fqzrYvqg03MLtrnN9AA7m7fRP7sGVOH+jKR3m+htpBtfkekLmFnrg7KyzHbfY3e3otOjpauYX713RRW7B50/rLBmASAXfGzOoleTzSQkJtP3fI4HOXlWGZGYwLo6ET5AbjoxLLhJUqnrGDP4kCDWLxcUHxfHnItLsZSyJ6pIZpFr+8jOmE/pSUFlCoQY4wm68l8Ttdlkjxl8CNEzkwki2ZsZzpxY7y1GR+VxV/eambZziqSEq0kLM6n7u2FxHxVxbo/VRF/fyUYIilYUszp51MGuUXVSes/gagUku+/3dcsxMhpfJEEF5bn1rKyMYUTbZvICuakjvZKHs06gXt1MV+87O86P8xcbMbygYsHFy/EFOwJMUI1Idv8VkcsOUsSgWZq7QH7rUes9VQ9regpfDLcA92Hx+WktryEpMdfY+VWO4r/kbHjT08bBzasYv7SAuIfLsJ8thPb1rXMX1RAfHYFjhB4rzQeaoic9wxls8DyXn2AGVYj5HVQ/VcvLMhn8azBdw9NXRx9wTcbbeqvXmXzh50BJs6MXG8IfPiHz4l52W48ebv45IiFw4s7KX6qiNKJy9nz7HRosbG7vmusK6n9UDMxkcJX0olptHLgVHA+ScpHVZi7jRx+JSukh4YGFk329iN802bl8nkrdavjglfU2Qri51bQGrwSgsLzSRXVaWsofOT6OynRFGQn4enoQImKDolO0hDuKFNPRNoKrEVnSS+s4IkgrCa6vqSLRXv3XZvlFa4iJg3n/voI/AjubsJuhZjIx4qpe+zqe+TiPy1AVCKzZ+gwFVm5XDS29btqXIQa9JjWbefEtyU8t8mm7rrfL1q5Z/t2KmR54DDhpWFXEdtbhrj7pEz2vPW0byCSXv/T2IXuNhpOAXlGEkIsRSFWnWCKJqvsTT46buPchT4M024dTz5cHpeLmBd3s3FemJ+itaK7jaPVH2D5VwcNLX2+25G/W8nGdabrvsT1ZBQdJGOkZSmdHAWyH0m4FvTeHi+MVmsnAO1fU99AT3Lu02SoEGiASGMWBRLoEODBsb+Iex/ezOavjZQdqOLy+Rq+qcjku107WHbIqUIZfbSWr+LeGUsxt0Prv+2AjtkP9P//X3Kw7akK7CHQATjOQi20pwtbaSHpOzshdwV1r+dj6v/SjjRmkrsAHGc6VViPvZOG97pwR8Uy7c5maj70jR6MnATgxVFeTsOS36jbX3ObxlHzW2iR+2MzKys9QCJ7X72pr+SiE/tpMK0ZYDThsBnJeTmFGut3/GNnJdNe3IS1uZLNf95Mx3QvPLQG61L/q+KMJgm1CGNOqt/0rR3Hs5nM6x863NvThXKmHvMbx7DNzML6jDq35wwLNtG04LoH5qeQrcqR1SWhFqrz1L/Go883DzrYJ32Gzf+Thkya6lZjCjArjnb7T7+I8q6Zqe+aAR0JqVNImGkit3gfO1Jjx93cdgm1UF1k5ia+OB9gh5YKJmRD0/kVvhlxt8l9rqN/AIueHbYjFIbtaD51SUeZCF/X1qaTmXHXk1CLsBU55eqAHz0/99dM97pwOIM7mSfUSKhF2Ip4NJWN/UtWKRcG2KGnDfO6l8g7aB9XPzEsoRY/8Xrx9Hjx9Lho+fzqajG+bd/j3hEtx6y6iSYKXjUSg5O33m3C3V+33h4XDusO5v96C41zijlrDueJNsOn8UUSxHA49uaQvivwPmW1NWycPcKCVOoou8ptr2LbIRs19V7cgGF2HFlZmSzOzcIU4NdZtEpCLUafyqEWN5Lmtxh9d0JM1FB/a0wMl5yphdAYOVMLoTESaiE0RkIthMZIqIXQGAm1EBojoRZCYyTUQmiMhFoIjZFQC6ExEmohNEZCLYTGSKiF0BgJtRAaI6EWQmMk1EJojIRaCI2RUAuhMf8Hg8KDD8ji0BEAAAAASUVORK5CYII=)\n",
        "\n",
        "Hàm Sigmoid nhận đầu vào là một số thực và chuyển thành một giá trị trong khoảng (0;1) (xem đồ thị phía trên). Đầu vào là số thực âm rất nhỏ sẽ cho đầu ra tiệm cận với 0, ngược lại, nếu đầu vào là một số thực dương lớn sẽ cho đầu ra là một số tiệm cận với 1.\n",
        "\n",
        "tanH Function : ![image.png](data:image/png;base64,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)\n",
        "\n",
        "Hàm  nhận đầu vào là một số thực và chuyển thành một giá trị trong khoảng (-1; 1). Cũng như Sigmoid, hàm Tanh bị bão hoà ở 2 đầu (gradient thay đổi rất ít ở 2 đầu).\n",
        "\n",
        "reLU Function : ![image.png](data:image/png;base64,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)\n",
        "\n",
        " ReLU đơn giản lọc các giá trị < 0.\n",
        "\n"
      ],
      "metadata": {
        "id": "NMD1klMsbNsj"
      }
    },
    {
      "cell_type": "code",
      "execution_count": 20,
      "metadata": {
        "tags": [],
        "id": "Avj-JdrsMmky"
      },
      "outputs": [],
      "source": [
        "model = Sequential()\n",
        "# Create the embedding layer \n",
        "model.add(Embedding(MAX_FEATURES+1, 32))\n",
        "# Bidirectional LSTM Layer\n",
        "model.add(Bidirectional(LSTM(32, activation='tanh')))\n",
        "# Feature extractor Fully connected layers\n",
        "model.add(Dense(128, activation='relu'))\n",
        "model.add(Dense(256, activation='relu'))\n",
        "model.add(Dense(512, activation='relu'))\n",
        "model.add(Dense(256, activation='relu'))\n",
        "model.add(Dense(128, activation='relu'))\n",
        "# Final layer \n",
        "model.add(Dense(1, activation='sigmoid'))"
      ]
    },
    {
      "cell_type": "code",
      "source": [
        "import keras\n",
        "%matplotlib inline \n",
        "\n",
        "from keras.utils.vis_utils import plot_model\n",
        "plot_model(model, to_file='cnn_model.png')\n",
        "\n",
        "# show model\n",
        "from IPython.display import SVG\n",
        "from keras.utils.vis_utils import model_to_dot\n",
        "SVG(model_to_dot(model,show_shapes=True,dpi=65).create(prog='dot', format='svg'))"
      ],
      "metadata": {
        "id": "tw1I_SnrF6Cj",
        "outputId": "dd102bc1-12f4-4b36-e8f4-cccf4172f039",
        "colab": {
          "base_uri": "https://localhost:8080/",
          "height": 887
        }
      },
      "execution_count": 69,
      "outputs": [
        {
          "output_type": "execute_result",
          "data": {
            "text/plain": [
              "<IPython.core.display.SVG object>"
            ],
            "image/svg+xml": "<svg height=\"649pt\" viewBox=\"0.00 0.00 403.00 719.00\" width=\"364pt\" xmlns=\"http://www.w3.org/2000/svg\" xmlns:xlink=\"http://www.w3.org/1999/xlink\">\n<g class=\"graph\" id=\"graph0\" transform=\"scale(.9028 .9028) rotate(0) translate(4 715)\">\n<title>G</title>\n<polygon fill=\"#ffffff\" points=\"-4,4 -4,-715 399,-715 399,4 -4,4\" stroke=\"transparent\"/>\n<!-- 139694187900496 -->\n<g class=\"node\" id=\"node1\">\n<title>139694187900496</title>\n<polygon fill=\"none\" points=\"4,-664.5 4,-710.5 391,-710.5 391,-664.5 4,-664.5\" stroke=\"#000000\"/>\n<text fill=\"#000000\" font-family=\"Times,serif\" font-size=\"14.00\" text-anchor=\"middle\" x=\"63.5\" y=\"-695.3\">embedding_input</text>\n<polyline fill=\"none\" points=\"4,-687.5 123,-687.5 \" stroke=\"#000000\"/>\n<text fill=\"#000000\" font-family=\"Times,serif\" font-size=\"14.00\" text-anchor=\"middle\" x=\"63.5\" y=\"-672.3\">InputLayer</text>\n<polyline fill=\"none\" points=\"123,-664.5 123,-710.5 \" stroke=\"#000000\"/>\n<text fill=\"#000000\" font-family=\"Times,serif\" font-size=\"14.00\" text-anchor=\"middle\" x=\"152\" y=\"-695.3\">input:</text>\n<polyline fill=\"none\" points=\"123,-687.5 181,-687.5 \" stroke=\"#000000\"/>\n<text fill=\"#000000\" font-family=\"Times,serif\" font-size=\"14.00\" text-anchor=\"middle\" x=\"152\" y=\"-672.3\">output:</text>\n<polyline fill=\"none\" points=\"181,-664.5 181,-710.5 \" stroke=\"#000000\"/>\n<text fill=\"#000000\" font-family=\"Times,serif\" font-size=\"14.00\" text-anchor=\"middle\" x=\"233.5\" y=\"-683.8\">[(None, None)]</text>\n<polyline fill=\"none\" points=\"286,-664.5 286,-710.5 \" stroke=\"#000000\"/>\n<text fill=\"#000000\" font-family=\"Times,serif\" font-size=\"14.00\" text-anchor=\"middle\" x=\"338.5\" y=\"-683.8\">[(None, None)]</text>\n</g>\n<!-- 139694163411728 -->\n<g class=\"node\" id=\"node2\">\n<title>139694163411728</title>\n<polygon fill=\"none\" points=\"19,-581.5 19,-627.5 376,-627.5 376,-581.5 19,-581.5\" stroke=\"#000000\"/>\n<text fill=\"#000000\" font-family=\"Times,serif\" font-size=\"14.00\" text-anchor=\"middle\" x=\"61\" y=\"-612.3\">embedding</text>\n<polyline fill=\"none\" points=\"19,-604.5 103,-604.5 \" stroke=\"#000000\"/>\n<text fill=\"#000000\" font-family=\"Times,serif\" font-size=\"14.00\" text-anchor=\"middle\" x=\"61\" y=\"-589.3\">Embedding</text>\n<polyline fill=\"none\" points=\"103,-581.5 103,-627.5 \" stroke=\"#000000\"/>\n<text fill=\"#000000\" font-family=\"Times,serif\" font-size=\"14.00\" text-anchor=\"middle\" x=\"132\" y=\"-612.3\">input:</text>\n<polyline fill=\"none\" points=\"103,-604.5 161,-604.5 \" stroke=\"#000000\"/>\n<text fill=\"#000000\" font-family=\"Times,serif\" font-size=\"14.00\" text-anchor=\"middle\" x=\"132\" y=\"-589.3\">output:</text>\n<polyline fill=\"none\" points=\"161,-581.5 161,-627.5 \" stroke=\"#000000\"/>\n<text fill=\"#000000\" font-family=\"Times,serif\" font-size=\"14.00\" text-anchor=\"middle\" x=\"209\" y=\"-600.8\">(None, None)</text>\n<polyline fill=\"none\" points=\"257,-581.5 257,-627.5 \" stroke=\"#000000\"/>\n<text fill=\"#000000\" font-family=\"Times,serif\" font-size=\"14.00\" text-anchor=\"middle\" x=\"316.5\" y=\"-600.8\">(None, None, 32)</text>\n</g>\n<!-- 139694187900496&#45;&gt;139694163411728 -->\n<g class=\"edge\" id=\"edge1\">\n<title>139694187900496-&gt;139694163411728</title>\n<path d=\"M197.5,-664.3799C197.5,-656.1745 197.5,-646.7679 197.5,-637.8786\" fill=\"none\" stroke=\"#000000\"/>\n<polygon fill=\"#000000\" points=\"201.0001,-637.784 197.5,-627.784 194.0001,-637.784 201.0001,-637.784\" stroke=\"#000000\"/>\n</g>\n<!-- 139694230584464 -->\n<g class=\"node\" id=\"node3\">\n<title>139694230584464</title>\n<polygon fill=\"none\" points=\"0,-498.5 0,-544.5 395,-544.5 395,-498.5 0,-498.5\" stroke=\"#000000\"/>\n<text fill=\"#000000\" font-family=\"Times,serif\" font-size=\"14.00\" text-anchor=\"middle\" x=\"69\" y=\"-529.3\">bidirectional(lstm)</text>\n<polyline fill=\"none\" points=\"0,-521.5 138,-521.5 \" stroke=\"#000000\"/>\n<text fill=\"#000000\" font-family=\"Times,serif\" font-size=\"14.00\" text-anchor=\"middle\" x=\"69\" y=\"-506.3\">Bidirectional(LSTM)</text>\n<polyline fill=\"none\" points=\"138,-498.5 138,-544.5 \" stroke=\"#000000\"/>\n<text fill=\"#000000\" font-family=\"Times,serif\" font-size=\"14.00\" text-anchor=\"middle\" x=\"167\" y=\"-529.3\">input:</text>\n<polyline fill=\"none\" points=\"138,-521.5 196,-521.5 \" stroke=\"#000000\"/>\n<text fill=\"#000000\" font-family=\"Times,serif\" font-size=\"14.00\" text-anchor=\"middle\" x=\"167\" y=\"-506.3\">output:</text>\n<polyline fill=\"none\" points=\"196,-498.5 196,-544.5 \" stroke=\"#000000\"/>\n<text fill=\"#000000\" font-family=\"Times,serif\" font-size=\"14.00\" text-anchor=\"middle\" x=\"255.5\" y=\"-517.8\">(None, None, 32)</text>\n<polyline fill=\"none\" points=\"315,-498.5 315,-544.5 \" stroke=\"#000000\"/>\n<text fill=\"#000000\" font-family=\"Times,serif\" font-size=\"14.00\" text-anchor=\"middle\" x=\"355\" y=\"-517.8\">(None, 64)</text>\n</g>\n<!-- 139694163411728&#45;&gt;139694230584464 -->\n<g class=\"edge\" id=\"edge2\">\n<title>139694163411728-&gt;139694230584464</title>\n<path d=\"M197.5,-581.3799C197.5,-573.1745 197.5,-563.7679 197.5,-554.8786\" fill=\"none\" stroke=\"#000000\"/>\n<polygon fill=\"#000000\" points=\"201.0001,-554.784 197.5,-544.784 194.0001,-554.784 201.0001,-554.784\" stroke=\"#000000\"/>\n</g>\n<!-- 139694227016528 -->\n<g class=\"node\" id=\"node4\">\n<title>139694227016528</title>\n<polygon fill=\"none\" points=\"59,-415.5 59,-461.5 336,-461.5 336,-415.5 59,-415.5\" stroke=\"#000000\"/>\n<text fill=\"#000000\" font-family=\"Times,serif\" font-size=\"14.00\" text-anchor=\"middle\" x=\"85\" y=\"-446.3\">dense</text>\n<polyline fill=\"none\" points=\"59,-438.5 111,-438.5 \" stroke=\"#000000\"/>\n<text fill=\"#000000\" font-family=\"Times,serif\" font-size=\"14.00\" text-anchor=\"middle\" x=\"85\" y=\"-423.3\">Dense</text>\n<polyline fill=\"none\" points=\"111,-415.5 111,-461.5 \" stroke=\"#000000\"/>\n<text fill=\"#000000\" font-family=\"Times,serif\" font-size=\"14.00\" text-anchor=\"middle\" x=\"140\" y=\"-446.3\">input:</text>\n<polyline fill=\"none\" points=\"111,-438.5 169,-438.5 \" stroke=\"#000000\"/>\n<text fill=\"#000000\" font-family=\"Times,serif\" font-size=\"14.00\" text-anchor=\"middle\" x=\"140\" y=\"-423.3\">output:</text>\n<polyline fill=\"none\" points=\"169,-415.5 169,-461.5 \" stroke=\"#000000\"/>\n<text fill=\"#000000\" font-family=\"Times,serif\" font-size=\"14.00\" text-anchor=\"middle\" x=\"209\" y=\"-434.8\">(None, 64)</text>\n<polyline fill=\"none\" points=\"249,-415.5 249,-461.5 \" stroke=\"#000000\"/>\n<text fill=\"#000000\" font-family=\"Times,serif\" font-size=\"14.00\" text-anchor=\"middle\" x=\"292.5\" y=\"-434.8\">(None, 128)</text>\n</g>\n<!-- 139694230584464&#45;&gt;139694227016528 -->\n<g class=\"edge\" id=\"edge3\">\n<title>139694230584464-&gt;139694227016528</title>\n<path d=\"M197.5,-498.3799C197.5,-490.1745 197.5,-480.7679 197.5,-471.8786\" fill=\"none\" stroke=\"#000000\"/>\n<polygon fill=\"#000000\" points=\"201.0001,-471.784 197.5,-461.784 194.0001,-471.784 201.0001,-471.784\" stroke=\"#000000\"/>\n</g>\n<!-- 139694242969680 -->\n<g class=\"node\" id=\"node5\">\n<title>139694242969680</title>\n<polygon fill=\"none\" points=\"49.5,-332.5 49.5,-378.5 345.5,-378.5 345.5,-332.5 49.5,-332.5\" stroke=\"#000000\"/>\n<text fill=\"#000000\" font-family=\"Times,serif\" font-size=\"14.00\" text-anchor=\"middle\" x=\"81.5\" y=\"-363.3\">dense_1</text>\n<polyline fill=\"none\" points=\"49.5,-355.5 113.5,-355.5 \" stroke=\"#000000\"/>\n<text fill=\"#000000\" font-family=\"Times,serif\" font-size=\"14.00\" text-anchor=\"middle\" x=\"81.5\" y=\"-340.3\">Dense</text>\n<polyline fill=\"none\" points=\"113.5,-332.5 113.5,-378.5 \" stroke=\"#000000\"/>\n<text fill=\"#000000\" font-family=\"Times,serif\" font-size=\"14.00\" text-anchor=\"middle\" x=\"142.5\" y=\"-363.3\">input:</text>\n<polyline fill=\"none\" points=\"113.5,-355.5 171.5,-355.5 \" stroke=\"#000000\"/>\n<text fill=\"#000000\" font-family=\"Times,serif\" font-size=\"14.00\" text-anchor=\"middle\" x=\"142.5\" y=\"-340.3\">output:</text>\n<polyline fill=\"none\" points=\"171.5,-332.5 171.5,-378.5 \" stroke=\"#000000\"/>\n<text fill=\"#000000\" font-family=\"Times,serif\" font-size=\"14.00\" text-anchor=\"middle\" x=\"215\" y=\"-351.8\">(None, 128)</text>\n<polyline fill=\"none\" points=\"258.5,-332.5 258.5,-378.5 \" stroke=\"#000000\"/>\n<text fill=\"#000000\" font-family=\"Times,serif\" font-size=\"14.00\" text-anchor=\"middle\" x=\"302\" y=\"-351.8\">(None, 256)</text>\n</g>\n<!-- 139694227016528&#45;&gt;139694242969680 -->\n<g class=\"edge\" id=\"edge4\">\n<title>139694227016528-&gt;139694242969680</title>\n<path d=\"M197.5,-415.3799C197.5,-407.1745 197.5,-397.7679 197.5,-388.8786\" fill=\"none\" stroke=\"#000000\"/>\n<polygon fill=\"#000000\" points=\"201.0001,-388.784 197.5,-378.784 194.0001,-388.784 201.0001,-388.784\" stroke=\"#000000\"/>\n</g>\n<!-- 139694226606864 -->\n<g class=\"node\" id=\"node6\">\n<title>139694226606864</title>\n<polygon fill=\"none\" points=\"49.5,-249.5 49.5,-295.5 345.5,-295.5 345.5,-249.5 49.5,-249.5\" stroke=\"#000000\"/>\n<text fill=\"#000000\" font-family=\"Times,serif\" font-size=\"14.00\" text-anchor=\"middle\" x=\"81.5\" y=\"-280.3\">dense_2</text>\n<polyline fill=\"none\" points=\"49.5,-272.5 113.5,-272.5 \" stroke=\"#000000\"/>\n<text fill=\"#000000\" font-family=\"Times,serif\" font-size=\"14.00\" text-anchor=\"middle\" x=\"81.5\" y=\"-257.3\">Dense</text>\n<polyline fill=\"none\" points=\"113.5,-249.5 113.5,-295.5 \" stroke=\"#000000\"/>\n<text fill=\"#000000\" font-family=\"Times,serif\" font-size=\"14.00\" text-anchor=\"middle\" x=\"142.5\" y=\"-280.3\">input:</text>\n<polyline fill=\"none\" points=\"113.5,-272.5 171.5,-272.5 \" stroke=\"#000000\"/>\n<text fill=\"#000000\" font-family=\"Times,serif\" font-size=\"14.00\" text-anchor=\"middle\" x=\"142.5\" y=\"-257.3\">output:</text>\n<polyline fill=\"none\" points=\"171.5,-249.5 171.5,-295.5 \" stroke=\"#000000\"/>\n<text fill=\"#000000\" font-family=\"Times,serif\" font-size=\"14.00\" text-anchor=\"middle\" x=\"215\" y=\"-268.8\">(None, 256)</text>\n<polyline fill=\"none\" points=\"258.5,-249.5 258.5,-295.5 \" stroke=\"#000000\"/>\n<text fill=\"#000000\" font-family=\"Times,serif\" font-size=\"14.00\" text-anchor=\"middle\" x=\"302\" y=\"-268.8\">(None, 512)</text>\n</g>\n<!-- 139694242969680&#45;&gt;139694226606864 -->\n<g class=\"edge\" id=\"edge5\">\n<title>139694242969680-&gt;139694226606864</title>\n<path d=\"M197.5,-332.3799C197.5,-324.1745 197.5,-314.7679 197.5,-305.8786\" fill=\"none\" stroke=\"#000000\"/>\n<polygon fill=\"#000000\" points=\"201.0001,-305.784 197.5,-295.784 194.0001,-305.784 201.0001,-305.784\" stroke=\"#000000\"/>\n</g>\n<!-- 139694217661136 -->\n<g class=\"node\" id=\"node7\">\n<title>139694217661136</title>\n<polygon fill=\"none\" points=\"49.5,-166.5 49.5,-212.5 345.5,-212.5 345.5,-166.5 49.5,-166.5\" stroke=\"#000000\"/>\n<text fill=\"#000000\" font-family=\"Times,serif\" font-size=\"14.00\" text-anchor=\"middle\" x=\"81.5\" y=\"-197.3\">dense_3</text>\n<polyline fill=\"none\" points=\"49.5,-189.5 113.5,-189.5 \" stroke=\"#000000\"/>\n<text fill=\"#000000\" font-family=\"Times,serif\" font-size=\"14.00\" text-anchor=\"middle\" x=\"81.5\" y=\"-174.3\">Dense</text>\n<polyline fill=\"none\" points=\"113.5,-166.5 113.5,-212.5 \" stroke=\"#000000\"/>\n<text fill=\"#000000\" font-family=\"Times,serif\" font-size=\"14.00\" text-anchor=\"middle\" x=\"142.5\" y=\"-197.3\">input:</text>\n<polyline fill=\"none\" points=\"113.5,-189.5 171.5,-189.5 \" stroke=\"#000000\"/>\n<text fill=\"#000000\" font-family=\"Times,serif\" font-size=\"14.00\" text-anchor=\"middle\" x=\"142.5\" y=\"-174.3\">output:</text>\n<polyline fill=\"none\" points=\"171.5,-166.5 171.5,-212.5 \" stroke=\"#000000\"/>\n<text fill=\"#000000\" font-family=\"Times,serif\" font-size=\"14.00\" text-anchor=\"middle\" x=\"215\" y=\"-185.8\">(None, 512)</text>\n<polyline fill=\"none\" points=\"258.5,-166.5 258.5,-212.5 \" stroke=\"#000000\"/>\n<text fill=\"#000000\" font-family=\"Times,serif\" font-size=\"14.00\" text-anchor=\"middle\" x=\"302\" y=\"-185.8\">(None, 256)</text>\n</g>\n<!-- 139694226606864&#45;&gt;139694217661136 -->\n<g class=\"edge\" id=\"edge6\">\n<title>139694226606864-&gt;139694217661136</title>\n<path d=\"M197.5,-249.3799C197.5,-241.1745 197.5,-231.7679 197.5,-222.8786\" fill=\"none\" stroke=\"#000000\"/>\n<polygon fill=\"#000000\" points=\"201.0001,-222.784 197.5,-212.784 194.0001,-222.784 201.0001,-222.784\" stroke=\"#000000\"/>\n</g>\n<!-- 139694229788688 -->\n<g class=\"node\" id=\"node8\">\n<title>139694229788688</title>\n<polygon fill=\"none\" points=\"49.5,-83.5 49.5,-129.5 345.5,-129.5 345.5,-83.5 49.5,-83.5\" stroke=\"#000000\"/>\n<text fill=\"#000000\" font-family=\"Times,serif\" font-size=\"14.00\" text-anchor=\"middle\" x=\"81.5\" y=\"-114.3\">dense_4</text>\n<polyline fill=\"none\" points=\"49.5,-106.5 113.5,-106.5 \" stroke=\"#000000\"/>\n<text fill=\"#000000\" font-family=\"Times,serif\" font-size=\"14.00\" text-anchor=\"middle\" x=\"81.5\" y=\"-91.3\">Dense</text>\n<polyline fill=\"none\" points=\"113.5,-83.5 113.5,-129.5 \" stroke=\"#000000\"/>\n<text fill=\"#000000\" font-family=\"Times,serif\" font-size=\"14.00\" text-anchor=\"middle\" x=\"142.5\" y=\"-114.3\">input:</text>\n<polyline fill=\"none\" points=\"113.5,-106.5 171.5,-106.5 \" stroke=\"#000000\"/>\n<text fill=\"#000000\" font-family=\"Times,serif\" font-size=\"14.00\" text-anchor=\"middle\" x=\"142.5\" y=\"-91.3\">output:</text>\n<polyline fill=\"none\" points=\"171.5,-83.5 171.5,-129.5 \" stroke=\"#000000\"/>\n<text fill=\"#000000\" font-family=\"Times,serif\" font-size=\"14.00\" text-anchor=\"middle\" x=\"215\" y=\"-102.8\">(None, 256)</text>\n<polyline fill=\"none\" points=\"258.5,-83.5 258.5,-129.5 \" stroke=\"#000000\"/>\n<text fill=\"#000000\" font-family=\"Times,serif\" font-size=\"14.00\" text-anchor=\"middle\" x=\"302\" y=\"-102.8\">(None, 128)</text>\n</g>\n<!-- 139694217661136&#45;&gt;139694229788688 -->\n<g class=\"edge\" id=\"edge7\">\n<title>139694217661136-&gt;139694229788688</title>\n<path d=\"M197.5,-166.3799C197.5,-158.1745 197.5,-148.7679 197.5,-139.8786\" fill=\"none\" stroke=\"#000000\"/>\n<polygon fill=\"#000000\" points=\"201.0001,-139.784 197.5,-129.784 194.0001,-139.784 201.0001,-139.784\" stroke=\"#000000\"/>\n</g>\n<!-- 139694229619472 -->\n<g class=\"node\" id=\"node9\">\n<title>139694229619472</title>\n<polygon fill=\"none\" points=\"57,-.5 57,-46.5 338,-46.5 338,-.5 57,-.5\" stroke=\"#000000\"/>\n<text fill=\"#000000\" font-family=\"Times,serif\" font-size=\"14.00\" text-anchor=\"middle\" x=\"89\" y=\"-31.3\">dense_5</text>\n<polyline fill=\"none\" points=\"57,-23.5 121,-23.5 \" stroke=\"#000000\"/>\n<text fill=\"#000000\" font-family=\"Times,serif\" font-size=\"14.00\" text-anchor=\"middle\" x=\"89\" y=\"-8.3\">Dense</text>\n<polyline fill=\"none\" points=\"121,-.5 121,-46.5 \" stroke=\"#000000\"/>\n<text fill=\"#000000\" font-family=\"Times,serif\" font-size=\"14.00\" text-anchor=\"middle\" x=\"150\" y=\"-31.3\">input:</text>\n<polyline fill=\"none\" points=\"121,-23.5 179,-23.5 \" stroke=\"#000000\"/>\n<text fill=\"#000000\" font-family=\"Times,serif\" font-size=\"14.00\" text-anchor=\"middle\" x=\"150\" y=\"-8.3\">output:</text>\n<polyline fill=\"none\" points=\"179,-.5 179,-46.5 \" stroke=\"#000000\"/>\n<text fill=\"#000000\" font-family=\"Times,serif\" font-size=\"14.00\" text-anchor=\"middle\" x=\"222.5\" y=\"-19.8\">(None, 128)</text>\n<polyline fill=\"none\" points=\"266,-.5 266,-46.5 \" stroke=\"#000000\"/>\n<text fill=\"#000000\" font-family=\"Times,serif\" font-size=\"14.00\" text-anchor=\"middle\" x=\"302\" y=\"-19.8\">(None, 1)</text>\n</g>\n<!-- 139694229788688&#45;&gt;139694229619472 -->\n<g class=\"edge\" id=\"edge8\">\n<title>139694229788688-&gt;139694229619472</title>\n<path d=\"M197.5,-83.3799C197.5,-75.1745 197.5,-65.7679 197.5,-56.8786\" fill=\"none\" stroke=\"#000000\"/>\n<polygon fill=\"#000000\" points=\"201.0001,-56.784 197.5,-46.784 194.0001,-56.784 201.0001,-56.784\" stroke=\"#000000\"/>\n</g>\n</g>\n</svg>"
          },
          "metadata": {},
          "execution_count": 69
        }
      ]
    },
    {
      "cell_type": "markdown",
      "source": [
        "Cross-entropy là hàm loss được sử dụng mặc định cho bài toán phân lớp nhị phân.\n",
        "\n",
        "Nó được thiết kế để sử dụng với bài toán phân loại nhị phân trong đó các giá trị mục tiêu nhận một trong 2 giá trị {0, 1}.\n",
        "Về mặt toán học, nếu như MSE tính khoảng cách giữa 2 đại lượng số thì cross-entropy hiểu nôm na là phương pháp tính khoảng cách giữa 2 phân bố xác suất.\n",
        "![image.png](data:image/png;base64,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)\n",
        "\n",
        "Với p và q là rời rạc (như y - nhãn thật sự và y^ - nhãn dự đoán ) trong bài toán của chúng ta), công thức này được viết dưới dạng:\n",
        "\n",
        "![image.png](data:image/png;base64,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)\n",
        "\n",
        "Trong đó C là số lượng các class cần phân lớp, trong bài toán binary classification thì C = 2."
      ],
      "metadata": {
        "id": "LArMpR0VeJZV"
      }
    },
    {
      "cell_type": "markdown",
      "source": [
        "Hàm mất mát: Binary Cross Entropy tính toán độ chênh lệch giữa 2 phân phối xác suất của dự đoán và của nhãn. Đầu ra của mô hình là phân phối xác suất (p, 1 - p) biểu diễn xác suất xảy ra của một trong hai nhãn. Phân phối xác suất của nhãn có dạng (y, 1 - y) với y nhận giá trị 0 hoặc 1.\n",
        "\n",
        "![image.png](data:image/png;base64,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)"
      ],
      "metadata": {
        "id": "1rN0ep6FfiMU"
      }
    },
    {
      "cell_type": "code",
      "execution_count": 22,
      "metadata": {
        "tags": [],
        "id": "n07ViuS9Mmky"
      },
      "outputs": [],
      "source": [
        "model.compile(loss='BinaryCrossentropy', optimizer='Adam')"
      ]
    },
    {
      "cell_type": "code",
      "execution_count": 23,
      "metadata": {
        "tags": [],
        "id": "wDtreQoIMmky",
        "colab": {
          "base_uri": "https://localhost:8080/"
        },
        "outputId": "3c8c71b2-64d3-408f-c593-5311d52edffa"
      },
      "outputs": [
        {
          "output_type": "stream",
          "name": "stdout",
          "text": [
            "Model: \"sequential\"\n",
            "_________________________________________________________________\n",
            " Layer (type)                Output Shape              Param #   \n",
            "=================================================================\n",
            " embedding (Embedding)       (None, None, 32)          6400032   \n",
            "                                                                 \n",
            " bidirectional (Bidirectiona  (None, 64)               16640     \n",
            " l)                                                              \n",
            "                                                                 \n",
            " dense (Dense)               (None, 128)               8320      \n",
            "                                                                 \n",
            " dense_1 (Dense)             (None, 256)               33024     \n",
            "                                                                 \n",
            " dense_2 (Dense)             (None, 512)               131584    \n",
            "                                                                 \n",
            " dense_3 (Dense)             (None, 256)               131328    \n",
            "                                                                 \n",
            " dense_4 (Dense)             (None, 128)               32896     \n",
            "                                                                 \n",
            " dense_5 (Dense)             (None, 1)                 129       \n",
            "                                                                 \n",
            "=================================================================\n",
            "Total params: 6,753,953\n",
            "Trainable params: 6,753,953\n",
            "Non-trainable params: 0\n",
            "_________________________________________________________________\n"
          ]
        }
      ],
      "source": [
        "model.summary()"
      ]
    },
    {
      "cell_type": "code",
      "execution_count": 24,
      "metadata": {
        "tags": [],
        "id": "K_c6lhnDMmkz",
        "colab": {
          "base_uri": "https://localhost:8080/"
        },
        "outputId": "bee98213-db4e-41a0-bcc9-ca3bc060d87c"
      },
      "outputs": [
        {
          "output_type": "stream",
          "name": "stdout",
          "text": [
            "Epoch 1/15\n",
            "1072/1072 [==============================] - 136s 124ms/step - loss: 0.2840 - val_loss: 0.1259\n",
            "Epoch 2/15\n",
            "1072/1072 [==============================] - 105s 98ms/step - loss: 0.1206 - val_loss: 0.0903\n",
            "Epoch 3/15\n",
            "1072/1072 [==============================] - 105s 98ms/step - loss: 0.0831 - val_loss: 0.0600\n",
            "Epoch 4/15\n",
            "1072/1072 [==============================] - 102s 95ms/step - loss: 0.0659 - val_loss: 0.0459\n",
            "Epoch 5/15\n",
            "1072/1072 [==============================] - 102s 95ms/step - loss: 0.0556 - val_loss: 0.0378\n",
            "Epoch 6/15\n",
            "1072/1072 [==============================] - 103s 96ms/step - loss: 0.0472 - val_loss: 0.0417\n",
            "Epoch 7/15\n",
            "1072/1072 [==============================] - 115s 107ms/step - loss: 0.0405 - val_loss: 0.0295\n",
            "Epoch 8/15\n",
            "1072/1072 [==============================] - 104s 97ms/step - loss: 0.0349 - val_loss: 0.0285\n",
            "Epoch 9/15\n",
            "1072/1072 [==============================] - 102s 95ms/step - loss: 0.0314 - val_loss: 0.0259\n",
            "Epoch 10/15\n",
            "1072/1072 [==============================] - 102s 95ms/step - loss: 0.0314 - val_loss: 0.0352\n",
            "Epoch 11/15\n",
            "1072/1072 [==============================] - 102s 95ms/step - loss: 0.0321 - val_loss: 0.0251\n",
            "Epoch 12/15\n",
            "1072/1072 [==============================] - 103s 96ms/step - loss: 0.0279 - val_loss: 0.0258\n",
            "Epoch 13/15\n",
            "1072/1072 [==============================] - 103s 96ms/step - loss: 0.0237 - val_loss: 0.0193\n",
            "Epoch 14/15\n",
            "1072/1072 [==============================] - 102s 96ms/step - loss: 0.0230 - val_loss: 0.0266\n",
            "Epoch 15/15\n",
            "1072/1072 [==============================] - 101s 95ms/step - loss: 0.0189 - val_loss: 0.0133\n"
          ]
        }
      ],
      "source": [
        "history = model.fit(train, epochs=15, validation_data=val)"
      ]
    },
    {
      "cell_type": "code",
      "execution_count": 25,
      "metadata": {
        "tags": [],
        "id": "NzW6y5NuMmkz"
      },
      "outputs": [],
      "source": [
        "from matplotlib import pyplot as plt"
      ]
    },
    {
      "cell_type": "code",
      "execution_count": 26,
      "metadata": {
        "collapsed": true,
        "jupyter": {
          "outputs_hidden": true
        },
        "tags": [],
        "id": "vdeGN3TvMmkz",
        "colab": {
          "base_uri": "https://localhost:8080/",
          "height": 282
        },
        "outputId": "b1908707-8f97-480e-e65d-6540a2679bcf"
      },
      "outputs": [
        {
          "output_type": "display_data",
          "data": {
            "text/plain": [
              "<Figure size 576x360 with 0 Axes>"
            ]
          },
          "metadata": {}
        },
        {
          "output_type": "display_data",
          "data": {
            "text/plain": [
              "<Figure size 432x288 with 1 Axes>"
            ],
            "image/png": "[encoded data removed]"
          },
          "metadata": {
            "needs_background": "light"
          }
        }
      ],
      "source": [
        "plt.figure(figsize=(8,5))\n",
        "pd.DataFrame(history.history).plot()\n",
        "plt.show()"
      ]
    },
    {
      "cell_type": "markdown",
      "metadata": {
        "id": "FyPasnM9Mmkz"
      },
      "source": [
        "# 3. Make Predictions"
      ]
    },
    {
      "cell_type": "code",
      "execution_count": 27,
      "metadata": {
        "tags": [],
        "id": "ZBe30YrfMmkz"
      },
      "outputs": [],
      "source": [
        "input_text = vectorizer(['tụi m giỏi thì vào mà đá, ở đó mà sủa ngu'])"
      ]
    },
    {
      "cell_type": "code",
      "source": [
        "print(input_text)"
      ],
      "metadata": {
        "id": "Pey3v4JWSCin",
        "colab": {
          "base_uri": "https://localhost:8080/"
        },
        "outputId": "ffd565e1-c6f0-4b70-e3e8-bc54d9f2dad7"
      },
      "execution_count": 28,
      "outputs": [
        {
          "output_type": "stream",
          "name": "stdout",
          "text": [
            "tf.Tensor(\n",
            "[[295 117 247  14  17  11   2 149 122  11 849 112   0   0   0   0   0   0\n",
            "    0   0   0   0   0   0   0   0   0   0   0   0   0   0   0   0   0   0\n",
            "    0   0   0   0   0   0   0   0   0   0   0   0   0   0]], shape=(1, 50), dtype=int64)\n"
          ]
        }
      ]
    },
    {
      "cell_type": "code",
      "execution_count": 29,
      "metadata": {
        "tags": [],
        "id": "uHt534rBMmkz"
      },
      "outputs": [],
      "source": [
        "res = model.predict(input_text)"
      ]
    },
    {
      "cell_type": "code",
      "source": [
        "print(res)"
      ],
      "metadata": {
        "id": "5_-wxxnRT1Ew",
        "colab": {
          "base_uri": "https://localhost:8080/"
        },
        "outputId": "a786c795-6fdc-4250-d471-32c8894bf26b"
      },
      "execution_count": 30,
      "outputs": [
        {
          "output_type": "stream",
          "name": "stdout",
          "text": [
            "[[0.9757565]]\n"
          ]
        }
      ]
    },
    {
      "cell_type": "code",
      "execution_count": 31,
      "metadata": {
        "jupyter": {
          "source_hidden": true
        },
        "id": "JERBNQrNMmkz",
        "colab": {
          "base_uri": "https://localhost:8080/"
        },
        "outputId": "a535508c-6ad9-4f9b-8a7b-74c450bf521b"
      },
      "outputs": [
        {
          "output_type": "execute_result",
          "data": {
            "text/plain": [
              "array([[1]])"
            ]
          },
          "metadata": {},
          "execution_count": 31
        }
      ],
      "source": [
        "(res > 0.5).astype(int)"
      ]
    },
    {
      "cell_type": "code",
      "execution_count": 32,
      "metadata": {
        "id": "RPdUNJOzMmkz"
      },
      "outputs": [],
      "source": [
        "batch_X, batch_y = test.as_numpy_iterator().next()"
      ]
    },
    {
      "cell_type": "code",
      "execution_count": 33,
      "metadata": {
        "collapsed": true,
        "jupyter": {
          "outputs_hidden": true
        },
        "tags": [],
        "id": "spfyiVW1Mmkz",
        "colab": {
          "base_uri": "https://localhost:8080/"
        },
        "outputId": "841d51f0-7f6b-482c-cb60-9c68e627d3b2"
      },
      "outputs": [
        {
          "output_type": "execute_result",
          "data": {
            "text/plain": [
              "array([[0],\n",
              "       [0],\n",
              "       [1],\n",
              "       [0],\n",
              "       [0],\n",
              "       [0],\n",
              "       [0],\n",
              "       [1],\n",
              "       [1],\n",
              "       [1],\n",
              "       [1],\n",
              "       [0],\n",
              "       [1],\n",
              "       [1],\n",
              "       [1],\n",
              "       [1]])"
            ]
          },
          "metadata": {},
          "execution_count": 33
        }
      ],
      "source": [
        "(model.predict(batch_X) > 0.5).astype(int)"
      ]
    },
    {
      "cell_type": "code",
      "execution_count": 34,
      "metadata": {
        "id": "nit6vTQdMmkz",
        "colab": {
          "base_uri": "https://localhost:8080/"
        },
        "outputId": "d9c2e561-f58b-41cd-ac90-959e1ba22e92"
      },
      "outputs": [
        {
          "output_type": "execute_result",
          "data": {
            "text/plain": [
              "(1, 1)"
            ]
          },
          "metadata": {},
          "execution_count": 34
        }
      ],
      "source": [
        "res.shape"
      ]
    },
    {
      "cell_type": "code",
      "execution_count": 35,
      "metadata": {
        "tags": [],
        "id": "SXQjvgSbt1Ou"
      },
      "outputs": [],
      "source": [
        "input_text = vectorizer(['Việt Nam vô địch <3'])"
      ]
    },
    {
      "cell_type": "code",
      "source": [
        "print(input_text)"
      ],
      "metadata": {
        "id": "60mF6-iKt1O6",
        "colab": {
          "base_uri": "https://localhost:8080/"
        },
        "outputId": "36eae82e-7fa5-4147-97a3-8b820684fb7a"
      },
      "execution_count": 36,
      "outputs": [
        {
          "output_type": "stream",
          "name": "stdout",
          "text": [
            "tf.Tensor(\n",
            "[[  38   34  102 1152   60    0    0    0    0    0    0    0    0    0\n",
            "     0    0    0    0    0    0    0    0    0    0    0    0    0    0\n",
            "     0    0    0    0    0    0    0    0    0    0    0    0    0    0\n",
            "     0    0    0    0    0    0    0    0]], shape=(1, 50), dtype=int64)\n"
          ]
        }
      ]
    },
    {
      "cell_type": "code",
      "execution_count": 37,
      "metadata": {
        "tags": [],
        "id": "pg0VZnaHt1O7"
      },
      "outputs": [],
      "source": [
        "res = model.predict(input_text)"
      ]
    },
    {
      "cell_type": "code",
      "source": [
        "print(res)"
      ],
      "metadata": {
        "id": "34cR_IA5t1O7",
        "colab": {
          "base_uri": "https://localhost:8080/"
        },
        "outputId": "5444d8e7-7dbe-43c9-c5a5-7700e1ea5777"
      },
      "execution_count": 38,
      "outputs": [
        {
          "output_type": "stream",
          "name": "stdout",
          "text": [
            "[[9.0598746e-08]]\n"
          ]
        }
      ]
    },
    {
      "cell_type": "code",
      "execution_count": 39,
      "metadata": {
        "jupyter": {
          "source_hidden": true
        },
        "id": "GZ2Zue3ot1O7",
        "colab": {
          "base_uri": "https://localhost:8080/"
        },
        "outputId": "dbbefd6f-360d-40a3-cce6-1c7a95e0798c"
      },
      "outputs": [
        {
          "output_type": "execute_result",
          "data": {
            "text/plain": [
              "array([[0]])"
            ]
          },
          "metadata": {},
          "execution_count": 39
        }
      ],
      "source": [
        "(res > 0.5).astype(int)"
      ]
    },
    {
      "cell_type": "code",
      "execution_count": 40,
      "metadata": {
        "id": "MlwvMJbet1O8"
      },
      "outputs": [],
      "source": [
        "batch_X, batch_y = test.as_numpy_iterator().next()"
      ]
    },
    {
      "cell_type": "code",
      "execution_count": 41,
      "metadata": {
        "collapsed": true,
        "jupyter": {
          "outputs_hidden": true
        },
        "tags": [],
        "id": "d30K2QZst1O8",
        "colab": {
          "base_uri": "https://localhost:8080/"
        },
        "outputId": "de9b456a-6ba7-4019-b68b-11da742e977a"
      },
      "outputs": [
        {
          "output_type": "execute_result",
          "data": {
            "text/plain": [
              "array([[0],\n",
              "       [1],\n",
              "       [1],\n",
              "       [0],\n",
              "       [0],\n",
              "       [0],\n",
              "       [0],\n",
              "       [1],\n",
              "       [1],\n",
              "       [0],\n",
              "       [0],\n",
              "       [1],\n",
              "       [1],\n",
              "       [1],\n",
              "       [1],\n",
              "       [0]])"
            ]
          },
          "metadata": {},
          "execution_count": 41
        }
      ],
      "source": [
        "(model.predict(batch_X) > 0.5).astype(int)"
      ]
    },
    {
      "cell_type": "code",
      "execution_count": 42,
      "metadata": {
        "id": "HB19te57t1O8",
        "colab": {
          "base_uri": "https://localhost:8080/"
        },
        "outputId": "ff6890c2-ee54-4811-f5e0-c5653b1da03b"
      },
      "outputs": [
        {
          "output_type": "execute_result",
          "data": {
            "text/plain": [
              "(1, 1)"
            ]
          },
          "metadata": {},
          "execution_count": 42
        }
      ],
      "source": [
        "res.shape"
      ]
    },
    {
      "cell_type": "code",
      "execution_count": 43,
      "metadata": {
        "tags": [],
        "id": "h5_v6I6JyBF7"
      },
      "outputs": [],
      "source": [
        "input_text = vectorizer(['Việt Nam vô địt'])"
      ]
    },
    {
      "cell_type": "code",
      "source": [
        "print(input_text)"
      ],
      "metadata": {
        "id": "BPEVQgvUyBF8",
        "colab": {
          "base_uri": "https://localhost:8080/"
        },
        "outputId": "924aab4c-5383-4ff7-c2d0-cc67a99e04be"
      },
      "execution_count": 44,
      "outputs": [
        {
          "output_type": "stream",
          "name": "stdout",
          "text": [
            "tf.Tensor(\n",
            "[[ 38  34 102 694   0   0   0   0   0   0   0   0   0   0   0   0   0   0\n",
            "    0   0   0   0   0   0   0   0   0   0   0   0   0   0   0   0   0   0\n",
            "    0   0   0   0   0   0   0   0   0   0   0   0   0   0]], shape=(1, 50), dtype=int64)\n"
          ]
        }
      ]
    },
    {
      "cell_type": "code",
      "execution_count": 45,
      "metadata": {
        "tags": [],
        "id": "km5ht2jcyBF8"
      },
      "outputs": [],
      "source": [
        "res = model.predict(input_text)"
      ]
    },
    {
      "cell_type": "code",
      "source": [
        "print(res)"
      ],
      "metadata": {
        "id": "M7GEupZsyBF9",
        "colab": {
          "base_uri": "https://localhost:8080/"
        },
        "outputId": "ad72ad3e-9f79-4ba1-b381-25aa321d1b1b"
      },
      "execution_count": 46,
      "outputs": [
        {
          "output_type": "stream",
          "name": "stdout",
          "text": [
            "[[1.]]\n"
          ]
        }
      ]
    },
    {
      "cell_type": "code",
      "execution_count": 47,
      "metadata": {
        "jupyter": {
          "source_hidden": true
        },
        "id": "A-1mRAqDyBF9",
        "colab": {
          "base_uri": "https://localhost:8080/"
        },
        "outputId": "e792e86c-298a-4cab-bbae-7ce3be7dc12e"
      },
      "outputs": [
        {
          "output_type": "execute_result",
          "data": {
            "text/plain": [
              "array([[1]])"
            ]
          },
          "metadata": {},
          "execution_count": 47
        }
      ],
      "source": [
        "(res > 0.5).astype(int)"
      ]
    },
    {
      "cell_type": "code",
      "execution_count": 48,
      "metadata": {
        "id": "IpvQA8BTyBF9"
      },
      "outputs": [],
      "source": [
        "batch_X, batch_y = test.as_numpy_iterator().next()"
      ]
    },
    {
      "cell_type": "code",
      "execution_count": 49,
      "metadata": {
        "collapsed": true,
        "jupyter": {
          "outputs_hidden": true
        },
        "tags": [],
        "id": "ENrSQbVvyBF9",
        "colab": {
          "base_uri": "https://localhost:8080/"
        },
        "outputId": "d533ba14-3c57-4c30-a4e7-11e9605af1c2"
      },
      "outputs": [
        {
          "output_type": "execute_result",
          "data": {
            "text/plain": [
              "array([[1],\n",
              "       [0],\n",
              "       [0],\n",
              "       [0],\n",
              "       [0],\n",
              "       [1],\n",
              "       [1],\n",
              "       [0],\n",
              "       [1],\n",
              "       [0],\n",
              "       [0],\n",
              "       [0],\n",
              "       [1],\n",
              "       [1],\n",
              "       [1],\n",
              "       [1]])"
            ]
          },
          "metadata": {},
          "execution_count": 49
        }
      ],
      "source": [
        "(model.predict(batch_X) > 0.5).astype(int)"
      ]
    },
    {
      "cell_type": "code",
      "execution_count": 50,
      "metadata": {
        "id": "5VwWiqyHyBF9",
        "colab": {
          "base_uri": "https://localhost:8080/"
        },
        "outputId": "0cac71c6-765f-4f6c-cca8-0aac47a62721"
      },
      "outputs": [
        {
          "output_type": "execute_result",
          "data": {
            "text/plain": [
              "(1, 1)"
            ]
          },
          "metadata": {},
          "execution_count": 50
        }
      ],
      "source": [
        "res.shape"
      ]
    },
    {
      "cell_type": "code",
      "execution_count": 51,
      "metadata": {
        "tags": [],
        "id": "YQAWhva-ySf3"
      },
      "outputs": [],
      "source": [
        "input_text = vectorizer(['chửi chết nó đi anh em'])"
      ]
    },
    {
      "cell_type": "code",
      "source": [
        "print(input_text)"
      ],
      "metadata": {
        "id": "stCj1VfHySf4",
        "colab": {
          "base_uri": "https://localhost:8080/"
        },
        "outputId": "98b1993c-b3c1-4cb7-8fde-8675f1e6e80d"
      },
      "execution_count": 52,
      "outputs": [
        {
          "output_type": "stream",
          "name": "stdout",
          "text": [
            "tf.Tensor(\n",
            "[[249 228  20  15  66 113   0   0   0   0   0   0   0   0   0   0   0   0\n",
            "    0   0   0   0   0   0   0   0   0   0   0   0   0   0   0   0   0   0\n",
            "    0   0   0   0   0   0   0   0   0   0   0   0   0   0]], shape=(1, 50), dtype=int64)\n"
          ]
        }
      ]
    },
    {
      "cell_type": "code",
      "execution_count": 53,
      "metadata": {
        "tags": [],
        "id": "QgEzh0dFySf4"
      },
      "outputs": [],
      "source": [
        "res = model.predict(input_text)"
      ]
    },
    {
      "cell_type": "code",
      "source": [
        "print(res)"
      ],
      "metadata": {
        "id": "bLJDl-X_ySf4",
        "colab": {
          "base_uri": "https://localhost:8080/"
        },
        "outputId": "a2815480-c408-436d-82fb-60e5c38d42b5"
      },
      "execution_count": 54,
      "outputs": [
        {
          "output_type": "stream",
          "name": "stdout",
          "text": [
            "[[0.9869609]]\n"
          ]
        }
      ]
    },
    {
      "cell_type": "code",
      "execution_count": 55,
      "metadata": {
        "jupyter": {
          "source_hidden": true
        },
        "id": "GMQY7KsVySf4",
        "colab": {
          "base_uri": "https://localhost:8080/"
        },
        "outputId": "fe4f2343-164a-4422-baaf-672b16eaf708"
      },
      "outputs": [
        {
          "output_type": "execute_result",
          "data": {
            "text/plain": [
              "array([[1]])"
            ]
          },
          "metadata": {},
          "execution_count": 55
        }
      ],
      "source": [
        "(res > 0.5).astype(int)"
      ]
    },
    {
      "cell_type": "code",
      "execution_count": 56,
      "metadata": {
        "id": "7dj7zyOMySf4"
      },
      "outputs": [],
      "source": [
        "batch_X, batch_y = test.as_numpy_iterator().next()"
      ]
    },
    {
      "cell_type": "code",
      "execution_count": 57,
      "metadata": {
        "collapsed": true,
        "jupyter": {
          "outputs_hidden": true
        },
        "tags": [],
        "id": "ff__V9fUySf5",
        "colab": {
          "base_uri": "https://localhost:8080/"
        },
        "outputId": "d1ded698-97ed-4553-e3c0-51f6ea226232"
      },
      "outputs": [
        {
          "output_type": "execute_result",
          "data": {
            "text/plain": [
              "array([[1],\n",
              "       [1],\n",
              "       [0],\n",
              "       [1],\n",
              "       [0],\n",
              "       [1],\n",
              "       [1],\n",
              "       [0],\n",
              "       [0],\n",
              "       [0],\n",
              "       [0],\n",
              "       [0],\n",
              "       [0],\n",
              "       [0],\n",
              "       [0],\n",
              "       [1]])"
            ]
          },
          "metadata": {},
          "execution_count": 57
        }
      ],
      "source": [
        "(model.predict(batch_X) > 0.5).astype(int)"
      ]
    },
    {
      "cell_type": "code",
      "execution_count": 58,
      "metadata": {
        "id": "ryIxwiIJySf5",
        "colab": {
          "base_uri": "https://localhost:8080/"
        },
        "outputId": "b6f47802-9fe3-4f82-bba1-51c191ba2822"
      },
      "outputs": [
        {
          "output_type": "execute_result",
          "data": {
            "text/plain": [
              "(1, 1)"
            ]
          },
          "metadata": {},
          "execution_count": 58
        }
      ],
      "source": [
        "res.shape"
      ]
    },
    {
      "cell_type": "markdown",
      "metadata": {
        "id": "Tgc0jKfZMmkz"
      },
      "source": [
        "\n",
        "# 4. Evaluate Model"
      ]
    },
    {
      "cell_type": "code",
      "execution_count": 59,
      "metadata": {
        "tags": [],
        "id": "tOsVUeCSMmk0"
      },
      "outputs": [],
      "source": [
        "from tensorflow.keras.metrics import Precision, Recall, CategoricalAccuracy"
      ]
    },
    {
      "cell_type": "code",
      "execution_count": 60,
      "metadata": {
        "tags": [],
        "id": "b7GuHenBMmk0"
      },
      "outputs": [],
      "source": [
        "pre = Precision()\n",
        "re = Recall()\n",
        "acc = CategoricalAccuracy()"
      ]
    },
    {
      "cell_type": "code",
      "execution_count": null,
      "metadata": {
        "tags": [],
        "id": "X1wr7FFvMmk0"
      },
      "outputs": [],
      "source": [
        "for batch in test.as_numpy_iterator(): \n",
        "    # Unpack the batch \n",
        "    X_true, y_true = batch\n",
        "    # Make a prediction \n",
        "    yhat = model.predict(X_true)   \n",
        "    # Flatten the predictions\n",
        "    y_true = y_true.flatten()\n",
        "    yhat = yhat.flatten()\n",
        "    pre.update_state(y_true, yhat)\n",
        "    re.update_state(y_true, yhat)\n",
        "    acc.update_state(y_true, yhat)"
      ]
    },
    {
      "cell_type": "code",
      "execution_count": 62,
      "metadata": {
        "tags": [],
        "id": "cxGBoaUhMmk0",
        "colab": {
          "base_uri": "https://localhost:8080/"
        },
        "outputId": "7d814178-535d-4059-992a-a4b441b4ea5c"
      },
      "outputs": [
        {
          "output_type": "stream",
          "name": "stdout",
          "text": [
            "Precision: 0.9926496148109436, Recall:0.9964863061904907, F1 Score: 0.9945642305489626, Accuracy:0.32492998242378235\n"
          ]
        }
      ],
      "source": [
        "\"\"\"from keras import backend as K\n",
        "\n",
        "def recall_m(y_true, y_pred):\n",
        "    true_positives = K.sum(K.round(K.clip(y_true * y_pred, 0, 1)))\n",
        "    possible_positives = K.sum(K.round(K.clip(y_true, 0, 1)))\n",
        "    recall = true_positives / (possible_positives + K.epsilon())\n",
        "    return recall\n",
        "\n",
        "def precision_m(y_true, y_pred):\n",
        "    true_positives = K.sum(K.round(K.clip(y_true * y_pred, 0, 1)))\n",
        "    predicted_positives = K.sum(K.round(K.clip(y_pred, 0, 1)))\n",
        "    precision = true_positives / (predicted_positives + K.epsilon())\n",
        "    return precision\n",
        "\n",
        "def f1_m(y_true, y_pred):\n",
        "    precision = precision_m(y_true, y_pred)\n",
        "    recall = recall_m(y_true, y_pred)\n",
        "    return 2*((precision*recall)/(precision+recall+K.epsilon()))\"\"\"\n",
        "print(f'Precision: {pre.result().numpy()}, Recall:{re.result().numpy()}, F1 Score: {2*pre.result().numpy()*re.result().numpy()/(pre.result().numpy()+re.result().numpy())}, Accuracy:{acc.result().numpy()}')"
      ]
    },
    {
      "cell_type": "markdown",
      "source": [
        "#5.Save and load model\n"
      ],
      "metadata": {
        "id": "fmb0nPuFkS97"
      }
    },
    {
      "cell_type": "code",
      "source": [
        "model.save('tcd')"
      ],
      "metadata": {
        "id": "gQhLlLJDkgH0",
        "outputId": "22f58e91-a509-4a05-9ebc-73769f59048b",
        "colab": {
          "base_uri": "https://localhost:8080/"
        }
      },
      "execution_count": 63,
      "outputs": [
        {
          "output_type": "stream",
          "name": "stderr",
          "text": [
            "WARNING:absl:Found untraced functions such as lstm_cell_1_layer_call_fn, lstm_cell_1_layer_call_and_return_conditional_losses, lstm_cell_2_layer_call_fn, lstm_cell_2_layer_call_and_return_conditional_losses while saving (showing 4 of 4). These functions will not be directly callable after loading.\n"
          ]
        },
        {
          "output_type": "stream",
          "name": "stdout",
          "text": [
            "INFO:tensorflow:Assets written to: tcd/assets\n"
          ]
        },
        {
          "output_type": "stream",
          "name": "stderr",
          "text": [
            "INFO:tensorflow:Assets written to: tcd/assets\n",
            "WARNING:absl:<keras.layers.recurrent.LSTMCell object at 0x7f0d19ae0a90> has the same name 'LSTMCell' as a built-in Keras object. Consider renaming <class 'keras.layers.recurrent.LSTMCell'> to avoid naming conflicts when loading with `tf.keras.models.load_model`. If renaming is not possible, pass the object in the `custom_objects` parameter of the load function.\n",
            "WARNING:absl:<keras.layers.recurrent.LSTMCell object at 0x7f0d19ac78d0> has the same name 'LSTMCell' as a built-in Keras object. Consider renaming <class 'keras.layers.recurrent.LSTMCell'> to avoid naming conflicts when loading with `tf.keras.models.load_model`. If renaming is not possible, pass the object in the `custom_objects` parameter of the load function.\n"
          ]
        }
      ]
    },
    {
      "cell_type": "code",
      "source": [
        "del model"
      ],
      "metadata": {
        "id": "5mL0IjBWknOr"
      },
      "execution_count": 64,
      "outputs": []
    },
    {
      "cell_type": "code",
      "source": [
        "model=load_model('tcd')"
      ],
      "metadata": {
        "id": "TaHW9NpGkoaM"
      },
      "execution_count": 65,
      "outputs": []
    },
    {
      "cell_type": "code",
      "execution_count": 66,
      "metadata": {
        "tags": [],
        "id": "fo1TWBV2lNHV",
        "outputId": "479ab599-d0e3-4322-a7c7-96f9ab5c289c",
        "colab": {
          "base_uri": "https://localhost:8080/"
        }
      },
      "outputs": [
        {
          "name": "stdout",
          "output_type": "stream",
          "text": [
            "vlz\n"
          ]
        }
      ],
      "source": [
        "input_text = vectorizer([input()])"
      ]
    },
    {
      "cell_type": "code",
      "source": [
        "print(input_text)"
      ],
      "metadata": {
        "id": "u718NaMalyVL",
        "outputId": "8da37bf2-2f3f-4dd7-e789-80063c222a48",
        "colab": {
          "base_uri": "https://localhost:8080/"
        }
      },
      "execution_count": 67,
      "outputs": [
        {
          "output_type": "stream",
          "name": "stdout",
          "text": [
            "tf.Tensor(\n",
            "[[1962    0    0    0    0    0    0    0    0    0    0    0    0    0\n",
            "     0    0    0    0    0    0    0    0    0    0    0    0    0    0\n",
            "     0    0    0    0    0    0    0    0    0    0    0    0    0    0\n",
            "     0    0    0    0    0    0    0    0]], shape=(1, 50), dtype=int64)\n"
          ]
        }
      ]
    },
    {
      "cell_type": "code",
      "source": [
        "if((model.predict(input_text)>0.5).astype(int) == 1 ): print('Toxic') \n",
        "else :print('NonToxic')"
      ],
      "metadata": {
        "id": "Ibokb0HFnqxq",
        "outputId": "5c8c025e-cb3c-4cc2-94de-8305a39a51cb",
        "colab": {
          "base_uri": "https://localhost:8080/"
        }
      },
      "execution_count": 68,
      "outputs": [
        {
          "output_type": "stream",
          "name": "stdout",
          "text": [
            "Toxic\n"
          ]
        }
      ]
    }
  ],
  "metadata": {
    "kernelspec": {
      "display_name": "toxic",
      "language": "python",
      "name": "toxic"
    },
    "language_info": {
      "codemirror_mode": {
        "name": "ipython",
        "version": 3
      },
      "file_extension": ".py",
      "mimetype": "text/x-python",
      "name": "python",
      "nbconvert_exporter": "python",
      "pygments_lexer": "ipython3",
      "version": "3.9.7"
    },
    "colab": {
      "name": "Toxic Comment Detection On Youtube Football Livestream.ipynb",
      "provenance": [],
      "include_colab_link": true
    }
  },
  "nbformat": 4,
  "nbformat_minor": 0
}